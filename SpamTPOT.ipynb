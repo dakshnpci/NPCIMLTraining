{
  "nbformat": 4,
  "nbformat_minor": 0,
  "metadata": {
    "colab": {
      "name": "Untitled1.ipynb",
      "version": "0.3.2",
      "provenance": [],
      "include_colab_link": true
    },
    "kernelspec": {
      "name": "python3",
      "display_name": "Python 3"
    }
  },
  "cells": [
    {
      "cell_type": "markdown",
      "metadata": {
        "id": "view-in-github",
        "colab_type": "text"
      },
      "source": [
        "<a href=\"https://colab.research.google.com/github/dakshnpci/NPCIMLTraining/blob/master/SpamTPOT.ipynb\" target=\"_parent\"><img src=\"https://colab.research.google.com/assets/colab-badge.svg\" alt=\"Open In Colab\"/></a>"
      ]
    },
    {
      "metadata": {
        "id": "JK1_exPKYYz9",
        "colab_type": "code",
        "colab": {
          "base_uri": "https://localhost:8080/",
          "height": 34
        },
        "outputId": "ef4321e5-9418-48cf-d2e8-e0233fdd11d5"
      },
      "cell_type": "code",
      "source": [
        "import pandas as pd\n",
        "import nltk\n",
        "from nltk.corpus import stopwords\n",
        "from sklearn.feature_extraction.text import TfidfVectorizer\n",
        "from sklearn.model_selection import train_test_split\n",
        "from sklearn import naive_bayes\n",
        "from sklearn.metrics import roc_auc_score\n",
        "%matplotlib inline\n",
        "\n",
        "df= pd.read_csv(\"https://raw.githubusercontent.com/stedy/Machine-Learning-with-R-datasets/master/sms_spam.csv\")\n",
        "\n",
        "stopset = set(stopwords.words('english'))\n",
        "vectorizer = TfidfVectorizer(use_idf=True, lowercase=True, strip_accents='ascii', stop_words=stopset)\n",
        "\n",
        "df.type.replace('spam', 1, inplace=True)\n",
        "df.type.replace('ham', 0, inplace=True)\n",
        "\n",
        "X = vectorizer.fit_transform(df.text)\n",
        "y = df.type\n",
        "\n",
        "X_train, X_test, y_train, y_test = train_test_split(X, y, random_state=42)\n",
        "\n",
        "from tpot import TPOTClassifier\n",
        "from sklearn.datasets import load_iris\n",
        "from sklearn.model_selection import train_test_split\n",
        "import numpy as np\n",
        "tpot = TPOTClassifier(generations=5, population_size=50, verbosity=2, config_dict='TPOT sparse',n_jobs=-1)\n",
        "tpot.fit(X_train, y_train)\n",
        "print(tpot.score(X_test, y_test))"
      ],
      "execution_count": 0,
      "outputs": [
        {
          "output_type": "stream",
          "text": [
            "\rOptimization Progress:   0%|          | 0/300 [00:00<?, ?pipeline/s]"
          ],
          "name": "stderr"
        }
      ]
    },
    {
      "metadata": {
        "id": "fVqK4sR1ZD8D",
        "colab_type": "code",
        "colab": {
          "base_uri": "https://localhost:8080/",
          "height": 598
        },
        "outputId": "b3a48c47-1b97-4afa-bdea-ca4679feda32"
      },
      "cell_type": "code",
      "source": [
        "!pip install tpot"
      ],
      "execution_count": 2,
      "outputs": [
        {
          "output_type": "stream",
          "text": [
            "Collecting tpot\n",
            "\u001b[?25l  Downloading https://files.pythonhosted.org/packages/c5/6c/f1806e5b31d65a195bcd94fd80079318d5a9e54c2239b395404c25496792/TPOT-0.9.5.tar.gz (891kB)\n",
            "\r\u001b[K    1% |▍                               | 10kB 16.3MB/s eta 0:00:01\r\u001b[K    2% |▊                               | 20kB 2.9MB/s eta 0:00:01\r\u001b[K    3% |█                               | 30kB 3.3MB/s eta 0:00:01\r\u001b[K    4% |█▌                              | 40kB 3.1MB/s eta 0:00:01\r\u001b[K    5% |█▉                              | 51kB 3.3MB/s eta 0:00:01\r\u001b[K    6% |██▏                             | 61kB 3.9MB/s eta 0:00:01\r\u001b[K    8% |██▋                             | 71kB 4.1MB/s eta 0:00:01\r\u001b[K    9% |███                             | 81kB 3.8MB/s eta 0:00:01\r\u001b[K    10% |███▎                            | 92kB 4.2MB/s eta 0:00:01\r\u001b[K    11% |███▊                            | 102kB 4.4MB/s eta 0:00:01\r\u001b[K    12% |████                            | 112kB 4.5MB/s eta 0:00:01\r\u001b[K    13% |████▍                           | 122kB 5.5MB/s eta 0:00:01\r\u001b[K    14% |████▊                           | 133kB 5.0MB/s eta 0:00:01\r\u001b[K    16% |█████▏                          | 143kB 6.1MB/s eta 0:00:01\r\u001b[K    17% |█████▌                          | 153kB 6.6MB/s eta 0:00:01\r\u001b[K    18% |█████▉                          | 163kB 6.0MB/s eta 0:00:01\r\u001b[K    19% |██████▎                         | 174kB 6.5MB/s eta 0:00:01\r\u001b[K    20% |██████▋                         | 184kB 7.5MB/s eta 0:00:01\r\u001b[K    21% |███████                         | 194kB 7.5MB/s eta 0:00:01\r\u001b[K    22% |███████▍                        | 204kB 7.0MB/s eta 0:00:01\r\u001b[K    24% |███████▊                        | 215kB 6.3MB/s eta 0:00:01\r\u001b[K    25% |████████                        | 225kB 7.1MB/s eta 0:00:01\r\u001b[K    26% |████████▌                       | 235kB 8.3MB/s eta 0:00:01\r\u001b[K    27% |████████▉                       | 245kB 7.2MB/s eta 0:00:01\r\u001b[K    28% |█████████▏                      | 256kB 7.4MB/s eta 0:00:01\r\u001b[K    29% |█████████▌                      | 266kB 7.5MB/s eta 0:00:01\r\u001b[K    31% |██████████                      | 276kB 7.6MB/s eta 0:00:01\r\u001b[K    32% |██████████▎                     | 286kB 7.4MB/s eta 0:00:01\r\u001b[K    33% |██████████▋                     | 296kB 6.4MB/s eta 0:00:01\r\u001b[K    34% |███████████                     | 307kB 7.3MB/s eta 0:00:01\r\u001b[K    35% |███████████▍                    | 317kB 7.9MB/s eta 0:00:01\r\u001b[K    36% |███████████▊                    | 327kB 7.0MB/s eta 0:00:01\r\u001b[K    37% |████████████▏                   | 337kB 7.9MB/s eta 0:00:01\r\u001b[K    39% |████████████▌                   | 348kB 8.2MB/s eta 0:00:01\r\u001b[K    40% |████████████▉                   | 358kB 8.3MB/s eta 0:00:01\r\u001b[K    41% |█████████████▎                  | 368kB 8.2MB/s eta 0:00:01\r\u001b[K    42% |█████████████▋                  | 378kB 7.8MB/s eta 0:00:01\r\u001b[K    43% |██████████████                  | 389kB 9.4MB/s eta 0:00:01\r\u001b[K    44% |██████████████▎                 | 399kB 8.8MB/s eta 0:00:01\r\u001b[K    45% |██████████████▊                 | 409kB 7.5MB/s eta 0:00:01\r\u001b[K    47% |███████████████                 | 419kB 7.9MB/s eta 0:00:01\r\u001b[K    48% |███████████████▍                | 430kB 9.1MB/s eta 0:00:01\r\u001b[K    49% |███████████████▉                | 440kB 9.2MB/s eta 0:00:01\r\u001b[K    50% |████████████████▏               | 450kB 8.4MB/s eta 0:00:01\r\u001b[K    51% |████████████████▌               | 460kB 8.0MB/s eta 0:00:01\r\u001b[K    52% |█████████████████               | 471kB 9.1MB/s eta 0:00:01\r\u001b[K    53% |█████████████████▎              | 481kB 8.1MB/s eta 0:00:01\r\u001b[K    55% |█████████████████▋              | 491kB 7.6MB/s eta 0:00:01\r\u001b[K    56% |██████████████████              | 501kB 9.6MB/s eta 0:00:01\r\u001b[K    57% |██████████████████▍             | 512kB 9.6MB/s eta 0:00:01\r\u001b[K    58% |██████████████████▊             | 522kB 9.7MB/s eta 0:00:01\r\u001b[K    59% |███████████████████             | 532kB 9.4MB/s eta 0:00:01\r\u001b[K    60% |███████████████████▌            | 542kB 7.8MB/s eta 0:00:01\r\u001b[K    62% |███████████████████▉            | 552kB 9.6MB/s eta 0:00:01\r\u001b[K    63% |████████████████████▏           | 563kB 9.8MB/s eta 0:00:01\r\u001b[K    64% |████████████████████▋           | 573kB 8.1MB/s eta 0:00:01\r\u001b[K    65% |█████████████████████           | 583kB 9.6MB/s eta 0:00:01\r\u001b[K    66% |█████████████████████▎          | 593kB 9.8MB/s eta 0:00:01\r\u001b[K    67% |█████████████████████▊          | 604kB 9.9MB/s eta 0:00:01\r\u001b[K    68% |██████████████████████          | 614kB 10.1MB/s eta 0:00:01\r\u001b[K    70% |██████████████████████▍         | 624kB 9.3MB/s eta 0:00:01\r\u001b[K    71% |██████████████████████▉         | 634kB 9.6MB/s eta 0:00:01\r\u001b[K    72% |███████████████████████▏        | 645kB 11.3MB/s eta 0:00:01\r\u001b[K    73% |███████████████████████▌        | 655kB 9.2MB/s eta 0:00:01\r\u001b[K    74% |███████████████████████▉        | 665kB 8.9MB/s eta 0:00:01\r\u001b[K    75% |████████████████████████▎       | 675kB 10.8MB/s eta 0:00:01\r\u001b[K    76% |████████████████████████▋       | 686kB 10.7MB/s eta 0:00:01\r\u001b[K    78% |█████████████████████████       | 696kB 9.9MB/s eta 0:00:01\r\u001b[K    79% |█████████████████████████▍      | 706kB 8.9MB/s eta 0:00:01\r\u001b[K    80% |█████████████████████████▊      | 716kB 10.6MB/s eta 0:00:01\r\u001b[K    81% |██████████████████████████      | 727kB 10.8MB/s eta 0:00:01\r\u001b[K    82% |██████████████████████████▌     | 737kB 10.1MB/s eta 0:00:01\r\u001b[K    83% |██████████████████████████▉     | 747kB 10.6MB/s eta 0:00:01\r\u001b[K    84% |███████████████████████████▏    | 757kB 11.0MB/s eta 0:00:01\r\u001b[K    86% |███████████████████████████▋    | 768kB 12.1MB/s eta 0:00:01\r\u001b[K    87% |████████████████████████████    | 778kB 11.5MB/s eta 0:00:01\r\u001b[K    88% |████████████████████████████▎   | 788kB 9.2MB/s eta 0:00:01\r\u001b[K    89% |████████████████████████████▋   | 798kB 10.4MB/s eta 0:00:01\r\u001b[K    90% |█████████████████████████████   | 808kB 11.5MB/s eta 0:00:01\r\u001b[K    91% |█████████████████████████████▍  | 819kB 9.4MB/s eta 0:00:01\r\u001b[K    93% |█████████████████████████████▊  | 829kB 10.1MB/s eta 0:00:01\r\u001b[K    94% |██████████████████████████████▏ | 839kB 10.8MB/s eta 0:00:01\r\u001b[K    95% |██████████████████████████████▌ | 849kB 10.9MB/s eta 0:00:01\r\u001b[K    96% |██████████████████████████████▉ | 860kB 10.2MB/s eta 0:00:01\r\u001b[K    97% |███████████████████████████████▎| 870kB 9.8MB/s eta 0:00:01\r\u001b[K    98% |███████████████████████████████▋| 880kB 10.5MB/s eta 0:00:01\r\u001b[K    99% |████████████████████████████████| 890kB 13.4MB/s eta 0:00:01\r\u001b[K    100% |████████████████████████████████| 901kB 9.2MB/s \n",
            "\u001b[?25hRequirement already satisfied: numpy>=1.12.1 in /usr/local/lib/python3.6/dist-packages (from tpot) (1.14.6)\n",
            "Requirement already satisfied: scipy>=0.19.0 in /usr/local/lib/python3.6/dist-packages (from tpot) (1.1.0)\n",
            "Requirement already satisfied: scikit-learn>=0.18.1 in /usr/local/lib/python3.6/dist-packages (from tpot) (0.19.2)\n",
            "Collecting deap>=1.0 (from tpot)\n",
            "\u001b[?25l  Downloading https://files.pythonhosted.org/packages/af/29/e7f2ecbe02997b16a768baed076f5fc4781d7057cd5d9adf7c94027845ba/deap-1.2.2.tar.gz (936kB)\n",
            "\r\u001b[K    1% |▍                               | 10kB 10.0MB/s eta 0:00:01\r\u001b[K    2% |▊                               | 20kB 10.5MB/s eta 0:00:01\r\u001b[K    3% |█                               | 30kB 13.7MB/s eta 0:00:01\r\u001b[K    4% |█▍                              | 40kB 13.8MB/s eta 0:00:01\r\u001b[K    5% |█▊                              | 51kB 12.9MB/s eta 0:00:01\r\u001b[K    6% |██                              | 61kB 14.7MB/s eta 0:00:01\r\u001b[K    7% |██▌                             | 71kB 14.2MB/s eta 0:00:01\r\u001b[K    8% |██▉                             | 81kB 10.6MB/s eta 0:00:01\r\u001b[K    9% |███▏                            | 92kB 11.5MB/s eta 0:00:01\r\u001b[K    10% |███▌                            | 102kB 12.4MB/s eta 0:00:01\r\u001b[K    12% |███▉                            | 112kB 13.5MB/s eta 0:00:01\r\u001b[K    13% |████▏                           | 122kB 12.5MB/s eta 0:00:01\r\u001b[K    14% |████▌                           | 133kB 11.8MB/s eta 0:00:01\r\u001b[K    15% |█████                           | 143kB 12.6MB/s eta 0:00:01\r\u001b[K    16% |█████▎                          | 153kB 13.2MB/s eta 0:00:01\r\u001b[K    17% |█████▋                          | 163kB 9.9MB/s eta 0:00:01\r\u001b[K    18% |██████                          | 174kB 10.3MB/s eta 0:00:01\r\u001b[K    19% |██████▎                         | 184kB 13.6MB/s eta 0:00:01\r\u001b[K    20% |██████▋                         | 194kB 13.7MB/s eta 0:00:01\r\u001b[K    21% |███████                         | 204kB 13.0MB/s eta 0:00:01\r\u001b[K    22% |███████▍                        | 215kB 12.2MB/s eta 0:00:01\r\u001b[K    24% |███████▊                        | 225kB 14.5MB/s eta 0:00:01\r\u001b[K    25% |████████                        | 235kB 14.5MB/s eta 0:00:01\r\u001b[K    26% |████████▍                       | 245kB 12.3MB/s eta 0:00:01\r\u001b[K    27% |████████▊                       | 256kB 12.7MB/s eta 0:00:01\r\u001b[K    28% |█████████                       | 266kB 14.3MB/s eta 0:00:01\r\u001b[K    29% |█████████▌                      | 276kB 14.7MB/s eta 0:00:01\r\u001b[K    30% |█████████▉                      | 286kB 14.8MB/s eta 0:00:01\r\u001b[K    31% |██████████▏                     | 296kB 13.6MB/s eta 0:00:01\r\u001b[K    32% |██████████▌                     | 307kB 14.6MB/s eta 0:00:01\r\u001b[K    33% |██████████▉                     | 317kB 14.7MB/s eta 0:00:01\r\u001b[K    34% |███████████▏                    | 327kB 12.9MB/s eta 0:00:01\r\u001b[K    36% |███████████▌                    | 337kB 13.9MB/s eta 0:00:01\r\u001b[K    37% |████████████                    | 348kB 13.0MB/s eta 0:00:01\r\u001b[K    38% |████████████▎                   | 358kB 13.2MB/s eta 0:00:01\r\u001b[K    39% |████████████▋                   | 368kB 15.2MB/s eta 0:00:01\r\u001b[K    40% |█████████████                   | 378kB 14.2MB/s eta 0:00:01\r\u001b[K    41% |█████████████▎                  | 389kB 14.4MB/s eta 0:00:01\r\u001b[K    42% |█████████████▋                  | 399kB 14.5MB/s eta 0:00:01\r\u001b[K    43% |██████████████                  | 409kB 13.2MB/s eta 0:00:01\r\u001b[K    44% |██████████████▍                 | 419kB 14.2MB/s eta 0:00:01\r\u001b[K    45% |██████████████▊                 | 430kB 14.6MB/s eta 0:00:01\r\u001b[K    47% |███████████████                 | 440kB 14.6MB/s eta 0:00:01\r\u001b[K    48% |███████████████▍                | 450kB 15.0MB/s eta 0:00:01\r\u001b[K    49% |███████████████▊                | 460kB 13.0MB/s eta 0:00:01\r\u001b[K    50% |████████████████                | 471kB 14.1MB/s eta 0:00:01\r\u001b[K    51% |████████████████▍               | 481kB 14.7MB/s eta 0:00:01\r\u001b[K    52% |████████████████▉               | 491kB 13.2MB/s eta 0:00:01\r\u001b[K    53% |█████████████████▏              | 501kB 14.2MB/s eta 0:00:01\r\u001b[K    54% |█████████████████▌              | 512kB 14.3MB/s eta 0:00:01\r\u001b[K    55% |█████████████████▉              | 522kB 14.3MB/s eta 0:00:01\r\u001b[K    56% |██████████████████▏             | 532kB 14.8MB/s eta 0:00:01\r\u001b[K    57% |██████████████████▌             | 542kB 12.0MB/s eta 0:00:01\r\u001b[K    59% |███████████████████             | 552kB 14.8MB/s eta 0:00:01\r\u001b[K    60% |███████████████████▎            | 563kB 14.4MB/s eta 0:00:01\r\u001b[K    61% |███████████████████▋            | 573kB 14.0MB/s eta 0:00:01\r\u001b[K    62% |████████████████████            | 583kB 14.2MB/s eta 0:00:01\r\u001b[K    63% |████████████████████▎           | 593kB 15.5MB/s eta 0:00:01\r\u001b[K    64% |████████████████████▋           | 604kB 15.4MB/s eta 0:00:01\r\u001b[K    65% |█████████████████████           | 614kB 15.2MB/s eta 0:00:01\r\u001b[K    66% |█████████████████████▍          | 624kB 13.1MB/s eta 0:00:01\r\u001b[K    67% |█████████████████████▊          | 634kB 14.1MB/s eta 0:00:01\r\u001b[K    68% |██████████████████████          | 645kB 17.8MB/s eta 0:00:01\r\u001b[K    69% |██████████████████████▍         | 655kB 15.1MB/s eta 0:00:01\r\u001b[K    71% |██████████████████████▊         | 665kB 16.9MB/s eta 0:00:01\r\u001b[K    72% |███████████████████████         | 675kB 16.3MB/s eta 0:00:01\r\u001b[K    73% |███████████████████████▍        | 686kB 16.3MB/s eta 0:00:01\r\u001b[K    74% |███████████████████████▉        | 696kB 14.9MB/s eta 0:00:01\r\u001b[K    75% |████████████████████████▏       | 706kB 14.3MB/s eta 0:00:01\r\u001b[K    76% |████████████████████████▌       | 716kB 15.7MB/s eta 0:00:01\r\u001b[K    77% |████████████████████████▉       | 727kB 17.8MB/s eta 0:00:01\r\u001b[K    78% |█████████████████████████▏      | 737kB 15.0MB/s eta 0:00:01\r\u001b[K    79% |█████████████████████████▌      | 747kB 15.2MB/s eta 0:00:01\r\u001b[K    80% |██████████████████████████      | 757kB 17.5MB/s eta 0:00:01\r\u001b[K    82% |██████████████████████████▎     | 768kB 19.3MB/s eta 0:00:01\r\u001b[K    83% |██████████████████████████▋     | 778kB 18.9MB/s eta 0:00:01\r\u001b[K    84% |███████████████████████████     | 788kB 15.1MB/s eta 0:00:01\r\u001b[K    85% |███████████████████████████▎    | 798kB 16.9MB/s eta 0:00:01\r\u001b[K    86% |███████████████████████████▋    | 808kB 15.7MB/s eta 0:00:01\r\u001b[K    87% |████████████████████████████    | 819kB 15.0MB/s eta 0:00:01\r\u001b[K    88% |████████████████████████████▍   | 829kB 15.8MB/s eta 0:00:01\r\u001b[K    89% |████████████████████████████▊   | 839kB 33kB/s eta 0:00:03\r\u001b[K    90% |█████████████████████████████   | 849kB 33kB/s eta 0:00:03\r\u001b[K    91% |█████████████████████████████▍  | 860kB 33kB/s eta 0:00:03\r\u001b[K    92% |█████████████████████████████▊  | 870kB 33kB/s eta 0:00:03\r\u001b[K    94% |██████████████████████████████  | 880kB 33kB/s eta 0:00:02\r\u001b[K    95% |██████████████████████████████▍ | 890kB 33kB/s eta 0:00:02\r\u001b[K    96% |██████████████████████████████▉ | 901kB 33kB/s eta 0:00:02\r\u001b[K    97% |███████████████████████████████▏| 911kB 33kB/s eta 0:00:01\r\u001b[K    98% |███████████████████████████████▌| 921kB 33kB/s eta 0:00:01\r\u001b[K    99% |███████████████████████████████▉| 931kB 33kB/s eta 0:00:01\r\u001b[K    100% |████████████████████████████████| 942kB 13.4MB/s \n",
            "\u001b[?25hCollecting update_checker>=0.16 (from tpot)\n",
            "  Downloading https://files.pythonhosted.org/packages/17/c9/ab11855af164d03be0ff4fddd4c46a5bd44799a9ecc1770e01a669c21168/update_checker-0.16-py2.py3-none-any.whl\n",
            "Requirement already satisfied: tqdm>=4.11.2 in /usr/local/lib/python3.6/dist-packages (from tpot) (4.28.1)\n",
            "Collecting stopit>=1.1.1 (from tpot)\n",
            "  Downloading https://files.pythonhosted.org/packages/35/58/e8bb0b0fb05baf07bbac1450c447d753da65f9701f551dca79823ce15d50/stopit-1.1.2.tar.gz\n",
            "Requirement already satisfied: pandas>=0.20.2 in /usr/local/lib/python3.6/dist-packages (from tpot) (0.22.0)\n",
            "Requirement already satisfied: requests>=2.3.0 in /usr/local/lib/python3.6/dist-packages (from update_checker>=0.16->tpot) (2.18.4)\n",
            "Requirement already satisfied: python-dateutil>=2 in /usr/local/lib/python3.6/dist-packages (from pandas>=0.20.2->tpot) (2.5.3)\n",
            "Requirement already satisfied: pytz>=2011k in /usr/local/lib/python3.6/dist-packages (from pandas>=0.20.2->tpot) (2018.7)\n",
            "Requirement already satisfied: certifi>=2017.4.17 in /usr/local/lib/python3.6/dist-packages (from requests>=2.3.0->update_checker>=0.16->tpot) (2018.10.15)\n",
            "Requirement already satisfied: urllib3<1.23,>=1.21.1 in /usr/local/lib/python3.6/dist-packages (from requests>=2.3.0->update_checker>=0.16->tpot) (1.22)\n",
            "Requirement already satisfied: chardet<3.1.0,>=3.0.2 in /usr/local/lib/python3.6/dist-packages (from requests>=2.3.0->update_checker>=0.16->tpot) (3.0.4)\n",
            "Requirement already satisfied: idna<2.7,>=2.5 in /usr/local/lib/python3.6/dist-packages (from requests>=2.3.0->update_checker>=0.16->tpot) (2.6)\n",
            "Requirement already satisfied: six>=1.5 in /usr/local/lib/python3.6/dist-packages (from python-dateutil>=2->pandas>=0.20.2->tpot) (1.11.0)\n",
            "Building wheels for collected packages: tpot, deap, stopit\n",
            "  Running setup.py bdist_wheel for tpot ... \u001b[?25l-\b \b\\\b \bdone\n",
            "\u001b[?25h  Stored in directory: /root/.cache/pip/wheels/97/86/27/698a1366f854d2344fd0f7ee9ef57c8044ec02f182c8a0431e\n",
            "  Running setup.py bdist_wheel for deap ... \u001b[?25l-\b \b\\\b \b|\b \b/\b \b-\b \b\\\b \b|\b \b/\b \bdone\n",
            "\u001b[?25h  Stored in directory: /root/.cache/pip/wheels/22/ea/bf/dc7c8a2262025a0ab5da9ef02282c198be88902791ca0c6658\n",
            "  Running setup.py bdist_wheel for stopit ... \u001b[?25l-\b \bdone\n",
            "\u001b[?25h  Stored in directory: /root/.cache/pip/wheels/3c/85/2b/2580190404636bfc63e8de3dff629c03bb795021e1983a6cc7\n",
            "Successfully built tpot deap stopit\n",
            "Installing collected packages: deap, update-checker, stopit, tpot\n",
            "Successfully installed deap-1.2.2 stopit-1.1.2 tpot-0.9.5 update-checker-0.16\n"
          ],
          "name": "stdout"
        }
      ]
    },
    {
      "metadata": {
        "id": "0HbdE2D5ZJNH",
        "colab_type": "code",
        "colab": {
          "base_uri": "https://localhost:8080/",
          "height": 68
        },
        "outputId": "11732adc-c6c5-4c55-a78b-09952addb944"
      },
      "cell_type": "code",
      "source": [
        "import nltk\n",
        "nltk.download('stopwords')"
      ],
      "execution_count": 5,
      "outputs": [
        {
          "output_type": "stream",
          "text": [
            "[nltk_data] Downloading package stopwords to /root/nltk_data...\n",
            "[nltk_data]   Unzipping corpora/stopwords.zip.\n"
          ],
          "name": "stdout"
        },
        {
          "output_type": "execute_result",
          "data": {
            "text/plain": [
              "True"
            ]
          },
          "metadata": {
            "tags": []
          },
          "execution_count": 5
        }
      ]
    },
    {
      "metadata": {
        "id": "oDbxoPTWZyUa",
        "colab_type": "code",
        "colab": {}
      },
      "cell_type": "code",
      "source": [
        "!where nltk"
      ],
      "execution_count": 0,
      "outputs": []
    }
  ]
}