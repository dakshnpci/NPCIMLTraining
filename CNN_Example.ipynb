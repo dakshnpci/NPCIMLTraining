{
  "nbformat": 4,
  "nbformat_minor": 0,
  "metadata": {
    "colab": {
      "name": "CNN_Example.ipynb",
      "version": "0.3.2",
      "provenance": [],
      "include_colab_link": true
    },
    "kernelspec": {
      "name": "python3",
      "display_name": "Python 3"
    },
    "accelerator": "GPU"
  },
  "cells": [
    {
      "cell_type": "markdown",
      "metadata": {
        "id": "view-in-github",
        "colab_type": "text"
      },
      "source": [
        "<a href=\"https://colab.research.google.com/github/dakshnpci/NPCIMLTraining/blob/master/CNN_Example.ipynb\" target=\"_parent\"><img src=\"https://colab.research.google.com/assets/colab-badge.svg\" alt=\"Open In Colab\"/></a>"
      ]
    },
    {
      "metadata": {
        "id": "lmVn4RD8WO-x",
        "colab_type": "code",
        "colab": {}
      },
      "cell_type": "code",
      "source": [
        "# Simple CNN for the MNIST Dataset\n",
        "import numpy\n",
        "from keras.datasets import mnist\n",
        "from keras.models import Sequential\n",
        "from keras.layers import Dense\n",
        "from keras.layers import Dropout\n",
        "from keras.layers import Flatten\n",
        "from keras.layers.convolutional import Conv2D\n",
        "from keras.layers.convolutional import MaxPooling2D\n",
        "from keras.utils import np_utils\n",
        "# fix dimension ordering issue\n",
        "from keras import backend as K\n",
        "K.set_image_dim_ordering('th')\n",
        "import matplotlib.pyplot as plt\n",
        "%matplotlib inline\n",
        "import numpy as np # linear algebra\n",
        "import pandas as pd # data processing, CSV file I/O (e.g. pd.read_csv)\n",
        "import matplotlib.pyplot as plt #for plotting\n",
        "from collections import Counter\n",
        "from sklearn.metrics import confusion_matrix\n",
        "import itertools\n",
        "import seaborn as sns\n",
        "from subprocess import check_output\n",
        "# print(check_output([\"ls\", \"../input\"]).decode(\"utf8\"))\n",
        "%matplotlib inline\n",
        "# fix random seed for reproducibility\n",
        "seed = 7\n",
        "numpy.random.seed(seed)\n",
        "# load data\n",
        "(X_train, y_train), (X_test, y_test) = mnist.load_data()"
      ],
      "execution_count": 0,
      "outputs": []
    },
    {
      "metadata": {
        "id": "z9hDR0t2XBTG",
        "colab_type": "code",
        "colab": {
          "base_uri": "https://localhost:8080/",
          "height": 297
        },
        "outputId": "c8810138-acb5-4ae3-bc02-31f88ceaded0"
      },
      "cell_type": "code",
      "source": [
        "\n",
        "plt.imshow(X_train[5], cmap='gray')\n",
        "plt.title('Class '+ str(y_train[5]))\n"
      ],
      "execution_count": 2,
      "outputs": [
        {
          "output_type": "execute_result",
          "data": {
            "text/plain": [
              "Text(0.5,1,'Class 2')"
            ]
          },
          "metadata": {
            "tags": []
          },
          "execution_count": 2
        },
        {
          "output_type": "display_data",
          "data": {
            "image/png": "[encoded data removed]",
            "text/plain": [
              "<matplotlib.figure.Figure at 0x7f2dc4d20a20>"
            ]
          },
          "metadata": {
            "tags": []
          }
        }
      ]
    },
    {
      "metadata": {
        "id": "4Eoj5c6tXHiw",
        "colab_type": "code",
        "colab": {
          "base_uri": "https://localhost:8080/",
          "height": 742
        },
        "outputId": "2d5719d9-3992-4029-9491-c18db2a7d78f"
      },
      "cell_type": "code",
      "source": [
        "(X_train, y_train), (X_test, y_test) = mnist.load_data()\n",
        "# reshape to be [samples][channels][width][height]\n",
        "X_train = X_train.reshape(X_train.shape[0], 1, 28, 28).astype('float32')\n",
        "X_test = X_test.reshape(X_test.shape[0], 1, 28, 28).astype('float32')\n",
        "# normalize inputs from 0-255 to 0-1\n",
        "X_train = X_train / 255\n",
        "X_test = X_test / 255\n",
        "# one hot encode outputs\n",
        "y_train = np_utils.to_categorical(y_train)\n",
        "y_test = np_utils.to_categorical(y_test)\n",
        "num_classes = y_test.shape[1]\n",
        "# define a simple CNN model\n",
        "def baseline_model():\n",
        "\t# create model\n",
        "\tmodel = Sequential()\n",
        "\tmodel.add(Conv2D(32, (5, 5), input_shape=(1, 28, 28), activation='relu'))\n",
        "\tmodel.add(MaxPooling2D(pool_size=(2, 2)))\n",
        "\tmodel.add(Dropout(0.2))\n",
        "\tmodel.add(Flatten())\n",
        "\tmodel.add(Dense(128, activation='relu'))\n",
        "#   model.add(Dense(128, activation='relu'))\n",
        "\tmodel.add(Dense(num_classes, activation='softmax'))\n",
        "\t# Compile model\n",
        "\tmodel.compile(loss='categorical_crossentropy', optimizer='sgd', metrics=['accuracy'])\n",
        "\treturn model\n",
        "# build the model\n",
        "model = baseline_model()\n",
        "# Fit the model\n",
        "training = model.fit(X_train, y_train, validation_data=(X_test, y_test), epochs=20, batch_size=100)\n",
        "# Final evaluation of the model\n",
        "scores = model.evaluate(X_test, y_test, verbose=0)\n",
        "print(\"CNN Error: %.2f%%\" % (100-scores[1]*100))\n"
      ],
      "execution_count": 14,
      "outputs": [
        {
          "output_type": "stream",
          "text": [
            "Train on 60000 samples, validate on 10000 samples\n",
            "Epoch 1/20\n",
            "60000/60000 [==============================] - 5s 83us/step - loss: 0.7941 - acc: 0.7843 - val_loss: 0.3274 - val_acc: 0.9035\n",
            "Epoch 2/20\n",
            "60000/60000 [==============================] - 5s 79us/step - loss: 0.3377 - acc: 0.8982 - val_loss: 0.2742 - val_acc: 0.9201\n",
            "Epoch 3/20\n",
            "60000/60000 [==============================] - 5s 79us/step - loss: 0.2830 - acc: 0.9155 - val_loss: 0.2251 - val_acc: 0.9350\n",
            "Epoch 4/20\n",
            "60000/60000 [==============================] - 5s 79us/step - loss: 0.2450 - acc: 0.9278 - val_loss: 0.1978 - val_acc: 0.9417\n",
            "Epoch 5/20\n",
            "60000/60000 [==============================] - 5s 80us/step - loss: 0.2143 - acc: 0.9361 - val_loss: 0.1677 - val_acc: 0.9504\n",
            "Epoch 6/20\n",
            "60000/60000 [==============================] - 5s 79us/step - loss: 0.1888 - acc: 0.9440 - val_loss: 0.1525 - val_acc: 0.9566\n",
            "Epoch 7/20\n",
            "60000/60000 [==============================] - 5s 80us/step - loss: 0.1686 - acc: 0.9506 - val_loss: 0.1337 - val_acc: 0.9616\n",
            "Epoch 8/20\n",
            "60000/60000 [==============================] - 5s 80us/step - loss: 0.1518 - acc: 0.9550 - val_loss: 0.1212 - val_acc: 0.9659\n",
            "Epoch 9/20\n",
            "60000/60000 [==============================] - 5s 79us/step - loss: 0.1384 - acc: 0.9592 - val_loss: 0.1128 - val_acc: 0.9678\n",
            "Epoch 10/20\n",
            "60000/60000 [==============================] - 5s 79us/step - loss: 0.1266 - acc: 0.9633 - val_loss: 0.1026 - val_acc: 0.9699\n",
            "Epoch 11/20\n",
            "60000/60000 [==============================] - 5s 79us/step - loss: 0.1173 - acc: 0.9654 - val_loss: 0.0957 - val_acc: 0.9713\n",
            "Epoch 12/20\n",
            "60000/60000 [==============================] - 5s 79us/step - loss: 0.1094 - acc: 0.9683 - val_loss: 0.0889 - val_acc: 0.9730\n",
            "Epoch 13/20\n",
            "60000/60000 [==============================] - 5s 79us/step - loss: 0.1017 - acc: 0.9699 - val_loss: 0.0824 - val_acc: 0.9753\n",
            "Epoch 14/20\n",
            "60000/60000 [==============================] - 5s 79us/step - loss: 0.0953 - acc: 0.9718 - val_loss: 0.0806 - val_acc: 0.9753\n",
            "Epoch 15/20\n",
            "60000/60000 [==============================] - 5s 79us/step - loss: 0.0907 - acc: 0.9730 - val_loss: 0.0743 - val_acc: 0.9771\n",
            "Epoch 16/20\n",
            "60000/60000 [==============================] - 5s 80us/step - loss: 0.0849 - acc: 0.9748 - val_loss: 0.0725 - val_acc: 0.9772\n",
            "Epoch 17/20\n",
            "60000/60000 [==============================] - 5s 80us/step - loss: 0.0817 - acc: 0.9760 - val_loss: 0.0673 - val_acc: 0.9778\n",
            "Epoch 18/20\n",
            "60000/60000 [==============================] - 5s 85us/step - loss: 0.0769 - acc: 0.9770 - val_loss: 0.0634 - val_acc: 0.9805\n",
            "Epoch 19/20\n",
            "60000/60000 [==============================] - 5s 87us/step - loss: 0.0738 - acc: 0.9781 - val_loss: 0.0641 - val_acc: 0.9800\n",
            "Epoch 20/20\n",
            "60000/60000 [==============================] - 5s 81us/step - loss: 0.0719 - acc: 0.9784 - val_loss: 0.0604 - val_acc: 0.9818\n",
            "CNN Error: 1.82%\n"
          ],
          "name": "stdout"
        }
      ]
    },
    {
      "metadata": {
        "id": "eTiB5GSBiXHR",
        "colab_type": "code",
        "colab": {
          "base_uri": "https://localhost:8080/",
          "height": 294
        },
        "outputId": "0e73c107-1fa9-4016-d82c-362a836bd5b5"
      },
      "cell_type": "code",
      "source": [
        "# val_acc = np.mean(model.history['val_acc'])\n",
        "# summarize history for accuracy\n",
        "plt.plot(training.history['acc'])\n",
        "plt.plot(training.history['val_acc'])\n",
        "plt.title('model accuracy')\n",
        "plt.ylabel('accuracy')\n",
        "plt.xlabel('epoch')\n",
        "plt.legend(['train', 'validation'], loc='upper left')\n",
        "plt.show()"
      ],
      "execution_count": 15,
      "outputs": [
        {
          "output_type": "display_data",
          "data": {
            "image/png": "[encoded data removed]",
            "text/plain": [
              "<matplotlib.figure.Figure at 0x7f2d6b2c1588>"
            ]
          },
          "metadata": {
            "tags": []
          }
        }
      ]
    },
    {
      "metadata": {
        "id": "FJpRTsh9jDiY",
        "colab_type": "code",
        "colab": {
          "base_uri": "https://localhost:8080/",
          "height": 1019
        },
        "outputId": "73506c66-f91e-46df-ce6a-061863c6b3da"
      },
      "cell_type": "code",
      "source": [
        "(X_train, y_train), (X_test, y_test) = mnist.load_data()\n",
        "# reshape to be [samples][channels][width][height]\n",
        "X_train = X_train.reshape(X_train.shape[0], 1, 28, 28).astype('float32')\n",
        "X_test = X_test.reshape(X_test.shape[0], 1, 28, 28).astype('float32')\n",
        "# normalize inputs from 0-255 to 0-1\n",
        "X_train = X_train / 255\n",
        "X_test = X_test / 255\n",
        "# one hot encode outputs\n",
        "y_train = np_utils.to_categorical(y_train)\n",
        "y_test = np_utils.to_categorical(y_test)\n",
        "num_classes = y_test.shape[1]\n",
        "# define a simple CNN model\n",
        "def baseline_model():\n",
        "\t# create model\n",
        "  model = Sequential()\n",
        "  model.add(Conv2D(32, (5, 5), input_shape=(1, 28, 28), activation='relu'))\n",
        "  model.add(Conv2D(32, (3, 3), input_shape=(1, 28, 28), activation='relu'))\n",
        "  model.add(MaxPooling2D(pool_size=(2, 2)))\n",
        "  model.add(Dropout(0.2))\n",
        "  model.add(Flatten())\n",
        "  model.add(Dense(128, activation='relu'))\n",
        "  model.add(Dense(128, activation='relu'))\n",
        "  model.add(Dense(num_classes, activation='softmax'))\n",
        "\t# Compile model\n",
        "  model.compile(loss='categorical_crossentropy', optimizer='adam', metrics=['accuracy'])\n",
        "  return model\n",
        "# build the model\n",
        "model = baseline_model()\n",
        "# Fit the model\n",
        "training = model.fit(X_train, y_train, validation_data=(X_test, y_test), epochs=20, batch_size=100)\n",
        "# Final evaluation of the model\n",
        "scores = model.evaluate(X_test, y_test, verbose=0)\n",
        "print(\"CNN Error: %.2f%%\" % (100-scores[1]*100))\n",
        "\n",
        "# val_acc = np.mean(model.history['val_acc'])\n",
        "# summarize history for accuracy\n",
        "plt.plot(training.history['acc'])\n",
        "plt.plot(training.history['val_acc'])\n",
        "plt.title('model accuracy')\n",
        "plt.ylabel('accuracy')\n",
        "plt.xlabel('epoch')\n",
        "plt.legend(['train', 'validation'], loc='upper left')\n",
        "plt.show()"
      ],
      "execution_count": 24,
      "outputs": [
        {
          "output_type": "stream",
          "text": [
            "Train on 60000 samples, validate on 10000 samples\n",
            "Epoch 1/20\n",
            "60000/60000 [==============================] - 9s 148us/step - loss: 0.1779 - acc: 0.9461 - val_loss: 0.0489 - val_acc: 0.9845\n",
            "Epoch 2/20\n",
            "60000/60000 [==============================] - 8s 134us/step - loss: 0.0524 - acc: 0.9837 - val_loss: 0.0420 - val_acc: 0.9876\n",
            "Epoch 3/20\n",
            "60000/60000 [==============================] - 8s 134us/step - loss: 0.0357 - acc: 0.9885 - val_loss: 0.0305 - val_acc: 0.9903\n",
            "Epoch 4/20\n",
            "60000/60000 [==============================] - 8s 133us/step - loss: 0.0285 - acc: 0.9908 - val_loss: 0.0317 - val_acc: 0.9897\n",
            "Epoch 5/20\n",
            "60000/60000 [==============================] - 8s 131us/step - loss: 0.0228 - acc: 0.9927 - val_loss: 0.0362 - val_acc: 0.9898\n",
            "Epoch 6/20\n",
            "60000/60000 [==============================] - 8s 131us/step - loss: 0.0180 - acc: 0.9943 - val_loss: 0.0353 - val_acc: 0.9904\n",
            "Epoch 7/20\n",
            "60000/60000 [==============================] - 8s 130us/step - loss: 0.0157 - acc: 0.9949 - val_loss: 0.0356 - val_acc: 0.9901\n",
            "Epoch 8/20\n",
            "60000/60000 [==============================] - 8s 131us/step - loss: 0.0152 - acc: 0.9950 - val_loss: 0.0510 - val_acc: 0.9871\n",
            "Epoch 9/20\n",
            "60000/60000 [==============================] - 8s 131us/step - loss: 0.0115 - acc: 0.9961 - val_loss: 0.0361 - val_acc: 0.9898\n",
            "Epoch 10/20\n",
            "60000/60000 [==============================] - 8s 132us/step - loss: 0.0101 - acc: 0.9968 - val_loss: 0.0398 - val_acc: 0.9906\n",
            "Epoch 11/20\n",
            "60000/60000 [==============================] - 8s 132us/step - loss: 0.0099 - acc: 0.9968 - val_loss: 0.0340 - val_acc: 0.9914\n",
            "Epoch 12/20\n",
            "60000/60000 [==============================] - 8s 132us/step - loss: 0.0117 - acc: 0.9960 - val_loss: 0.0342 - val_acc: 0.9913\n",
            "Epoch 13/20\n",
            "60000/60000 [==============================] - 8s 140us/step - loss: 0.0075 - acc: 0.9979 - val_loss: 0.0378 - val_acc: 0.9917\n",
            "Epoch 14/20\n",
            "60000/60000 [==============================] - 8s 132us/step - loss: 0.0080 - acc: 0.9972 - val_loss: 0.0319 - val_acc: 0.9935\n",
            "Epoch 15/20\n",
            "60000/60000 [==============================] - 8s 131us/step - loss: 0.0057 - acc: 0.9982 - val_loss: 0.0385 - val_acc: 0.9914\n",
            "Epoch 16/20\n",
            "60000/60000 [==============================] - 8s 131us/step - loss: 0.0066 - acc: 0.9978 - val_loss: 0.0364 - val_acc: 0.9917\n",
            "Epoch 17/20\n",
            "60000/60000 [==============================] - 8s 131us/step - loss: 0.0077 - acc: 0.9977 - val_loss: 0.0379 - val_acc: 0.9920\n",
            "Epoch 18/20\n",
            "60000/60000 [==============================] - 8s 132us/step - loss: 0.0052 - acc: 0.9985 - val_loss: 0.0525 - val_acc: 0.9899\n",
            "Epoch 19/20\n",
            "60000/60000 [==============================] - 8s 131us/step - loss: 0.0070 - acc: 0.9980 - val_loss: 0.0341 - val_acc: 0.9927\n",
            "Epoch 20/20\n",
            "60000/60000 [==============================] - 8s 130us/step - loss: 0.0045 - acc: 0.9986 - val_loss: 0.0394 - val_acc: 0.9914\n",
            "CNN Error: 0.86%\n"
          ],
          "name": "stdout"
        },
        {
          "output_type": "display_data",
          "data": {
            "image/png": "[encoded data removed]",
            "text/plain": [
              "<matplotlib.figure.Figure at 0x7f2d6a0d0ac8>"
            ]
          },
          "metadata": {
            "tags": []
          }
        }
      ]
    },
    {
      "metadata": {
        "id": "5n7nzUWQntrs",
        "colab_type": "code",
        "colab": {
          "base_uri": "https://localhost:8080/",
          "height": 1019
        },
        "outputId": "4a76f844-6cec-4528-e1db-9378b42dfce5"
      },
      "cell_type": "code",
      "source": [
        "# Larger CNN for the MNIST Dataset\n",
        "import numpy\n",
        "from keras.datasets import mnist\n",
        "from keras.models import Sequential\n",
        "from keras.layers import Dense\n",
        "from keras.layers import Dropout\n",
        "from keras.layers import Flatten\n",
        "from keras.layers.convolutional import Conv2D\n",
        "from keras.layers.convolutional import MaxPooling2D\n",
        "from keras.utils import np_utils\n",
        "from keras import backend as K\n",
        "K.set_image_dim_ordering('th')\n",
        "# fix random seed for reproducibility\n",
        "seed = 7\n",
        "numpy.random.seed(seed)\n",
        "# load data\n",
        "(X_train, y_train), (X_test, y_test) = mnist.load_data()\n",
        "# reshape to be [samples][pixels][width][height]\n",
        "X_train = X_train.reshape(X_train.shape[0], 1, 28, 28).astype('float32')\n",
        "X_test = X_test.reshape(X_test.shape[0], 1, 28, 28).astype('float32')\n",
        "# normalize inputs from 0-255 to 0-1\n",
        "X_train = X_train / 255\n",
        "X_test = X_test / 255\n",
        "# one hot encode outputs\n",
        "y_train = np_utils.to_categorical(y_train)\n",
        "y_test = np_utils.to_categorical(y_test)\n",
        "num_classes = y_test.shape[1]\n",
        "\n",
        "\n",
        "# define the larger model\n",
        "def larger_model():\n",
        "\t# create model\n",
        "\tmodel = Sequential()\n",
        "\tmodel.add(Conv2D(30, (5, 5), input_shape=(1, 28, 28), activation='relu'))\n",
        "\tmodel.add(MaxPooling2D(pool_size=(2, 2)))\n",
        "\tmodel.add(Conv2D(15, (3, 3), activation='relu'))\n",
        "\tmodel.add(MaxPooling2D(pool_size=(2, 2)))\n",
        "\tmodel.add(Dropout(0.2))\n",
        "\tmodel.add(Flatten())\n",
        "\tmodel.add(Dense(128, activation='relu'))\n",
        "\tmodel.add(Dense(50, activation='relu'))\n",
        "\tmodel.add(Dense(num_classes, activation='softmax'))\n",
        "\t# Compile model\n",
        "\tmodel.compile(loss='categorical_crossentropy', optimizer='adam', metrics=['accuracy'])\n",
        "\treturn model\n",
        "\n",
        "# build the model\n",
        "model = larger_model()\n",
        "# Fit the model\n",
        "training = model.fit(X_train, y_train, validation_data=(X_test, y_test), epochs=20, batch_size=100)\n",
        "# Final evaluation of the model\n",
        "scores = model.evaluate(X_test, y_test, verbose=0)\n",
        "print(\"Large CNN Error: %.2f%%\" % (100-scores[1]*100))\n",
        "\n",
        "\n",
        "# val_acc = np.mean(model.history['val_acc'])\n",
        "# summarize history for accuracy\n",
        "plt.plot(training.history['acc'])\n",
        "plt.plot(training.history['val_acc'])\n",
        "plt.title('model accuracy')\n",
        "plt.ylabel('accuracy')\n",
        "plt.xlabel('epoch')\n",
        "plt.legend(['train', 'validation'], loc='upper left')\n",
        "plt.show()\n"
      ],
      "execution_count": 25,
      "outputs": [
        {
          "output_type": "stream",
          "text": [
            "Train on 60000 samples, validate on 10000 samples\n",
            "Epoch 1/20\n",
            "60000/60000 [==============================] - 7s 117us/step - loss: 0.2844 - acc: 0.9128 - val_loss: 0.0771 - val_acc: 0.9754\n",
            "Epoch 2/20\n",
            "60000/60000 [==============================] - 6s 106us/step - loss: 0.0804 - acc: 0.9749 - val_loss: 0.0420 - val_acc: 0.9865\n",
            "Epoch 3/20\n",
            "60000/60000 [==============================] - 6s 106us/step - loss: 0.0604 - acc: 0.9814 - val_loss: 0.0352 - val_acc: 0.9876\n",
            "Epoch 4/20\n",
            "60000/60000 [==============================] - 6s 105us/step - loss: 0.0497 - acc: 0.9844 - val_loss: 0.0332 - val_acc: 0.9888\n",
            "Epoch 5/20\n",
            "60000/60000 [==============================] - 6s 104us/step - loss: 0.0422 - acc: 0.9866 - val_loss: 0.0310 - val_acc: 0.9894\n",
            "Epoch 6/20\n",
            "60000/60000 [==============================] - 6s 104us/step - loss: 0.0363 - acc: 0.9882 - val_loss: 0.0284 - val_acc: 0.9909\n",
            "Epoch 7/20\n",
            "60000/60000 [==============================] - 6s 105us/step - loss: 0.0326 - acc: 0.9895 - val_loss: 0.0247 - val_acc: 0.9916\n",
            "Epoch 8/20\n",
            "60000/60000 [==============================] - 6s 104us/step - loss: 0.0300 - acc: 0.9905 - val_loss: 0.0235 - val_acc: 0.9922\n",
            "Epoch 9/20\n",
            "60000/60000 [==============================] - 6s 105us/step - loss: 0.0271 - acc: 0.9910 - val_loss: 0.0267 - val_acc: 0.9923\n",
            "Epoch 10/20\n",
            "60000/60000 [==============================] - 6s 105us/step - loss: 0.0258 - acc: 0.9918 - val_loss: 0.0242 - val_acc: 0.9917\n",
            "Epoch 11/20\n",
            "60000/60000 [==============================] - 6s 104us/step - loss: 0.0221 - acc: 0.9924 - val_loss: 0.0303 - val_acc: 0.9916\n",
            "Epoch 12/20\n",
            "60000/60000 [==============================] - 6s 105us/step - loss: 0.0215 - acc: 0.9931 - val_loss: 0.0292 - val_acc: 0.9910\n",
            "Epoch 13/20\n",
            "60000/60000 [==============================] - 6s 105us/step - loss: 0.0196 - acc: 0.9935 - val_loss: 0.0241 - val_acc: 0.9922\n",
            "Epoch 14/20\n",
            "60000/60000 [==============================] - 6s 104us/step - loss: 0.0202 - acc: 0.9934 - val_loss: 0.0284 - val_acc: 0.9918\n",
            "Epoch 15/20\n",
            "60000/60000 [==============================] - 6s 104us/step - loss: 0.0184 - acc: 0.9939 - val_loss: 0.0255 - val_acc: 0.9935\n",
            "Epoch 16/20\n",
            "60000/60000 [==============================] - 6s 104us/step - loss: 0.0170 - acc: 0.9947 - val_loss: 0.0257 - val_acc: 0.9918\n",
            "Epoch 17/20\n",
            "60000/60000 [==============================] - 6s 105us/step - loss: 0.0158 - acc: 0.9948 - val_loss: 0.0286 - val_acc: 0.9919\n",
            "Epoch 18/20\n",
            "60000/60000 [==============================] - 6s 104us/step - loss: 0.0154 - acc: 0.9950 - val_loss: 0.0230 - val_acc: 0.9926\n",
            "Epoch 19/20\n",
            "60000/60000 [==============================] - 6s 105us/step - loss: 0.0140 - acc: 0.9954 - val_loss: 0.0280 - val_acc: 0.9918\n",
            "Epoch 20/20\n",
            "60000/60000 [==============================] - 6s 104us/step - loss: 0.0156 - acc: 0.9946 - val_loss: 0.0253 - val_acc: 0.9930\n",
            "Large CNN Error: 0.70%\n"
          ],
          "name": "stdout"
        },
        {
          "output_type": "display_data",
          "data": {
            "image/png": "[encoded data removed]",
            "text/plain": [
              "<matplotlib.figure.Figure at 0x7f2d69b16748>"
            ]
          },
          "metadata": {
            "tags": []
          }
        }
      ]
    }
  ]
}