{
  "nbformat": 4,
  "nbformat_minor": 0,
  "metadata": {
    "colab": {
      "name": "Titanic_NeuralNetworkGS.ipynb",
      "version": "0.3.2",
      "provenance": [],
      "include_colab_link": true
    },
    "kernelspec": {
      "name": "python3",
      "display_name": "Python 3"
    },
    "accelerator": "GPU"
  },
  "cells": [
    {
      "cell_type": "markdown",
      "metadata": {
        "id": "view-in-github",
        "colab_type": "text"
      },
      "source": [
        "<a href=\"https://colab.research.google.com/github/dakshnpci/NPCIMLTraining/blob/master/Titanic_NeuralNetworkGS.ipynb\" target=\"_parent\"><img src=\"https://colab.research.google.com/assets/colab-badge.svg\" alt=\"Open In Colab\"/></a>"
      ]
    },
    {
      "metadata": {
        "id": "SpmrH0Av_vAN",
        "colab_type": "code",
        "colab": {
          "base_uri": "https://localhost:8080/",
          "height": 34
        },
        "outputId": "4b2431e9-ea3f-440c-80e1-a94b4eee32fc"
      },
      "cell_type": "code",
      "source": [
        "import numpy as np\n",
        "import pandas as pd\n",
        "import seaborn as sns\n",
        "import matplotlib.pyplot as plt\n",
        "from matplotlib.pyplot import rcParams\n",
        "%matplotlib inline\n",
        "rcParams['figure.figsize'] = 10,8\n",
        "sns.set(style='whitegrid', palette='muted',\n",
        "        rc={'figure.figsize': (15,10)})\n",
        "import os\n",
        "from sklearn.preprocessing import StandardScaler\n",
        "from sklearn.model_selection import train_test_split\n",
        "from sklearn.model_selection import GridSearchCV\n",
        "from keras.wrappers.scikit_learn import KerasClassifier\n",
        "from keras.models import Sequential\n",
        "from keras.layers import Dense, Activation, Dropout\n",
        "\n",
        "from numpy.random import seed\n",
        "from tensorflow import set_random_seed"
      ],
      "execution_count": 1,
      "outputs": [
        {
          "output_type": "stream",
          "text": [
            "Using TensorFlow backend.\n"
          ],
          "name": "stderr"
        }
      ]
    },
    {
      "metadata": {
        "id": "X5OxOS1jAP-J",
        "colab_type": "code",
        "colab": {}
      },
      "cell_type": "code",
      "source": [
        "# Load data as Pandas dataframe\n",
        "train = pd.read_csv('https://raw.githubusercontent.com/dakshnpci/NPCIMLTraining/master/train_clean.csv', )\n",
        "test = pd.read_csv('https://raw.githubusercontent.com/dakshnpci/NPCIMLTraining/master/test_clean.csv')\n",
        "df = pd.concat([train, test], axis=0)"
      ],
      "execution_count": 0,
      "outputs": []
    },
    {
      "metadata": {
        "id": "8vTHwNAmA5CO",
        "colab_type": "code",
        "colab": {
          "base_uri": "https://localhost:8080/",
          "height": 238
        },
        "outputId": "50250bf2-7334-48e8-a5ad-ac1f97cf7a84"
      },
      "cell_type": "code",
      "source": [
        "df.head()"
      ],
      "execution_count": 11,
      "outputs": [
        {
          "output_type": "execute_result",
          "data": {
            "text/html": [
              "<div>\n",
              "<style scoped>\n",
              "    .dataframe tbody tr th:only-of-type {\n",
              "        vertical-align: middle;\n",
              "    }\n",
              "\n",
              "    .dataframe tbody tr th {\n",
              "        vertical-align: top;\n",
              "    }\n",
              "\n",
              "    .dataframe thead th {\n",
              "        text-align: right;\n",
              "    }\n",
              "</style>\n",
              "<table border=\"1\" class=\"dataframe\">\n",
              "  <thead>\n",
              "    <tr style=\"text-align: right;\">\n",
              "      <th></th>\n",
              "      <th>Age</th>\n",
              "      <th>Cabin</th>\n",
              "      <th>Embarked</th>\n",
              "      <th>Fare</th>\n",
              "      <th>Name</th>\n",
              "      <th>Parch</th>\n",
              "      <th>PassengerId</th>\n",
              "      <th>Pclass</th>\n",
              "      <th>Sex</th>\n",
              "      <th>SibSp</th>\n",
              "      <th>Survived</th>\n",
              "      <th>Ticket</th>\n",
              "      <th>Title</th>\n",
              "      <th>Family_Size</th>\n",
              "    </tr>\n",
              "  </thead>\n",
              "  <tbody>\n",
              "    <tr>\n",
              "      <th>0</th>\n",
              "      <td>22.0</td>\n",
              "      <td>NaN</td>\n",
              "      <td>S</td>\n",
              "      <td>7.2500</td>\n",
              "      <td>Braund, Mr. Owen Harris</td>\n",
              "      <td>0</td>\n",
              "      <td>1</td>\n",
              "      <td>3</td>\n",
              "      <td>male</td>\n",
              "      <td>1</td>\n",
              "      <td>0.0</td>\n",
              "      <td>A/5 21171</td>\n",
              "      <td>Mr</td>\n",
              "      <td>1</td>\n",
              "    </tr>\n",
              "    <tr>\n",
              "      <th>1</th>\n",
              "      <td>38.0</td>\n",
              "      <td>C85</td>\n",
              "      <td>C</td>\n",
              "      <td>71.2833</td>\n",
              "      <td>Cumings, Mrs. John Bradley (Florence Briggs Th...</td>\n",
              "      <td>0</td>\n",
              "      <td>2</td>\n",
              "      <td>1</td>\n",
              "      <td>female</td>\n",
              "      <td>1</td>\n",
              "      <td>1.0</td>\n",
              "      <td>PC 17599</td>\n",
              "      <td>Mrs</td>\n",
              "      <td>1</td>\n",
              "    </tr>\n",
              "    <tr>\n",
              "      <th>2</th>\n",
              "      <td>26.0</td>\n",
              "      <td>NaN</td>\n",
              "      <td>S</td>\n",
              "      <td>7.9250</td>\n",
              "      <td>Heikkinen, Miss. Laina</td>\n",
              "      <td>0</td>\n",
              "      <td>3</td>\n",
              "      <td>3</td>\n",
              "      <td>female</td>\n",
              "      <td>0</td>\n",
              "      <td>1.0</td>\n",
              "      <td>STON/O2. 3101282</td>\n",
              "      <td>Miss</td>\n",
              "      <td>0</td>\n",
              "    </tr>\n",
              "    <tr>\n",
              "      <th>3</th>\n",
              "      <td>35.0</td>\n",
              "      <td>C123</td>\n",
              "      <td>S</td>\n",
              "      <td>53.1000</td>\n",
              "      <td>Futrelle, Mrs. Jacques Heath (Lily May Peel)</td>\n",
              "      <td>0</td>\n",
              "      <td>4</td>\n",
              "      <td>1</td>\n",
              "      <td>female</td>\n",
              "      <td>1</td>\n",
              "      <td>1.0</td>\n",
              "      <td>113803</td>\n",
              "      <td>Mrs</td>\n",
              "      <td>1</td>\n",
              "    </tr>\n",
              "    <tr>\n",
              "      <th>4</th>\n",
              "      <td>35.0</td>\n",
              "      <td>NaN</td>\n",
              "      <td>S</td>\n",
              "      <td>8.0500</td>\n",
              "      <td>Allen, Mr. William Henry</td>\n",
              "      <td>0</td>\n",
              "      <td>5</td>\n",
              "      <td>3</td>\n",
              "      <td>male</td>\n",
              "      <td>0</td>\n",
              "      <td>0.0</td>\n",
              "      <td>373450</td>\n",
              "      <td>Mr</td>\n",
              "      <td>0</td>\n",
              "    </tr>\n",
              "  </tbody>\n",
              "</table>\n",
              "</div>"
            ],
            "text/plain": [
              "    Age Cabin Embarked     Fare  \\\n",
              "0  22.0   NaN        S   7.2500   \n",
              "1  38.0   C85        C  71.2833   \n",
              "2  26.0   NaN        S   7.9250   \n",
              "3  35.0  C123        S  53.1000   \n",
              "4  35.0   NaN        S   8.0500   \n",
              "\n",
              "                                                Name  Parch  PassengerId  \\\n",
              "0                            Braund, Mr. Owen Harris      0            1   \n",
              "1  Cumings, Mrs. John Bradley (Florence Briggs Th...      0            2   \n",
              "2                             Heikkinen, Miss. Laina      0            3   \n",
              "3       Futrelle, Mrs. Jacques Heath (Lily May Peel)      0            4   \n",
              "4                           Allen, Mr. William Henry      0            5   \n",
              "\n",
              "   Pclass     Sex  SibSp  Survived            Ticket Title  Family_Size  \n",
              "0       3    male      1       0.0         A/5 21171    Mr            1  \n",
              "1       1  female      1       1.0          PC 17599   Mrs            1  \n",
              "2       3  female      0       1.0  STON/O2. 3101282  Miss            0  \n",
              "3       1  female      1       1.0            113803   Mrs            1  \n",
              "4       3    male      0       0.0            373450    Mr            0  "
            ]
          },
          "metadata": {
            "tags": []
          },
          "execution_count": 11
        }
      ]
    },
    {
      "metadata": {
        "id": "NIJr7JDQA91S",
        "colab_type": "code",
        "colab": {
          "base_uri": "https://localhost:8080/",
          "height": 483
        },
        "outputId": "85f2c1da-4218-4706-bb76-00778285f186"
      },
      "cell_type": "code",
      "source": [
        "def display_all(df):\n",
        "    with pd.option_context(\"display.max_rows\", 1000, \"display.max_columns\", 1000): \n",
        "        display(df)\n",
        "\n",
        "        \n",
        "display_all(df.describe(include='all').T)"
      ],
      "execution_count": 12,
      "outputs": [
        {
          "output_type": "display_data",
          "data": {
            "text/html": [
              "<div>\n",
              "<style scoped>\n",
              "    .dataframe tbody tr th:only-of-type {\n",
              "        vertical-align: middle;\n",
              "    }\n",
              "\n",
              "    .dataframe tbody tr th {\n",
              "        vertical-align: top;\n",
              "    }\n",
              "\n",
              "    .dataframe thead th {\n",
              "        text-align: right;\n",
              "    }\n",
              "</style>\n",
              "<table border=\"1\" class=\"dataframe\">\n",
              "  <thead>\n",
              "    <tr style=\"text-align: right;\">\n",
              "      <th></th>\n",
              "      <th>count</th>\n",
              "      <th>unique</th>\n",
              "      <th>top</th>\n",
              "      <th>freq</th>\n",
              "      <th>mean</th>\n",
              "      <th>std</th>\n",
              "      <th>min</th>\n",
              "      <th>25%</th>\n",
              "      <th>50%</th>\n",
              "      <th>75%</th>\n",
              "      <th>max</th>\n",
              "    </tr>\n",
              "  </thead>\n",
              "  <tbody>\n",
              "    <tr>\n",
              "      <th>Age</th>\n",
              "      <td>1309</td>\n",
              "      <td>NaN</td>\n",
              "      <td>NaN</td>\n",
              "      <td>NaN</td>\n",
              "      <td>29.5624</td>\n",
              "      <td>13.1654</td>\n",
              "      <td>0.17</td>\n",
              "      <td>22</td>\n",
              "      <td>30</td>\n",
              "      <td>35.5</td>\n",
              "      <td>80</td>\n",
              "    </tr>\n",
              "    <tr>\n",
              "      <th>Cabin</th>\n",
              "      <td>295</td>\n",
              "      <td>186</td>\n",
              "      <td>C23 C25 C27</td>\n",
              "      <td>6</td>\n",
              "      <td>NaN</td>\n",
              "      <td>NaN</td>\n",
              "      <td>NaN</td>\n",
              "      <td>NaN</td>\n",
              "      <td>NaN</td>\n",
              "      <td>NaN</td>\n",
              "      <td>NaN</td>\n",
              "    </tr>\n",
              "    <tr>\n",
              "      <th>Embarked</th>\n",
              "      <td>1309</td>\n",
              "      <td>3</td>\n",
              "      <td>S</td>\n",
              "      <td>915</td>\n",
              "      <td>NaN</td>\n",
              "      <td>NaN</td>\n",
              "      <td>NaN</td>\n",
              "      <td>NaN</td>\n",
              "      <td>NaN</td>\n",
              "      <td>NaN</td>\n",
              "      <td>NaN</td>\n",
              "    </tr>\n",
              "    <tr>\n",
              "      <th>Fare</th>\n",
              "      <td>1309</td>\n",
              "      <td>NaN</td>\n",
              "      <td>NaN</td>\n",
              "      <td>NaN</td>\n",
              "      <td>33.2762</td>\n",
              "      <td>51.7436</td>\n",
              "      <td>0</td>\n",
              "      <td>7.8958</td>\n",
              "      <td>14.4542</td>\n",
              "      <td>31.275</td>\n",
              "      <td>512.329</td>\n",
              "    </tr>\n",
              "    <tr>\n",
              "      <th>Name</th>\n",
              "      <td>1309</td>\n",
              "      <td>1307</td>\n",
              "      <td>Kelly, Mr. James</td>\n",
              "      <td>2</td>\n",
              "      <td>NaN</td>\n",
              "      <td>NaN</td>\n",
              "      <td>NaN</td>\n",
              "      <td>NaN</td>\n",
              "      <td>NaN</td>\n",
              "      <td>NaN</td>\n",
              "      <td>NaN</td>\n",
              "    </tr>\n",
              "    <tr>\n",
              "      <th>Parch</th>\n",
              "      <td>1309</td>\n",
              "      <td>NaN</td>\n",
              "      <td>NaN</td>\n",
              "      <td>NaN</td>\n",
              "      <td>0.385027</td>\n",
              "      <td>0.86556</td>\n",
              "      <td>0</td>\n",
              "      <td>0</td>\n",
              "      <td>0</td>\n",
              "      <td>0</td>\n",
              "      <td>9</td>\n",
              "    </tr>\n",
              "    <tr>\n",
              "      <th>PassengerId</th>\n",
              "      <td>1309</td>\n",
              "      <td>NaN</td>\n",
              "      <td>NaN</td>\n",
              "      <td>NaN</td>\n",
              "      <td>655</td>\n",
              "      <td>378.02</td>\n",
              "      <td>1</td>\n",
              "      <td>328</td>\n",
              "      <td>655</td>\n",
              "      <td>982</td>\n",
              "      <td>1309</td>\n",
              "    </tr>\n",
              "    <tr>\n",
              "      <th>Pclass</th>\n",
              "      <td>1309</td>\n",
              "      <td>NaN</td>\n",
              "      <td>NaN</td>\n",
              "      <td>NaN</td>\n",
              "      <td>2.29488</td>\n",
              "      <td>0.837836</td>\n",
              "      <td>1</td>\n",
              "      <td>2</td>\n",
              "      <td>3</td>\n",
              "      <td>3</td>\n",
              "      <td>3</td>\n",
              "    </tr>\n",
              "    <tr>\n",
              "      <th>Sex</th>\n",
              "      <td>1309</td>\n",
              "      <td>2</td>\n",
              "      <td>male</td>\n",
              "      <td>843</td>\n",
              "      <td>NaN</td>\n",
              "      <td>NaN</td>\n",
              "      <td>NaN</td>\n",
              "      <td>NaN</td>\n",
              "      <td>NaN</td>\n",
              "      <td>NaN</td>\n",
              "      <td>NaN</td>\n",
              "    </tr>\n",
              "    <tr>\n",
              "      <th>SibSp</th>\n",
              "      <td>1309</td>\n",
              "      <td>NaN</td>\n",
              "      <td>NaN</td>\n",
              "      <td>NaN</td>\n",
              "      <td>0.498854</td>\n",
              "      <td>1.04166</td>\n",
              "      <td>0</td>\n",
              "      <td>0</td>\n",
              "      <td>0</td>\n",
              "      <td>1</td>\n",
              "      <td>8</td>\n",
              "    </tr>\n",
              "    <tr>\n",
              "      <th>Survived</th>\n",
              "      <td>891</td>\n",
              "      <td>NaN</td>\n",
              "      <td>NaN</td>\n",
              "      <td>NaN</td>\n",
              "      <td>0.383838</td>\n",
              "      <td>0.486592</td>\n",
              "      <td>0</td>\n",
              "      <td>0</td>\n",
              "      <td>0</td>\n",
              "      <td>1</td>\n",
              "      <td>1</td>\n",
              "    </tr>\n",
              "    <tr>\n",
              "      <th>Ticket</th>\n",
              "      <td>1309</td>\n",
              "      <td>929</td>\n",
              "      <td>CA. 2343</td>\n",
              "      <td>11</td>\n",
              "      <td>NaN</td>\n",
              "      <td>NaN</td>\n",
              "      <td>NaN</td>\n",
              "      <td>NaN</td>\n",
              "      <td>NaN</td>\n",
              "      <td>NaN</td>\n",
              "      <td>NaN</td>\n",
              "    </tr>\n",
              "    <tr>\n",
              "      <th>Title</th>\n",
              "      <td>1309</td>\n",
              "      <td>6</td>\n",
              "      <td>Mr</td>\n",
              "      <td>767</td>\n",
              "      <td>NaN</td>\n",
              "      <td>NaN</td>\n",
              "      <td>NaN</td>\n",
              "      <td>NaN</td>\n",
              "      <td>NaN</td>\n",
              "      <td>NaN</td>\n",
              "      <td>NaN</td>\n",
              "    </tr>\n",
              "    <tr>\n",
              "      <th>Family_Size</th>\n",
              "      <td>1309</td>\n",
              "      <td>NaN</td>\n",
              "      <td>NaN</td>\n",
              "      <td>NaN</td>\n",
              "      <td>0.883881</td>\n",
              "      <td>1.58364</td>\n",
              "      <td>0</td>\n",
              "      <td>0</td>\n",
              "      <td>0</td>\n",
              "      <td>1</td>\n",
              "      <td>10</td>\n",
              "    </tr>\n",
              "  </tbody>\n",
              "</table>\n",
              "</div>"
            ],
            "text/plain": [
              "            count unique               top freq      mean       std   min  \\\n",
              "Age          1309    NaN               NaN  NaN   29.5624   13.1654  0.17   \n",
              "Cabin         295    186       C23 C25 C27    6       NaN       NaN   NaN   \n",
              "Embarked     1309      3                 S  915       NaN       NaN   NaN   \n",
              "Fare         1309    NaN               NaN  NaN   33.2762   51.7436     0   \n",
              "Name         1309   1307  Kelly, Mr. James    2       NaN       NaN   NaN   \n",
              "Parch        1309    NaN               NaN  NaN  0.385027   0.86556     0   \n",
              "PassengerId  1309    NaN               NaN  NaN       655    378.02     1   \n",
              "Pclass       1309    NaN               NaN  NaN   2.29488  0.837836     1   \n",
              "Sex          1309      2              male  843       NaN       NaN   NaN   \n",
              "SibSp        1309    NaN               NaN  NaN  0.498854   1.04166     0   \n",
              "Survived      891    NaN               NaN  NaN  0.383838  0.486592     0   \n",
              "Ticket       1309    929          CA. 2343   11       NaN       NaN   NaN   \n",
              "Title        1309      6                Mr  767       NaN       NaN   NaN   \n",
              "Family_Size  1309    NaN               NaN  NaN  0.883881   1.58364     0   \n",
              "\n",
              "                25%      50%     75%      max  \n",
              "Age              22       30    35.5       80  \n",
              "Cabin           NaN      NaN     NaN      NaN  \n",
              "Embarked        NaN      NaN     NaN      NaN  \n",
              "Fare         7.8958  14.4542  31.275  512.329  \n",
              "Name            NaN      NaN     NaN      NaN  \n",
              "Parch             0        0       0        9  \n",
              "PassengerId     328      655     982     1309  \n",
              "Pclass            2        3       3        3  \n",
              "Sex             NaN      NaN     NaN      NaN  \n",
              "SibSp             0        0       1        8  \n",
              "Survived          0        0       1        1  \n",
              "Ticket          NaN      NaN     NaN      NaN  \n",
              "Title           NaN      NaN     NaN      NaN  \n",
              "Family_Size       0        0       1       10  "
            ]
          },
          "metadata": {
            "tags": []
          }
        }
      ]
    },
    {
      "metadata": {
        "id": "u9fYavStBEiX",
        "colab_type": "code",
        "colab": {}
      },
      "cell_type": "code",
      "source": [
        "# convert to cateogry dtype\n",
        "df['Sex'] = df['Sex'].astype('category')\n",
        "# convert to category codes\n",
        "df['Sex'] = df['Sex'].cat.codes"
      ],
      "execution_count": 0,
      "outputs": []
    },
    {
      "metadata": {
        "id": "AfAY0Op9BG9_",
        "colab_type": "code",
        "colab": {}
      },
      "cell_type": "code",
      "source": [
        "# subset all categorical variables which need to be encoded\n",
        "categorical = ['Embarked', 'Title']\n",
        "\n",
        "for var in categorical:\n",
        "    df = pd.concat([df, \n",
        "                    pd.get_dummies(df[var], prefix=var)], axis=1)\n",
        "    del df[var]"
      ],
      "execution_count": 0,
      "outputs": []
    },
    {
      "metadata": {
        "id": "_mIyFnw3CFhl",
        "colab_type": "code",
        "colab": {
          "base_uri": "https://localhost:8080/",
          "height": 224
        },
        "outputId": "ecbf1def-7c2e-47d8-e18f-1e644df0d4b8"
      },
      "cell_type": "code",
      "source": [
        "# drop the variables we won't be using\n",
        "df.drop(['Cabin', 'Name', 'Ticket', 'PassengerId'], axis=1, inplace=True)\n",
        "df.head()"
      ],
      "execution_count": 15,
      "outputs": [
        {
          "output_type": "execute_result",
          "data": {
            "text/html": [
              "<div>\n",
              "<style scoped>\n",
              "    .dataframe tbody tr th:only-of-type {\n",
              "        vertical-align: middle;\n",
              "    }\n",
              "\n",
              "    .dataframe tbody tr th {\n",
              "        vertical-align: top;\n",
              "    }\n",
              "\n",
              "    .dataframe thead th {\n",
              "        text-align: right;\n",
              "    }\n",
              "</style>\n",
              "<table border=\"1\" class=\"dataframe\">\n",
              "  <thead>\n",
              "    <tr style=\"text-align: right;\">\n",
              "      <th></th>\n",
              "      <th>Age</th>\n",
              "      <th>Fare</th>\n",
              "      <th>Parch</th>\n",
              "      <th>Pclass</th>\n",
              "      <th>Sex</th>\n",
              "      <th>SibSp</th>\n",
              "      <th>Survived</th>\n",
              "      <th>Family_Size</th>\n",
              "      <th>Embarked_C</th>\n",
              "      <th>Embarked_Q</th>\n",
              "      <th>Embarked_S</th>\n",
              "      <th>Title_Dr</th>\n",
              "      <th>Title_Master</th>\n",
              "      <th>Title_Miss</th>\n",
              "      <th>Title_Mr</th>\n",
              "      <th>Title_Mrs</th>\n",
              "      <th>Title_Rev</th>\n",
              "    </tr>\n",
              "  </thead>\n",
              "  <tbody>\n",
              "    <tr>\n",
              "      <th>0</th>\n",
              "      <td>22.0</td>\n",
              "      <td>7.2500</td>\n",
              "      <td>0</td>\n",
              "      <td>3</td>\n",
              "      <td>1</td>\n",
              "      <td>1</td>\n",
              "      <td>0.0</td>\n",
              "      <td>1</td>\n",
              "      <td>0</td>\n",
              "      <td>0</td>\n",
              "      <td>1</td>\n",
              "      <td>0</td>\n",
              "      <td>0</td>\n",
              "      <td>0</td>\n",
              "      <td>1</td>\n",
              "      <td>0</td>\n",
              "      <td>0</td>\n",
              "    </tr>\n",
              "    <tr>\n",
              "      <th>1</th>\n",
              "      <td>38.0</td>\n",
              "      <td>71.2833</td>\n",
              "      <td>0</td>\n",
              "      <td>1</td>\n",
              "      <td>0</td>\n",
              "      <td>1</td>\n",
              "      <td>1.0</td>\n",
              "      <td>1</td>\n",
              "      <td>1</td>\n",
              "      <td>0</td>\n",
              "      <td>0</td>\n",
              "      <td>0</td>\n",
              "      <td>0</td>\n",
              "      <td>0</td>\n",
              "      <td>0</td>\n",
              "      <td>1</td>\n",
              "      <td>0</td>\n",
              "    </tr>\n",
              "    <tr>\n",
              "      <th>2</th>\n",
              "      <td>26.0</td>\n",
              "      <td>7.9250</td>\n",
              "      <td>0</td>\n",
              "      <td>3</td>\n",
              "      <td>0</td>\n",
              "      <td>0</td>\n",
              "      <td>1.0</td>\n",
              "      <td>0</td>\n",
              "      <td>0</td>\n",
              "      <td>0</td>\n",
              "      <td>1</td>\n",
              "      <td>0</td>\n",
              "      <td>0</td>\n",
              "      <td>1</td>\n",
              "      <td>0</td>\n",
              "      <td>0</td>\n",
              "      <td>0</td>\n",
              "    </tr>\n",
              "    <tr>\n",
              "      <th>3</th>\n",
              "      <td>35.0</td>\n",
              "      <td>53.1000</td>\n",
              "      <td>0</td>\n",
              "      <td>1</td>\n",
              "      <td>0</td>\n",
              "      <td>1</td>\n",
              "      <td>1.0</td>\n",
              "      <td>1</td>\n",
              "      <td>0</td>\n",
              "      <td>0</td>\n",
              "      <td>1</td>\n",
              "      <td>0</td>\n",
              "      <td>0</td>\n",
              "      <td>0</td>\n",
              "      <td>0</td>\n",
              "      <td>1</td>\n",
              "      <td>0</td>\n",
              "    </tr>\n",
              "    <tr>\n",
              "      <th>4</th>\n",
              "      <td>35.0</td>\n",
              "      <td>8.0500</td>\n",
              "      <td>0</td>\n",
              "      <td>3</td>\n",
              "      <td>1</td>\n",
              "      <td>0</td>\n",
              "      <td>0.0</td>\n",
              "      <td>0</td>\n",
              "      <td>0</td>\n",
              "      <td>0</td>\n",
              "      <td>1</td>\n",
              "      <td>0</td>\n",
              "      <td>0</td>\n",
              "      <td>0</td>\n",
              "      <td>1</td>\n",
              "      <td>0</td>\n",
              "      <td>0</td>\n",
              "    </tr>\n",
              "  </tbody>\n",
              "</table>\n",
              "</div>"
            ],
            "text/plain": [
              "    Age     Fare  Parch  Pclass  Sex  SibSp  Survived  Family_Size  \\\n",
              "0  22.0   7.2500      0       3    1      1       0.0            1   \n",
              "1  38.0  71.2833      0       1    0      1       1.0            1   \n",
              "2  26.0   7.9250      0       3    0      0       1.0            0   \n",
              "3  35.0  53.1000      0       1    0      1       1.0            1   \n",
              "4  35.0   8.0500      0       3    1      0       0.0            0   \n",
              "\n",
              "   Embarked_C  Embarked_Q  Embarked_S  Title_Dr  Title_Master  Title_Miss  \\\n",
              "0           0           0           1         0             0           0   \n",
              "1           1           0           0         0             0           0   \n",
              "2           0           0           1         0             0           1   \n",
              "3           0           0           1         0             0           0   \n",
              "4           0           0           1         0             0           0   \n",
              "\n",
              "   Title_Mr  Title_Mrs  Title_Rev  \n",
              "0         1          0          0  \n",
              "1         0          1          0  \n",
              "2         0          0          0  \n",
              "3         0          1          0  \n",
              "4         1          0          0  "
            ]
          },
          "metadata": {
            "tags": []
          },
          "execution_count": 15
        }
      ]
    },
    {
      "metadata": {
        "id": "6Us7rveACJdT",
        "colab_type": "code",
        "colab": {}
      },
      "cell_type": "code",
      "source": [
        "continuous = ['Age', 'Fare', 'Parch', 'Pclass', 'SibSp', 'Family_Size']\n",
        "\n",
        "scaler = StandardScaler()\n",
        "\n",
        "for var in continuous:\n",
        "    df[var] = df[var].astype('float64')\n",
        "    df[var] = scaler.fit_transform(df[var].values.reshape(-1, 1))"
      ],
      "execution_count": 0,
      "outputs": []
    },
    {
      "metadata": {
        "id": "KvCagVhkCOJb",
        "colab_type": "code",
        "colab": {
          "base_uri": "https://localhost:8080/",
          "height": 576
        },
        "outputId": "5eb0f49d-68dc-4ddc-ba2f-d4bcf2287a7d"
      },
      "cell_type": "code",
      "source": [
        "display_all(df.describe(include='all').T)"
      ],
      "execution_count": 17,
      "outputs": [
        {
          "output_type": "display_data",
          "data": {
            "text/html": [
              "<div>\n",
              "<style scoped>\n",
              "    .dataframe tbody tr th:only-of-type {\n",
              "        vertical-align: middle;\n",
              "    }\n",
              "\n",
              "    .dataframe tbody tr th {\n",
              "        vertical-align: top;\n",
              "    }\n",
              "\n",
              "    .dataframe thead th {\n",
              "        text-align: right;\n",
              "    }\n",
              "</style>\n",
              "<table border=\"1\" class=\"dataframe\">\n",
              "  <thead>\n",
              "    <tr style=\"text-align: right;\">\n",
              "      <th></th>\n",
              "      <th>count</th>\n",
              "      <th>mean</th>\n",
              "      <th>std</th>\n",
              "      <th>min</th>\n",
              "      <th>25%</th>\n",
              "      <th>50%</th>\n",
              "      <th>75%</th>\n",
              "      <th>max</th>\n",
              "    </tr>\n",
              "  </thead>\n",
              "  <tbody>\n",
              "    <tr>\n",
              "      <th>Age</th>\n",
              "      <td>1309.0</td>\n",
              "      <td>7.327981e-17</td>\n",
              "      <td>1.000382</td>\n",
              "      <td>-2.233408</td>\n",
              "      <td>-0.574635</td>\n",
              "      <td>0.033252</td>\n",
              "      <td>0.451175</td>\n",
              "      <td>3.832549</td>\n",
              "    </tr>\n",
              "    <tr>\n",
              "      <th>Fare</th>\n",
              "      <td>1309.0</td>\n",
              "      <td>2.171254e-17</td>\n",
              "      <td>1.000382</td>\n",
              "      <td>-0.643344</td>\n",
              "      <td>-0.490691</td>\n",
              "      <td>-0.363894</td>\n",
              "      <td>-0.038690</td>\n",
              "      <td>9.261749</td>\n",
              "    </tr>\n",
              "    <tr>\n",
              "      <th>Parch</th>\n",
              "      <td>1309.0</td>\n",
              "      <td>1.730218e-17</td>\n",
              "      <td>1.000382</td>\n",
              "      <td>-0.445000</td>\n",
              "      <td>-0.445000</td>\n",
              "      <td>-0.445000</td>\n",
              "      <td>-0.445000</td>\n",
              "      <td>9.956864</td>\n",
              "    </tr>\n",
              "    <tr>\n",
              "      <th>Pclass</th>\n",
              "      <td>1309.0</td>\n",
              "      <td>-2.062691e-16</td>\n",
              "      <td>1.000382</td>\n",
              "      <td>-1.546098</td>\n",
              "      <td>-0.352091</td>\n",
              "      <td>0.841916</td>\n",
              "      <td>0.841916</td>\n",
              "      <td>0.841916</td>\n",
              "    </tr>\n",
              "    <tr>\n",
              "      <th>Sex</th>\n",
              "      <td>1309.0</td>\n",
              "      <td>6.440031e-01</td>\n",
              "      <td>0.478997</td>\n",
              "      <td>0.000000</td>\n",
              "      <td>0.000000</td>\n",
              "      <td>1.000000</td>\n",
              "      <td>1.000000</td>\n",
              "      <td>1.000000</td>\n",
              "    </tr>\n",
              "    <tr>\n",
              "      <th>SibSp</th>\n",
              "      <td>1309.0</td>\n",
              "      <td>-1.628440e-17</td>\n",
              "      <td>1.000382</td>\n",
              "      <td>-0.479087</td>\n",
              "      <td>-0.479087</td>\n",
              "      <td>-0.479087</td>\n",
              "      <td>0.481288</td>\n",
              "      <td>7.203909</td>\n",
              "    </tr>\n",
              "    <tr>\n",
              "      <th>Survived</th>\n",
              "      <td>891.0</td>\n",
              "      <td>3.838384e-01</td>\n",
              "      <td>0.486592</td>\n",
              "      <td>0.000000</td>\n",
              "      <td>0.000000</td>\n",
              "      <td>0.000000</td>\n",
              "      <td>1.000000</td>\n",
              "      <td>1.000000</td>\n",
              "    </tr>\n",
              "    <tr>\n",
              "      <th>Family_Size</th>\n",
              "      <td>1309.0</td>\n",
              "      <td>1.628440e-17</td>\n",
              "      <td>1.000382</td>\n",
              "      <td>-0.558346</td>\n",
              "      <td>-0.558346</td>\n",
              "      <td>-0.558346</td>\n",
              "      <td>0.073352</td>\n",
              "      <td>5.758637</td>\n",
              "    </tr>\n",
              "    <tr>\n",
              "      <th>Embarked_C</th>\n",
              "      <td>1309.0</td>\n",
              "      <td>2.070283e-01</td>\n",
              "      <td>0.405331</td>\n",
              "      <td>0.000000</td>\n",
              "      <td>0.000000</td>\n",
              "      <td>0.000000</td>\n",
              "      <td>0.000000</td>\n",
              "      <td>1.000000</td>\n",
              "    </tr>\n",
              "    <tr>\n",
              "      <th>Embarked_Q</th>\n",
              "      <td>1309.0</td>\n",
              "      <td>9.396486e-02</td>\n",
              "      <td>0.291891</td>\n",
              "      <td>0.000000</td>\n",
              "      <td>0.000000</td>\n",
              "      <td>0.000000</td>\n",
              "      <td>0.000000</td>\n",
              "      <td>1.000000</td>\n",
              "    </tr>\n",
              "    <tr>\n",
              "      <th>Embarked_S</th>\n",
              "      <td>1309.0</td>\n",
              "      <td>6.990069e-01</td>\n",
              "      <td>0.458865</td>\n",
              "      <td>0.000000</td>\n",
              "      <td>0.000000</td>\n",
              "      <td>1.000000</td>\n",
              "      <td>1.000000</td>\n",
              "      <td>1.000000</td>\n",
              "    </tr>\n",
              "    <tr>\n",
              "      <th>Title_Dr</th>\n",
              "      <td>1309.0</td>\n",
              "      <td>6.111536e-03</td>\n",
              "      <td>0.077967</td>\n",
              "      <td>0.000000</td>\n",
              "      <td>0.000000</td>\n",
              "      <td>0.000000</td>\n",
              "      <td>0.000000</td>\n",
              "      <td>1.000000</td>\n",
              "    </tr>\n",
              "    <tr>\n",
              "      <th>Title_Master</th>\n",
              "      <td>1309.0</td>\n",
              "      <td>4.660046e-02</td>\n",
              "      <td>0.210862</td>\n",
              "      <td>0.000000</td>\n",
              "      <td>0.000000</td>\n",
              "      <td>0.000000</td>\n",
              "      <td>0.000000</td>\n",
              "      <td>1.000000</td>\n",
              "    </tr>\n",
              "    <tr>\n",
              "      <th>Title_Miss</th>\n",
              "      <td>1309.0</td>\n",
              "      <td>2.016807e-01</td>\n",
              "      <td>0.401408</td>\n",
              "      <td>0.000000</td>\n",
              "      <td>0.000000</td>\n",
              "      <td>0.000000</td>\n",
              "      <td>0.000000</td>\n",
              "      <td>1.000000</td>\n",
              "    </tr>\n",
              "    <tr>\n",
              "      <th>Title_Mr</th>\n",
              "      <td>1309.0</td>\n",
              "      <td>5.859435e-01</td>\n",
              "      <td>0.492747</td>\n",
              "      <td>0.000000</td>\n",
              "      <td>0.000000</td>\n",
              "      <td>1.000000</td>\n",
              "      <td>1.000000</td>\n",
              "      <td>1.000000</td>\n",
              "    </tr>\n",
              "    <tr>\n",
              "      <th>Title_Mrs</th>\n",
              "      <td>1309.0</td>\n",
              "      <td>1.535523e-01</td>\n",
              "      <td>0.360657</td>\n",
              "      <td>0.000000</td>\n",
              "      <td>0.000000</td>\n",
              "      <td>0.000000</td>\n",
              "      <td>0.000000</td>\n",
              "      <td>1.000000</td>\n",
              "    </tr>\n",
              "    <tr>\n",
              "      <th>Title_Rev</th>\n",
              "      <td>1309.0</td>\n",
              "      <td>6.111536e-03</td>\n",
              "      <td>0.077967</td>\n",
              "      <td>0.000000</td>\n",
              "      <td>0.000000</td>\n",
              "      <td>0.000000</td>\n",
              "      <td>0.000000</td>\n",
              "      <td>1.000000</td>\n",
              "    </tr>\n",
              "  </tbody>\n",
              "</table>\n",
              "</div>"
            ],
            "text/plain": [
              "               count          mean       std       min       25%       50%  \\\n",
              "Age           1309.0  7.327981e-17  1.000382 -2.233408 -0.574635  0.033252   \n",
              "Fare          1309.0  2.171254e-17  1.000382 -0.643344 -0.490691 -0.363894   \n",
              "Parch         1309.0  1.730218e-17  1.000382 -0.445000 -0.445000 -0.445000   \n",
              "Pclass        1309.0 -2.062691e-16  1.000382 -1.546098 -0.352091  0.841916   \n",
              "Sex           1309.0  6.440031e-01  0.478997  0.000000  0.000000  1.000000   \n",
              "SibSp         1309.0 -1.628440e-17  1.000382 -0.479087 -0.479087 -0.479087   \n",
              "Survived       891.0  3.838384e-01  0.486592  0.000000  0.000000  0.000000   \n",
              "Family_Size   1309.0  1.628440e-17  1.000382 -0.558346 -0.558346 -0.558346   \n",
              "Embarked_C    1309.0  2.070283e-01  0.405331  0.000000  0.000000  0.000000   \n",
              "Embarked_Q    1309.0  9.396486e-02  0.291891  0.000000  0.000000  0.000000   \n",
              "Embarked_S    1309.0  6.990069e-01  0.458865  0.000000  0.000000  1.000000   \n",
              "Title_Dr      1309.0  6.111536e-03  0.077967  0.000000  0.000000  0.000000   \n",
              "Title_Master  1309.0  4.660046e-02  0.210862  0.000000  0.000000  0.000000   \n",
              "Title_Miss    1309.0  2.016807e-01  0.401408  0.000000  0.000000  0.000000   \n",
              "Title_Mr      1309.0  5.859435e-01  0.492747  0.000000  0.000000  1.000000   \n",
              "Title_Mrs     1309.0  1.535523e-01  0.360657  0.000000  0.000000  0.000000   \n",
              "Title_Rev     1309.0  6.111536e-03  0.077967  0.000000  0.000000  0.000000   \n",
              "\n",
              "                   75%       max  \n",
              "Age           0.451175  3.832549  \n",
              "Fare         -0.038690  9.261749  \n",
              "Parch        -0.445000  9.956864  \n",
              "Pclass        0.841916  0.841916  \n",
              "Sex           1.000000  1.000000  \n",
              "SibSp         0.481288  7.203909  \n",
              "Survived      1.000000  1.000000  \n",
              "Family_Size   0.073352  5.758637  \n",
              "Embarked_C    0.000000  1.000000  \n",
              "Embarked_Q    0.000000  1.000000  \n",
              "Embarked_S    1.000000  1.000000  \n",
              "Title_Dr      0.000000  1.000000  \n",
              "Title_Master  0.000000  1.000000  \n",
              "Title_Miss    0.000000  1.000000  \n",
              "Title_Mr      1.000000  1.000000  \n",
              "Title_Mrs     0.000000  1.000000  \n",
              "Title_Rev     0.000000  1.000000  "
            ]
          },
          "metadata": {
            "tags": []
          }
        }
      ]
    },
    {
      "metadata": {
        "id": "RN6mXCYdCdIe",
        "colab_type": "code",
        "colab": {}
      },
      "cell_type": "code",
      "source": [
        "X_train = df[pd.notnull(df['Survived'])].drop(['Survived'], axis=1)\n",
        "y_train = df[pd.notnull(df['Survived'])]['Survived']\n",
        "X_test = df[pd.isnull(df['Survived'])].drop(['Survived'], axis=1)"
      ],
      "execution_count": 0,
      "outputs": []
    },
    {
      "metadata": {
        "id": "RYhNgzi6Mr12",
        "colab_type": "code",
        "colab": {
          "base_uri": "https://localhost:8080/",
          "height": 585
        },
        "cellView": "form",
        "outputId": "b3a4414f-1392-4ead-fe4d-1b9aa86a4b16"
      },
      "cell_type": "code",
      "source": [
        "#@title\n",
        "from IPython.display import Image\n",
        "from IPython.core.display import HTML \n",
        "Image(url= \"https://cdn-images-1.medium.com/max/880/1*tldIgyDQWqm-sMwP7m3Bww.png\")"
      ],
      "execution_count": 49,
      "outputs": [
        {
          "output_type": "execute_result",
          "data": {
            "text/html": [
              "<img src=\"https://cdn-images-1.medium.com/max/880/1*tldIgyDQWqm-sMwP7m3Bww.png\"/>"
            ],
            "text/plain": [
              "<IPython.core.display.Image object>"
            ]
          },
          "metadata": {
            "tags": []
          },
          "execution_count": 49
        }
      ]
    },
    {
      "metadata": {
        "id": "nf7oXKLHN7oV",
        "colab_type": "code",
        "colab": {
          "base_uri": "https://localhost:8080/",
          "height": 344
        },
        "cellView": "form",
        "outputId": "84dd6a6d-122a-43f1-bb6a-2a28d3c3c5c3"
      },
      "cell_type": "code",
      "source": [
        "#@title\n",
        "\n",
        "\n",
        "from IPython.display import Image\n",
        "from IPython.core.display import HTML \n",
        "Image(url= \"https://cdn-images-1.medium.com/max/880/1*Xu7B5y9gp0iL5ooBj7LtWw.png\")"
      ],
      "execution_count": 50,
      "outputs": [
        {
          "output_type": "execute_result",
          "data": {
            "text/html": [
              "<img src=\"https://cdn-images-1.medium.com/max/880/1*Xu7B5y9gp0iL5ooBj7LtWw.png\"/>"
            ],
            "text/plain": [
              "<IPython.core.display.Image object>"
            ]
          },
          "metadata": {
            "tags": []
          },
          "execution_count": 50
        }
      ]
    },
    {
      "metadata": {
        "id": "bSt8lKbBCiat",
        "colab_type": "code",
        "colab": {}
      },
      "cell_type": "code",
      "source": [
        "def create_model(lyrs=[8], act='linear', opt='Adam', dr=0.0):\n",
        "    \n",
        "    # set random seed for reproducibility\n",
        "    seed(42)\n",
        "    set_random_seed(42)\n",
        "    \n",
        "    model = Sequential()\n",
        "    \n",
        "    # create first hidden layer\n",
        "    model.add(Dense(lyrs[0], input_dim=X_train.shape[1], activation=act))\n",
        "    \n",
        "    # create additional hidden layers\n",
        "    for i in range(1,len(lyrs)):\n",
        "        model.add(Dense(lyrs[i], activation=act))\n",
        "    \n",
        "    # add dropout, default is none\n",
        "    model.add(Dropout(dr))\n",
        "    \n",
        "    # create output layer\n",
        "    model.add(Dense(1, activation='sigmoid'))  # output layer\n",
        "    \n",
        "    model.compile(loss='binary_crossentropy', optimizer=opt, metrics=['accuracy'])\n",
        "    \n",
        "    return model"
      ],
      "execution_count": 0,
      "outputs": []
    },
    {
      "metadata": {
        "id": "3C10fMCLCmtc",
        "colab_type": "code",
        "colab": {
          "base_uri": "https://localhost:8080/",
          "height": 255
        },
        "outputId": "6d8e4e2b-7ce7-4fd5-bfd3-a3bdef815b17"
      },
      "cell_type": "code",
      "source": [
        "model = create_model()\n",
        "print(model.summary())"
      ],
      "execution_count": 21,
      "outputs": [
        {
          "output_type": "stream",
          "text": [
            "_________________________________________________________________\n",
            "Layer (type)                 Output Shape              Param #   \n",
            "=================================================================\n",
            "dense_1 (Dense)              (None, 8)                 136       \n",
            "_________________________________________________________________\n",
            "dropout_1 (Dropout)          (None, 8)                 0         \n",
            "_________________________________________________________________\n",
            "dense_2 (Dense)              (None, 1)                 9         \n",
            "=================================================================\n",
            "Total params: 145\n",
            "Trainable params: 145\n",
            "Non-trainable params: 0\n",
            "_________________________________________________________________\n",
            "None\n"
          ],
          "name": "stdout"
        }
      ]
    },
    {
      "metadata": {
        "id": "zYsx3k5kC2Vw",
        "colab_type": "code",
        "colab": {
          "base_uri": "https://localhost:8080/",
          "height": 51
        },
        "outputId": "723f00dc-71ca-466f-d818-a37402bdfe64"
      },
      "cell_type": "code",
      "source": [
        "# train model on full train set, with 80/20 CV split\n",
        "training = model.fit(X_train, y_train, epochs=100, batch_size=32, validation_split=0.2, verbose=0)\n",
        "val_acc = np.mean(training.history['val_acc'])\n",
        "print(\"\\n%s: %.2f%%\" % ('val_acc', val_acc*100))"
      ],
      "execution_count": 22,
      "outputs": [
        {
          "output_type": "stream",
          "text": [
            "\n",
            "val_acc: 86.61%\n"
          ],
          "name": "stdout"
        }
      ]
    },
    {
      "metadata": {
        "id": "Ptq93HG5DETz",
        "colab_type": "code",
        "colab": {
          "base_uri": "https://localhost:8080/",
          "height": 620
        },
        "outputId": "770de437-dfb3-4b22-9dbd-32833deee5ea"
      },
      "cell_type": "code",
      "source": [
        "# summarize history for accuracy\n",
        "plt.plot(training.history['acc'])\n",
        "plt.plot(training.history['val_acc'])\n",
        "plt.title('model accuracy')\n",
        "plt.ylabel('accuracy')\n",
        "plt.xlabel('epoch')\n",
        "plt.legend(['train', 'validation'], loc='upper left')\n",
        "plt.show()"
      ],
      "execution_count": 23,
      "outputs": [
        {
          "output_type": "display_data",
          "data": {
            "image/png": "[encoded data removed]",
            "text/plain": [
              "<matplotlib.figure.Figure at 0x7f49dbed9780>"
            ]
          },
          "metadata": {
            "tags": []
          }
        }
      ]
    },
    {
      "metadata": {
        "id": "I7Hbjo1LDKAF",
        "colab_type": "code",
        "colab": {
          "base_uri": "https://localhost:8080/",
          "height": 680
        },
        "outputId": "f7da1116-d630-4d60-d1b3-e9175eb1f59f"
      },
      "cell_type": "code",
      "source": [
        "# create model\n",
        "model = KerasClassifier(build_fn=create_model, verbose=0)\n",
        "\n",
        "# define the grid search parameters\n",
        "batch_size = [16, 32, 64]\n",
        "epochs = [50, 100]\n",
        "param_grid = dict(batch_size=batch_size, epochs=epochs)\n",
        "\n",
        "# search the grid\n",
        "grid = GridSearchCV(estimator=model, \n",
        "                    param_grid=param_grid,\n",
        "                    cv=3,\n",
        "                    verbose=2)  # include n_jobs=-1 if you are using CPU\n",
        "\n",
        "grid_result = grid.fit(X_train, y_train)"
      ],
      "execution_count": 24,
      "outputs": [
        {
          "output_type": "stream",
          "text": [
            "Fitting 3 folds for each of 6 candidates, totalling 18 fits\n",
            "[CV] batch_size=16, epochs=50 ........................................\n",
            "[CV] ......................... batch_size=16, epochs=50, total=   9.3s\n",
            "[CV] batch_size=16, epochs=50 ........................................\n"
          ],
          "name": "stdout"
        },
        {
          "output_type": "stream",
          "text": [
            "[Parallel(n_jobs=1)]: Done   1 out of   1 | elapsed:    9.3s remaining:    0.0s\n"
          ],
          "name": "stderr"
        },
        {
          "output_type": "stream",
          "text": [
            "[CV] ......................... batch_size=16, epochs=50, total=   9.4s\n",
            "[CV] batch_size=16, epochs=50 ........................................\n",
            "[CV] ......................... batch_size=16, epochs=50, total=   9.4s\n",
            "[CV] batch_size=16, epochs=100 .......................................\n",
            "[CV] ........................ batch_size=16, epochs=100, total=  18.1s\n",
            "[CV] batch_size=16, epochs=100 .......................................\n",
            "[CV] ........................ batch_size=16, epochs=100, total=  18.2s\n",
            "[CV] batch_size=16, epochs=100 .......................................\n",
            "[CV] ........................ batch_size=16, epochs=100, total=  18.1s\n",
            "[CV] batch_size=32, epochs=50 ........................................\n",
            "[CV] ......................... batch_size=32, epochs=50, total=   5.2s\n",
            "[CV] batch_size=32, epochs=50 ........................................\n",
            "[CV] ......................... batch_size=32, epochs=50, total=   5.4s\n",
            "[CV] batch_size=32, epochs=50 ........................................\n",
            "[CV] ......................... batch_size=32, epochs=50, total=   5.4s\n",
            "[CV] batch_size=32, epochs=100 .......................................\n",
            "[CV] ........................ batch_size=32, epochs=100, total=   9.8s\n",
            "[CV] batch_size=32, epochs=100 .......................................\n",
            "[CV] ........................ batch_size=32, epochs=100, total=   9.8s\n",
            "[CV] batch_size=32, epochs=100 .......................................\n",
            "[CV] ........................ batch_size=32, epochs=100, total=  10.1s\n",
            "[CV] batch_size=64, epochs=50 ........................................\n",
            "[CV] ......................... batch_size=64, epochs=50, total=   3.5s\n",
            "[CV] batch_size=64, epochs=50 ........................................\n",
            "[CV] ......................... batch_size=64, epochs=50, total=   3.5s\n",
            "[CV] batch_size=64, epochs=50 ........................................\n",
            "[CV] ......................... batch_size=64, epochs=50, total=   3.6s\n",
            "[CV] batch_size=64, epochs=100 .......................................\n",
            "[CV] ........................ batch_size=64, epochs=100, total=   6.2s\n",
            "[CV] batch_size=64, epochs=100 .......................................\n",
            "[CV] ........................ batch_size=64, epochs=100, total=   6.0s\n",
            "[CV] batch_size=64, epochs=100 .......................................\n",
            "[CV] ........................ batch_size=64, epochs=100, total=   6.2s\n"
          ],
          "name": "stdout"
        },
        {
          "output_type": "stream",
          "text": [
            "[Parallel(n_jobs=1)]: Done  18 out of  18 | elapsed:  2.6min finished\n"
          ],
          "name": "stderr"
        }
      ]
    },
    {
      "metadata": {
        "id": "8W0S11MhD0l9",
        "colab_type": "code",
        "colab": {
          "base_uri": "https://localhost:8080/",
          "height": 136
        },
        "outputId": "b36cd527-00d2-4ff7-b082-6c2fe32f1d5b"
      },
      "cell_type": "code",
      "source": [
        "# summarize results\n",
        "print(\"Best: %f using %s\" % (grid_result.best_score_, grid_result.best_params_))\n",
        "means = grid_result.cv_results_['mean_test_score']\n",
        "stds = grid_result.cv_results_['std_test_score']\n",
        "params = grid_result.cv_results_['params']\n",
        "for mean, stdev, param in zip(means, stds, params):\n",
        "    print(\"%f (%f) with: %r\" % (mean, stdev, param))"
      ],
      "execution_count": 25,
      "outputs": [
        {
          "output_type": "stream",
          "text": [
            "Best: 0.818182 using {'batch_size': 64, 'epochs': 100}\n",
            "0.817059 (0.012992) with: {'batch_size': 16, 'epochs': 50}\n",
            "0.814815 (0.014547) with: {'batch_size': 16, 'epochs': 100}\n",
            "0.815937 (0.011111) with: {'batch_size': 32, 'epochs': 50}\n",
            "0.813692 (0.018305) with: {'batch_size': 32, 'epochs': 100}\n",
            "0.814815 (0.014285) with: {'batch_size': 64, 'epochs': 50}\n",
            "0.818182 (0.011983) with: {'batch_size': 64, 'epochs': 100}\n"
          ],
          "name": "stdout"
        }
      ]
    },
    {
      "metadata": {
        "id": "zp6eDeA2D17z",
        "colab_type": "code",
        "colab": {
          "base_uri": "https://localhost:8080/",
          "height": 680
        },
        "outputId": "3f1d80f7-0b78-4079-b837-5c03c328cdd6"
      },
      "cell_type": "code",
      "source": [
        "# create model\n",
        "model = KerasClassifier(build_fn=create_model, epochs=50, batch_size=32, verbose=0)\n",
        "\n",
        "# define the grid search parameters\n",
        "optimizer = ['SGD', 'RMSprop', 'Adagrad', 'Adadelta', 'Adam', 'Nadam']\n",
        "param_grid = dict(opt=optimizer)\n",
        "\n",
        "# search the grid\n",
        "grid = GridSearchCV(estimator=model, param_grid=param_grid, verbose=2)\n",
        "grid_result = grid.fit(X_train, y_train)"
      ],
      "execution_count": 26,
      "outputs": [
        {
          "output_type": "stream",
          "text": [
            "Fitting 3 folds for each of 6 candidates, totalling 18 fits\n",
            "[CV] opt=SGD .........................................................\n",
            "[CV] .......................................... opt=SGD, total=   5.0s\n",
            "[CV] opt=SGD .........................................................\n"
          ],
          "name": "stdout"
        },
        {
          "output_type": "stream",
          "text": [
            "[Parallel(n_jobs=1)]: Done   1 out of   1 | elapsed:    5.1s remaining:    0.0s\n"
          ],
          "name": "stderr"
        },
        {
          "output_type": "stream",
          "text": [
            "[CV] .......................................... opt=SGD, total=   5.1s\n",
            "[CV] opt=SGD .........................................................\n",
            "[CV] .......................................... opt=SGD, total=   5.2s\n",
            "[CV] opt=RMSprop .....................................................\n",
            "[CV] ...................................... opt=RMSprop, total=   5.9s\n",
            "[CV] opt=RMSprop .....................................................\n",
            "[CV] ...................................... opt=RMSprop, total=   5.8s\n",
            "[CV] opt=RMSprop .....................................................\n",
            "[CV] ...................................... opt=RMSprop, total=   5.8s\n",
            "[CV] opt=Adagrad .....................................................\n",
            "[CV] ...................................... opt=Adagrad, total=   5.6s\n",
            "[CV] opt=Adagrad .....................................................\n",
            "[CV] ...................................... opt=Adagrad, total=   5.8s\n",
            "[CV] opt=Adagrad .....................................................\n",
            "[CV] ...................................... opt=Adagrad, total=   5.9s\n",
            "[CV] opt=Adadelta ....................................................\n",
            "[CV] ..................................... opt=Adadelta, total=   6.7s\n",
            "[CV] opt=Adadelta ....................................................\n",
            "[CV] ..................................... opt=Adadelta, total=   6.8s\n",
            "[CV] opt=Adadelta ....................................................\n",
            "[CV] ..................................... opt=Adadelta, total=   6.8s\n",
            "[CV] opt=Adam ........................................................\n",
            "[CV] ......................................... opt=Adam, total=   7.1s\n",
            "[CV] opt=Adam ........................................................\n",
            "[CV] ......................................... opt=Adam, total=   7.0s\n",
            "[CV] opt=Adam ........................................................\n",
            "[CV] ......................................... opt=Adam, total=   7.1s\n",
            "[CV] opt=Nadam .......................................................\n",
            "[CV] ........................................ opt=Nadam, total=   7.8s\n",
            "[CV] opt=Nadam .......................................................\n",
            "[CV] ........................................ opt=Nadam, total=   7.8s\n",
            "[CV] opt=Nadam .......................................................\n",
            "[CV] ........................................ opt=Nadam, total=   7.9s\n"
          ],
          "name": "stdout"
        },
        {
          "output_type": "stream",
          "text": [
            "[Parallel(n_jobs=1)]: Done  18 out of  18 | elapsed:  1.9min finished\n"
          ],
          "name": "stderr"
        }
      ]
    },
    {
      "metadata": {
        "id": "UNaqKfqeD5bp",
        "colab_type": "code",
        "colab": {
          "base_uri": "https://localhost:8080/",
          "height": 136
        },
        "outputId": "a2772dbc-1acb-44b0-e656-7ba543690981"
      },
      "cell_type": "code",
      "source": [
        "# summarize results\n",
        "print(\"Best: %f using %s\" % (grid_result.best_score_, grid_result.best_params_))\n",
        "means = grid_result.cv_results_['mean_test_score']\n",
        "stds = grid_result.cv_results_['std_test_score']\n",
        "params = grid_result.cv_results_['params']\n",
        "for mean, stdev, param in zip(means, stds, params):\n",
        "    print(\"%f (%f) with: %r\" % (mean, stdev, param))"
      ],
      "execution_count": 27,
      "outputs": [
        {
          "output_type": "stream",
          "text": [
            "Best: 0.822671 using {'opt': 'RMSprop'}\n",
            "0.805836 (0.016798) with: {'opt': 'SGD'}\n",
            "0.822671 (0.011111) with: {'opt': 'RMSprop'}\n",
            "0.813692 (0.011111) with: {'opt': 'Adagrad'}\n",
            "0.821549 (0.011983) with: {'opt': 'Adadelta'}\n",
            "0.815937 (0.011111) with: {'opt': 'Adam'}\n",
            "0.817059 (0.015141) with: {'opt': 'Nadam'}\n"
          ],
          "name": "stdout"
        }
      ]
    },
    {
      "metadata": {
        "id": "Ch6eDL9VD8ga",
        "colab_type": "code",
        "colab": {
          "base_uri": "https://localhost:8080/",
          "height": 578
        },
        "outputId": "17de722f-13aa-4171-8519-83ed6e6bf310"
      },
      "cell_type": "code",
      "source": [
        "seed(42)\n",
        "set_random_seed(42)\n",
        "\n",
        "# create model\n",
        "model = KerasClassifier(build_fn=create_model, \n",
        "                        epochs=50, batch_size=32, verbose=0)\n",
        "\n",
        "# define the grid search parameters\n",
        "layers = [[8],[10],[10,5],[12,6],[12,8,4]]\n",
        "param_grid = dict(lyrs=layers)\n",
        "\n",
        "# search the grid\n",
        "grid = GridSearchCV(estimator=model, param_grid=param_grid, verbose=2)\n",
        "grid_result = grid.fit(X_train, y_train)"
      ],
      "execution_count": 28,
      "outputs": [
        {
          "output_type": "stream",
          "text": [
            "Fitting 3 folds for each of 5 candidates, totalling 15 fits\n",
            "[CV] lyrs=[8] ........................................................\n",
            "[CV] ......................................... lyrs=[8], total=   7.5s\n",
            "[CV] lyrs=[8] ........................................................\n"
          ],
          "name": "stdout"
        },
        {
          "output_type": "stream",
          "text": [
            "[Parallel(n_jobs=1)]: Done   1 out of   1 | elapsed:    7.5s remaining:    0.0s\n"
          ],
          "name": "stderr"
        },
        {
          "output_type": "stream",
          "text": [
            "[CV] ......................................... lyrs=[8], total=   7.6s\n",
            "[CV] lyrs=[8] ........................................................\n",
            "[CV] ......................................... lyrs=[8], total=   8.2s\n",
            "[CV] lyrs=[10] .......................................................\n",
            "[CV] ........................................ lyrs=[10], total=   7.8s\n",
            "[CV] lyrs=[10] .......................................................\n",
            "[CV] ........................................ lyrs=[10], total=   7.9s\n",
            "[CV] lyrs=[10] .......................................................\n",
            "[CV] ........................................ lyrs=[10], total=   8.0s\n",
            "[CV] lyrs=[10, 5] ....................................................\n",
            "[CV] ..................................... lyrs=[10, 5], total=   8.8s\n",
            "[CV] lyrs=[10, 5] ....................................................\n",
            "[CV] ..................................... lyrs=[10, 5], total=   9.0s\n",
            "[CV] lyrs=[10, 5] ....................................................\n",
            "[CV] ..................................... lyrs=[10, 5], total=   9.0s\n",
            "[CV] lyrs=[12, 6] ....................................................\n",
            "[CV] ..................................... lyrs=[12, 6], total=   9.1s\n",
            "[CV] lyrs=[12, 6] ....................................................\n",
            "[CV] ..................................... lyrs=[12, 6], total=   9.3s\n",
            "[CV] lyrs=[12, 6] ....................................................\n",
            "[CV] ..................................... lyrs=[12, 6], total=   9.5s\n",
            "[CV] lyrs=[12, 8, 4] .................................................\n",
            "[CV] .................................. lyrs=[12, 8, 4], total=  10.8s\n",
            "[CV] lyrs=[12, 8, 4] .................................................\n",
            "[CV] .................................. lyrs=[12, 8, 4], total=  10.5s\n",
            "[CV] lyrs=[12, 8, 4] .................................................\n",
            "[CV] .................................. lyrs=[12, 8, 4], total=  10.7s\n"
          ],
          "name": "stdout"
        },
        {
          "output_type": "stream",
          "text": [
            "[Parallel(n_jobs=1)]: Done  15 out of  15 | elapsed:  2.2min finished\n"
          ],
          "name": "stderr"
        }
      ]
    },
    {
      "metadata": {
        "id": "sigzfkRvEISb",
        "colab_type": "code",
        "colab": {
          "base_uri": "https://localhost:8080/",
          "height": 119
        },
        "outputId": "9a259f1f-26cf-4c14-f3e2-9583c1cb79cb"
      },
      "cell_type": "code",
      "source": [
        "# summarize results\n",
        "print(\"Best: %f using %s\" % (grid_result.best_score_, grid_result.best_params_))\n",
        "means = grid_result.cv_results_['mean_test_score']\n",
        "stds = grid_result.cv_results_['std_test_score']\n",
        "params = grid_result.cv_results_['params']\n",
        "for mean, stdev, param in zip(means, stds, params):\n",
        "    print(\"%f (%f) with: %r\" % (mean, stdev, param))"
      ],
      "execution_count": 29,
      "outputs": [
        {
          "output_type": "stream",
          "text": [
            "Best: 0.824916 using {'lyrs': [12, 8, 4]}\n",
            "0.815937 (0.011111) with: {'lyrs': [8]}\n",
            "0.821549 (0.009912) with: {'lyrs': [10]}\n",
            "0.822671 (0.016109) with: {'lyrs': [10, 5]}\n",
            "0.822671 (0.013561) with: {'lyrs': [12, 6]}\n",
            "0.824916 (0.017168) with: {'lyrs': [12, 8, 4]}\n"
          ],
          "name": "stdout"
        }
      ]
    },
    {
      "metadata": {
        "id": "-UqPGrsHELuO",
        "colab_type": "code",
        "colab": {
          "base_uri": "https://localhost:8080/",
          "height": 680
        },
        "outputId": "c80bdc20-e1ad-49e0-fae8-bab6c0a116d2"
      },
      "cell_type": "code",
      "source": [
        "# create model\n",
        "model = KerasClassifier(build_fn=create_model, \n",
        "                        epochs=50, batch_size=32, verbose=0)\n",
        "\n",
        "# define the grid search parameters\n",
        "drops = [0.0, 0.01, 0.05, 0.1, 0.2, 0.5]\n",
        "param_grid = dict(dr=drops)\n",
        "grid = GridSearchCV(estimator=model, param_grid=param_grid, verbose=2)\n",
        "grid_result = grid.fit(X_train, y_train)"
      ],
      "execution_count": 30,
      "outputs": [
        {
          "output_type": "stream",
          "text": [
            "Fitting 3 folds for each of 6 candidates, totalling 18 fits\n",
            "[CV] dr=0.0 ..........................................................\n",
            "[CV] ........................................... dr=0.0, total=   9.0s\n",
            "[CV] dr=0.0 ..........................................................\n"
          ],
          "name": "stdout"
        },
        {
          "output_type": "stream",
          "text": [
            "[Parallel(n_jobs=1)]: Done   1 out of   1 | elapsed:    9.0s remaining:    0.0s\n"
          ],
          "name": "stderr"
        },
        {
          "output_type": "stream",
          "text": [
            "[CV] ........................................... dr=0.0, total=   9.7s\n",
            "[CV] dr=0.0 ..........................................................\n",
            "[CV] ........................................... dr=0.0, total=   9.8s\n",
            "[CV] dr=0.01 .........................................................\n",
            "[CV] .......................................... dr=0.01, total=  10.1s\n",
            "[CV] dr=0.01 .........................................................\n",
            "[CV] .......................................... dr=0.01, total=  10.1s\n",
            "[CV] dr=0.01 .........................................................\n",
            "[CV] .......................................... dr=0.01, total=  10.3s\n",
            "[CV] dr=0.05 .........................................................\n",
            "[CV] .......................................... dr=0.05, total=  10.4s\n",
            "[CV] dr=0.05 .........................................................\n",
            "[CV] .......................................... dr=0.05, total=  11.1s\n",
            "[CV] dr=0.05 .........................................................\n",
            "[CV] .......................................... dr=0.05, total=  10.6s\n",
            "[CV] dr=0.1 ..........................................................\n",
            "[CV] ........................................... dr=0.1, total=  10.7s\n",
            "[CV] dr=0.1 ..........................................................\n",
            "[CV] ........................................... dr=0.1, total=  10.8s\n",
            "[CV] dr=0.1 ..........................................................\n",
            "[CV] ........................................... dr=0.1, total=  10.9s\n",
            "[CV] dr=0.2 ..........................................................\n",
            "[CV] ........................................... dr=0.2, total=  11.1s\n",
            "[CV] dr=0.2 ..........................................................\n",
            "[CV] ........................................... dr=0.2, total=  11.3s\n",
            "[CV] dr=0.2 ..........................................................\n",
            "[CV] ........................................... dr=0.2, total=  11.5s\n",
            "[CV] dr=0.5 ..........................................................\n",
            "[CV] ........................................... dr=0.5, total=  11.5s\n",
            "[CV] dr=0.5 ..........................................................\n",
            "[CV] ........................................... dr=0.5, total=  11.7s\n",
            "[CV] dr=0.5 ..........................................................\n",
            "[CV] ........................................... dr=0.5, total=  11.8s\n"
          ],
          "name": "stdout"
        },
        {
          "output_type": "stream",
          "text": [
            "[Parallel(n_jobs=1)]: Done  18 out of  18 | elapsed:  3.2min finished\n"
          ],
          "name": "stderr"
        }
      ]
    },
    {
      "metadata": {
        "id": "LUF-KoVXEPoB",
        "colab_type": "code",
        "colab": {
          "base_uri": "https://localhost:8080/",
          "height": 136
        },
        "outputId": "63cdbcbe-febd-4962-f5a5-b2a995f9feb9"
      },
      "cell_type": "code",
      "source": [
        "# summarize results\n",
        "print(\"Best: %f using %s\" % (grid_result.best_score_, grid_result.best_params_))\n",
        "means = grid_result.cv_results_['mean_test_score']\n",
        "stds = grid_result.cv_results_['std_test_score']\n",
        "params = grid_result.cv_results_['params']\n",
        "for mean, stdev, param in zip(means, stds, params):\n",
        "    print(\"%f (%f) with: %r\" % (mean, stdev, param))\n",
        "    "
      ],
      "execution_count": 31,
      "outputs": [
        {
          "output_type": "stream",
          "text": [
            "Best: 0.823793 using {'dr': 0.05}\n",
            "0.815937 (0.011111) with: {'dr': 0.0}\n",
            "0.822671 (0.018305) with: {'dr': 0.01}\n",
            "0.823793 (0.019888) with: {'dr': 0.05}\n",
            "0.821549 (0.019047) with: {'dr': 0.1}\n",
            "0.820426 (0.019888) with: {'dr': 0.2}\n",
            "0.813692 (0.016798) with: {'dr': 0.5}\n"
          ],
          "name": "stdout"
        }
      ]
    },
    {
      "metadata": {
        "id": "9eMs9McLEUDH",
        "colab_type": "code",
        "colab": {
          "base_uri": "https://localhost:8080/",
          "height": 323
        },
        "outputId": "fd77e388-c679-407c-a4b6-b23634e03d84"
      },
      "cell_type": "code",
      "source": [
        "# create final model\n",
        "# model = create_model(lyrs=[8], dr=0.2)\n",
        "model = create_model(lyrs=[12, 8, 4],  opt='RMSprop', dr=0.05)\n",
        "\n",
        "print(model.summary())"
      ],
      "execution_count": 35,
      "outputs": [
        {
          "output_type": "stream",
          "text": [
            "_________________________________________________________________\n",
            "Layer (type)                 Output Shape              Param #   \n",
            "=================================================================\n",
            "dense_166 (Dense)            (None, 12)                204       \n",
            "_________________________________________________________________\n",
            "dense_167 (Dense)            (None, 8)                 104       \n",
            "_________________________________________________________________\n",
            "dense_168 (Dense)            (None, 4)                 36        \n",
            "_________________________________________________________________\n",
            "dropout_76 (Dropout)         (None, 4)                 0         \n",
            "_________________________________________________________________\n",
            "dense_169 (Dense)            (None, 1)                 5         \n",
            "=================================================================\n",
            "Total params: 349\n",
            "Trainable params: 349\n",
            "Non-trainable params: 0\n",
            "_________________________________________________________________\n",
            "None\n"
          ],
          "name": "stdout"
        }
      ]
    },
    {
      "metadata": {
        "id": "YbSIoOI6EVFJ",
        "colab_type": "code",
        "colab": {
          "base_uri": "https://localhost:8080/",
          "height": 68
        },
        "outputId": "4a0404bc-7753-422e-ac97-ed48bad39186"
      },
      "cell_type": "code",
      "source": [
        "# train model on full train set, with 80/20 CV split\n",
        "training = model.fit(X_train, y_train, epochs=64, batch_size=100, \n",
        "                     validation_split=0.2, verbose=0)\n",
        "\n",
        "# evaluate the model\n",
        "scores = model.evaluate(X_train, y_train)\n",
        "print(\"\\n%s: %.2f%%\" % (model.metrics_names[1], scores[1]*100))"
      ],
      "execution_count": 45,
      "outputs": [
        {
          "output_type": "stream",
          "text": [
            "891/891 [==============================] - 0s 93us/step\n",
            "\n",
            "acc: 86.31%\n"
          ],
          "name": "stdout"
        }
      ]
    },
    {
      "metadata": {
        "id": "Ku-pAexPEZtr",
        "colab_type": "code",
        "colab": {
          "base_uri": "https://localhost:8080/",
          "height": 620
        },
        "outputId": "ab4ad13b-9b2e-45ef-e949-6a49d5ccf3e6"
      },
      "cell_type": "code",
      "source": [
        "# summarize history for accuracy\n",
        "plt.plot(training.history['acc'])\n",
        "plt.plot(training.history['val_acc'])\n",
        "plt.title('model accuracy')\n",
        "plt.ylabel('accuracy')\n",
        "plt.xlabel('epoch')\n",
        "plt.legend(['train', 'validation'], loc='upper left')\n",
        "plt.show()"
      ],
      "execution_count": 46,
      "outputs": [
        {
          "output_type": "display_data",
          "data": {
            "image/png": "[encoded data removed]",
            "text/plain": [
              "<matplotlib.figure.Figure at 0x7f49b8d68fd0>"
            ]
          },
          "metadata": {
            "tags": []
          }
        }
      ]
    },
    {
      "metadata": {
        "id": "BXz8mdqWEaZX",
        "colab_type": "code",
        "colab": {}
      },
      "cell_type": "code",
      "source": [
        ""
      ],
      "execution_count": 0,
      "outputs": []
    }
  ]
}