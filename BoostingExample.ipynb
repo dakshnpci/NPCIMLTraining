{
  "nbformat": 4,
  "nbformat_minor": 0,
  "metadata": {
    "colab": {
      "name": "BoostingExample.ipynb",
      "version": "0.3.2",
      "provenance": [],
      "collapsed_sections": [],
      "include_colab_link": true
    },
    "kernelspec": {
      "name": "python3",
      "display_name": "Python 3"
    }
  },
  "cells": [
    {
      "cell_type": "markdown",
      "metadata": {
        "id": "view-in-github",
        "colab_type": "text"
      },
      "source": [
        "<a href=\"https://colab.research.google.com/github/dakshnpci/NPCIMLTraining/blob/master/BoostingExample.ipynb\" target=\"_parent\"><img src=\"https://colab.research.google.com/assets/colab-badge.svg\" alt=\"Open In Colab\"/></a>"
      ]
    },
    {
      "metadata": {
        "id": "Y9eOaoTtnAJG",
        "colab_type": "code",
        "colab": {
          "base_uri": "https://localhost:8080/",
          "height": 88
        },
        "outputId": "6b4202b9-d11a-4e5f-d360-2938d422ae91"
      },
      "cell_type": "code",
      "source": [
        "\n",
        "\n",
        "# First XGBoost model for Pima Indians dataset\n",
        "from numpy import loadtxt\n",
        "from xgboost import XGBClassifier\n",
        "from sklearn.model_selection import train_test_split\n",
        "from sklearn.metrics import accuracy_score\n",
        "# load data\n",
        "dataset = loadtxt('https://gist.githubusercontent.com/ktisha/c21e73a1bd1700294ef790c56c8aec1f/raw/819b69b5736821ccee93d05b51de0510bea00294/pima-indians-diabetes.csv', delimiter=\",\")\n",
        "# split data into X and y\n",
        "X = dataset[:,0:8]\n",
        "Y = dataset[:,8]\n",
        "# split data into train and test sets\n",
        "seed = 7\n",
        "test_size = 0.33\n",
        "X_train, X_test, y_train, y_test = train_test_split(X, Y, test_size=test_size, random_state=seed)\n",
        "# fit model no training data\n",
        "model = XGBClassifier()\n",
        "model.fit(X_train, y_train)\n",
        "# make predictions for test data\n",
        "y_pred = model.predict(X_test)\n",
        "predictions = [round(value) for value in y_pred]\n",
        "# evaluate predictions\n",
        "accuracy = accuracy_score(y_test, predictions)\n",
        "print(\"Accuracy: %.2f%%\" % (accuracy * 100.0))\n"
      ],
      "execution_count": 4,
      "outputs": [
        {
          "output_type": "stream",
          "text": [
            "Accuracy: 77.95%\n"
          ],
          "name": "stdout"
        },
        {
          "output_type": "stream",
          "text": [
            "/usr/local/lib/python3.6/dist-packages/sklearn/preprocessing/label.py:151: DeprecationWarning: The truth value of an empty array is ambiguous. Returning False, but in future this will result in an error. Use `array.size > 0` to check that an array is not empty.\n",
            "  if diff:\n"
          ],
          "name": "stderr"
        }
      ]
    },
    {
      "metadata": {
        "id": "bUietqeN2kNC",
        "colab_type": "code",
        "colab": {}
      },
      "cell_type": "code",
      "source": [
        "import numpy as np                                                 # Implemennts milti-dimensional array and matrices\n",
        "import pandas as pd                                                # For data manipulation and analysis\n",
        "import matplotlib.pyplot as plt                                    # Plotting library for Python programming language and it's numerical mathematics extension NumPy\n",
        "import seaborn as sns                                              # Provides a high level interface for drawing attractive and informative statistical graphics\n",
        "%matplotlib inline\n",
        "sns.set()\n",
        "\n",
        "from subprocess import check_output"
      ],
      "execution_count": 0,
      "outputs": []
    },
    {
      "metadata": {
        "id": "fyj4qtaN2tBC",
        "colab_type": "code",
        "colab": {}
      },
      "cell_type": "code",
      "source": [
        "titanic_data = pd.read_csv(\"https://raw.githubusercontent.com/insaid2018/Term-1/master/Data/Casestudy/titanic_train.csv\")     # Importing training dataset using pd.read_csv\n"
      ],
      "execution_count": 0,
      "outputs": []
    },
    {
      "metadata": {
        "id": "WdQ7DMh55ddb",
        "colab_type": "code",
        "colab": {}
      },
      "cell_type": "code",
      "source": [
        "titanic_data.Embarked = titanic_data.Embarked.fillna(titanic_data['Embarked'].mode()[0])\n",
        "median_age = titanic_data.Age.median()\n",
        "median_fare = titanic_data.Fare.median()\n",
        "titanic_data.Age.fillna(median_age, inplace = True)\n",
        "titanic_data.Fare.fillna(median_fare, inplace = True)"
      ],
      "execution_count": 0,
      "outputs": []
    },
    {
      "metadata": {
        "id": "r0jtRImm52c8",
        "colab_type": "code",
        "colab": {}
      },
      "cell_type": "code",
      "source": [
        "titanic_data.drop('Cabin', axis = 1,inplace = True)"
      ],
      "execution_count": 0,
      "outputs": []
    },
    {
      "metadata": {
        "id": "2uqktiNE56it",
        "colab_type": "code",
        "colab": {
          "base_uri": "https://localhost:8080/",
          "height": 204
        },
        "outputId": "d03d47f1-9e4f-4827-b310-daafcbba2cf4"
      },
      "cell_type": "code",
      "source": [
        "titanic_data['FamilySize'] = titanic_data['SibSp'] + titanic_data['Parch']+1\n",
        "titanic_data['GenderClass'] = titanic_data.apply(lambda x: 'child' if x['Age'] < 15 else x['Sex'],axis=1)\n",
        "titanic_data = pd.get_dummies(titanic_data, columns=['GenderClass','Embarked'], drop_first=True)\n",
        "titanic = titanic_data.drop(['Name','Ticket','Sex','SibSp','Parch'], axis = 1)\n",
        "titanic.head()"
      ],
      "execution_count": 13,
      "outputs": [
        {
          "output_type": "execute_result",
          "data": {
            "text/html": [
              "<div>\n",
              "<style scoped>\n",
              "    .dataframe tbody tr th:only-of-type {\n",
              "        vertical-align: middle;\n",
              "    }\n",
              "\n",
              "    .dataframe tbody tr th {\n",
              "        vertical-align: top;\n",
              "    }\n",
              "\n",
              "    .dataframe thead th {\n",
              "        text-align: right;\n",
              "    }\n",
              "</style>\n",
              "<table border=\"1\" class=\"dataframe\">\n",
              "  <thead>\n",
              "    <tr style=\"text-align: right;\">\n",
              "      <th></th>\n",
              "      <th>PassengerId</th>\n",
              "      <th>Survived</th>\n",
              "      <th>Pclass</th>\n",
              "      <th>Age</th>\n",
              "      <th>Fare</th>\n",
              "      <th>FamilySize</th>\n",
              "      <th>GenderClass_female</th>\n",
              "      <th>GenderClass_male</th>\n",
              "      <th>Embarked_Q</th>\n",
              "      <th>Embarked_S</th>\n",
              "    </tr>\n",
              "  </thead>\n",
              "  <tbody>\n",
              "    <tr>\n",
              "      <th>0</th>\n",
              "      <td>1</td>\n",
              "      <td>0</td>\n",
              "      <td>3</td>\n",
              "      <td>22.0</td>\n",
              "      <td>7.2500</td>\n",
              "      <td>2</td>\n",
              "      <td>0</td>\n",
              "      <td>1</td>\n",
              "      <td>0</td>\n",
              "      <td>1</td>\n",
              "    </tr>\n",
              "    <tr>\n",
              "      <th>1</th>\n",
              "      <td>2</td>\n",
              "      <td>1</td>\n",
              "      <td>1</td>\n",
              "      <td>38.0</td>\n",
              "      <td>71.2833</td>\n",
              "      <td>2</td>\n",
              "      <td>1</td>\n",
              "      <td>0</td>\n",
              "      <td>0</td>\n",
              "      <td>0</td>\n",
              "    </tr>\n",
              "    <tr>\n",
              "      <th>2</th>\n",
              "      <td>3</td>\n",
              "      <td>1</td>\n",
              "      <td>3</td>\n",
              "      <td>26.0</td>\n",
              "      <td>7.9250</td>\n",
              "      <td>1</td>\n",
              "      <td>1</td>\n",
              "      <td>0</td>\n",
              "      <td>0</td>\n",
              "      <td>1</td>\n",
              "    </tr>\n",
              "    <tr>\n",
              "      <th>3</th>\n",
              "      <td>4</td>\n",
              "      <td>1</td>\n",
              "      <td>1</td>\n",
              "      <td>35.0</td>\n",
              "      <td>53.1000</td>\n",
              "      <td>2</td>\n",
              "      <td>1</td>\n",
              "      <td>0</td>\n",
              "      <td>0</td>\n",
              "      <td>1</td>\n",
              "    </tr>\n",
              "    <tr>\n",
              "      <th>4</th>\n",
              "      <td>5</td>\n",
              "      <td>0</td>\n",
              "      <td>3</td>\n",
              "      <td>35.0</td>\n",
              "      <td>8.0500</td>\n",
              "      <td>1</td>\n",
              "      <td>0</td>\n",
              "      <td>1</td>\n",
              "      <td>0</td>\n",
              "      <td>1</td>\n",
              "    </tr>\n",
              "  </tbody>\n",
              "</table>\n",
              "</div>"
            ],
            "text/plain": [
              "   PassengerId  Survived  Pclass   Age     Fare  FamilySize  \\\n",
              "0            1         0       3  22.0   7.2500           2   \n",
              "1            2         1       1  38.0  71.2833           2   \n",
              "2            3         1       3  26.0   7.9250           1   \n",
              "3            4         1       1  35.0  53.1000           2   \n",
              "4            5         0       3  35.0   8.0500           1   \n",
              "\n",
              "   GenderClass_female  GenderClass_male  Embarked_Q  Embarked_S  \n",
              "0                   0                 1           0           1  \n",
              "1                   1                 0           0           0  \n",
              "2                   1                 0           0           1  \n",
              "3                   1                 0           0           1  \n",
              "4                   0                 1           0           1  "
            ]
          },
          "metadata": {
            "tags": []
          },
          "execution_count": 13
        }
      ]
    },
    {
      "metadata": {
        "id": "lExWDAkh6Vja",
        "colab_type": "code",
        "colab": {
          "base_uri": "https://localhost:8080/",
          "height": 204
        },
        "outputId": "8266ade6-bc06-4dbd-c679-018f9697fe0c"
      },
      "cell_type": "code",
      "source": [
        "X = titanic.loc[:,titanic.columns != 'Survived']\n",
        "y = titanic.Survived \n",
        "X.head()"
      ],
      "execution_count": 15,
      "outputs": [
        {
          "output_type": "execute_result",
          "data": {
            "text/html": [
              "<div>\n",
              "<style scoped>\n",
              "    .dataframe tbody tr th:only-of-type {\n",
              "        vertical-align: middle;\n",
              "    }\n",
              "\n",
              "    .dataframe tbody tr th {\n",
              "        vertical-align: top;\n",
              "    }\n",
              "\n",
              "    .dataframe thead th {\n",
              "        text-align: right;\n",
              "    }\n",
              "</style>\n",
              "<table border=\"1\" class=\"dataframe\">\n",
              "  <thead>\n",
              "    <tr style=\"text-align: right;\">\n",
              "      <th></th>\n",
              "      <th>PassengerId</th>\n",
              "      <th>Pclass</th>\n",
              "      <th>Age</th>\n",
              "      <th>Fare</th>\n",
              "      <th>FamilySize</th>\n",
              "      <th>GenderClass_female</th>\n",
              "      <th>GenderClass_male</th>\n",
              "      <th>Embarked_Q</th>\n",
              "      <th>Embarked_S</th>\n",
              "    </tr>\n",
              "  </thead>\n",
              "  <tbody>\n",
              "    <tr>\n",
              "      <th>0</th>\n",
              "      <td>1</td>\n",
              "      <td>3</td>\n",
              "      <td>22.0</td>\n",
              "      <td>7.2500</td>\n",
              "      <td>2</td>\n",
              "      <td>0</td>\n",
              "      <td>1</td>\n",
              "      <td>0</td>\n",
              "      <td>1</td>\n",
              "    </tr>\n",
              "    <tr>\n",
              "      <th>1</th>\n",
              "      <td>2</td>\n",
              "      <td>1</td>\n",
              "      <td>38.0</td>\n",
              "      <td>71.2833</td>\n",
              "      <td>2</td>\n",
              "      <td>1</td>\n",
              "      <td>0</td>\n",
              "      <td>0</td>\n",
              "      <td>0</td>\n",
              "    </tr>\n",
              "    <tr>\n",
              "      <th>2</th>\n",
              "      <td>3</td>\n",
              "      <td>3</td>\n",
              "      <td>26.0</td>\n",
              "      <td>7.9250</td>\n",
              "      <td>1</td>\n",
              "      <td>1</td>\n",
              "      <td>0</td>\n",
              "      <td>0</td>\n",
              "      <td>1</td>\n",
              "    </tr>\n",
              "    <tr>\n",
              "      <th>3</th>\n",
              "      <td>4</td>\n",
              "      <td>1</td>\n",
              "      <td>35.0</td>\n",
              "      <td>53.1000</td>\n",
              "      <td>2</td>\n",
              "      <td>1</td>\n",
              "      <td>0</td>\n",
              "      <td>0</td>\n",
              "      <td>1</td>\n",
              "    </tr>\n",
              "    <tr>\n",
              "      <th>4</th>\n",
              "      <td>5</td>\n",
              "      <td>3</td>\n",
              "      <td>35.0</td>\n",
              "      <td>8.0500</td>\n",
              "      <td>1</td>\n",
              "      <td>0</td>\n",
              "      <td>1</td>\n",
              "      <td>0</td>\n",
              "      <td>1</td>\n",
              "    </tr>\n",
              "  </tbody>\n",
              "</table>\n",
              "</div>"
            ],
            "text/plain": [
              "   PassengerId  Pclass   Age     Fare  FamilySize  GenderClass_female  \\\n",
              "0            1       3  22.0   7.2500           2                   0   \n",
              "1            2       1  38.0  71.2833           2                   1   \n",
              "2            3       3  26.0   7.9250           1                   1   \n",
              "3            4       1  35.0  53.1000           2                   1   \n",
              "4            5       3  35.0   8.0500           1                   0   \n",
              "\n",
              "   GenderClass_male  Embarked_Q  Embarked_S  \n",
              "0                 1           0           1  \n",
              "1                 0           0           0  \n",
              "2                 0           0           1  \n",
              "3                 0           0           1  \n",
              "4                 1           0           1  "
            ]
          },
          "metadata": {
            "tags": []
          },
          "execution_count": 15
        }
      ]
    },
    {
      "metadata": {
        "id": "LFxpopfb6cfK",
        "colab_type": "code",
        "colab": {
          "base_uri": "https://localhost:8080/",
          "height": 71
        },
        "outputId": "8e1c26bc-4e0f-4a3b-caf0-d22b21724d13"
      },
      "cell_type": "code",
      "source": [
        "from sklearn.cross_validation import train_test_split\n",
        "X_train, X_test, y_train, y_test = train_test_split(X, y, test_size=0.20, random_state=1)\n"
      ],
      "execution_count": 16,
      "outputs": [
        {
          "output_type": "stream",
          "text": [
            "/usr/local/lib/python3.6/dist-packages/sklearn/cross_validation.py:41: DeprecationWarning: This module was deprecated in version 0.18 in favor of the model_selection module into which all the refactored classes and functions are moved. Also note that the interface of the new CV iterators are different from that of this module. This module will be removed in 0.20.\n",
            "  \"This module will be removed in 0.20.\", DeprecationWarning)\n"
          ],
          "name": "stderr"
        }
      ]
    },
    {
      "metadata": {
        "id": "PYBwLyQo6h2P",
        "colab_type": "code",
        "colab": {
          "base_uri": "https://localhost:8080/",
          "height": 85
        },
        "outputId": "bbda61c0-5a8d-43db-bf47-6de10850db74"
      },
      "cell_type": "code",
      "source": [
        "from sklearn.ensemble import RandomForestClassifier\n",
        "model1 = RandomForestClassifier(random_state = 0,\n",
        "                                n_estimators = 15,\n",
        "                                min_samples_split = 2,\n",
        "                                min_samples_leaf = 1)\n",
        "\n",
        "model1.fit(X_train, y_train)\n",
        "y_pred_test = model1.predict(X_test)\n",
        "from sklearn.metrics import accuracy_score\n",
        "print('Accuracy score for test data using the model with parameter specification:', accuracy_score(y_test,y_pred_test1))\n",
        "\n",
        "from sklearn.metrics import confusion_matrix\n",
        "\n",
        "confusion_matrix = pd.DataFrame(confusion_matrix(y_test, y_pred_test))\n",
        "\n",
        "confusion_matrix.index = ['Actual Died','Actual Survived']\n",
        "confusion_matrix.columns = ['Predicted Died','Predicted Survived']\n",
        "print(confusion_matrix)\n"
      ],
      "execution_count": 18,
      "outputs": [
        {
          "output_type": "stream",
          "text": [
            "Accuracy score for test data using the model with parameter specification: 0.7932960893854749\n",
            "                 Predicted Died  Predicted Survived\n",
            "Actual Died                  96                  10\n",
            "Actual Survived              27                  46\n"
          ],
          "name": "stdout"
        }
      ]
    },
    {
      "metadata": {
        "id": "L2VFRmYx7EkG",
        "colab_type": "code",
        "colab": {
          "base_uri": "https://localhost:8080/",
          "height": 139
        },
        "outputId": "897ba495-9fe2-4666-f823-fc26a299e0dd"
      },
      "cell_type": "code",
      "source": [
        "from xgboost import XGBClassifier\n",
        "model1 = XGBClassifier()\n",
        "model1.fit(X_train, y_train)\n",
        "y_pred_test = model1.predict(X_test)\n",
        "from sklearn.metrics import accuracy_score\n",
        "print('Accuracy score for test data using the model with parameter specification:', accuracy_score(y_test,y_pred_test1))\n",
        "\n",
        "from sklearn.metrics import confusion_matrix\n",
        "\n",
        "confusion_matrix = pd.DataFrame(confusion_matrix(y_test, y_pred_test))\n",
        "\n",
        "confusion_matrix.index = ['Actual Died','Actual Survived']\n",
        "confusion_matrix.columns = ['Predicted Died','Predicted Survived']\n",
        "print(confusion_matrix)\n",
        "\n"
      ],
      "execution_count": 19,
      "outputs": [
        {
          "output_type": "stream",
          "text": [
            "Accuracy score for test data using the model with parameter specification: 0.7932960893854749\n",
            "                 Predicted Died  Predicted Survived\n",
            "Actual Died                  97                   9\n",
            "Actual Survived              28                  45\n"
          ],
          "name": "stdout"
        },
        {
          "output_type": "stream",
          "text": [
            "/usr/local/lib/python3.6/dist-packages/sklearn/preprocessing/label.py:151: DeprecationWarning: The truth value of an empty array is ambiguous. Returning False, but in future this will result in an error. Use `array.size > 0` to check that an array is not empty.\n",
            "  if diff:\n"
          ],
          "name": "stderr"
        }
      ]
    },
    {
      "metadata": {
        "id": "dC5R2wAY7prX",
        "colab_type": "code",
        "colab": {
          "base_uri": "https://localhost:8080/",
          "height": 139
        },
        "outputId": "c5516a53-39a8-4138-b2b5-01632a0cdd70"
      },
      "cell_type": "code",
      "source": [
        "from sklearn import preprocessing\n",
        "from sklearn import cross_validation\n",
        "from sklearn.model_selection import KFold\n",
        "from sklearn.feature_selection import RFECV\n",
        "from sklearn.grid_search import GridSearchCV\n",
        "from sklearn.ensemble import GradientBoostingClassifier\n",
        "model1 = GradientBoostingClassifier()\n",
        "model1.fit(X_train, y_train)\n",
        "y_pred_test = model1.predict(X_test)\n",
        "from sklearn.metrics import accuracy_score\n",
        "print('Accuracy score for test data using the model with parameter specification:', accuracy_score(y_test,y_pred_test1))\n",
        "\n",
        "from sklearn.metrics import confusion_matrix\n",
        "\n",
        "confusion_matrix = pd.DataFrame(confusion_matrix(y_test, y_pred_test))\n",
        "\n",
        "confusion_matrix.index = ['Actual Died','Actual Survived']\n",
        "confusion_matrix.columns = ['Predicted Died','Predicted Survived']\n",
        "print(confusion_matrix)"
      ],
      "execution_count": 23,
      "outputs": [
        {
          "output_type": "stream",
          "text": [
            "Accuracy score for test data using the model with parameter specification: 0.7932960893854749\n",
            "                 Predicted Died  Predicted Survived\n",
            "Actual Died                  97                   9\n",
            "Actual Survived              28                  45\n"
          ],
          "name": "stdout"
        },
        {
          "output_type": "stream",
          "text": [
            "/usr/local/lib/python3.6/dist-packages/sklearn/grid_search.py:42: DeprecationWarning: This module was deprecated in version 0.18 in favor of the model_selection module into which all the refactored classes and functions are moved. This module will be removed in 0.20.\n",
            "  DeprecationWarning)\n"
          ],
          "name": "stderr"
        }
      ]
    },
    {
      "metadata": {
        "id": "IGrRrgVG_C2G",
        "colab_type": "code",
        "colab": {}
      },
      "cell_type": "code",
      "source": [
        " #!/usr/bin/env python -W ignore::DeprecationWarning\n",
        " \n",
        "import numpy as np                                                 # Implemennts milti-dimensional array and matrices\n",
        "import pandas as pd                                                # For data manipulation and analysis\n",
        "import matplotlib.pyplot as plt                                    # Plotting library for Python programming language and it's numerical mathematics extension NumPy\n",
        "import seaborn as sns                                              # Provides a high level interface for drawing attractive and informative statistical graphics\n",
        "%matplotlib inline\n",
        "sns.set()\n",
        "\n",
        "from subprocess import check_output\n",
        "titanic_data = pd.read_csv(\"https://raw.githubusercontent.com/insaid2018/Term-1/master/Data/Casestudy/titanic_train.csv\")     # Importing training dataset using pd.read_csv\n",
        "\n",
        "titanic_data.Embarked = titanic_data.Embarked.fillna(titanic_data['Embarked'].mode()[0])\n",
        "median_age = titanic_data.Age.median()\n",
        "median_fare = titanic_data.Fare.median()\n",
        "titanic_data.Age.fillna(median_age, inplace = True)\n",
        "titanic_data.drop('Cabin', axis = 1,inplace = True)\n",
        "titanic_data.Fare.fillna(median_fare, inplace = True)\n",
        "titanic_data['FamilySize'] = titanic_data['SibSp'] + titanic_data['Parch']+1\n",
        "titanic_data['GenderClass'] = titanic_data.apply(lambda x: 'child' if x['Age'] < 15 else x['Sex'],axis=1)\n",
        "titanic_data = pd.get_dummies(titanic_data, columns=['GenderClass','Embarked'], drop_first=True)\n",
        "titanic = titanic_data.drop(['Name','Ticket','Sex','SibSp','Parch'], axis = 1)\n",
        "titanic.head()\n",
        "X = titanic.loc[:,titanic.columns != 'Survived']\n",
        "y = titanic.Survived \n",
        "# X.head()\n",
        "\n",
        "from sklearn.cross_validation import train_test_split\n",
        "X_train, X_test, y_train, y_test = train_test_split(X, y, test_size=0.20, random_state=1)\n",
        "\n",
        "# print(X_train)\n",
        "# print(len(X_train))\n",
        "# print(len(y_train))\n",
        "import warnings\n",
        "warnings.filterwarnings(\"ignore\", category=DeprecationWarning) \n",
        "    \n",
        "from sklearn import preprocessing\n",
        "from sklearn import cross_validation\n",
        "from sklearn.model_selection import KFold\n",
        "from sklearn.feature_selection import RFECV\n",
        "from sklearn.grid_search import GridSearchCV\n",
        "from xgboost import XGBClassifier\n",
        "from sklearn.metrics import accuracy_score\n",
        "\n",
        "clf = XGBClassifier(silent=True)\n",
        "cv = cross_validation.KFold(len(X), n_folds=20, shuffle=True, random_state=1)\n",
        "\n",
        "# # Grid 1\n",
        "# grid = {'learning_rate':[0, 0.01], \n",
        "#         'n_estimators': [100, 200, 500,1000],\n",
        "#         'max_depth':[3, 4, 5,10], \n",
        "#         'booster':['gbtree', 'gblinear', 'dart']\n",
        "# #        'reg_lambda':[0, 0.01, 0.10, 0.50, 1]\n",
        "#        }\n",
        "\n",
        "# Grid 2\n",
        "\n",
        "grid = {'learning_rate':[ 0.01], \n",
        "        'n_estimators': [200],\n",
        "        'max_depth':[4,30], \n",
        "        'booster':['gbtree'],\n",
        "       'reg_lambda':[0, 0.01]\n",
        "       }\n",
        "\n",
        "# scores = cross_validation.cross_val_score(clf, X, y, cv=cv, n_jobs=1, scoring='accuracy')\n",
        "search = GridSearchCV(estimator=clf, param_grid=grid, scoring='accuracy', n_jobs=-1, refit=True, cv=cv)\n",
        "# search.fit(X_train,y_train)\n",
        "search.fit(X,y)\n",
        "\n",
        "y_pred_test = search.predict(X_test)\n",
        "print('Accuracy score for test data using the model with parameter specification:', accuracy_score(y_test,y_pred_test))\n",
        "\n",
        "from sklearn.metrics import confusion_matrix\n",
        "\n",
        "confusion_matrix = pd.DataFrame(confusion_matrix(y_test, y_pred_test))\n",
        "\n",
        "confusion_matrix.index = ['Actual Died','Actual Survived']\n",
        "confusion_matrix.columns = ['Predicted Died','Predicted Survived']\n",
        "print(confusion_matrix)\n",
        "search.best_estimator_\n"
      ],
      "execution_count": 0,
      "outputs": []
    },
    {
      "metadata": {
        "id": "gBy6EiTzIFIb",
        "colab_type": "code",
        "colab": {}
      },
      "cell_type": "code",
      "source": [
        "def detect_outliers(df,n,features):\n",
        "    \"\"\"\n",
        "    Takes a dataframe df of features and returns a list of the indices\n",
        "    corresponding to the observations containing more than n outliers according\n",
        "    to the Tukey method.\n",
        "    \"\"\"\n",
        "    outlier_indices = []\n",
        "    \n",
        "    # iterate over features(columns)\n",
        "    for col in features:\n",
        "        # 1st quartile (25%)\n",
        "        Q1 = np.percentile(df[col], 25)\n",
        "        # 3rd quartile (75%)\n",
        "        Q3 = np.percentile(df[col],75)\n",
        "        # Interquartile range (IQR)\n",
        "        IQR = Q3 - Q1\n",
        "        \n",
        "        # outlier step\n",
        "        outlier_step = 1.5 * IQR\n",
        "        \n",
        "        # Determine a list of indices of outliers for feature col\n",
        "        outlier_list_col = df[(df[col] < Q1 - outlier_step) | (df[col] > Q3 + outlier_step )].index\n",
        "        \n",
        "        # append the found outlier indices for col to the list of outlier indices \n",
        "        outlier_indices.extend(outlier_list_col)\n",
        "        \n",
        "    # select observations containing more than 2 outliers\n",
        "    outlier_indices = Counter(outlier_indices)        \n",
        "    multiple_outliers = list( k for k, v in outlier_indices.items() if v > n )\n",
        "    \n",
        "    return multiple_outliers   \n",
        "\n",
        "# detect outliers from Age, SibSp , Parch and Fare"
      ],
      "execution_count": 0,
      "outputs": []
    },
    {
      "metadata": {
        "id": "5Rxfv7K2469j",
        "colab_type": "code",
        "colab": {
          "base_uri": "https://localhost:8080/",
          "height": 4896
        },
        "outputId": "04a156cd-9f53-4649-a712-5d3e5b300cdf"
      },
      "cell_type": "code",
      "source": [
        "#!/usr/bin/env python -W ignore::DeprecationWarning\n",
        " \n",
        "import numpy as np                                                 # Implemennts milti-dimensional array and matrices\n",
        "import pandas as pd                                                # For data manipulation and analysis\n",
        "import matplotlib.pyplot as plt                                    # Plotting library for Python programming language and it's numerical mathematics extension NumPy\n",
        "import seaborn as sns                                              # Provides a high level interface for drawing attractive and informative statistical graphics\n",
        "%matplotlib inline\n",
        "sns.set()\n",
        "from collections import Counter\n",
        "from subprocess import check_output\n",
        "titanic_data = pd.read_csv(\"https://raw.githubusercontent.com/insaid2018/Term-1/master/Data/Casestudy/titanic_train.csv\")     # Importing training dataset using pd.read_csv\n",
        "\n",
        "# Get the outlier out (2 per column)\n",
        "Outliers_to_drop = detect_outliers(titanic_data,2,[\"Age\",\"SibSp\",\"Parch\",\"Fare\"])\n",
        "# print(titanic_data.loc[Outliers_to_drop]) # Show the outliers rows)\n",
        "titanic_data = titanic_data.drop(Outliers_to_drop, axis = 0).reset_index(drop=True)\n",
        "\n",
        "# Get the title from name\n",
        "# Get Title from Name\n",
        "titanic_data_title = [i.split(\",\")[1].split(\".\")[0].strip() for i in titanic_data[\"Name\"]]\n",
        "titanic_data[\"Title\"] = pd.Series(titanic_data_title)\n",
        "\n",
        "\n",
        "# Convert to categorical values Title \n",
        "titanic_data[\"Title\"] = titanic_data[\"Title\"].replace(['Lady', 'the Countess','Countess','Capt', 'Col','Don', 'Dr', 'Major', 'Rev', 'Sir', 'Jonkheer', 'Dona'], 'Rare')\n",
        "titanic_data[\"Title\"] = titanic_data[\"Title\"].map({\"Master\":0, \"Miss\":1, \"Ms\" : 1 , \"Mme\":1, \"Mlle\":1, \"Mrs\":1, \"Mr\":2, \"Rare\":3})\n",
        "titanic_data[\"Title\"] = titanic_data[\"Title\"].astype(int)\n",
        "\n",
        "# Add Cabin Details \n",
        "titanic_data[\"Cabin\"] = pd.Series([i[0] if not pd.isnull(i) else 'X' for i in titanic_data['Cabin'] ])\n",
        "titanic_data = pd.get_dummies(titanic_data, columns = [\"Cabin\"],prefix=\"Cabin\")\n",
        "\n",
        "titanic_data.Embarked = titanic_data.Embarked.fillna(titanic_data['Embarked'].mode()[0])\n",
        "median_age = titanic_data.Age.median()\n",
        "median_fare = titanic_data.Fare.median()\n",
        "titanic_data.Age.fillna(median_age, inplace = True)\n",
        "# titanic_data.drop('Cabin', axis = 1,inplace = True)\n",
        "titanic_data.Fare.fillna(median_fare, inplace = True)\n",
        "titanic_data['FamilySize'] = titanic_data['SibSp'] + titanic_data['Parch']+1\n",
        "titanic_data['GenderClass'] = titanic_data.apply(lambda x: 'child' if x['Age'] < 15 else x['Sex'],axis=1)\n",
        "titanic_data = pd.get_dummies(titanic_data, columns=['GenderClass','Embarked'], drop_first=True)\n",
        "titanic = titanic_data.drop(['Name','Ticket','Sex','SibSp','Parch'], axis = 1)\n",
        "titanic.head()\n",
        "X = titanic.loc[:,titanic.columns != 'Survived']\n",
        "y = titanic.Survived \n",
        "# X.head()\n",
        "\n",
        "from sklearn.cross_validation import train_test_split\n",
        "X_train, X_test, y_train, y_test = train_test_split(X, y, test_size=0.20, random_state=1)\n",
        "\n",
        "# print(X_train)\n",
        "# print(len(X_train))\n",
        "# print(len(y_train))\n",
        "import warnings\n",
        "warnings.filterwarnings(\"ignore\", category=DeprecationWarning) \n",
        "    \n",
        "from sklearn import preprocessing\n",
        "from sklearn import cross_validation\n",
        "from sklearn.model_selection import KFold\n",
        "from sklearn.feature_selection import RFECV\n",
        "from sklearn.grid_search import GridSearchCV\n",
        "from xgboost import XGBClassifier\n",
        "from sklearn.ensemble import GradientBoostingClassifier\n",
        "from sklearn.metrics import accuracy_score\n",
        "from sklearn.model_selection import StratifiedKFold\n",
        "\n",
        "\n",
        "# clf = GradientBoostingClassifier()\n",
        "clf =  XGBClassifier(silent=True)\n",
        "cv = cross_validation.KFold(len(X), n_folds=20, shuffle=True, random_state=1)\n",
        "# cv = StratifiedKFold(n_splits=10)\n",
        "\n",
        "# Grid 1\n",
        "# grid = { 'loss': ['deviance'],\n",
        "#         'learning_rate':[0.01], \n",
        "#         'n_estimators': [500],\n",
        "#             'max_depth':[5], \n",
        "# #         'booster':['gbtree', 'gblinear', 'dart']\n",
        "# #        'reg_lambda':[0, 0.01, 0.10, 0.50, 1]\n",
        "#        }\n",
        "\n",
        "# Grid 2\n",
        "\n",
        "grid = {'learning_rate':[ 0.01], \n",
        "        'n_estimators': [200],\n",
        "        'max_depth':[4], \n",
        "        'booster':['gbtree']\n",
        "       }\n",
        "\n",
        "# scores = cross_validation.cross_val_score(clf, X, y, cv=cv, n_jobs=1, scoring='accuracy')\n",
        "search = GridSearchCV(estimator=clf, param_grid=grid, scoring='accuracy', n_jobs=-1, refit=True, cv=cv)\n",
        "# search.fit(X_train,y_train)\n",
        "search.fit(X,y)\n",
        "\n",
        "y_pred_test = search.predict(X_test)\n",
        "\n",
        "print('Accuracy score for XGBBOost Algorithm before Stacking test data using the model with parameter specification:', accuracy_score(y_test,y_pred_test))\n",
        "\n",
        "from sklearn.metrics import confusion_matrix\n",
        "\n",
        "confusion_matrix = pd.DataFrame(confusion_matrix(y_test, y_pred_test))\n",
        "\n",
        "confusion_matrix.index = ['Actual Died','Actual Survived']\n",
        "confusion_matrix.columns = ['Predicted Died','Predicted Survived']\n",
        "print(confusion_matrix)\n",
        "print(search.best_estimator_)\n",
        "\n",
        "\n",
        "X_train['XGboosttAnswers'] = search.predict(X_train)\n",
        "X_test['XGboosttAnswers'] = search.predict(X_test)\n",
        "X['XGboosttAnswers'] = search.predict(X)\n",
        "\n",
        "#========================================================Addddingggg XGBOOST values to GBM==================================================\n",
        "# print(X_train)\n",
        "# print(len(X_train))\n",
        "# print(len(y_train))\n",
        "import warnings\n",
        "warnings.filterwarnings(\"ignore\", category=DeprecationWarning) \n",
        "    \n",
        "from sklearn import preprocessing\n",
        "from sklearn import cross_validation\n",
        "from sklearn.model_selection import KFold\n",
        "from sklearn.feature_selection import RFECV\n",
        "from sklearn.grid_search import GridSearchCV\n",
        "from xgboost import XGBClassifier\n",
        "from sklearn.ensemble import GradientBoostingClassifier\n",
        "from sklearn.metrics import accuracy_score\n",
        "from sklearn.model_selection import StratifiedKFold\n",
        "\n",
        "\n",
        "clf = GradientBoostingClassifier()\n",
        "# clf =  XGBClassifier(silent=True)\n",
        "cv = cross_validation.KFold(len(X), n_folds=30, shuffle=True, random_state=1)\n",
        "# cv = StratifiedKFold(n_splits=10)\n",
        "\n",
        "# Grid 1\n",
        "grid = { 'loss': ['deviance'],\n",
        "        'learning_rate':[0.01], \n",
        "        'n_estimators': [500],\n",
        "            'max_depth':[5], \n",
        "#         'booster':['gbtree', 'gblinear', 'dart']\n",
        "#        'reg_lambda':[0, 0.01, 0.10, 0.50, 1]\n",
        "       }\n",
        "\n",
        "# # Grid 2\n",
        "\n",
        "# grid = {'learning_rate':[ 0.01], \n",
        "#         'n_estimators': [200],\n",
        "#         'max_depth':[4], \n",
        "#         'booster':['gbtree']\n",
        "#        }\n",
        "\n",
        "# scores = cross_validation.cross_val_score(clf, X, y, cv=cv, n_jobs=1, scoring='accuracy')\n",
        "search = GridSearchCV(estimator=clf, param_grid=grid, scoring='accuracy', n_jobs=-1, refit=True, cv=cv)\n",
        "# search.fit(X_train,y_train)\n",
        "search.fit(X,y)\n",
        "\n",
        "y_pred_test = search.predict(X_test)\n",
        "\n",
        "print('Accuracy score for GBM Algorithm After having XGBoost Datra using the model with parameter specification:', accuracy_score(y_test,y_pred_test))\n",
        "\n",
        "from sklearn.metrics import confusion_matrix\n",
        "\n",
        "confusion_matrix = pd.DataFrame(confusion_matrix(y_test, y_pred_test))\n",
        "\n",
        "confusion_matrix.index = ['Actual Died','Actual Survived']\n",
        "confusion_matrix.columns = ['Predicted Died','Predicted Survived']\n",
        "print(confusion_matrix)\n",
        "print(search.best_estimator_)\n",
        "print(X)\n"
      ],
      "execution_count": 55,
      "outputs": [
        {
          "output_type": "stream",
          "text": [
            "/usr/local/lib/python3.6/dist-packages/numpy/lib/function_base.py:4291: RuntimeWarning: Invalid value encountered in percentile\n",
            "  interpolation=interpolation)\n"
          ],
          "name": "stderr"
        },
        {
          "output_type": "stream",
          "text": [
            "Accuracy score for XGBBOost Algorithm before Stacking test data using the model with parameter specification: 0.8700564971751412\n",
            "                 Predicted Died  Predicted Survived\n",
            "Actual Died                  90                  13\n",
            "Actual Survived              10                  64\n",
            "XGBClassifier(base_score=0.5, booster='gbtree', colsample_bylevel=1,\n",
            "       colsample_bytree=1, gamma=0, learning_rate=0.01, max_delta_step=0,\n",
            "       max_depth=4, min_child_weight=1, missing=None, n_estimators=200,\n",
            "       n_jobs=1, nthread=None, objective='binary:logistic', random_state=0,\n",
            "       reg_alpha=0, reg_lambda=1, scale_pos_weight=1, seed=None,\n",
            "       silent=True, subsample=1)\n"
          ],
          "name": "stdout"
        },
        {
          "output_type": "stream",
          "text": [
            "/usr/local/lib/python3.6/dist-packages/ipykernel_launcher.py:108: SettingWithCopyWarning: \n",
            "A value is trying to be set on a copy of a slice from a DataFrame.\n",
            "Try using .loc[row_indexer,col_indexer] = value instead\n",
            "\n",
            "See the caveats in the documentation: http://pandas.pydata.org/pandas-docs/stable/indexing.html#indexing-view-versus-copy\n",
            "/usr/local/lib/python3.6/dist-packages/ipykernel_launcher.py:109: SettingWithCopyWarning: \n",
            "A value is trying to be set on a copy of a slice from a DataFrame.\n",
            "Try using .loc[row_indexer,col_indexer] = value instead\n",
            "\n",
            "See the caveats in the documentation: http://pandas.pydata.org/pandas-docs/stable/indexing.html#indexing-view-versus-copy\n"
          ],
          "name": "stderr"
        },
        {
          "output_type": "stream",
          "text": [
            "Accuracy score for GBM Algorithm After having XGBoost Datra using the model with parameter specification: 0.9209039548022598\n",
            "                 Predicted Died  Predicted Survived\n",
            "Actual Died                  97                   6\n",
            "Actual Survived               8                  66\n",
            "GradientBoostingClassifier(criterion='friedman_mse', init=None,\n",
            "              learning_rate=0.01, loss='deviance', max_depth=5,\n",
            "              max_features=None, max_leaf_nodes=None,\n",
            "              min_impurity_decrease=0.0, min_impurity_split=None,\n",
            "              min_samples_leaf=1, min_samples_split=2,\n",
            "              min_weight_fraction_leaf=0.0, n_estimators=500,\n",
            "              presort='auto', random_state=None, subsample=1.0, verbose=0,\n",
            "              warm_start=False)\n",
            "     PassengerId  Pclass   Age     Fare  Title  Cabin_A  Cabin_B  Cabin_C  \\\n",
            "0              1       3  22.0   7.2500      2        0        0        0   \n",
            "1              2       1  38.0  71.2833      1        0        0        1   \n",
            "2              3       3  26.0   7.9250      1        0        0        0   \n",
            "3              4       1  35.0  53.1000      1        0        0        1   \n",
            "4              5       3  35.0   8.0500      2        0        0        0   \n",
            "5              6       3  28.0   8.4583      2        0        0        0   \n",
            "6              7       1  54.0  51.8625      2        0        0        0   \n",
            "7              8       3   2.0  21.0750      0        0        0        0   \n",
            "8              9       3  27.0  11.1333      1        0        0        0   \n",
            "9             10       2  14.0  30.0708      1        0        0        0   \n",
            "10            11       3   4.0  16.7000      1        0        0        0   \n",
            "11            12       1  58.0  26.5500      1        0        0        1   \n",
            "12            13       3  20.0   8.0500      2        0        0        0   \n",
            "13            14       3  39.0  31.2750      2        0        0        0   \n",
            "14            15       3  14.0   7.8542      1        0        0        0   \n",
            "15            16       2  55.0  16.0000      1        0        0        0   \n",
            "16            17       3   2.0  29.1250      0        0        0        0   \n",
            "17            18       2  28.0  13.0000      2        0        0        0   \n",
            "18            19       3  31.0  18.0000      1        0        0        0   \n",
            "19            20       3  28.0   7.2250      1        0        0        0   \n",
            "20            21       2  35.0  26.0000      2        0        0        0   \n",
            "21            22       2  34.0  13.0000      2        0        0        0   \n",
            "22            23       3  15.0   8.0292      1        0        0        0   \n",
            "23            24       1  28.0  35.5000      2        1        0        0   \n",
            "24            25       3   8.0  21.0750      1        0        0        0   \n",
            "25            26       3  38.0  31.3875      1        0        0        0   \n",
            "26            27       3  28.0   7.2250      2        0        0        0   \n",
            "27            29       3  28.0   7.8792      1        0        0        0   \n",
            "28            30       3  28.0   7.8958      2        0        0        0   \n",
            "29            31       1  40.0  27.7208      3        0        0        0   \n",
            "..           ...     ...   ...      ...    ...      ...      ...      ...   \n",
            "851          861       3  41.0  14.1083      2        0        0        0   \n",
            "852          862       2  21.0  11.5000      2        0        0        0   \n",
            "853          863       1  48.0  25.9292      1        0        0        0   \n",
            "854          865       2  24.0  13.0000      2        0        0        0   \n",
            "855          866       2  42.0  13.0000      1        0        0        0   \n",
            "856          867       2  27.0  13.8583      1        0        0        0   \n",
            "857          868       1  31.0  50.4958      2        1        0        0   \n",
            "858          869       3  28.0   9.5000      2        0        0        0   \n",
            "859          870       3   4.0  11.1333      0        0        0        0   \n",
            "860          871       3  26.0   7.8958      2        0        0        0   \n",
            "861          872       1  47.0  52.5542      1        0        0        0   \n",
            "862          873       1  33.0   5.0000      2        0        1        0   \n",
            "863          874       3  47.0   9.0000      2        0        0        0   \n",
            "864          875       2  28.0  24.0000      1        0        0        0   \n",
            "865          876       3  15.0   7.2250      1        0        0        0   \n",
            "866          877       3  20.0   9.8458      2        0        0        0   \n",
            "867          878       3  19.0   7.8958      2        0        0        0   \n",
            "868          879       3  28.0   7.8958      2        0        0        0   \n",
            "869          880       1  56.0  83.1583      1        0        0        1   \n",
            "870          881       2  25.0  26.0000      1        0        0        0   \n",
            "871          882       3  33.0   7.8958      2        0        0        0   \n",
            "872          883       3  22.0  10.5167      1        0        0        0   \n",
            "873          884       2  28.0  10.5000      2        0        0        0   \n",
            "874          885       3  25.0   7.0500      2        0        0        0   \n",
            "875          886       3  39.0  29.1250      1        0        0        0   \n",
            "876          887       2  27.0  13.0000      3        0        0        0   \n",
            "877          888       1  19.0  30.0000      1        0        1        0   \n",
            "878          889       3  28.0  23.4500      1        0        0        0   \n",
            "879          890       1  26.0  30.0000      2        0        0        1   \n",
            "880          891       3  32.0   7.7500      2        0        0        0   \n",
            "\n",
            "     Cabin_D  Cabin_E  Cabin_F  Cabin_G  Cabin_T  Cabin_X  FamilySize  \\\n",
            "0          0        0        0        0        0        1           2   \n",
            "1          0        0        0        0        0        0           2   \n",
            "2          0        0        0        0        0        1           1   \n",
            "3          0        0        0        0        0        0           2   \n",
            "4          0        0        0        0        0        1           1   \n",
            "5          0        0        0        0        0        1           1   \n",
            "6          0        1        0        0        0        0           1   \n",
            "7          0        0        0        0        0        1           5   \n",
            "8          0        0        0        0        0        1           3   \n",
            "9          0        0        0        0        0        1           2   \n",
            "10         0        0        0        1        0        0           3   \n",
            "11         0        0        0        0        0        0           1   \n",
            "12         0        0        0        0        0        1           1   \n",
            "13         0        0        0        0        0        1           7   \n",
            "14         0        0        0        0        0        1           1   \n",
            "15         0        0        0        0        0        1           1   \n",
            "16         0        0        0        0        0        1           6   \n",
            "17         0        0        0        0        0        1           1   \n",
            "18         0        0        0        0        0        1           2   \n",
            "19         0        0        0        0        0        1           1   \n",
            "20         0        0        0        0        0        1           1   \n",
            "21         1        0        0        0        0        0           1   \n",
            "22         0        0        0        0        0        1           1   \n",
            "23         0        0        0        0        0        0           1   \n",
            "24         0        0        0        0        0        1           5   \n",
            "25         0        0        0        0        0        1           7   \n",
            "26         0        0        0        0        0        1           1   \n",
            "27         0        0        0        0        0        1           1   \n",
            "28         0        0        0        0        0        1           1   \n",
            "29         0        0        0        0        0        1           1   \n",
            "..       ...      ...      ...      ...      ...      ...         ...   \n",
            "851        0        0        0        0        0        1           3   \n",
            "852        0        0        0        0        0        1           2   \n",
            "853        1        0        0        0        0        0           1   \n",
            "854        0        0        0        0        0        1           1   \n",
            "855        0        0        0        0        0        1           1   \n",
            "856        0        0        0        0        0        1           2   \n",
            "857        0        0        0        0        0        0           1   \n",
            "858        0        0        0        0        0        1           1   \n",
            "859        0        0        0        0        0        1           3   \n",
            "860        0        0        0        0        0        1           1   \n",
            "861        1        0        0        0        0        0           3   \n",
            "862        0        0        0        0        0        0           1   \n",
            "863        0        0        0        0        0        1           1   \n",
            "864        0        0        0        0        0        1           2   \n",
            "865        0        0        0        0        0        1           1   \n",
            "866        0        0        0        0        0        1           1   \n",
            "867        0        0        0        0        0        1           1   \n",
            "868        0        0        0        0        0        1           1   \n",
            "869        0        0        0        0        0        0           2   \n",
            "870        0        0        0        0        0        1           2   \n",
            "871        0        0        0        0        0        1           1   \n",
            "872        0        0        0        0        0        1           1   \n",
            "873        0        0        0        0        0        1           1   \n",
            "874        0        0        0        0        0        1           1   \n",
            "875        0        0        0        0        0        1           6   \n",
            "876        0        0        0        0        0        1           1   \n",
            "877        0        0        0        0        0        0           1   \n",
            "878        0        0        0        0        0        1           4   \n",
            "879        0        0        0        0        0        0           1   \n",
            "880        0        0        0        0        0        1           1   \n",
            "\n",
            "     GenderClass_female  GenderClass_male  Embarked_Q  Embarked_S  \\\n",
            "0                     0                 1           0           1   \n",
            "1                     1                 0           0           0   \n",
            "2                     1                 0           0           1   \n",
            "3                     1                 0           0           1   \n",
            "4                     0                 1           0           1   \n",
            "5                     0                 1           1           0   \n",
            "6                     0                 1           0           1   \n",
            "7                     0                 0           0           1   \n",
            "8                     1                 0           0           1   \n",
            "9                     0                 0           0           0   \n",
            "10                    0                 0           0           1   \n",
            "11                    1                 0           0           1   \n",
            "12                    0                 1           0           1   \n",
            "13                    0                 1           0           1   \n",
            "14                    0                 0           0           1   \n",
            "15                    1                 0           0           1   \n",
            "16                    0                 0           1           0   \n",
            "17                    0                 1           0           1   \n",
            "18                    1                 0           0           1   \n",
            "19                    1                 0           0           0   \n",
            "20                    0                 1           0           1   \n",
            "21                    0                 1           0           1   \n",
            "22                    1                 0           1           0   \n",
            "23                    0                 1           0           1   \n",
            "24                    0                 0           0           1   \n",
            "25                    1                 0           0           1   \n",
            "26                    0                 1           0           0   \n",
            "27                    1                 0           1           0   \n",
            "28                    0                 1           0           1   \n",
            "29                    0                 1           0           0   \n",
            "..                  ...               ...         ...         ...   \n",
            "851                   0                 1           0           1   \n",
            "852                   0                 1           0           1   \n",
            "853                   1                 0           0           1   \n",
            "854                   0                 1           0           1   \n",
            "855                   1                 0           0           1   \n",
            "856                   1                 0           0           0   \n",
            "857                   0                 1           0           1   \n",
            "858                   0                 1           0           1   \n",
            "859                   0                 0           0           1   \n",
            "860                   0                 1           0           1   \n",
            "861                   1                 0           0           1   \n",
            "862                   0                 1           0           1   \n",
            "863                   0                 1           0           1   \n",
            "864                   1                 0           0           0   \n",
            "865                   1                 0           0           0   \n",
            "866                   0                 1           0           1   \n",
            "867                   0                 1           0           1   \n",
            "868                   0                 1           0           1   \n",
            "869                   1                 0           0           0   \n",
            "870                   1                 0           0           1   \n",
            "871                   0                 1           0           1   \n",
            "872                   1                 0           0           1   \n",
            "873                   0                 1           0           1   \n",
            "874                   0                 1           0           1   \n",
            "875                   1                 0           1           0   \n",
            "876                   0                 1           0           1   \n",
            "877                   1                 0           0           1   \n",
            "878                   1                 0           0           1   \n",
            "879                   0                 1           0           0   \n",
            "880                   0                 1           1           0   \n",
            "\n",
            "     XGboosttAnswers  \n",
            "0                  0  \n",
            "1                  1  \n",
            "2                  1  \n",
            "3                  1  \n",
            "4                  0  \n",
            "5                  0  \n",
            "6                  0  \n",
            "7                  0  \n",
            "8                  1  \n",
            "9                  1  \n",
            "10                 1  \n",
            "11                 1  \n",
            "12                 0  \n",
            "13                 0  \n",
            "14                 1  \n",
            "15                 1  \n",
            "16                 0  \n",
            "17                 0  \n",
            "18                 1  \n",
            "19                 1  \n",
            "20                 0  \n",
            "21                 0  \n",
            "22                 1  \n",
            "23                 0  \n",
            "24                 0  \n",
            "25                 0  \n",
            "26                 0  \n",
            "27                 1  \n",
            "28                 0  \n",
            "29                 0  \n",
            "..               ...  \n",
            "851                0  \n",
            "852                0  \n",
            "853                1  \n",
            "854                0  \n",
            "855                1  \n",
            "856                1  \n",
            "857                1  \n",
            "858                0  \n",
            "859                1  \n",
            "860                0  \n",
            "861                1  \n",
            "862                0  \n",
            "863                0  \n",
            "864                1  \n",
            "865                1  \n",
            "866                0  \n",
            "867                0  \n",
            "868                0  \n",
            "869                1  \n",
            "870                1  \n",
            "871                0  \n",
            "872                1  \n",
            "873                0  \n",
            "874                0  \n",
            "875                0  \n",
            "876                0  \n",
            "877                1  \n",
            "878                0  \n",
            "879                1  \n",
            "880                0  \n",
            "\n",
            "[881 rows x 20 columns]\n"
          ],
          "name": "stdout"
        }
      ]
    },
    {
      "metadata": {
        "id": "rDcjyPk3U-Vz",
        "colab_type": "code",
        "colab": {
          "base_uri": "https://localhost:8080/",
          "height": 512
        },
        "outputId": "c9de8365-b6dc-4689-874c-3162d5e1551c"
      },
      "cell_type": "code",
      "source": [
        "#!/usr/bin/env python -W ignore::DeprecationWarning\n",
        " \n",
        "import numpy as np                                                 # Implemennts milti-dimensional array and matrices\n",
        "import pandas as pd                                                # For data manipulation and analysis\n",
        "import matplotlib.pyplot as plt                                    # Plotting library for Python programming language and it's numerical mathematics extension NumPy\n",
        "import seaborn as sns                                              # Provides a high level interface for drawing attractive and informative statistical graphics\n",
        "%matplotlib inline\n",
        "sns.set()\n",
        "from collections import Counter\n",
        "from subprocess import check_output\n",
        "titanic_data = pd.read_csv(\"https://raw.githubusercontent.com/insaid2018/Term-1/master/Data/Casestudy/titanic_train.csv\")     # Importing training dataset using pd.read_csv\n",
        "\n",
        "# Get the outlier out (2 per column)\n",
        "Outliers_to_drop = detect_outliers(titanic_data,2,[\"Age\",\"SibSp\",\"Parch\",\"Fare\"])\n",
        "# print(titanic_data.loc[Outliers_to_drop]) # Show the outliers rows)\n",
        "titanic_data = titanic_data.drop(Outliers_to_drop, axis = 0).reset_index(drop=True)\n",
        "\n",
        "# Get the title from name\n",
        "# Get Title from Name\n",
        "titanic_data_title = [i.split(\",\")[1].split(\".\")[0].strip() for i in titanic_data[\"Name\"]]\n",
        "titanic_data[\"Title\"] = pd.Series(titanic_data_title)\n",
        "\n",
        "\n",
        "# Convert to categorical values Title \n",
        "titanic_data[\"Title\"] = titanic_data[\"Title\"].replace(['Lady', 'the Countess','Countess','Capt', 'Col','Don', 'Dr', 'Major', 'Rev', 'Sir', 'Jonkheer', 'Dona'], 'Rare')\n",
        "titanic_data[\"Title\"] = titanic_data[\"Title\"].map({\"Master\":0, \"Miss\":1, \"Ms\" : 1 , \"Mme\":1, \"Mlle\":1, \"Mrs\":1, \"Mr\":2, \"Rare\":3})\n",
        "titanic_data[\"Title\"] = titanic_data[\"Title\"].astype(int)\n",
        "\n",
        "# Add Cabin Details \n",
        "titanic_data[\"Cabin\"] = pd.Series([i[0] if not pd.isnull(i) else 'X' for i in titanic_data['Cabin'] ])\n",
        "titanic_data = pd.get_dummies(titanic_data, columns = [\"Cabin\"],prefix=\"Cabin\")\n",
        "\n",
        "titanic_data.Embarked = titanic_data.Embarked.fillna(titanic_data['Embarked'].mode()[0])\n",
        "median_age = titanic_data.Age.median()\n",
        "median_fare = titanic_data.Fare.median()\n",
        "titanic_data.Age.fillna(median_age, inplace = True)\n",
        "# titanic_data.drop('Cabin', axis = 1,inplace = True)\n",
        "titanic_data.Fare.fillna(median_fare, inplace = True)\n",
        "titanic_data['FamilySize'] = titanic_data['SibSp'] + titanic_data['Parch']+1\n",
        "titanic_data['GenderClass'] = titanic_data.apply(lambda x: 'child' if x['Age'] < 15 else x['Sex'],axis=1)\n",
        "titanic_data = pd.get_dummies(titanic_data, columns=['GenderClass','Embarked'], drop_first=True)\n",
        "titanic = titanic_data.drop(['Name','Ticket','Sex','SibSp','Parch'], axis = 1)\n",
        "titanic.head()\n",
        "X = titanic.loc[:,titanic.columns != 'Survived']\n",
        "y = titanic.Survived \n",
        "# X.head()\n",
        "\n",
        "from sklearn.cross_validation import train_test_split\n",
        "X_train, X_test, y_train, y_test = train_test_split(X, y, test_size=0.20, random_state=1)\n",
        "\n",
        "# print(X_train)\n",
        "# print(len(X_train))\n",
        "# print(len(y_train))\n",
        "import warnings\n",
        "warnings.filterwarnings(\"ignore\", category=DeprecationWarning) \n",
        "    \n",
        "from sklearn import preprocessing\n",
        "from sklearn import cross_validation\n",
        "from sklearn.model_selection import KFold\n",
        "from sklearn.feature_selection import RFECV\n",
        "from sklearn.grid_search import GridSearchCV\n",
        "from xgboost import XGBClassifier\n",
        "from sklearn.ensemble import GradientBoostingClassifier\n",
        "from sklearn.metrics import accuracy_score\n",
        "from sklearn.model_selection import StratifiedKFold\n",
        "from sklearn.ensemble import RandomForestClassifier, AdaBoostClassifier, GradientBoostingClassifier, ExtraTreesClassifier, VotingClassifier\n",
        "from sklearn.discriminant_analysis import LinearDiscriminantAnalysis\n",
        "from sklearn.linear_model import LogisticRegression\n",
        "from sklearn.neighbors import KNeighborsClassifier\n",
        "from sklearn.tree import DecisionTreeClassifier\n",
        "from sklearn.neural_network import MLPClassifier\n",
        "from sklearn.svm import SVC\n",
        "from sklearn.model_selection import GridSearchCV, cross_val_score, StratifiedKFold, learning_curve\n",
        "\n",
        "\n",
        "\n",
        "kfold = StratifiedKFold(n_splits=10)\n",
        "\n",
        "random_state = 2\n",
        "classifiers = []\n",
        "classifiers.append(SVC(random_state=random_state))\n",
        "classifiers.append(DecisionTreeClassifier(random_state=random_state))\n",
        "classifiers.append(AdaBoostClassifier(DecisionTreeClassifier(random_state=random_state),random_state=random_state,learning_rate=0.1))\n",
        "classifiers.append(RandomForestClassifier(random_state=random_state))\n",
        "classifiers.append(ExtraTreesClassifier(random_state=random_state))\n",
        "classifiers.append(GradientBoostingClassifier(random_state=random_state))\n",
        "classifiers.append(MLPClassifier(random_state=random_state))\n",
        "classifiers.append(KNeighborsClassifier())\n",
        "classifiers.append(LogisticRegression(random_state = random_state))\n",
        "classifiers.append(LinearDiscriminantAnalysis())\n",
        "\n",
        "cv_results = []\n",
        "for classifier in classifiers :\n",
        "    cv_results.append(cross_val_score(classifier, X_train, y = y_train, scoring = \"accuracy\", cv = kfold, n_jobs=-1))\n",
        "\n",
        "cv_means = []\n",
        "cv_std = []\n",
        "for cv_result in cv_results:\n",
        "    cv_means.append(cv_result.mean())\n",
        "    cv_std.append(cv_result.std())\n",
        "\n",
        "cv_res = pd.DataFrame({\"CrossValMeans\":cv_means,\"CrossValerrors\": cv_std,\"Algorithm\":[\"SVC\",\"DecisionTree\",\"AdaBoost\",\n",
        "\"RandomForest\",\"ExtraTrees\",\"GradientBoosting\",\"MultipleLayerPerceptron\",\"KNeighboors\",\"LogisticRegression\",\"LinearDiscriminantAnalysis\"]})\n",
        "\n",
        "g = sns.barplot(\"CrossValMeans\",\"Algorithm\",data = cv_res, palette=\"Set3\",orient = \"h\",**{'xerr':cv_std})\n",
        "g.set_xlabel(\"Mean Accuracy\")\n",
        "g = g.set_title(\"Cross validation scores\")\n",
        "\n",
        "\n",
        "\n"
      ],
      "execution_count": 57,
      "outputs": [
        {
          "output_type": "stream",
          "text": [
            "/usr/local/lib/python3.6/dist-packages/numpy/lib/function_base.py:4291: RuntimeWarning: Invalid value encountered in percentile\n",
            "  interpolation=interpolation)\n",
            "/usr/local/lib/python3.6/dist-packages/sklearn/discriminant_analysis.py:388: UserWarning: Variables are collinear.\n",
            "  warnings.warn(\"Variables are collinear.\")\n",
            "/usr/local/lib/python3.6/dist-packages/sklearn/discriminant_analysis.py:388: UserWarning: Variables are collinear.\n",
            "  warnings.warn(\"Variables are collinear.\")\n",
            "/usr/local/lib/python3.6/dist-packages/seaborn/categorical.py:1428: FutureWarning: remove_na is deprecated and is a private function. Do not use.\n",
            "  stat_data = remove_na(group_data)\n"
          ],
          "name": "stderr"
        },
        {
          "output_type": "display_data",
          "data": {
            "image/png": "[encoded data removed]",
            "text/plain": [
              "<matplotlib.figure.Figure at 0x7f761c22e908>"
            ]
          },
          "metadata": {
            "tags": []
          }
        }
      ]
    },
    {
      "metadata": {
        "id": "k794oS_wXKZu",
        "colab_type": "code",
        "colab": {
          "base_uri": "https://localhost:8080/",
          "height": 68
        },
        "outputId": "69f5803c-3080-40e1-969a-d12e15ada741"
      },
      "cell_type": "code",
      "source": [
        "### META MODELING  WITH ADABOOST, RF, EXTRATREES and GRADIENTBOOSTING\n",
        "\n",
        "# Adaboost\n",
        "DTC = DecisionTreeClassifier()\n",
        "\n",
        "adaDTC = AdaBoostClassifier(DTC, random_state=7)\n",
        "\n",
        "ada_param_grid = {\"base_estimator__criterion\" : [\"gini\", \"entropy\"],\n",
        "              \"base_estimator__splitter\" :   [\"best\", \"random\"],\n",
        "              \"algorithm\" : [\"SAMME\",\"SAMME.R\"],\n",
        "              \"n_estimators\" :[1,2],\n",
        "              \"learning_rate\":  [0.0001, 0.001, 0.01, 0.1, 0.2, 0.3,1.5]}\n",
        "\n",
        "gsadaDTC = GridSearchCV(adaDTC,param_grid = ada_param_grid, cv=kfold, scoring=\"accuracy\", n_jobs= -1, verbose = 1)\n",
        "\n",
        "gsadaDTC.fit(X_train,y_train)\n",
        "\n",
        "ada_best = gsadaDTC.best_estimator_\n",
        "gsadaDTC.best_score_"
      ],
      "execution_count": 58,
      "outputs": [
        {
          "output_type": "stream",
          "text": [
            "Fitting 10 folds for each of 112 candidates, totalling 1120 fits\n"
          ],
          "name": "stdout"
        },
        {
          "output_type": "stream",
          "text": [
            "[Parallel(n_jobs=-1)]: Done 1120 out of 1120 | elapsed:    5.7s finished\n"
          ],
          "name": "stderr"
        },
        {
          "output_type": "execute_result",
          "data": {
            "text/plain": [
              "0.7713068181818182"
            ]
          },
          "metadata": {
            "tags": []
          },
          "execution_count": 58
        }
      ]
    },
    {
      "metadata": {
        "id": "9VSPxA4KXlhe",
        "colab_type": "code",
        "colab": {
          "base_uri": "https://localhost:8080/",
          "height": 119
        },
        "outputId": "745577a6-dc6f-4850-e1bb-e1947a325b64"
      },
      "cell_type": "code",
      "source": [
        "#ExtraTrees \n",
        "ExtC = ExtraTreesClassifier()\n",
        "\n",
        "\n",
        "## Search grid for optimal parameters\n",
        "ex_param_grid = {\"max_depth\": [None],\n",
        "              \"max_features\": [1, 3, 10],\n",
        "              \"min_samples_split\": [2, 3, 10],\n",
        "              \"min_samples_leaf\": [1, 3, 10],\n",
        "              \"bootstrap\": [False],\n",
        "              \"n_estimators\" :[100,300],\n",
        "              \"criterion\": [\"gini\"]}\n",
        "\n",
        "\n",
        "gsExtC = GridSearchCV(ExtC,param_grid = ex_param_grid, cv=kfold, scoring=\"accuracy\", n_jobs= -1, verbose = 1)\n",
        "\n",
        "gsExtC.fit(X_train,y_train)\n",
        "\n",
        "ExtC_best = gsExtC.best_estimator_\n",
        "\n",
        "# Best score\n",
        "gsExtC.best_score_"
      ],
      "execution_count": 60,
      "outputs": [
        {
          "output_type": "stream",
          "text": [
            "Fitting 10 folds for each of 54 candidates, totalling 540 fits\n"
          ],
          "name": "stdout"
        },
        {
          "output_type": "stream",
          "text": [
            "[Parallel(n_jobs=-1)]: Done  46 tasks      | elapsed:   10.8s\n",
            "[Parallel(n_jobs=-1)]: Done 196 tasks      | elapsed:   41.6s\n",
            "[Parallel(n_jobs=-1)]: Done 446 tasks      | elapsed:  1.7min\n",
            "[Parallel(n_jobs=-1)]: Done 540 out of 540 | elapsed:  2.1min finished\n"
          ],
          "name": "stderr"
        },
        {
          "output_type": "execute_result",
          "data": {
            "text/plain": [
              "0.8309659090909091"
            ]
          },
          "metadata": {
            "tags": []
          },
          "execution_count": 60
        }
      ]
    },
    {
      "metadata": {
        "id": "q91UhVMsXypq",
        "colab_type": "code",
        "colab": {
          "base_uri": "https://localhost:8080/",
          "height": 221
        },
        "outputId": "8f5f8226-88e1-4a44-e6d7-da2ced8ae182"
      },
      "cell_type": "code",
      "source": [
        "# RFC Parameters tunning \n",
        "RFC = RandomForestClassifier()\n",
        "\n",
        "\n",
        "## Search grid for optimal parameters\n",
        "rf_param_grid = {\"max_depth\": [None],\n",
        "              \"max_features\": [1, 3, 10],\n",
        "              \"min_samples_split\": [2, 3, 10],\n",
        "              \"min_samples_leaf\": [1, 3, 10],\n",
        "              \"bootstrap\": [False],\n",
        "              \"n_estimators\" :[100,300],\n",
        "              \"criterion\": [\"gini\"]}\n",
        "\n",
        "\n",
        "gsRFC = GridSearchCV(RFC,param_grid = rf_param_grid, cv=kfold, scoring=\"accuracy\", n_jobs= -1, verbose = 1)\n",
        "\n",
        "gsRFC.fit(X_train,y_train)\n",
        "\n",
        "RFC_best = gsRFC.best_estimator_\n",
        "\n",
        "# Best score\n",
        "gsRFC.best_score_\n",
        "gsRFC.best_estimator_"
      ],
      "execution_count": 62,
      "outputs": [
        {
          "output_type": "stream",
          "text": [
            "Fitting 10 folds for each of 54 candidates, totalling 540 fits\n"
          ],
          "name": "stdout"
        },
        {
          "output_type": "stream",
          "text": [
            "[Parallel(n_jobs=-1)]: Done  46 tasks      | elapsed:   11.6s\n",
            "[Parallel(n_jobs=-1)]: Done 196 tasks      | elapsed:   47.1s\n",
            "[Parallel(n_jobs=-1)]: Done 446 tasks      | elapsed:  2.0min\n",
            "[Parallel(n_jobs=-1)]: Done 540 out of 540 | elapsed:  2.5min finished\n"
          ],
          "name": "stderr"
        },
        {
          "output_type": "execute_result",
          "data": {
            "text/plain": [
              "RandomForestClassifier(bootstrap=False, class_weight=None, criterion='gini',\n",
              "            max_depth=None, max_features=3, max_leaf_nodes=None,\n",
              "            min_impurity_decrease=0.0, min_impurity_split=None,\n",
              "            min_samples_leaf=10, min_samples_split=3,\n",
              "            min_weight_fraction_leaf=0.0, n_estimators=100, n_jobs=1,\n",
              "            oob_score=False, random_state=None, verbose=0,\n",
              "            warm_start=False)"
            ]
          },
          "metadata": {
            "tags": []
          },
          "execution_count": 62
        }
      ]
    },
    {
      "metadata": {
        "id": "CJKgQoBPYmoT",
        "colab_type": "code",
        "colab": {
          "base_uri": "https://localhost:8080/",
          "height": 136
        },
        "outputId": "5b2aaa33-6f79-4135-97ec-0fbbf1eb9e16"
      },
      "cell_type": "code",
      "source": [
        "# Gradient boosting tunning\n",
        "\n",
        "GBC = GradientBoostingClassifier()\n",
        "gb_param_grid = {'loss' : [\"deviance\"],\n",
        "              'n_estimators' : [100,200,300],\n",
        "              'learning_rate': [0.1, 0.05, 0.01],\n",
        "              'max_depth': [4, 8],\n",
        "              'min_samples_leaf': [100,150],\n",
        "              'max_features': [0.3, 0.1] \n",
        "              }\n",
        "\n",
        "gsGBC = GridSearchCV(GBC,param_grid = gb_param_grid, cv=kfold, scoring=\"accuracy\", n_jobs= -1, verbose = 1)\n",
        "\n",
        "gsGBC.fit(X_train,y_train)\n",
        "\n",
        "GBC_best = gsGBC.best_estimator_\n",
        "\n",
        "# Best score\n",
        "gsGBC.best_score_\n",
        "\n",
        "\n",
        "### SVC classifier\n",
        "SVMC = SVC(probability=True)\n",
        "svc_param_grid = {'kernel': ['rbf'], \n",
        "                  'gamma': [ 0.001, 0.01, 0.1, 1],\n",
        "                  'C': [1, 10, 50, 100,200,300, 1000]}\n",
        "\n",
        "gsSVMC = GridSearchCV(SVMC,param_grid = svc_param_grid, cv=kfold, scoring=\"accuracy\", n_jobs= -1, verbose = 1)\n",
        "\n",
        "gsSVMC.fit(X_train,y_train)\n",
        "\n",
        "SVMC_best = gsSVMC.best_estimator_\n",
        "\n",
        "# Best score\n",
        "gsSVMC.best_score_\n",
        "\n"
      ],
      "execution_count": 64,
      "outputs": [
        {
          "output_type": "stream",
          "text": [
            "Fitting 10 folds for each of 72 candidates, totalling 720 fits\n"
          ],
          "name": "stdout"
        },
        {
          "output_type": "stream",
          "text": [
            "[Parallel(n_jobs=-1)]: Done 720 out of 720 | elapsed:   44.5s finished\n"
          ],
          "name": "stderr"
        },
        {
          "output_type": "stream",
          "text": [
            "Fitting 10 folds for each of 28 candidates, totalling 280 fits\n"
          ],
          "name": "stdout"
        },
        {
          "output_type": "stream",
          "text": [
            "[Parallel(n_jobs=-1)]: Done  46 tasks      | elapsed:    5.2s\n",
            "[Parallel(n_jobs=-1)]: Done 196 tasks      | elapsed:   26.8s\n",
            "[Parallel(n_jobs=-1)]: Done 280 out of 280 | elapsed:   41.2s finished\n"
          ],
          "name": "stderr"
        },
        {
          "output_type": "execute_result",
          "data": {
            "text/plain": [
              "0.6590909090909091"
            ]
          },
          "metadata": {
            "tags": []
          },
          "execution_count": 64
        }
      ]
    },
    {
      "metadata": {
        "id": "G7N_SHRPY9Ep",
        "colab_type": "code",
        "colab": {
          "base_uri": "https://localhost:8080/",
          "height": 927
        },
        "outputId": "a972263d-9f46-46b4-f7de-0a6c007e90ff"
      },
      "cell_type": "code",
      "source": [
        "nrows = ncols = 2\n",
        "fig, axes = plt.subplots(nrows = nrows, ncols = ncols, sharex=\"all\", figsize=(15,15))\n",
        "\n",
        "names_classifiers = [(\"AdaBoosting\", ada_best),(\"ExtraTrees\",ExtC_best),(\"RandomForest\",RFC_best),(\"GradientBoosting\",GBC_best)]\n",
        "\n",
        "nclassifier = 0\n",
        "for row in range(nrows):\n",
        "    for col in range(ncols):\n",
        "        name = names_classifiers[nclassifier][0]\n",
        "        classifier = names_classifiers[nclassifier][1]\n",
        "        indices = np.argsort(classifier.feature_importances_)[::-1][:40]\n",
        "        g = sns.barplot(y=X_train.columns[indices][:40],x = classifier.feature_importances_[indices][:40] , orient='h',ax=axes[row][col])\n",
        "        g.set_xlabel(\"Relative importance\",fontsize=12)\n",
        "        g.set_ylabel(\"Features\",fontsize=12)\n",
        "        g.tick_params(labelsize=9)\n",
        "        g.set_title(name + \" feature importance\")\n",
        "        nclassifier += 1"
      ],
      "execution_count": 65,
      "outputs": [
        {
          "output_type": "stream",
          "text": [
            "/usr/local/lib/python3.6/dist-packages/seaborn/categorical.py:1428: FutureWarning: remove_na is deprecated and is a private function. Do not use.\n",
            "  stat_data = remove_na(group_data)\n"
          ],
          "name": "stderr"
        },
        {
          "output_type": "display_data",
          "data": {
            "image/png": "[encoded data removed]",
            "text/plain": [
              "<matplotlib.figure.Figure at 0x7f761c046390>"
            ]
          },
          "metadata": {
            "tags": []
          }
        }
      ]
    },
    {
      "metadata": {
        "id": "9caK5z5hZGlV",
        "colab_type": "code",
        "colab": {
          "base_uri": "https://localhost:8080/",
          "height": 1452
        },
        "outputId": "9018ed6b-e845-4a18-d306-024f7823e602"
      },
      "cell_type": "code",
      "source": [
        "test_Survived_RFC = pd.Series(RFC_best.predict(X_test), name=\"RFC\")\n",
        "test_Survived_ExtC = pd.Series(ExtC_best.predict(X_test), name=\"ExtC\")\n",
        "test_Survived_SVMC = pd.Series(SVMC_best.predict(X_test), name=\"SVC\")\n",
        "test_Survived_AdaC = pd.Series(ada_best.predict(X_test), name=\"Ada\")\n",
        "test_Survived_GBC = pd.Series(GBC_best.predict(X_test), name=\"GBC\")\n",
        "\n",
        "# Concatenate all classifier results\n",
        "ensemble_results = pd.concat([test_Survived_RFC,test_Survived_ExtC,test_Survived_AdaC,test_Survived_GBC, test_Survived_SVMC],axis=1)\n",
        "print(ensemble_results)\n",
        "g= sns.heatmap(ensemble_results.corr(),annot=True)\n",
        "print(g)"
      ],
      "execution_count": 69,
      "outputs": [
        {
          "output_type": "stream",
          "text": [
            "     RFC  ExtC  Ada  GBC  SVC\n",
            "0      1     1    1    1    1\n",
            "1      1     1    1    1    0\n",
            "2      0     0    0    0    0\n",
            "3      1     1    1    1    0\n",
            "4      1     1    1    1    0\n",
            "5      0     0    0    0    0\n",
            "6      1     1    1    0    0\n",
            "7      0     0    0    0    1\n",
            "8      0     0    0    0    0\n",
            "9      0     0    0    0    0\n",
            "10     1     1    1    1    1\n",
            "11     1     1    0    1    1\n",
            "12     1     1    1    1    0\n",
            "13     1     1    0    1    0\n",
            "14     1     1    1    1    1\n",
            "15     0     0    0    0    0\n",
            "16     0     0    0    0    0\n",
            "17     1     1    1    1    1\n",
            "18     0     0    1    0    0\n",
            "19     0     0    0    0    0\n",
            "20     1     1    1    1    0\n",
            "21     1     1    1    1    1\n",
            "22     0     0    0    0    0\n",
            "23     1     1    1    1    0\n",
            "24     1     1    1    1    1\n",
            "25     1     1    1    1    0\n",
            "26     0     0    1    0    1\n",
            "27     0     0    0    0    1\n",
            "28     1     1    1    1    1\n",
            "29     1     1    1    1    1\n",
            "..   ...   ...  ...  ...  ...\n",
            "147    1     1    1    1    1\n",
            "148    0     1    1    0    0\n",
            "149    0     0    0    0    0\n",
            "150    0     0    0    0    0\n",
            "151    0     0    0    0    0\n",
            "152    0     0    0    0    0\n",
            "153    0     0    0    0    0\n",
            "154    0     0    0    0    1\n",
            "155    0     0    1    0    1\n",
            "156    0     0    1    1    1\n",
            "157    1     1    1    1    1\n",
            "158    1     1    1    1    1\n",
            "159    1     1    1    1    0\n",
            "160    1     1    1    1    0\n",
            "161    0     0    0    0    0\n",
            "162    0     0    0    0    0\n",
            "163    0     0    1    0    1\n",
            "164    0     0    0    0    1\n",
            "165    0     0    0    0    0\n",
            "166    0     0    0    0    0\n",
            "167    0     0    0    0    0\n",
            "168    0     0    0    0    0\n",
            "169    1     1    1    1    1\n",
            "170    0     0    0    0    0\n",
            "171    0     0    1    0    0\n",
            "172    1     1    1    0    1\n",
            "173    0     0    0    0    0\n",
            "174    0     0    0    0    0\n",
            "175    0     0    0    0    0\n",
            "176    0     0    0    0    0\n",
            "\n",
            "[177 rows x 5 columns]\n",
            "AxesSubplot(0.125,0.125;0.62x0.755)\n"
          ],
          "name": "stdout"
        },
        {
          "output_type": "display_data",
          "data": {
            "image/png": "[encoded data removed]",
            "text/plain": [
              "<matplotlib.figure.Figure at 0x7f76185f5cf8>"
            ]
          },
          "metadata": {
            "tags": []
          }
        }
      ]
    },
    {
      "metadata": {
        "id": "jnFTHijRYun5",
        "colab_type": "code",
        "colab": {
          "base_uri": "https://localhost:8080/",
          "height": 85
        },
        "outputId": "73dae6b0-7526-40b0-e256-6b755d7e4246"
      },
      "cell_type": "code",
      "source": [
        "# votingC = VotingClassifier(estimators=[('rfc', RFC_best), ('extc', ExtC_best),\n",
        "# ('svc', SVMC_best), ('adac',ada_best),('gbc',GBC_best)], voting='soft', n_jobs=4)\n",
        "\n",
        "votingC = VotingClassifier(estimators=[('gbc',GBC_best)], voting='soft', n_jobs=-1)\n",
        "\n",
        "votingC = votingC.fit(X_train, y_train)\n",
        "\n",
        "\n",
        "y_pred_test = votingC.predict(X_test)\n",
        "\n",
        "print('Accuracy score for Model Stack :', accuracy_score(y_test,y_pred_test))\n",
        "\n",
        "from sklearn.metrics import confusion_matrix\n",
        "\n",
        "confusion_matrix = pd.DataFrame(confusion_matrix(y_test, y_pred_test))\n",
        "\n",
        "confusion_matrix.index = ['Actual Died','Actual Survived']\n",
        "confusion_matrix.columns = ['Predicted Died','Predicted Survived']\n",
        "print(confusion_matrix)\n"
      ],
      "execution_count": 74,
      "outputs": [
        {
          "output_type": "stream",
          "text": [
            "Accuracy score for Model Stack : 0.8248587570621468\n",
            "                 Predicted Died  Predicted Survived\n",
            "Actual Died                  94                   9\n",
            "Actual Survived              22                  52\n"
          ],
          "name": "stdout"
        }
      ]
    }
  ]
}