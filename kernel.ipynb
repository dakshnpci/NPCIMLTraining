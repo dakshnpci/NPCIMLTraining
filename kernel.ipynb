{
  "nbformat": 4,
  "nbformat_minor": 0,
  "metadata": {
    "colab": {
      "name": "kernel.ipynb",
      "version": "0.3.2",
      "provenance": [],
      "collapsed_sections": [
        "L0fR7aEFEbue",
        "L-7lrqmWEbul",
        "Amw4ii7OEbut",
        "AjwLA28gEbu1",
        "UAe7G3-hEbvL",
        "VKFz__HYEbvW",
        "OfLZMZSuEbvf",
        "Obegl4UqEbwt",
        "O6DJpwAaEbxC",
        "viTlJ5u0Ebxn",
        "HiD2NhBCEbyB",
        "-Efvx2AeEbyY",
        "HDMn0WlkEbyo",
        "59bsq07TEbys",
        "_H2tPamnEbyz",
        "AtE8CAe-Eby-"
      ],
      "include_colab_link": true
    },
    "kernelspec": {
      "display_name": "Python 3",
      "language": "python",
      "name": "python3"
    }
  },
  "cells": [
    {
      "cell_type": "markdown",
      "metadata": {
        "id": "view-in-github",
        "colab_type": "text"
      },
      "source": [
        "<a href=\"https://colab.research.google.com/github/dakshnpci/NPCIMLTraining/blob/master/kernel.ipynb\" target=\"_parent\"><img src=\"https://colab.research.google.com/assets/colab-badge.svg\" alt=\"Open In Colab\"/></a>"
      ]
    },
    {
      "metadata": {
        "_uuid": "d078acf4cc246329c1107222b8ba73761a9b42b5",
        "_cell_guid": "2f790bbf-1719-4d91-977c-c0890ac78192",
        "id": "LJMdhD-iEbtW",
        "colab_type": "text"
      },
      "cell_type": "markdown",
      "source": [
        "# Titanic Top 4% with ensemble modeling\n",
        "### **Yassine Ghouzam, PhD**\n",
        "#### 13/07/2017\n",
        "\n",
        "* **1 Introduction**\n",
        "* **2 Load and check data**\n",
        "    * 2.1 load data\n",
        "    * 2.2 Outlier detection\n",
        "    * 2.3 joining train and test set\n",
        "    * 2.4 check for null and missing values\n",
        "* **3 Feature analysis**\n",
        "    * 3.1 Numerical values\n",
        "    * 3.2 Categorical values\n",
        "* **4 Filling missing Values**\n",
        "    * 4.1 Age\n",
        "* **5 Feature engineering**\n",
        "    * 5.1 Name/Title\n",
        "    * 5.2 Family Size\n",
        "    * 5.3 Cabin\n",
        "    * 5.4 Ticket\n",
        "* **6 Modeling**\n",
        "    * 6.1 Simple modeling\n",
        "        * 6.1.1 Cross validate models\n",
        "        * 6.1.2 Hyperparamater tunning for best models\n",
        "        * 6.1.3 Plot learning curves\n",
        "        * 6.1.4 Feature importance of the tree based classifiers\n",
        "    * 6.2 Ensemble modeling\n",
        "        * 6.2.1 Combining models\n",
        "    * 6.3 Prediction\n",
        "        * 6.3.1 Predict and Submit results\n",
        "    "
      ]
    },
    {
      "metadata": {
        "_uuid": "d13b45efd0801651027dec292d097dea37e8da6f",
        "_cell_guid": "c91b1111-1727-4fb4-97cf-e1f69d470be5",
        "id": "sdIf0C6TEbtY",
        "colab_type": "text"
      },
      "cell_type": "markdown",
      "source": [
        "## 1. Introduction\n",
        "\n",
        "This is my first kernel at Kaggle. I choosed the Titanic competition which is a good way to introduce feature engineering and ensemble modeling. Firstly, I will display some feature analyses then ill focus on the feature engineering. Last part concerns modeling and predicting the survival on the Titanic using an voting procedure. \n",
        "\n",
        "This script follows three main parts:\n",
        "\n",
        "* **Feature analysis**\n",
        "* **Feature engineering**\n",
        "* **Modeling**"
      ]
    },
    {
      "metadata": {
        "trusted": false,
        "_execution_state": "idle",
        "_uuid": "01844bfc7df2c62c1057f31e582fc1ebba9ca8f4",
        "_cell_guid": "67300bad-eafb-4a8e-82f6-e955a6ca070a",
        "id": "BGs9IA-EEbta",
        "colab_type": "code",
        "colab": {}
      },
      "cell_type": "code",
      "source": [
        "import pandas as pd\n",
        "import numpy as np\n",
        "import matplotlib.pyplot as plt\n",
        "import seaborn as sns\n",
        "%matplotlib inline\n",
        "\n",
        "from collections import Counter\n",
        "\n",
        "from sklearn.ensemble import RandomForestClassifier, AdaBoostClassifier, GradientBoostingClassifier, ExtraTreesClassifier, VotingClassifier\n",
        "from sklearn.discriminant_analysis import LinearDiscriminantAnalysis\n",
        "from sklearn.linear_model import LogisticRegression\n",
        "from sklearn.neighbors import KNeighborsClassifier\n",
        "from sklearn.tree import DecisionTreeClassifier\n",
        "from sklearn.neural_network import MLPClassifier\n",
        "from sklearn.svm import SVC\n",
        "from sklearn.model_selection import GridSearchCV, cross_val_score, StratifiedKFold, learning_curve\n",
        "\n",
        "sns.set(style='white', context='notebook', palette='deep')\n"
      ],
      "execution_count": 0,
      "outputs": []
    },
    {
      "metadata": {
        "_uuid": "8c97f422f7970e77a1aa73e3d868e59db9b0861f",
        "_cell_guid": "1f17e4f5-20f3-4e9c-8a56-adad76047552",
        "id": "tBPcVfVZEbth",
        "colab_type": "text"
      },
      "cell_type": "markdown",
      "source": [
        "## 2. Load and check data\n",
        "### 2.1 Load data"
      ]
    },
    {
      "metadata": {
        "trusted": false,
        "_execution_state": "idle",
        "_uuid": "fdfaaf9242d609bb64403efe237876b435668c52",
        "_cell_guid": "fd53a1e8-0c79-4d00-823b-0988fd16b635",
        "id": "acMREHgkEbtk",
        "colab_type": "code",
        "colab": {
          "base_uri": "https://localhost:8080/",
          "height": 204
        },
        "outputId": "50193fd5-803e-40e2-8fa3-5eedf5ea53d7"
      },
      "cell_type": "code",
      "source": [
        "# Load data\n",
        "##### Load train and Test set\n",
        "\n",
        "train = pd.read_csv(\"https://raw.githubusercontent.com/pcsanwald/kaggle-titanic/master/train.csv\")\n",
        "test = pd.read_csv(\"https://raw.githubusercontent.com/pcsanwald/kaggle-titanic/master/test.csv\")\n",
        "# IDtest = test[\"PassengerId\"]\n",
        "train.head()"
      ],
      "execution_count": 3,
      "outputs": [
        {
          "output_type": "execute_result",
          "data": {
            "text/html": [
              "<div>\n",
              "<style scoped>\n",
              "    .dataframe tbody tr th:only-of-type {\n",
              "        vertical-align: middle;\n",
              "    }\n",
              "\n",
              "    .dataframe tbody tr th {\n",
              "        vertical-align: top;\n",
              "    }\n",
              "\n",
              "    .dataframe thead th {\n",
              "        text-align: right;\n",
              "    }\n",
              "</style>\n",
              "<table border=\"1\" class=\"dataframe\">\n",
              "  <thead>\n",
              "    <tr style=\"text-align: right;\">\n",
              "      <th></th>\n",
              "      <th>survived</th>\n",
              "      <th>pclass</th>\n",
              "      <th>name</th>\n",
              "      <th>sex</th>\n",
              "      <th>age</th>\n",
              "      <th>sibsp</th>\n",
              "      <th>parch</th>\n",
              "      <th>ticket</th>\n",
              "      <th>fare</th>\n",
              "      <th>cabin</th>\n",
              "      <th>embarked</th>\n",
              "    </tr>\n",
              "  </thead>\n",
              "  <tbody>\n",
              "    <tr>\n",
              "      <th>0</th>\n",
              "      <td>0</td>\n",
              "      <td>3</td>\n",
              "      <td>Braund, Mr. Owen Harris</td>\n",
              "      <td>male</td>\n",
              "      <td>22.0</td>\n",
              "      <td>1</td>\n",
              "      <td>0</td>\n",
              "      <td>A/5 21171</td>\n",
              "      <td>7.2500</td>\n",
              "      <td>NaN</td>\n",
              "      <td>S</td>\n",
              "    </tr>\n",
              "    <tr>\n",
              "      <th>1</th>\n",
              "      <td>1</td>\n",
              "      <td>1</td>\n",
              "      <td>Cumings, Mrs. John Bradley (Florence Briggs Th...</td>\n",
              "      <td>female</td>\n",
              "      <td>38.0</td>\n",
              "      <td>1</td>\n",
              "      <td>0</td>\n",
              "      <td>PC 17599</td>\n",
              "      <td>71.2833</td>\n",
              "      <td>C85</td>\n",
              "      <td>C</td>\n",
              "    </tr>\n",
              "    <tr>\n",
              "      <th>2</th>\n",
              "      <td>1</td>\n",
              "      <td>3</td>\n",
              "      <td>Heikkinen, Miss. Laina</td>\n",
              "      <td>female</td>\n",
              "      <td>26.0</td>\n",
              "      <td>0</td>\n",
              "      <td>0</td>\n",
              "      <td>STON/O2. 3101282</td>\n",
              "      <td>7.9250</td>\n",
              "      <td>NaN</td>\n",
              "      <td>S</td>\n",
              "    </tr>\n",
              "    <tr>\n",
              "      <th>3</th>\n",
              "      <td>1</td>\n",
              "      <td>1</td>\n",
              "      <td>Futrelle, Mrs. Jacques Heath (Lily May Peel)</td>\n",
              "      <td>female</td>\n",
              "      <td>35.0</td>\n",
              "      <td>1</td>\n",
              "      <td>0</td>\n",
              "      <td>113803</td>\n",
              "      <td>53.1000</td>\n",
              "      <td>C123</td>\n",
              "      <td>S</td>\n",
              "    </tr>\n",
              "    <tr>\n",
              "      <th>4</th>\n",
              "      <td>0</td>\n",
              "      <td>3</td>\n",
              "      <td>Allen, Mr. William Henry</td>\n",
              "      <td>male</td>\n",
              "      <td>35.0</td>\n",
              "      <td>0</td>\n",
              "      <td>0</td>\n",
              "      <td>373450</td>\n",
              "      <td>8.0500</td>\n",
              "      <td>NaN</td>\n",
              "      <td>S</td>\n",
              "    </tr>\n",
              "  </tbody>\n",
              "</table>\n",
              "</div>"
            ],
            "text/plain": [
              "   survived  pclass                                               name  \\\n",
              "0         0       3                            Braund, Mr. Owen Harris   \n",
              "1         1       1  Cumings, Mrs. John Bradley (Florence Briggs Th...   \n",
              "2         1       3                             Heikkinen, Miss. Laina   \n",
              "3         1       1       Futrelle, Mrs. Jacques Heath (Lily May Peel)   \n",
              "4         0       3                           Allen, Mr. William Henry   \n",
              "\n",
              "      sex   age  sibsp  parch            ticket     fare cabin embarked  \n",
              "0    male  22.0      1      0         A/5 21171   7.2500   NaN        S  \n",
              "1  female  38.0      1      0          PC 17599  71.2833   C85        C  \n",
              "2  female  26.0      0      0  STON/O2. 3101282   7.9250   NaN        S  \n",
              "3  female  35.0      1      0            113803  53.1000  C123        S  \n",
              "4    male  35.0      0      0            373450   8.0500   NaN        S  "
            ]
          },
          "metadata": {
            "tags": []
          },
          "execution_count": 3
        }
      ]
    },
    {
      "metadata": {
        "_uuid": "f927619c2c668bb1004aa0cce909a9732b2626fd",
        "_cell_guid": "06c79bd7-6180-4c42-baef-8632bd1b27a1",
        "id": "hMb2xJEFEbtn",
        "colab_type": "text"
      },
      "cell_type": "markdown",
      "source": [
        "### 2.2 Outlier detection"
      ]
    },
    {
      "metadata": {
        "trusted": false,
        "_execution_state": "idle",
        "_uuid": "85a3c96713afbc48fbe2489d6872917743b220d8",
        "_cell_guid": "6fde3971-ffa0-423c-991f-15f8502fe5bb",
        "id": "JbgDxe0yEbtp",
        "colab_type": "code",
        "colab": {}
      },
      "cell_type": "code",
      "source": [
        "# Outlier detection \n",
        "\n",
        "def detect_outliers(df,n,features):\n",
        "    \"\"\"\n",
        "    Takes a dataframe df of features and returns a list of the indices\n",
        "    corresponding to the observations containing more than n outliers according\n",
        "    to the Tukey method.\n",
        "    \"\"\"\n",
        "    outlier_indices = []\n",
        "    \n",
        "    # iterate over features(columns)\n",
        "    for col in features:\n",
        "        # 1st quartile (25%)\n",
        "        Q1 = np.percentile(df[col], 25)\n",
        "        # 3rd quartile (75%)\n",
        "        Q3 = np.percentile(df[col],75)\n",
        "        # Interquartile range (IQR)\n",
        "        IQR = Q3 - Q1\n",
        "        \n",
        "        # outlier step\n",
        "        outlier_step = 1.5 * IQR\n",
        "        \n",
        "        # Determine a list of indices of outliers for feature col\n",
        "        outlier_list_col = df[(df[col] < Q1 - outlier_step) | (df[col] > Q3 + outlier_step )].index\n",
        "        \n",
        "        # append the found outlier indices for col to the list of outlier indices \n",
        "        outlier_indices.extend(outlier_list_col)\n",
        "        \n",
        "    # select observations containing more than 2 outliers\n",
        "    outlier_indices = Counter(outlier_indices)        \n",
        "    multiple_outliers = list( k for k, v in outlier_indices.items() if v > n )\n",
        "    \n",
        "    return multiple_outliers   \n",
        "\n",
        "# detect outliers from Age, SibSp , Parch and Fare\n",
        "Outliers_to_drop = detect_outliers(train,2,[\"Age\",\"SibSp\",\"Parch\",\"Fare\"])"
      ],
      "execution_count": 0,
      "outputs": []
    },
    {
      "metadata": {
        "_uuid": "18484f27ce1d2c1a666d683be1c3eda8e1181b10",
        "_cell_guid": "095f3dd7-b424-4aa4-a59b-d3de79a59b7b",
        "id": "UwmeBL2pEbts",
        "colab_type": "text"
      },
      "cell_type": "markdown",
      "source": [
        "Since outliers can have a dramatic effect on the prediction (espacially for regression problems), i choosed to manage them. \n",
        "\n",
        "I used the Tukey method (Tukey JW., 1977) to detect ouliers which defines an interquartile range comprised between the 1st and 3rd quartile of the distribution values (IQR). An outlier is a row that have a feature value outside the (IQR +- an outlier step).\n",
        "\n",
        "\n",
        "I decided to detect outliers from the numerical values features (Age, SibSp, Sarch and Fare). Then, i considered outliers as rows that have at least two outlied numerical values."
      ]
    },
    {
      "metadata": {
        "trusted": false,
        "_execution_state": "idle",
        "_uuid": "0697589355a97c2fc8db712eaf3c35288357545d",
        "_cell_guid": "d2eb9251-5ba8-4852-890e-a4788ac916af",
        "scrolled": false,
        "id": "qgmPCLDgEbtu",
        "colab_type": "code",
        "colab": {}
      },
      "cell_type": "code",
      "source": [
        "train.loc[Outliers_to_drop] # Show the outliers rows"
      ],
      "execution_count": 0,
      "outputs": []
    },
    {
      "metadata": {
        "_uuid": "986bd26f4a01c0c6ec70a636331abb8e1cc74e24",
        "_cell_guid": "3b90ec87-cae4-4872-873f-49d2c96564c4",
        "id": "7nBuErQSEbtz",
        "colab_type": "text"
      },
      "cell_type": "markdown",
      "source": [
        "We detect 10 outliers. The 28, 89 and 342 passenger have an high Ticket Fare \n",
        "\n",
        "The 7 others have very high values of SibSP."
      ]
    },
    {
      "metadata": {
        "trusted": false,
        "_execution_state": "idle",
        "_uuid": "0a35c4ab08bfc9a97b52ef4f0789e541ffb2a35d",
        "_cell_guid": "ee905e72-b320-488c-bb4b-0dfad21851a2",
        "id": "F8CtzMVIEbt0",
        "colab_type": "code",
        "colab": {}
      },
      "cell_type": "code",
      "source": [
        "# Drop outliers\n",
        "train = train.drop(Outliers_to_drop, axis = 0).reset_index(drop=True)"
      ],
      "execution_count": 0,
      "outputs": []
    },
    {
      "metadata": {
        "_uuid": "c1a33a55c46bd9728d82c93e23a12155a01f0ccc",
        "_cell_guid": "b112b196-2433-4ffb-b767-89f932c816dc",
        "id": "s_gthdj7Ebt3",
        "colab_type": "text"
      },
      "cell_type": "markdown",
      "source": [
        "### 2.3 joining train and test set"
      ]
    },
    {
      "metadata": {
        "trusted": false,
        "_execution_state": "idle",
        "_uuid": "21e8b1b883f3be90b41ee2dbfc48393befcad199",
        "_cell_guid": "eba4943d-cce3-4e1c-80cd-635c7f25a9db",
        "id": "U6p2KR60Ebt5",
        "colab_type": "code",
        "colab": {}
      },
      "cell_type": "code",
      "source": [
        "## Join train and test datasets in order to obtain the same number of features during categorical conversion\n",
        "train_len = len(train)\n",
        "dataset =  pd.concat(objs=[train, test], axis=0).reset_index(drop=True)"
      ],
      "execution_count": 0,
      "outputs": []
    },
    {
      "metadata": {
        "_uuid": "30f0d0c1cd7296b655412d8d4d99f8e7e130e980",
        "_cell_guid": "0942a6d3-ae4a-4410-a90d-245096b72c5a",
        "id": "ZVkoxANQEbt-",
        "colab_type": "text"
      },
      "cell_type": "markdown",
      "source": [
        "I join train and test datasets to obtain the same number of features during categorical conversion (See feature engineering)."
      ]
    },
    {
      "metadata": {
        "_uuid": "885b310a79a0eb7caf6e531007a5faba0c80db51",
        "_cell_guid": "0540c770-fc86-437d-b5d0-dc045ee93ad1",
        "id": "Yq0SHfYrEbt_",
        "colab_type": "text"
      },
      "cell_type": "markdown",
      "source": [
        "### 2.4 check for null and missing values"
      ]
    },
    {
      "metadata": {
        "trusted": false,
        "_execution_state": "idle",
        "_uuid": "e83534c1bfa121e0afe858bd75c3794c86f2eaa6",
        "_cell_guid": "622a9ea5-f567-4822-8ab3-5ff79359edfd",
        "id": "zBIRVO3aEbuA",
        "colab_type": "code",
        "colab": {}
      },
      "cell_type": "code",
      "source": [
        "# Fill empty and NaNs values with NaN\n",
        "dataset = dataset.fillna(np.nan)\n",
        "\n",
        "# Check for Null values\n",
        "dataset.isnull().sum()"
      ],
      "execution_count": 0,
      "outputs": []
    },
    {
      "metadata": {
        "_uuid": "5f1bf1e1ee1fc25f8e95dc07d10913d86d3043fc",
        "_cell_guid": "5778e530-6696-41d8-92b3-967d2c55e0da",
        "id": "jllQ2DtHEbuE",
        "colab_type": "text"
      },
      "cell_type": "markdown",
      "source": [
        "Age and Cabin features have an important part of missing values.\n",
        "\n",
        "**Survived missing values correspond to the join testing dataset (Survived column doesn't exist in test set and has been replace by NaN values when concatenating the train and test set)**"
      ]
    },
    {
      "metadata": {
        "trusted": false,
        "_execution_state": "idle",
        "_uuid": "d5e8511228cc33be615bb517ceea61556df31d3d",
        "_cell_guid": "2ff500b1-ff54-4ce0-a197-1d24b77d01d5",
        "id": "Yi2ROV3-EbuF",
        "colab_type": "code",
        "colab": {}
      },
      "cell_type": "code",
      "source": [
        "# Infos\n",
        "train.info()\n",
        "train.isnull().sum()"
      ],
      "execution_count": 0,
      "outputs": []
    },
    {
      "metadata": {
        "trusted": false,
        "_execution_state": "idle",
        "_uuid": "2a1f42e1f0362103ff54e909a73289f384abef23",
        "_cell_guid": "676759fc-79d0-433c-b9fd-2f21c0e76c4c",
        "id": "KUDjDwR5EbuI",
        "colab_type": "code",
        "colab": {}
      },
      "cell_type": "code",
      "source": [
        "train.head()"
      ],
      "execution_count": 0,
      "outputs": []
    },
    {
      "metadata": {
        "trusted": false,
        "_execution_state": "idle",
        "_uuid": "bb0ffab4f0cf58f3d41c5324160a1d1d11d279c3",
        "_cell_guid": "7c42c5b3-bccf-4682-bf5f-468014e3c87c",
        "id": "QooF95KEEbuO",
        "colab_type": "code",
        "colab": {}
      },
      "cell_type": "code",
      "source": [
        "train.dtypes"
      ],
      "execution_count": 0,
      "outputs": []
    },
    {
      "metadata": {
        "trusted": false,
        "_execution_state": "idle",
        "_uuid": "9f7fcd618a6059f19b4a8a95deeaea387dcc04b3",
        "_cell_guid": "3233c9cd-3cf7-4b59-a95a-ecf685da5501",
        "id": "jU9i4yRzEbuT",
        "colab_type": "code",
        "colab": {}
      },
      "cell_type": "code",
      "source": [
        "### Summarize data\n",
        "# Summarie and statistics\n",
        "train.describe()"
      ],
      "execution_count": 0,
      "outputs": []
    },
    {
      "metadata": {
        "_uuid": "218f6ebf257b55bcf3266f74b958679ccdc9bbf0",
        "_cell_guid": "7ffe56c3-62ea-4b79-8e56-ed11e6d25142",
        "id": "94xEjSVeEbuY",
        "colab_type": "text"
      },
      "cell_type": "markdown",
      "source": [
        "## 3. Feature analysis\n",
        "### 3.1 Numerical values"
      ]
    },
    {
      "metadata": {
        "trusted": false,
        "_execution_state": "idle",
        "_uuid": "a5218179856b08c053c2548618b57267eccb4126",
        "_cell_guid": "fde3ce29-4d9c-4e08-88fa-da5a8b549299",
        "id": "phugUG4fEbuZ",
        "colab_type": "code",
        "colab": {}
      },
      "cell_type": "code",
      "source": [
        "# Correlation matrix between numerical values (SibSp Parch Age and Fare values) and Survived \n",
        "g = sns.heatmap(train[[\"Survived\",\"SibSp\",\"Parch\",\"Age\",\"Fare\"]].corr(),annot=True, fmt = \".2f\", cmap = \"coolwarm\")"
      ],
      "execution_count": 0,
      "outputs": []
    },
    {
      "metadata": {
        "_uuid": "5ede7ba881caee38288e106cb6b897d88bdb70f7",
        "_cell_guid": "acd799d6-f7e7-4d18-8fd9-7dc624d89e30",
        "id": "Rwgje80fEbuc",
        "colab_type": "text"
      },
      "cell_type": "markdown",
      "source": [
        "Only Fare feature seems to have a significative correlation with the survival probability.\n",
        "\n",
        "It doesn't mean that the other features are not usefull. Subpopulations in these features can be correlated with the survival. To determine this, we need to explore in detail these features"
      ]
    },
    {
      "metadata": {
        "_uuid": "e41320df234bfc830faa9352d6211b0253fcb9aa",
        "_cell_guid": "11fd0afb-2433-420c-94f8-c2fac051e1a3",
        "id": "L0fR7aEFEbue",
        "colab_type": "text"
      },
      "cell_type": "markdown",
      "source": [
        "#### SibSP"
      ]
    },
    {
      "metadata": {
        "trusted": false,
        "_execution_state": "idle",
        "_uuid": "b4418a9f2447787aca13b17898d52d8c1cd59b1b",
        "_cell_guid": "c15217da-0db5-4386-aa8a-da06cd0bfc1c",
        "scrolled": true,
        "id": "AJYxN_qaEbug",
        "colab_type": "code",
        "colab": {}
      },
      "cell_type": "code",
      "source": [
        "# Explore SibSp feature vs Survived\n",
        "g = sns.factorplot(x=\"SibSp\",y=\"Survived\",data=train,kind=\"bar\", size = 6 , \n",
        "palette = \"muted\")\n",
        "g.despine(left=True)\n",
        "g = g.set_ylabels(\"survival probability\")"
      ],
      "execution_count": 0,
      "outputs": []
    },
    {
      "metadata": {
        "_uuid": "15479b1b8c9115df11f8f4fe7efcc5cc4ecbb27e",
        "_cell_guid": "839527e6-a5dc-4556-b0a8-3a682b389292",
        "id": "jXAy3RmLEbuk",
        "colab_type": "text"
      },
      "cell_type": "markdown",
      "source": [
        "It seems that passengers having a lot of siblings/spouses have less chance to survive\n",
        "\n",
        "Single passengers (0 SibSP) or with two other persons (SibSP 1 or 2) have more chance to survive\n",
        "\n",
        "This observation is quite interesting, we can consider a new feature describing these categories (See feature engineering)"
      ]
    },
    {
      "metadata": {
        "_uuid": "26ceb23758e2faebf3aac0ba072114a493ebf52c",
        "_cell_guid": "131a75ea-f5a4-436a-9c16-c2ce24348c2b",
        "id": "L-7lrqmWEbul",
        "colab_type": "text"
      },
      "cell_type": "markdown",
      "source": [
        "#### Parch"
      ]
    },
    {
      "metadata": {
        "trusted": false,
        "_execution_state": "idle",
        "_uuid": "04b13f92bcdae2fbc4519a1f060d494510d34b87",
        "_cell_guid": "7aac2377-8199-4afb-9cb2-b397c240f6c1",
        "id": "9J68_R3cEbun",
        "colab_type": "code",
        "colab": {}
      },
      "cell_type": "code",
      "source": [
        "# Explore Parch feature vs Survived\n",
        "g  = sns.factorplot(x=\"Parch\",y=\"Survived\",data=train,kind=\"bar\", size = 6 , \n",
        "palette = \"muted\")\n",
        "g.despine(left=True)\n",
        "g = g.set_ylabels(\"survival probability\")"
      ],
      "execution_count": 0,
      "outputs": []
    },
    {
      "metadata": {
        "_uuid": "a64b39fbd5708935837b5d18c19083517574d57d",
        "_cell_guid": "5789d2d4-5ce4-4183-bac0-196d1ecf94bc",
        "id": "UTRURuDbEbur",
        "colab_type": "text"
      },
      "cell_type": "markdown",
      "source": [
        "Small families have more chance to survive, more than single (Parch 0), medium (Parch 3,4) and large families (Parch 5,6 ).\n",
        "\n",
        "Be carefull there is an important standard deviation in the survival of passengers with 3 parents/children "
      ]
    },
    {
      "metadata": {
        "_uuid": "a8b30fcc2716cd17669ede9420f9d39f5b4d4b80",
        "_cell_guid": "dd2fe3e5-9e86-4277-9072-1c85cb966018",
        "id": "Amw4ii7OEbut",
        "colab_type": "text"
      },
      "cell_type": "markdown",
      "source": [
        "#### Age"
      ]
    },
    {
      "metadata": {
        "trusted": false,
        "_execution_state": "idle",
        "_uuid": "ed8b275b34f15bb14b971dbb66a53f72dfff224c",
        "_cell_guid": "a4309d84-63a9-4e26-a718-6f78d1225963",
        "id": "xKtUkMo1Ebut",
        "colab_type": "code",
        "colab": {}
      },
      "cell_type": "code",
      "source": [
        "# Explore Age vs Survived\n",
        "g = sns.FacetGrid(train, col='Survived')\n",
        "g = g.map(sns.distplot, \"Age\")\n",
        "\n"
      ],
      "execution_count": 0,
      "outputs": []
    },
    {
      "metadata": {
        "_uuid": "88463791e6c769306874f56ff8ff4f1e4dc599ad",
        "_cell_guid": "f1d88140-c375-425b-8e0b-502cf3aa4642",
        "id": "X0hlnRmLEbuw",
        "colab_type": "text"
      },
      "cell_type": "markdown",
      "source": [
        "Age distribution seems to be a tailed distribution, maybe a gaussian distribution.\n",
        "\n",
        "We notice that age distributions are not the same in the survived and not survived subpopulations. Indeed, there is a peak corresponding to young passengers, that have survived. We also see that passengers between 60-80 have less survived. \n",
        "\n",
        "So, even if \"Age\" is not correlated with \"Survived\", we can see that there is age categories of passengers that of have more or less chance to survive.\n",
        "\n",
        "It seems that very young passengers have more chance to survive."
      ]
    },
    {
      "metadata": {
        "trusted": false,
        "_execution_state": "idle",
        "_uuid": "4a5369826101a978d15c94f93bdedd2b17fd8c1d",
        "_cell_guid": "c379f4eb-ee82-44d8-8e65-06abbc86e9b5",
        "id": "-rUpcbHfEbux",
        "colab_type": "code",
        "colab": {}
      },
      "cell_type": "code",
      "source": [
        "# Explore Age distibution \n",
        "g = sns.kdeplot(train[\"Age\"][(train[\"Survived\"] == 0) & (train[\"Age\"].notnull())], color=\"Red\", shade = True)\n",
        "g = sns.kdeplot(train[\"Age\"][(train[\"Survived\"] == 1) & (train[\"Age\"].notnull())], ax =g, color=\"Blue\", shade= True)\n",
        "g.set_xlabel(\"Age\")\n",
        "g.set_ylabel(\"Frequency\")\n",
        "g = g.legend([\"Not Survived\",\"Survived\"])"
      ],
      "execution_count": 0,
      "outputs": []
    },
    {
      "metadata": {
        "_uuid": "cce7463550f3360d97f4d317441ed26e7f1c138f",
        "_cell_guid": "a14ec68b-bde7-448d-ab67-27d2e9572cf3",
        "id": "bsV-Fi-PEbu0",
        "colab_type": "text"
      },
      "cell_type": "markdown",
      "source": [
        "When we superimpose the two densities , we cleary see a peak correponsing (between 0 and 5) to babies and very young childrens."
      ]
    },
    {
      "metadata": {
        "_uuid": "a1928defede25526b073cdea62bf22f0889b619e",
        "_cell_guid": "760abd84-1f67-4e94-acd1-884565c51f22",
        "id": "AjwLA28gEbu1",
        "colab_type": "text"
      },
      "cell_type": "markdown",
      "source": [
        "#### Fare"
      ]
    },
    {
      "metadata": {
        "trusted": false,
        "_execution_state": "idle",
        "_uuid": "996872cb6ba14f9d05b1cc2cf20db7234d575aa5",
        "_cell_guid": "15f0186d-e558-4699-8870-e9e5f3870c28",
        "id": "zf4ewLz-Ebu2",
        "colab_type": "code",
        "colab": {}
      },
      "cell_type": "code",
      "source": [
        "dataset[\"Fare\"].isnull().sum()"
      ],
      "execution_count": 0,
      "outputs": []
    },
    {
      "metadata": {
        "trusted": false,
        "_execution_state": "idle",
        "_uuid": "f5c6d105729429193b02519bfac8596d190aa561",
        "_cell_guid": "90c3f7d2-c9ee-4946-94b1-201078f09f07",
        "id": "L653n61gEbu4",
        "colab_type": "code",
        "colab": {}
      },
      "cell_type": "code",
      "source": [
        "#Fill Fare missing values with the median value\n",
        "dataset[\"Fare\"] = dataset[\"Fare\"].fillna(dataset[\"Fare\"].median())"
      ],
      "execution_count": 0,
      "outputs": []
    },
    {
      "metadata": {
        "_uuid": "370f228b9ea78a7a92022e40cb6cf58b375a08e7",
        "_cell_guid": "9e965d14-56ac-401e-a6b8-f1041dd3bdd8",
        "id": "l_mgjzFYEbu6",
        "colab_type": "text"
      },
      "cell_type": "markdown",
      "source": [
        "Since we have one missing value , i decided to fill it with the median value which will not have an important effect on the prediction."
      ]
    },
    {
      "metadata": {
        "trusted": false,
        "_execution_state": "idle",
        "_uuid": "2462ac5ccc31009f6cbf40ece06949b192f0a4e9",
        "_cell_guid": "1454fa14-9456-4539-a59a-f16cc75cdc69",
        "scrolled": true,
        "id": "xqm2ayfsEbu7",
        "colab_type": "code",
        "colab": {}
      },
      "cell_type": "code",
      "source": [
        "# Explore Fare distribution \n",
        "g = sns.distplot(dataset[\"Fare\"], color=\"m\", label=\"Skewness : %.2f\"%(dataset[\"Fare\"].skew()))\n",
        "g = g.legend(loc=\"best\")"
      ],
      "execution_count": 0,
      "outputs": []
    },
    {
      "metadata": {
        "_uuid": "3e47c0f302f6299cef1ddaba0b275a74402bf0d9",
        "_cell_guid": "2cf49b8b-499a-4de6-a174-bbe503351175",
        "id": "cG0YU2JzEbvE",
        "colab_type": "text"
      },
      "cell_type": "markdown",
      "source": [
        "As we can see, Fare distribution is very skewed. This can lead to overweigth very high values in the model, even if it is scaled. \n",
        "\n",
        "In this case, it is better to transform it with the log function to reduce this skew. "
      ]
    },
    {
      "metadata": {
        "trusted": false,
        "_execution_state": "idle",
        "_uuid": "1617d3ab789e8786937d52fe361bbdee5d652579",
        "_cell_guid": "4421ac6c-962c-474f-9122-348ebd296a34",
        "collapsed": true,
        "id": "QjT7nHFaEbvF",
        "colab_type": "code",
        "colab": {}
      },
      "cell_type": "code",
      "source": [
        "# Apply log to Fare to reduce skewness distribution\n",
        "dataset[\"Fare\"] = dataset[\"Fare\"].map(lambda i: np.log(i) if i > 0 else 0)"
      ],
      "execution_count": 0,
      "outputs": []
    },
    {
      "metadata": {
        "trusted": false,
        "_execution_state": "idle",
        "_uuid": "2601083c78b9d16b52cc0a2cd36dabc22b109e9d",
        "_cell_guid": "58b056da-fee0-45a0-b650-613068dede6f",
        "id": "FTu2za1uEbvJ",
        "colab_type": "code",
        "colab": {}
      },
      "cell_type": "code",
      "source": [
        "g = sns.distplot(dataset[\"Fare\"], color=\"b\", label=\"Skewness : %.2f\"%(dataset[\"Fare\"].skew()))\n",
        "g = g.legend(loc=\"best\")"
      ],
      "execution_count": 0,
      "outputs": []
    },
    {
      "metadata": {
        "_uuid": "d51b473840567557face93ff6210f62660424788",
        "_cell_guid": "fd9b4768-9384-41c5-ae9d-74f12374608b",
        "id": "I-yjW_EuEbvK",
        "colab_type": "text"
      },
      "cell_type": "markdown",
      "source": [
        "Skewness is clearly reduced after the log transformation"
      ]
    },
    {
      "metadata": {
        "_uuid": "a6545d5a0816088a56dab37ba10ae93e26375068",
        "_cell_guid": "2056cac5-8405-432c-8026-f4fb6a895fb9",
        "id": "UAe7G3-hEbvL",
        "colab_type": "text"
      },
      "cell_type": "markdown",
      "source": [
        "### 3.2 Categorical values\n",
        "#### Sex"
      ]
    },
    {
      "metadata": {
        "trusted": false,
        "_execution_state": "idle",
        "_uuid": "08798e4e7aec09c85f1c678eea529ef4bbea3335",
        "_cell_guid": "2cf795ef-abad-474e-a75b-e6eaac6c4881",
        "id": "TEV4QeEiEbvN",
        "colab_type": "code",
        "colab": {}
      },
      "cell_type": "code",
      "source": [
        "g = sns.barplot(x=\"Sex\",y=\"Survived\",data=train)\n",
        "g = g.set_ylabel(\"Survival Probability\")"
      ],
      "execution_count": 0,
      "outputs": []
    },
    {
      "metadata": {
        "trusted": false,
        "_execution_state": "idle",
        "_uuid": "24f57d5ff8165f6533fd5ec907ba5587ba302a19",
        "_cell_guid": "4a85c20b-be43-4600-accc-3a74de352bb3",
        "id": "ThNAzrcgEbvS",
        "colab_type": "code",
        "colab": {}
      },
      "cell_type": "code",
      "source": [
        "train[[\"Sex\",\"Survived\"]].groupby('Sex').mean()"
      ],
      "execution_count": 0,
      "outputs": []
    },
    {
      "metadata": {
        "_uuid": "efd0ea6213489b362c11bf7fbfb0c20cf9ab1644",
        "_cell_guid": "6da51b35-4e09-4abb-ab09-b9307e5d7142",
        "id": "pUoNK5N2EbvW",
        "colab_type": "text"
      },
      "cell_type": "markdown",
      "source": [
        "It is clearly obvious that Male have less chance to survive than Female.\n",
        "\n",
        "So Sex, might play an important role in the prediction of the survival.\n",
        "\n",
        "For those who have seen the Titanic movie (1997), I am sure, we all remember this sentence during the evacuation : \"Women and children first\". "
      ]
    },
    {
      "metadata": {
        "_uuid": "25bda5a815d2789c5ea5b6fbd153bc3c4751ea66",
        "_cell_guid": "fc62793d-b0fe-47f1-8a60-0fc10974d916",
        "id": "VKFz__HYEbvW",
        "colab_type": "text"
      },
      "cell_type": "markdown",
      "source": [
        "#### Pclass"
      ]
    },
    {
      "metadata": {
        "trusted": false,
        "_execution_state": "idle",
        "_uuid": "33cf4a5f3018a7cd955048c57cfd7ff884d31fd4",
        "_cell_guid": "acab5827-4690-4d8a-934c-f8e4bf1a9265",
        "id": "tbMBYboKEbvY",
        "colab_type": "code",
        "colab": {}
      },
      "cell_type": "code",
      "source": [
        "# Explore Pclass vs Survived\n",
        "g = sns.factorplot(x=\"Pclass\",y=\"Survived\",data=train,kind=\"bar\", size = 6 , \n",
        "palette = \"muted\")\n",
        "g.despine(left=True)\n",
        "g = g.set_ylabels(\"survival probability\")"
      ],
      "execution_count": 0,
      "outputs": []
    },
    {
      "metadata": {
        "trusted": false,
        "_execution_state": "idle",
        "_uuid": "6491e664b83c7370b58f865d4fb17690f884b342",
        "_cell_guid": "e81babfa-4f25-44c1-9463-e5b6611c8400",
        "id": "uUOfpGhKEbva",
        "colab_type": "code",
        "colab": {}
      },
      "cell_type": "code",
      "source": [
        "# Explore Pclass vs Survived by Sex\n",
        "g = sns.factorplot(x=\"Pclass\", y=\"Survived\", hue=\"Sex\", data=train,\n",
        "                   size=6, kind=\"bar\", palette=\"muted\")\n",
        "g.despine(left=True)\n",
        "g = g.set_ylabels(\"survival probability\")"
      ],
      "execution_count": 0,
      "outputs": []
    },
    {
      "metadata": {
        "_uuid": "a9f34268073edf98913f04bb78e9ce1df9f2c45b",
        "_cell_guid": "4ef3e7a8-c133-4108-ae39-d830d803c83d",
        "id": "wth4GeqbEbvd",
        "colab_type": "text"
      },
      "cell_type": "markdown",
      "source": [
        "The passenger survival is not the same in the 3 classes. First class passengers have more chance to survive than second class and third class passengers.\n",
        "\n",
        "This trend is conserved when we look at both male and female passengers."
      ]
    },
    {
      "metadata": {
        "_uuid": "c33615408606b88ac50ea2596574030cafe6ca56",
        "_cell_guid": "bd9a2e84-de2f-4d22-8a8a-d9b77153914a",
        "id": "OfLZMZSuEbvf",
        "colab_type": "text"
      },
      "cell_type": "markdown",
      "source": [
        "#### Embarked"
      ]
    },
    {
      "metadata": {
        "trusted": false,
        "_execution_state": "idle",
        "_uuid": "6c62328f8ed218a94ad20d68179890d2b7e26c54",
        "_cell_guid": "25335bd6-f586-4e80-9424-52d5391c7d90",
        "id": "ymdNfZwKEbvf",
        "colab_type": "code",
        "colab": {}
      },
      "cell_type": "code",
      "source": [
        "dataset[\"Embarked\"].isnull().sum()"
      ],
      "execution_count": 0,
      "outputs": []
    },
    {
      "metadata": {
        "trusted": false,
        "_execution_state": "idle",
        "_uuid": "12606e718a36c7743e313d5b511f824525fa758c",
        "_cell_guid": "369b4640-1f93-464f-9668-c128dee6ce8f",
        "collapsed": true,
        "id": "YdhPBohSEbvh",
        "colab_type": "code",
        "colab": {}
      },
      "cell_type": "code",
      "source": [
        "#Fill Embarked nan values of dataset set with 'S' most frequent value\n",
        "dataset[\"Embarked\"] = dataset[\"Embarked\"].fillna(\"S\")"
      ],
      "execution_count": 0,
      "outputs": []
    },
    {
      "metadata": {
        "_uuid": "89cab9ca6d4ca078f91000288bcdee00260003b4",
        "_cell_guid": "b5ca6d4d-6570-4072-9453-4c5419a45bdc",
        "id": "IUkVZbz-Ebvj",
        "colab_type": "text"
      },
      "cell_type": "markdown",
      "source": [
        "Since we have two missing values , i decided to fill them with the most fequent value of \"Embarked\" (S)."
      ]
    },
    {
      "metadata": {
        "trusted": false,
        "_execution_state": "idle",
        "_uuid": "3bbb9f7fcbae67b9c12f021e3a3b71a031b8d882",
        "_cell_guid": "562a0ddb-6dcc-4def-a73d-405e4ccd12e8",
        "id": "6Jrq7S6OEbvm",
        "colab_type": "code",
        "colab": {}
      },
      "cell_type": "code",
      "source": [
        "# Explore Embarked vs Survived \n",
        "g = sns.factorplot(x=\"Embarked\", y=\"Survived\",  data=train,\n",
        "                   size=6, kind=\"bar\", palette=\"muted\")\n",
        "g.despine(left=True)\n",
        "g = g.set_ylabels(\"survival probability\")"
      ],
      "execution_count": 0,
      "outputs": []
    },
    {
      "metadata": {
        "_uuid": "6be5bbde5aa8d0c7fb4535977b20f3da705bdfc1",
        "_cell_guid": "038f677b-890f-4e38-a583-a4ac1ebce9c3",
        "id": "pwjzCZ-EEbvp",
        "colab_type": "text"
      },
      "cell_type": "markdown",
      "source": [
        "It seems that passenger coming from Cherbourg (C) have more chance to survive.\n",
        "\n",
        "My hypothesis is that the proportion of first class passengers is higher for those who came from Cherbourg than Queenstown (Q), Southampton (S).\n",
        "\n",
        "Let's see the Pclass distribution vs Embarked"
      ]
    },
    {
      "metadata": {
        "trusted": false,
        "_execution_state": "idle",
        "_uuid": "dc440987e63199b551fa5d2d3d7b473cd1e5aaa8",
        "_cell_guid": "bff15a05-8876-474b-a727-7b7fe64e379d",
        "id": "C3J-E5CyEbvp",
        "colab_type": "code",
        "colab": {}
      },
      "cell_type": "code",
      "source": [
        "# Explore Pclass vs Embarked \n",
        "g = sns.factorplot(\"Pclass\", col=\"Embarked\",  data=train,\n",
        "                   size=6, kind=\"count\", palette=\"muted\")\n",
        "g.despine(left=True)\n",
        "g = g.set_ylabels(\"Count\")"
      ],
      "execution_count": 0,
      "outputs": []
    },
    {
      "metadata": {
        "_uuid": "a60751aac8f95e44fe94043fda861df43be69811",
        "_cell_guid": "6c5b3c52-aafa-49e5-8987-36f382f85022",
        "id": "aCFg4TUTEbv3",
        "colab_type": "text"
      },
      "cell_type": "markdown",
      "source": [
        "Indeed, the third class is the most frequent for passenger coming from Southampton (S) and Queenstown (Q), whereas Cherbourg passengers are mostly in first class which have the highest survival rate.\n",
        "\n",
        "At this point, i can't explain why first class has an higher survival rate. My hypothesis is that first class passengers were prioritised during the evacuation due to their influence."
      ]
    },
    {
      "metadata": {
        "_uuid": "e932c14aaeb9a4acbaecc73e985e50b140d3812e",
        "_cell_guid": "9811fd36-b4dd-4f4b-8698-2d9b4b0d5e23",
        "id": "Pu4mMikSEbv4",
        "colab_type": "text"
      },
      "cell_type": "markdown",
      "source": [
        "## 4. Filling missing Values\n",
        "### 4.1 Age\n",
        "\n",
        "As we see, Age column contains 256 missing values in the whole dataset.\n",
        "\n",
        "Since there is subpopulations that have more chance to survive (children for example), it is preferable to keep the age feature and to impute the missing values. \n",
        "\n",
        "To adress this problem, i looked at the most correlated features with Age (Sex, Parch , Pclass and SibSP)."
      ]
    },
    {
      "metadata": {
        "trusted": false,
        "_execution_state": "idle",
        "_uuid": "785d0f035819eb3ad6c68c6ca19857d2b9affef5",
        "_cell_guid": "bb2ce3ea-7519-40ac-b999-1a027888db27",
        "id": "9QS3qG2jEbv5",
        "colab_type": "code",
        "colab": {}
      },
      "cell_type": "code",
      "source": [
        "# Explore Age vs Sex, Parch , Pclass and SibSP\n",
        "g = sns.factorplot(y=\"Age\",x=\"Sex\",data=dataset,kind=\"box\")\n",
        "g = sns.factorplot(y=\"Age\",x=\"Sex\",hue=\"Pclass\", data=dataset,kind=\"box\")\n",
        "g = sns.factorplot(y=\"Age\",x=\"Parch\", data=dataset,kind=\"box\")\n",
        "g = sns.factorplot(y=\"Age\",x=\"SibSp\", data=dataset,kind=\"box\")"
      ],
      "execution_count": 0,
      "outputs": []
    },
    {
      "metadata": {
        "_uuid": "f5824df442a73ad27efd69d57fa58b0dc56cefa3",
        "_cell_guid": "9dfde33b-39ad-4386-bfe4-e96dcce38537",
        "id": "RwWQNc3LEbv9",
        "colab_type": "text"
      },
      "cell_type": "markdown",
      "source": [
        "Age distribution seems to be the same in Male and Female subpopulations, so Sex is not informative to predict Age.\n",
        "\n",
        "However, 1rst class passengers are older than 2nd class passengers who are also older than 3rd class passengers.\n",
        "\n",
        "Moreover, the more a passenger has parents/children the older he is and the more a passenger has siblings/spouses the younger he is."
      ]
    },
    {
      "metadata": {
        "trusted": false,
        "_execution_state": "idle",
        "_uuid": "1e067ce9fdf528cf3a8dc88f46c70b49611f5644",
        "_cell_guid": "ca8d6a01-1e2a-46e5-b6aa-cd01ec42a354",
        "id": "6EVsyqIqEbv-",
        "colab_type": "code",
        "colab": {}
      },
      "cell_type": "code",
      "source": [
        "# convert Sex into categorical value 0 for male and 1 for female\n",
        "dataset[\"Sex\"] = dataset[\"Sex\"].map({\"male\": 0, \"female\":1})"
      ],
      "execution_count": 0,
      "outputs": []
    },
    {
      "metadata": {
        "trusted": false,
        "_execution_state": "idle",
        "_uuid": "10708238db7f2210dba5ef22700c49989c718eb0",
        "_cell_guid": "1229701a-2981-4fc0-99cb-1f2d06a31d4b",
        "id": "9ZB2VzAhEbwC",
        "colab_type": "code",
        "colab": {}
      },
      "cell_type": "code",
      "source": [
        "g = sns.heatmap(dataset[[\"Age\",\"Sex\",\"SibSp\",\"Parch\",\"Pclass\"]].corr(),cmap=\"BrBG\",annot=True)"
      ],
      "execution_count": 0,
      "outputs": []
    },
    {
      "metadata": {
        "_uuid": "136fd9feacf85245703e437cdcc13c8c57195bcd",
        "_cell_guid": "18a09f96-1bb6-4e70-bc1b-6c796881f80b",
        "id": "j0PtqidnEbwE",
        "colab_type": "text"
      },
      "cell_type": "markdown",
      "source": [
        "The correlation map confirms the factorplots observations except for Parch. Age is not correlated with Sex, but is negatively correlated with Pclass, Parch and SibSp.\n",
        "\n",
        "In the plot of Age in function of Parch, Age is growing with the number of parents / children. But the general correlation is negative.\n",
        "\n",
        "So, i decided to use SibSP, Parch and Pclass in order to impute the missing ages.\n",
        "\n",
        "The strategy is to fill Age with the median age of similar rows according to Pclass, Parch and SibSp."
      ]
    },
    {
      "metadata": {
        "trusted": false,
        "_execution_state": "idle",
        "_uuid": "22e12398b8f45db6087989dfe7e044090aa39b8c",
        "_cell_guid": "89e26ca5-bdbf-49e4-8c88-c4b375390e6d",
        "id": "K98ncuoBEbwE",
        "colab_type": "code",
        "colab": {}
      },
      "cell_type": "code",
      "source": [
        "# Filling missing value of Age \n",
        "\n",
        "## Fill Age with the median age of similar rows according to Pclass, Parch and SibSp\n",
        "# Index of NaN age rows\n",
        "index_NaN_age = list(dataset[\"Age\"][dataset[\"Age\"].isnull()].index)\n",
        "\n",
        "for i in index_NaN_age :\n",
        "    age_med = dataset[\"Age\"].median()\n",
        "    age_pred = dataset[\"Age\"][((dataset['SibSp'] == dataset.iloc[i][\"SibSp\"]) & (dataset['Parch'] == dataset.iloc[i][\"Parch\"]) & (dataset['Pclass'] == dataset.iloc[i][\"Pclass\"]))].median()\n",
        "    if not np.isnan(age_pred) :\n",
        "        dataset['Age'].iloc[i] = age_pred\n",
        "    else :\n",
        "        dataset['Age'].iloc[i] = age_med\n",
        "\n"
      ],
      "execution_count": 0,
      "outputs": []
    },
    {
      "metadata": {
        "trusted": false,
        "_execution_state": "idle",
        "_uuid": "9eba42b66fbe3a29882db8dbc57a07b347256b5a",
        "_cell_guid": "510aa084-2156-47e3-95e5-76f16cef7ef3",
        "id": "FhFqGEYCEbwG",
        "colab_type": "code",
        "colab": {}
      },
      "cell_type": "code",
      "source": [
        "g = sns.factorplot(x=\"Survived\", y = \"Age\",data = train, kind=\"box\")\n",
        "g = sns.factorplot(x=\"Survived\", y = \"Age\",data = train, kind=\"violin\")"
      ],
      "execution_count": 0,
      "outputs": []
    },
    {
      "metadata": {
        "_uuid": "dda9aa4c9c1be3aec48c5e95b9a9178f1618534c",
        "_cell_guid": "f5ba95b0-1cf1-4d32-a0dc-3e7f600ba77d",
        "id": "U9qL74plEbwJ",
        "colab_type": "text"
      },
      "cell_type": "markdown",
      "source": [
        "No difference between median value of age in survived and not survived subpopulation. \n",
        "\n",
        "But in the violin plot of survived passengers, we still notice that very young passengers have higher survival rate."
      ]
    },
    {
      "metadata": {
        "_uuid": "f34e936c0fbf6f226096db84cc9fcd92fdad82e2",
        "_cell_guid": "067743aa-d96c-42e2-9532-4dd89da1e1d6",
        "id": "rKwoB7l7EbwJ",
        "colab_type": "text"
      },
      "cell_type": "markdown",
      "source": [
        "## 5. Feature engineering\n",
        "### 5.1 Name/Title"
      ]
    },
    {
      "metadata": {
        "trusted": false,
        "_execution_state": "idle",
        "_uuid": "bcd5fb033d9143ca3f37c95732216eff61d8fbf0",
        "_cell_guid": "c249662f-7e97-4d9e-9331-1ba93b059092",
        "id": "L46Xibi_EbwJ",
        "colab_type": "code",
        "colab": {}
      },
      "cell_type": "code",
      "source": [
        "dataset[\"Name\"].head()"
      ],
      "execution_count": 0,
      "outputs": []
    },
    {
      "metadata": {
        "_uuid": "c40b6ffc4795b055f538bbfa028a57b451f0b359",
        "_cell_guid": "9cf02535-986a-4b75-ade4-366232841d3b",
        "id": "X2AxifhsEbwN",
        "colab_type": "text"
      },
      "cell_type": "markdown",
      "source": [
        "The Name feature contains information on passenger's title.\n",
        "\n",
        "Since some passenger with distingused title may be preferred during the evacuation, it is interesting to add them to the model."
      ]
    },
    {
      "metadata": {
        "trusted": false,
        "_execution_state": "idle",
        "_uuid": "c16e82d04c033dadd780d4a65375d10e42cf6f63",
        "_cell_guid": "2d49cfb9-cb72-4375-91a2-c0b40f89814e",
        "id": "Kk2XIKOiEbwO",
        "colab_type": "code",
        "colab": {}
      },
      "cell_type": "code",
      "source": [
        "# Get Title from Name\n",
        "dataset_title = [i.split(\",\")[1].split(\".\")[0].strip() for i in dataset[\"Name\"]]\n",
        "dataset[\"Title\"] = pd.Series(dataset_title)\n",
        "dataset[\"Title\"].head()"
      ],
      "execution_count": 0,
      "outputs": []
    },
    {
      "metadata": {
        "trusted": false,
        "_execution_state": "idle",
        "_uuid": "5552e7124cff833e460a55ace212155c953cc512",
        "_cell_guid": "938e324c-f05c-4dad-b7f4-ef3a2a5b815e",
        "scrolled": true,
        "id": "TmcqAeIxEbwR",
        "colab_type": "code",
        "colab": {}
      },
      "cell_type": "code",
      "source": [
        "g = sns.countplot(x=\"Title\",data=dataset)\n",
        "g = plt.setp(g.get_xticklabels(), rotation=45) "
      ],
      "execution_count": 0,
      "outputs": []
    },
    {
      "metadata": {
        "_uuid": "8ac4a677e2f948f6730f888f090580d5f4a0c68f",
        "_cell_guid": "3d45059d-f8d2-48e6-9bf4-f51287081f13",
        "id": "5TXH_YE1EbwU",
        "colab_type": "text"
      },
      "cell_type": "markdown",
      "source": [
        "There is 17 titles in the dataset, most of them are very rare and we can group them in 4 categories."
      ]
    },
    {
      "metadata": {
        "trusted": false,
        "_execution_state": "idle",
        "_uuid": "42d91bccd9fb1e3922af2d2ed65fd72505b80d7b",
        "_cell_guid": "8f384079-11c3-4646-91e8-3bb6edfc32f7",
        "id": "Ft6NDkIsEbwV",
        "colab_type": "code",
        "colab": {}
      },
      "cell_type": "code",
      "source": [
        "# Convert to categorical values Title \n",
        "dataset[\"Title\"] = dataset[\"Title\"].replace(['Lady', 'the Countess','Countess','Capt', 'Col','Don', 'Dr', 'Major', 'Rev', 'Sir', 'Jonkheer', 'Dona'], 'Rare')\n",
        "dataset[\"Title\"] = dataset[\"Title\"].map({\"Master\":0, \"Miss\":1, \"Ms\" : 1 , \"Mme\":1, \"Mlle\":1, \"Mrs\":1, \"Mr\":2, \"Rare\":3})\n",
        "dataset[\"Title\"] = dataset[\"Title\"].astype(int)"
      ],
      "execution_count": 0,
      "outputs": []
    },
    {
      "metadata": {
        "trusted": false,
        "_execution_state": "idle",
        "_uuid": "93cf929ef5820f7a80ab1e361c4dcfc91ea7bada",
        "_cell_guid": "ae68ea70-f46f-44dd-9139-1b22b42db64d",
        "id": "6HoeZgM1Ebwa",
        "colab_type": "code",
        "colab": {}
      },
      "cell_type": "code",
      "source": [
        "g = sns.countplot(dataset[\"Title\"])\n",
        "g = g.set_xticklabels([\"Master\",\"Miss/Ms/Mme/Mlle/Mrs\",\"Mr\",\"Rare\"])"
      ],
      "execution_count": 0,
      "outputs": []
    },
    {
      "metadata": {
        "trusted": false,
        "_execution_state": "idle",
        "_uuid": "c84f4576efb1e788f43efc8473cae8e2e288a7c5",
        "_cell_guid": "af279ec3-7f14-4f9f-a5b8-ca7ed0308ccb",
        "scrolled": true,
        "id": "-7w7pROYEbwd",
        "colab_type": "code",
        "colab": {}
      },
      "cell_type": "code",
      "source": [
        "g = sns.factorplot(x=\"Title\",y=\"Survived\",data=dataset,kind=\"bar\")\n",
        "g = g.set_xticklabels([\"Master\",\"Miss-Mrs\",\"Mr\",\"Rare\"])\n",
        "g = g.set_ylabels(\"survival probability\")"
      ],
      "execution_count": 0,
      "outputs": []
    },
    {
      "metadata": {
        "_uuid": "3b4b0d70350604152efe97d2053d6d7dc7cb4b25",
        "_cell_guid": "f1bbc7b0-8409-4ad5-a33b-29f2aee74784",
        "id": "4YvPssVzEbwh",
        "colab_type": "text"
      },
      "cell_type": "markdown",
      "source": [
        "\"Women and children first\" \n",
        "\n",
        "It is interesting to note that passengers with rare title have more chance to survive."
      ]
    },
    {
      "metadata": {
        "trusted": false,
        "_execution_state": "idle",
        "_uuid": "278bacd6b9d3c201fc643b14e60789140d575fc6",
        "_cell_guid": "6cf8a389-5233-48e5-a9f1-be881b5fcee2",
        "id": "Eu8wnJl6Ebwk",
        "colab_type": "code",
        "colab": {}
      },
      "cell_type": "code",
      "source": [
        "# Drop Name variable\n",
        "dataset.drop(labels = [\"Name\"], axis = 1, inplace = True)"
      ],
      "execution_count": 0,
      "outputs": []
    },
    {
      "metadata": {
        "_uuid": "dee6c87265bb03709256b285c781b9d33df88540",
        "_cell_guid": "7986ce87-0d31-42dc-9a4d-42a52b15e537",
        "id": "Obegl4UqEbwt",
        "colab_type": "text"
      },
      "cell_type": "markdown",
      "source": [
        "### 5.2 Family size\n",
        "\n",
        "We can imagine that large families will have more difficulties to evacuate, looking for theirs sisters/brothers/parents during the evacuation. So, i choosed to create a \"Fize\" (family size) feature which is the sum of SibSp , Parch and 1 (including the passenger)."
      ]
    },
    {
      "metadata": {
        "trusted": false,
        "_execution_state": "idle",
        "_uuid": "b08c8ba6c2e0664deb6eee0017655ae3b5ef0718",
        "_cell_guid": "7341be40-5419-47ea-817b-1e20ad233023",
        "collapsed": true,
        "id": "EcWa_ueJEbwu",
        "colab_type": "code",
        "colab": {}
      },
      "cell_type": "code",
      "source": [
        "# Create a family size descriptor from SibSp and Parch\n",
        "dataset[\"Fsize\"] = dataset[\"SibSp\"] + dataset[\"Parch\"] + 1"
      ],
      "execution_count": 0,
      "outputs": []
    },
    {
      "metadata": {
        "trusted": false,
        "_execution_state": "idle",
        "_uuid": "55ad8bc503417ff58190ee6e11c570e7c998ca3c",
        "_cell_guid": "76d434ad-fd12-4b70-9b10-676909418a7f",
        "id": "_cF0CjipEbww",
        "colab_type": "code",
        "colab": {}
      },
      "cell_type": "code",
      "source": [
        "g = sns.factorplot(x=\"Fsize\",y=\"Survived\",data = dataset)\n",
        "g = g.set_ylabels(\"Survival Probability\")"
      ],
      "execution_count": 0,
      "outputs": []
    },
    {
      "metadata": {
        "_uuid": "e819ab0dacb7461a119c5088e5de49df148840c6",
        "_cell_guid": "ef5f2bd9-2f89-4343-9ec2-ed514c122ee0",
        "id": "01ICnhEkEbwy",
        "colab_type": "text"
      },
      "cell_type": "markdown",
      "source": [
        "The family size seems to play an important role, survival probability is worst for large families.\n",
        "\n",
        "Additionally, i decided to created 4 categories of family size."
      ]
    },
    {
      "metadata": {
        "trusted": false,
        "_execution_state": "idle",
        "_uuid": "dae243d75f6059fc11aea7e4450d3e57cb97bcc7",
        "_cell_guid": "46d42335-2838-4ef0-9c38-f5055d3adeda",
        "collapsed": true,
        "id": "-VozczE3Ebwy",
        "colab_type": "code",
        "colab": {}
      },
      "cell_type": "code",
      "source": [
        "# Create new feature of family size\n",
        "dataset['Single'] = dataset['Fsize'].map(lambda s: 1 if s == 1 else 0)\n",
        "dataset['SmallF'] = dataset['Fsize'].map(lambda s: 1 if  s == 2  else 0)\n",
        "dataset['MedF'] = dataset['Fsize'].map(lambda s: 1 if 3 <= s <= 4 else 0)\n",
        "dataset['LargeF'] = dataset['Fsize'].map(lambda s: 1 if s >= 5 else 0)"
      ],
      "execution_count": 0,
      "outputs": []
    },
    {
      "metadata": {
        "trusted": false,
        "_execution_state": "idle",
        "_uuid": "a566a19da2f9f3c675576af93652a4ec0832dbf5",
        "_cell_guid": "31ba92cc-3805-4027-802f-30f56623c6d0",
        "id": "X5blkCdHEbw0",
        "colab_type": "code",
        "colab": {}
      },
      "cell_type": "code",
      "source": [
        "g = sns.factorplot(x=\"Single\",y=\"Survived\",data=dataset,kind=\"bar\")\n",
        "g = g.set_ylabels(\"Survival Probability\")\n",
        "g = sns.factorplot(x=\"SmallF\",y=\"Survived\",data=dataset,kind=\"bar\")\n",
        "g = g.set_ylabels(\"Survival Probability\")\n",
        "g = sns.factorplot(x=\"MedF\",y=\"Survived\",data=dataset,kind=\"bar\")\n",
        "g = g.set_ylabels(\"Survival Probability\")\n",
        "g = sns.factorplot(x=\"LargeF\",y=\"Survived\",data=dataset,kind=\"bar\")\n",
        "g = g.set_ylabels(\"Survival Probability\")"
      ],
      "execution_count": 0,
      "outputs": []
    },
    {
      "metadata": {
        "_uuid": "4063cfc83ffb6073484a54af736c4e0ba18605d8",
        "_cell_guid": "f042d635-21d9-4e26-9fe5-2b41781941cf",
        "id": "HLe9KRLxEbw4",
        "colab_type": "text"
      },
      "cell_type": "markdown",
      "source": [
        "Factorplots of family size categories show that Small and Medium families have more chance to survive than single passenger and large families."
      ]
    },
    {
      "metadata": {
        "trusted": false,
        "_execution_state": "idle",
        "_uuid": "11c3ca3a47e89a8b44a7970966d97f4ac80fbe96",
        "_cell_guid": "5afbf13e-d2c3-4b64-a69c-389d5c1ddaa3",
        "collapsed": true,
        "id": "-Ii3IF4PEbw6",
        "colab_type": "code",
        "colab": {}
      },
      "cell_type": "code",
      "source": [
        "# convert to indicator values Title and Embarked \n",
        "dataset = pd.get_dummies(dataset, columns = [\"Title\"])\n",
        "dataset = pd.get_dummies(dataset, columns = [\"Embarked\"], prefix=\"Em\")"
      ],
      "execution_count": 0,
      "outputs": []
    },
    {
      "metadata": {
        "trusted": false,
        "_execution_state": "idle",
        "_uuid": "0a20672f079d29e236f478bf9360e5efdcbb2bf1",
        "_cell_guid": "c1e45f63-e372-40ad-800b-ad21030c8c4e",
        "scrolled": false,
        "id": "z59WoJJnEbw_",
        "colab_type": "code",
        "colab": {}
      },
      "cell_type": "code",
      "source": [
        "dataset.head()"
      ],
      "execution_count": 0,
      "outputs": []
    },
    {
      "metadata": {
        "_uuid": "ad5392dc26dde4b7752e35b5154ff0cde0596ec3",
        "_cell_guid": "608e89ac-943b-42d0-b7aa-95c3fb26c1ca",
        "id": "DSOpgtVQEbxB",
        "colab_type": "text"
      },
      "cell_type": "markdown",
      "source": [
        "At this stage, we have 22 features."
      ]
    },
    {
      "metadata": {
        "_uuid": "b41aee65c56e848eb9dfab10313e730dd0cd3c3b",
        "_cell_guid": "a273b891-3f86-4bff-ad57-9d74dfdde857",
        "id": "O6DJpwAaEbxC",
        "colab_type": "text"
      },
      "cell_type": "markdown",
      "source": [
        "### 5.3 Cabin"
      ]
    },
    {
      "metadata": {
        "trusted": false,
        "_execution_state": "idle",
        "_uuid": "742a8cb19ac5c7764ab9d3c54651e72fc866054e",
        "_cell_guid": "f92a05ed-b765-4bbb-ab66-38fd70a19bfd",
        "id": "TSkL-l_WEbxE",
        "colab_type": "code",
        "colab": {}
      },
      "cell_type": "code",
      "source": [
        "dataset[\"Cabin\"].head()"
      ],
      "execution_count": 0,
      "outputs": []
    },
    {
      "metadata": {
        "trusted": false,
        "_execution_state": "idle",
        "_uuid": "2417bdc3d72a9b236426ed28a2e31d1b3e8a9278",
        "_cell_guid": "a744a974-e98c-4e32-9a46-78a80164417f",
        "id": "0FzORCKcEbxF",
        "colab_type": "code",
        "colab": {}
      },
      "cell_type": "code",
      "source": [
        "dataset[\"Cabin\"].describe()"
      ],
      "execution_count": 0,
      "outputs": []
    },
    {
      "metadata": {
        "trusted": false,
        "_execution_state": "idle",
        "_uuid": "775256fe0ee6f47145734131f3e4e9cebf3e0f29",
        "_cell_guid": "425ea537-09d7-45c6-a8b5-d614e06d230a",
        "id": "4WHBOXs4EbxI",
        "colab_type": "code",
        "colab": {}
      },
      "cell_type": "code",
      "source": [
        "dataset[\"Cabin\"].isnull().sum()"
      ],
      "execution_count": 0,
      "outputs": []
    },
    {
      "metadata": {
        "_uuid": "5e5983622074a39f7f04d539a33770eca2a8ac51",
        "_cell_guid": "42d9fb0e-df27-4644-8a19-2f8f6765a044",
        "id": "9tbbFSwAEbxL",
        "colab_type": "text"
      },
      "cell_type": "markdown",
      "source": [
        "The Cabin feature column contains 292 values and 1007 missing values.\n",
        "\n",
        "I supposed that passengers without a cabin have a missing value displayed instead of the cabin number."
      ]
    },
    {
      "metadata": {
        "trusted": false,
        "_execution_state": "idle",
        "_uuid": "918385fc1d1dfc09fdba113297ed41537d0cf5ad",
        "_cell_guid": "dcb93a5c-b585-40d9-beac-480a9668fab5",
        "id": "VgS3K0EmEbxM",
        "colab_type": "code",
        "colab": {}
      },
      "cell_type": "code",
      "source": [
        "dataset[\"Cabin\"][dataset[\"Cabin\"].notnull()].head()"
      ],
      "execution_count": 0,
      "outputs": []
    },
    {
      "metadata": {
        "trusted": false,
        "_execution_state": "idle",
        "_uuid": "3b1fdb9d130a85709c3692d278741da05a132af8",
        "_cell_guid": "6a306791-5680-48a0-98b3-84e043028200",
        "collapsed": true,
        "id": "jTQzudr0EbxP",
        "colab_type": "code",
        "colab": {}
      },
      "cell_type": "code",
      "source": [
        "# Replace the Cabin number by the type of cabin 'X' if not\n",
        "dataset[\"Cabin\"] = pd.Series([i[0] if not pd.isnull(i) else 'X' for i in dataset['Cabin'] ])"
      ],
      "execution_count": 0,
      "outputs": []
    },
    {
      "metadata": {
        "_uuid": "c6c9d74a94eeeb636e8a9e7c1709a53b277403d7",
        "_cell_guid": "827e3270-bd1b-40f6-8501-65e9e8dc0f79",
        "id": "be2jCbTNEbxX",
        "colab_type": "text"
      },
      "cell_type": "markdown",
      "source": [
        "The first letter of the cabin indicates the Desk, i choosed to keep this information only, since it indicates the probable location of the passenger in the Titanic."
      ]
    },
    {
      "metadata": {
        "trusted": false,
        "_execution_state": "idle",
        "_uuid": "dc5bbf918acae6e2e4df6d59ebd53e650c3fffb4",
        "_cell_guid": "ca0f1628-2043-4d66-a4b7-6b7699aab6c3",
        "id": "scAroFCHEbxZ",
        "colab_type": "code",
        "colab": {}
      },
      "cell_type": "code",
      "source": [
        "g = sns.countplot(dataset[\"Cabin\"],order=['A','B','C','D','E','F','G','T','X'])"
      ],
      "execution_count": 0,
      "outputs": []
    },
    {
      "metadata": {
        "trusted": false,
        "_execution_state": "idle",
        "_uuid": "76bccc57308b11231bf82597e8ea39963d1d8527",
        "_cell_guid": "bb103074-c3af-4d8e-a225-d4e5deead4b7",
        "id": "F5Z6g_jNEbxg",
        "colab_type": "code",
        "colab": {}
      },
      "cell_type": "code",
      "source": [
        "g = sns.factorplot(y=\"Survived\",x=\"Cabin\",data=dataset,kind=\"bar\",order=['A','B','C','D','E','F','G','T','X'])\n",
        "g = g.set_ylabels(\"Survival Probability\")\n"
      ],
      "execution_count": 0,
      "outputs": []
    },
    {
      "metadata": {
        "_uuid": "9ab985ed0e8c58f6e649bace21d8a62db44d42af",
        "_cell_guid": "337fb3c8-0324-4279-8edd-ec3a6795374a",
        "id": "0lBvh9TWEbxk",
        "colab_type": "text"
      },
      "cell_type": "markdown",
      "source": [
        "Because of the low number of passenger that have a cabin, survival probabilities have an important standard deviation and we can't distinguish between survival probability of passengers in the different desks. \n",
        "\n",
        "But we can see that passengers with a cabin have generally more chance to survive than passengers without (X).\n",
        "\n",
        "It is particularly true for cabin B, C, D, E and F."
      ]
    },
    {
      "metadata": {
        "trusted": false,
        "_execution_state": "idle",
        "_uuid": "c01f29b2f8a3ff73e9a3f0ea7981aa8c7eefd44e",
        "_cell_guid": "f0c40abb-bdec-4363-99d9-9ee1af6eb41d",
        "collapsed": true,
        "id": "vx5BeVmLEbxl",
        "colab_type": "code",
        "colab": {}
      },
      "cell_type": "code",
      "source": [
        "dataset = pd.get_dummies(dataset, columns = [\"Cabin\"],prefix=\"Cabin\")"
      ],
      "execution_count": 0,
      "outputs": []
    },
    {
      "metadata": {
        "_uuid": "8c742e374e675f61ba57b3e792f4242696c931b6",
        "_cell_guid": "77ecd7f2-031d-4d0c-b6f6-84ef0f9b0f9e",
        "id": "viTlJ5u0Ebxn",
        "colab_type": "text"
      },
      "cell_type": "markdown",
      "source": [
        "### 5.4 Ticket"
      ]
    },
    {
      "metadata": {
        "trusted": false,
        "_execution_state": "idle",
        "_uuid": "2f250a40a9a56788bac92cfd8cebfa7232550837",
        "_cell_guid": "3813198b-aa76-472c-a86b-c202b2dcf528",
        "id": "6WneBfujEbxo",
        "colab_type": "code",
        "colab": {}
      },
      "cell_type": "code",
      "source": [
        "dataset[\"Ticket\"].head()"
      ],
      "execution_count": 0,
      "outputs": []
    },
    {
      "metadata": {
        "_uuid": "f2d60b9b8707367a85107a9587f64b2ca32a0708",
        "_cell_guid": "53add635-6434-4c79-8c4f-9cb7e8ba1d51",
        "id": "OGa0BOIGEbxr",
        "colab_type": "text"
      },
      "cell_type": "markdown",
      "source": [
        "It could mean that tickets sharing the same prefixes could be booked for cabins placed together. It could therefore lead to the actual placement of the cabins within the ship.\n",
        "\n",
        "Tickets with same prefixes may have a similar class and survival.\n",
        "\n",
        "So i decided to replace the Ticket feature column by the ticket prefixe. Which may be more informative."
      ]
    },
    {
      "metadata": {
        "trusted": false,
        "_execution_state": "idle",
        "_uuid": "4aad234dfe66c294c2dc521cddf40a4a3b811b99",
        "_cell_guid": "d2446fa1-24d2-4cb6-b79d-776f4960a803",
        "id": "WSzRUsdtEbxs",
        "colab_type": "code",
        "colab": {}
      },
      "cell_type": "code",
      "source": [
        "## Treat Ticket by extracting the ticket prefix. When there is no prefix it returns X. \n",
        "\n",
        "Ticket = []\n",
        "for i in list(dataset.Ticket):\n",
        "    if not i.isdigit() :\n",
        "        Ticket.append(i.replace(\".\",\"\").replace(\"/\",\"\").strip().split(' ')[0]) #Take prefix\n",
        "    else:\n",
        "        Ticket.append(\"X\")\n",
        "        \n",
        "dataset[\"Ticket\"] = Ticket\n",
        "dataset[\"Ticket\"].head()\n"
      ],
      "execution_count": 0,
      "outputs": []
    },
    {
      "metadata": {
        "trusted": false,
        "_execution_state": "idle",
        "_uuid": "dcaa6257a9362e30d6eccd63343dbf31be09306c",
        "_cell_guid": "b9bbd7c7-e643-445c-bf1a-9cb7cd8d1831",
        "collapsed": true,
        "id": "lq7vvIDZEbxv",
        "colab_type": "code",
        "colab": {}
      },
      "cell_type": "code",
      "source": [
        "dataset = pd.get_dummies(dataset, columns = [\"Ticket\"], prefix=\"T\")"
      ],
      "execution_count": 0,
      "outputs": []
    },
    {
      "metadata": {
        "trusted": false,
        "_execution_state": "idle",
        "_uuid": "39a45c4964cce9bebd37ef4b6b07f37cb7dd0c3d",
        "_cell_guid": "0fdb0de3-cb8e-435f-8bc8-4bb35825028d",
        "collapsed": true,
        "id": "SWvPTBWvEbx0",
        "colab_type": "code",
        "colab": {}
      },
      "cell_type": "code",
      "source": [
        "# Create categorical values for Pclass\n",
        "dataset[\"Pclass\"] = dataset[\"Pclass\"].astype(\"category\")\n",
        "dataset = pd.get_dummies(dataset, columns = [\"Pclass\"],prefix=\"Pc\")"
      ],
      "execution_count": 0,
      "outputs": []
    },
    {
      "metadata": {
        "trusted": false,
        "_execution_state": "idle",
        "_uuid": "277f09dfd73bf2de5c8791f09319e1d303ba0b56",
        "_cell_guid": "f907a52d-4c15-4c47-80b5-5b6b34ffe18a",
        "collapsed": true,
        "id": "rONPoz4mEbx3",
        "colab_type": "code",
        "colab": {}
      },
      "cell_type": "code",
      "source": [
        "# Drop useless variables \n",
        "dataset.drop(labels = [\"PassengerId\"], axis = 1, inplace = True)"
      ],
      "execution_count": 0,
      "outputs": []
    },
    {
      "metadata": {
        "trusted": false,
        "_execution_state": "idle",
        "_uuid": "49096bcc2748d4d2a13df57264647cd804cafea5",
        "_cell_guid": "a04185b2-d152-4888-99b8-9fcf384ce9e4",
        "id": "6oJtE9-MEbx5",
        "colab_type": "code",
        "colab": {}
      },
      "cell_type": "code",
      "source": [
        "dataset.head()"
      ],
      "execution_count": 0,
      "outputs": []
    },
    {
      "metadata": {
        "_uuid": "cffc397b025d6895efc48d066b711a3983d5bf79",
        "_cell_guid": "72e668d1-11ff-4d9a-91c9-4f568aba9a81",
        "id": "okS4je_vEbx7",
        "colab_type": "text"
      },
      "cell_type": "markdown",
      "source": [
        "## 6. MODELING"
      ]
    },
    {
      "metadata": {
        "trusted": false,
        "_execution_state": "idle",
        "_uuid": "a07bbb992a90a29f248fb2965b02315fba6597e4",
        "_cell_guid": "af772507-4dc0-4eeb-ae93-ac47fbbf945c",
        "id": "U02uZnusEbx8",
        "colab_type": "code",
        "colab": {}
      },
      "cell_type": "code",
      "source": [
        "## Separate train dataset and test dataset\n",
        "\n",
        "train = dataset[:train_len]\n",
        "test = dataset[train_len:]\n",
        "test.drop(labels=[\"Survived\"],axis = 1,inplace=True)"
      ],
      "execution_count": 0,
      "outputs": []
    },
    {
      "metadata": {
        "trusted": false,
        "_execution_state": "idle",
        "_uuid": "6f42511d798fbd140ff1f2b17d4354342df2b17b",
        "_cell_guid": "af46f2f3-e20d-4999-9318-f98c2063dfeb",
        "scrolled": true,
        "id": "yyBd_iUWEbyA",
        "colab_type": "code",
        "colab": {}
      },
      "cell_type": "code",
      "source": [
        "## Separate train features and label \n",
        "\n",
        "train[\"Survived\"] = train[\"Survived\"].astype(int)\n",
        "\n",
        "Y_train = train[\"Survived\"]\n",
        "\n",
        "X_train = train.drop(labels = [\"Survived\"],axis = 1)"
      ],
      "execution_count": 0,
      "outputs": []
    },
    {
      "metadata": {
        "_uuid": "c541e1052c6fb529de2fd42ae5166d735bcdecd5",
        "_cell_guid": "31276c4e-a992-4f42-b9d2-fe48ac3f0733",
        "id": "HiD2NhBCEbyB",
        "colab_type": "text"
      },
      "cell_type": "markdown",
      "source": [
        "### 6.1 Simple modeling\n",
        "#### 6.1.1 Cross validate models\n",
        "\n",
        "I compared 10 popular classifiers and evaluate the mean accuracy of each of them by a stratified kfold cross validation procedure.\n",
        "\n",
        "* SVC\n",
        "* Decision Tree\n",
        "* AdaBoost \n",
        "* Random Forest\n",
        "* Extra Trees\n",
        "* Gradient Boosting\n",
        "* Multiple layer perceprton (neural network)\n",
        "* KNN\n",
        "* Logistic regression\n",
        "* Linear Discriminant Analysis"
      ]
    },
    {
      "metadata": {
        "trusted": false,
        "_execution_state": "idle",
        "_uuid": "2c660f943c3f97f08f1c6179cb4e82cab5436eb3",
        "_cell_guid": "7e809ec9-cb78-4aad-85d8-1543515e31c7",
        "collapsed": true,
        "id": "1Eo4ghqYEbyK",
        "colab_type": "code",
        "colab": {}
      },
      "cell_type": "code",
      "source": [
        "# Cross validate model with Kfold stratified cross val\n",
        "kfold = StratifiedKFold(n_splits=10)"
      ],
      "execution_count": 0,
      "outputs": []
    },
    {
      "metadata": {
        "trusted": false,
        "_execution_state": "idle",
        "_uuid": "3b1cf6c8671e432c222d8fd8058049464d0fed86",
        "_cell_guid": "aa6e6f87-95a0-447b-928d-b7f3508af494",
        "scrolled": true,
        "id": "U7_e5MHPEbyQ",
        "colab_type": "code",
        "colab": {}
      },
      "cell_type": "code",
      "source": [
        "# Modeling step Test differents algorithms \n",
        "random_state = 2\n",
        "classifiers = []\n",
        "classifiers.append(SVC(random_state=random_state))\n",
        "classifiers.append(DecisionTreeClassifier(random_state=random_state))\n",
        "classifiers.append(AdaBoostClassifier(DecisionTreeClassifier(random_state=random_state),random_state=random_state,learning_rate=0.1))\n",
        "classifiers.append(RandomForestClassifier(random_state=random_state))\n",
        "classifiers.append(ExtraTreesClassifier(random_state=random_state))\n",
        "classifiers.append(GradientBoostingClassifier(random_state=random_state))\n",
        "classifiers.append(MLPClassifier(random_state=random_state))\n",
        "classifiers.append(KNeighborsClassifier())\n",
        "classifiers.append(LogisticRegression(random_state = random_state))\n",
        "classifiers.append(LinearDiscriminantAnalysis())\n",
        "\n",
        "cv_results = []\n",
        "for classifier in classifiers :\n",
        "    cv_results.append(cross_val_score(classifier, X_train, y = Y_train, scoring = \"accuracy\", cv = kfold, n_jobs=4))\n",
        "\n",
        "cv_means = []\n",
        "cv_std = []\n",
        "for cv_result in cv_results:\n",
        "    cv_means.append(cv_result.mean())\n",
        "    cv_std.append(cv_result.std())\n",
        "\n",
        "cv_res = pd.DataFrame({\"CrossValMeans\":cv_means,\"CrossValerrors\": cv_std,\"Algorithm\":[\"SVC\",\"DecisionTree\",\"AdaBoost\",\n",
        "\"RandomForest\",\"ExtraTrees\",\"GradientBoosting\",\"MultipleLayerPerceptron\",\"KNeighboors\",\"LogisticRegression\",\"LinearDiscriminantAnalysis\"]})\n",
        "\n",
        "g = sns.barplot(\"CrossValMeans\",\"Algorithm\",data = cv_res, palette=\"Set3\",orient = \"h\",**{'xerr':cv_std})\n",
        "g.set_xlabel(\"Mean Accuracy\")\n",
        "g = g.set_title(\"Cross validation scores\")\n"
      ],
      "execution_count": 0,
      "outputs": []
    },
    {
      "metadata": {
        "_uuid": "a6dc3fe31873558eb587819b338499e9dcc27f2e",
        "_cell_guid": "830de6e5-49d1-45f4-8240-296f4f6503d4",
        "id": "ATixq_mgEbyW",
        "colab_type": "text"
      },
      "cell_type": "markdown",
      "source": [
        "I decided to choose the SVC, AdaBoost, RandomForest , ExtraTrees and the GradientBoosting classifiers for the ensemble modeling."
      ]
    },
    {
      "metadata": {
        "_uuid": "974fa2316b3ea11f29031561125110d0c4754b38",
        "_cell_guid": "0b896759-62ed-4cfd-8716-3684918e8c14",
        "id": "-Efvx2AeEbyY",
        "colab_type": "text"
      },
      "cell_type": "markdown",
      "source": [
        "#### 6.1.2 Hyperparameter tunning for best models\n",
        "\n",
        "I performed a grid search optimization for AdaBoost, ExtraTrees , RandomForest, GradientBoosting and SVC classifiers.\n",
        "\n",
        "I set the \"n_jobs\" parameter to 4 since i have 4 cpu . The computation time is clearly reduced.\n",
        "\n",
        "But be carefull, this step can take a long time, i took me 15 min in total on 4 cpu."
      ]
    },
    {
      "metadata": {
        "trusted": false,
        "_execution_state": "idle",
        "_uuid": "11c2ab352e21bb3f5737607786459a18217dbf27",
        "_cell_guid": "ae0047b8-3c39-4867-b011-b9e9fca3ffbf",
        "id": "zPtnovhuEbyZ",
        "colab_type": "code",
        "colab": {}
      },
      "cell_type": "code",
      "source": [
        "### META MODELING  WITH ADABOOST, RF, EXTRATREES and GRADIENTBOOSTING\n",
        "\n",
        "# Adaboost\n",
        "DTC = DecisionTreeClassifier()\n",
        "\n",
        "adaDTC = AdaBoostClassifier(DTC, random_state=7)\n",
        "\n",
        "ada_param_grid = {\"base_estimator__criterion\" : [\"gini\", \"entropy\"],\n",
        "              \"base_estimator__splitter\" :   [\"best\", \"random\"],\n",
        "              \"algorithm\" : [\"SAMME\",\"SAMME.R\"],\n",
        "              \"n_estimators\" :[1,2],\n",
        "              \"learning_rate\":  [0.0001, 0.001, 0.01, 0.1, 0.2, 0.3,1.5]}\n",
        "\n",
        "gsadaDTC = GridSearchCV(adaDTC,param_grid = ada_param_grid, cv=kfold, scoring=\"accuracy\", n_jobs= 4, verbose = 1)\n",
        "\n",
        "gsadaDTC.fit(X_train,Y_train)\n",
        "\n",
        "ada_best = gsadaDTC.best_estimator_\n"
      ],
      "execution_count": 0,
      "outputs": []
    },
    {
      "metadata": {
        "trusted": false,
        "_execution_state": "idle",
        "_uuid": "ff4f75a6190a6bac14dea2786eb7c0bc63a0ed11",
        "_cell_guid": "f482951b-b6a3-4de9-b3b7-a24604689c49",
        "id": "SbcWtBdrEbyc",
        "colab_type": "code",
        "colab": {}
      },
      "cell_type": "code",
      "source": [
        "gsadaDTC.best_score_"
      ],
      "execution_count": 0,
      "outputs": []
    },
    {
      "metadata": {
        "trusted": false,
        "_execution_state": "idle",
        "_uuid": "31f9ee1960198d1b2710eeb2424af83c0392d2f7",
        "_cell_guid": "d3b78972-0086-4d64-abf2-917feaaf8a24",
        "id": "Y1xkXpGzEbyd",
        "colab_type": "code",
        "colab": {}
      },
      "cell_type": "code",
      "source": [
        "#ExtraTrees \n",
        "ExtC = ExtraTreesClassifier()\n",
        "\n",
        "\n",
        "## Search grid for optimal parameters\n",
        "ex_param_grid = {\"max_depth\": [None],\n",
        "              \"max_features\": [1, 3, 10],\n",
        "              \"min_samples_split\": [2, 3, 10],\n",
        "              \"min_samples_leaf\": [1, 3, 10],\n",
        "              \"bootstrap\": [False],\n",
        "              \"n_estimators\" :[100,300],\n",
        "              \"criterion\": [\"gini\"]}\n",
        "\n",
        "\n",
        "gsExtC = GridSearchCV(ExtC,param_grid = ex_param_grid, cv=kfold, scoring=\"accuracy\", n_jobs= 4, verbose = 1)\n",
        "\n",
        "gsExtC.fit(X_train,Y_train)\n",
        "\n",
        "ExtC_best = gsExtC.best_estimator_\n",
        "\n",
        "# Best score\n",
        "gsExtC.best_score_\n"
      ],
      "execution_count": 0,
      "outputs": []
    },
    {
      "metadata": {
        "trusted": false,
        "_execution_state": "idle",
        "_uuid": "89b4b827d0395b0621a843e2b726ecde50d4431c",
        "_cell_guid": "ea436284-44e9-4f12-bbfa-972da4434ac9",
        "id": "aHswO7TtEbyf",
        "colab_type": "code",
        "colab": {}
      },
      "cell_type": "code",
      "source": [
        "# RFC Parameters tunning \n",
        "RFC = RandomForestClassifier()\n",
        "\n",
        "\n",
        "## Search grid for optimal parameters\n",
        "rf_param_grid = {\"max_depth\": [None],\n",
        "              \"max_features\": [1, 3, 10],\n",
        "              \"min_samples_split\": [2, 3, 10],\n",
        "              \"min_samples_leaf\": [1, 3, 10],\n",
        "              \"bootstrap\": [False],\n",
        "              \"n_estimators\" :[100,300],\n",
        "              \"criterion\": [\"gini\"]}\n",
        "\n",
        "\n",
        "gsRFC = GridSearchCV(RFC,param_grid = rf_param_grid, cv=kfold, scoring=\"accuracy\", n_jobs= 4, verbose = 1)\n",
        "\n",
        "gsRFC.fit(X_train,Y_train)\n",
        "\n",
        "RFC_best = gsRFC.best_estimator_\n",
        "\n",
        "# Best score\n",
        "gsRFC.best_score_"
      ],
      "execution_count": 0,
      "outputs": []
    },
    {
      "metadata": {
        "trusted": false,
        "_execution_state": "idle",
        "_uuid": "48acde1fd7bfc7e20fb7f57903a8315cdb94ba82",
        "_cell_guid": "4560bcb5-7d2b-4f6b-a935-59dc4a02072b",
        "id": "Wt5s4YLIEbyg",
        "colab_type": "code",
        "colab": {}
      },
      "cell_type": "code",
      "source": [
        "# Gradient boosting tunning\n",
        "\n",
        "GBC = GradientBoostingClassifier()\n",
        "gb_param_grid = {'loss' : [\"deviance\"],\n",
        "              'n_estimators' : [100,200,300],\n",
        "              'learning_rate': [0.1, 0.05, 0.01],\n",
        "              'max_depth': [4, 8],\n",
        "              'min_samples_leaf': [100,150],\n",
        "              'max_features': [0.3, 0.1] \n",
        "              }\n",
        "\n",
        "gsGBC = GridSearchCV(GBC,param_grid = gb_param_grid, cv=kfold, scoring=\"accuracy\", n_jobs= 4, verbose = 1)\n",
        "\n",
        "gsGBC.fit(X_train,Y_train)\n",
        "\n",
        "GBC_best = gsGBC.best_estimator_\n",
        "\n",
        "# Best score\n",
        "gsGBC.best_score_\n"
      ],
      "execution_count": 0,
      "outputs": []
    },
    {
      "metadata": {
        "trusted": false,
        "_execution_state": "idle",
        "_uuid": "a9c49e555d6561a08d1d5881f312507e355797ba",
        "_cell_guid": "912be26a-177b-41ef-bfee-d608861f7c0e",
        "id": "4AHO8FI3Ebym",
        "colab_type": "code",
        "colab": {}
      },
      "cell_type": "code",
      "source": [
        "### SVC classifier\n",
        "SVMC = SVC(probability=True)\n",
        "svc_param_grid = {'kernel': ['rbf'], \n",
        "                  'gamma': [ 0.001, 0.01, 0.1, 1],\n",
        "                  'C': [1, 10, 50, 100,200,300, 1000]}\n",
        "\n",
        "gsSVMC = GridSearchCV(SVMC,param_grid = svc_param_grid, cv=kfold, scoring=\"accuracy\", n_jobs= 4, verbose = 1)\n",
        "\n",
        "gsSVMC.fit(X_train,Y_train)\n",
        "\n",
        "SVMC_best = gsSVMC.best_estimator_\n",
        "\n",
        "# Best score\n",
        "gsSVMC.best_score_"
      ],
      "execution_count": 0,
      "outputs": []
    },
    {
      "metadata": {
        "_uuid": "9d1a4df44baf282b1f708633a3ac1fb693521033",
        "_cell_guid": "93dfb86a-1078-4879-952b-fdb56e83ec15",
        "id": "HDMn0WlkEbyo",
        "colab_type": "text"
      },
      "cell_type": "markdown",
      "source": [
        "#### 6.1.3 Plot learning curves\n",
        "\n",
        "Learning curves are a good way to see the overfitting effect on the training set and the effect of the training size on the accuracy."
      ]
    },
    {
      "metadata": {
        "trusted": false,
        "_execution_state": "idle",
        "_uuid": "dd90222417d3f25f7d4a5f1a22d47e7dd01d2628",
        "_cell_guid": "4dfe9464-46bd-4087-b7d3-1f8dc66b3288",
        "scrolled": false,
        "id": "N2J2h4tAEbyo",
        "colab_type": "code",
        "colab": {}
      },
      "cell_type": "code",
      "source": [
        "def plot_learning_curve(estimator, title, X, y, ylim=None, cv=None,\n",
        "                        n_jobs=-1, train_sizes=np.linspace(.1, 1.0, 5)):\n",
        "    \"\"\"Generate a simple plot of the test and training learning curve\"\"\"\n",
        "    plt.figure()\n",
        "    plt.title(title)\n",
        "    if ylim is not None:\n",
        "        plt.ylim(*ylim)\n",
        "    plt.xlabel(\"Training examples\")\n",
        "    plt.ylabel(\"Score\")\n",
        "    train_sizes, train_scores, test_scores = learning_curve(\n",
        "        estimator, X, y, cv=cv, n_jobs=n_jobs, train_sizes=train_sizes)\n",
        "    train_scores_mean = np.mean(train_scores, axis=1)\n",
        "    train_scores_std = np.std(train_scores, axis=1)\n",
        "    test_scores_mean = np.mean(test_scores, axis=1)\n",
        "    test_scores_std = np.std(test_scores, axis=1)\n",
        "    plt.grid()\n",
        "\n",
        "    plt.fill_between(train_sizes, train_scores_mean - train_scores_std,\n",
        "                     train_scores_mean + train_scores_std, alpha=0.1,\n",
        "                     color=\"r\")\n",
        "    plt.fill_between(train_sizes, test_scores_mean - test_scores_std,\n",
        "                     test_scores_mean + test_scores_std, alpha=0.1, color=\"g\")\n",
        "    plt.plot(train_sizes, train_scores_mean, 'o-', color=\"r\",\n",
        "             label=\"Training score\")\n",
        "    plt.plot(train_sizes, test_scores_mean, 'o-', color=\"g\",\n",
        "             label=\"Cross-validation score\")\n",
        "\n",
        "    plt.legend(loc=\"best\")\n",
        "    return plt\n",
        "\n",
        "g = plot_learning_curve(gsRFC.best_estimator_,\"RF mearning curves\",X_train,Y_train,cv=kfold)\n",
        "g = plot_learning_curve(gsExtC.best_estimator_,\"ExtraTrees learning curves\",X_train,Y_train,cv=kfold)\n",
        "g = plot_learning_curve(gsSVMC.best_estimator_,\"SVC learning curves\",X_train,Y_train,cv=kfold)\n",
        "g = plot_learning_curve(gsadaDTC.best_estimator_,\"AdaBoost learning curves\",X_train,Y_train,cv=kfold)\n",
        "g = plot_learning_curve(gsGBC.best_estimator_,\"GradientBoosting learning curves\",X_train,Y_train,cv=kfold)\n",
        "\n"
      ],
      "execution_count": 0,
      "outputs": []
    },
    {
      "metadata": {
        "_uuid": "c7634a54ac1bcabf96f8d0a95f727cc79391b8ef",
        "_cell_guid": "0671c52b-b678-4f18-847f-0cb6142f31a5",
        "id": "OQln1itbEbyp",
        "colab_type": "text"
      },
      "cell_type": "markdown",
      "source": [
        "GradientBoosting and Adaboost classifiers tend to overfit the training set. According to the growing cross-validation curves GradientBoosting and Adaboost could perform better with more training examples.\n",
        "\n",
        "SVC and ExtraTrees classifiers seem to better generalize the prediction since the training and cross-validation curves are close together."
      ]
    },
    {
      "metadata": {
        "_execution_state": "idle",
        "_uuid": "20b304f441d4341789d743683e750f3f59100cce",
        "_cell_guid": "089c3eea-a156-4b3e-b6ab-e023c37e47d7",
        "id": "59bsq07TEbys",
        "colab_type": "text"
      },
      "cell_type": "markdown",
      "source": [
        "#### 6.1.4 Feature importance of tree based classifiers\n",
        "\n",
        "In order to see the most informative features for the prediction of passengers survival, i displayed the feature importance for the 4 tree based classifiers."
      ]
    },
    {
      "metadata": {
        "trusted": false,
        "_execution_state": "idle",
        "_uuid": "38c021f6c098611cba61817b158f50de8c8b9ca3",
        "_cell_guid": "2ca38f85-4372-4957-940c-b2f4ba0d0048",
        "id": "lqBKGKFmEbyt",
        "colab_type": "code",
        "colab": {}
      },
      "cell_type": "code",
      "source": [
        "nrows = ncols = 2\n",
        "fig, axes = plt.subplots(nrows = nrows, ncols = ncols, sharex=\"all\", figsize=(15,15))\n",
        "\n",
        "names_classifiers = [(\"AdaBoosting\", ada_best),(\"ExtraTrees\",ExtC_best),(\"RandomForest\",RFC_best),(\"GradientBoosting\",GBC_best)]\n",
        "\n",
        "nclassifier = 0\n",
        "for row in range(nrows):\n",
        "    for col in range(ncols):\n",
        "        name = names_classifiers[nclassifier][0]\n",
        "        classifier = names_classifiers[nclassifier][1]\n",
        "        indices = np.argsort(classifier.feature_importances_)[::-1][:40]\n",
        "        g = sns.barplot(y=X_train.columns[indices][:40],x = classifier.feature_importances_[indices][:40] , orient='h',ax=axes[row][col])\n",
        "        g.set_xlabel(\"Relative importance\",fontsize=12)\n",
        "        g.set_ylabel(\"Features\",fontsize=12)\n",
        "        g.tick_params(labelsize=9)\n",
        "        g.set_title(name + \" feature importance\")\n",
        "        nclassifier += 1"
      ],
      "execution_count": 0,
      "outputs": []
    },
    {
      "metadata": {
        "_execution_state": "idle",
        "_uuid": "cbc76c761a1996a8bf7f398fd0a46a3ab905a768",
        "_cell_guid": "46d744ff-006e-4c45-b123-baa19234106e",
        "id": "PGhuLui4Ebyv",
        "colab_type": "text"
      },
      "cell_type": "markdown",
      "source": [
        "I plot the feature importance for the 4 tree based classifiers (Adaboost, ExtraTrees, RandomForest and GradientBoosting).\n",
        "\n",
        "We note that the four classifiers have different top features according to the relative importance. It means that their predictions are not based on the same features. Nevertheless, they share some common important features for the classification , for example 'Fare', 'Title_2', 'Age' and 'Sex'.\n",
        "\n",
        "Title_2 which indicates the Mrs/Mlle/Mme/Miss/Ms category is highly correlated with Sex.\n",
        "\n",
        "We can say that: \n",
        "\n",
        "- Pc_1, Pc_2, Pc_3 and Fare refer to the general social standing of passengers.\n",
        "\n",
        "- Sex and Title_2 (Mrs/Mlle/Mme/Miss/Ms) and Title_3 (Mr) refer to the gender.\n",
        "\n",
        "- Age and Title_1 (Master) refer to the age of passengers.\n",
        "\n",
        "- Fsize, LargeF, MedF, Single refer to the size of the passenger family.\n",
        "\n",
        "**According to the feature importance of this 4 classifiers, the prediction of the survival seems to be more associated with the Age, the Sex, the family size and the social standing of the passengers more than the location in the boat.**"
      ]
    },
    {
      "metadata": {
        "trusted": false,
        "_execution_state": "idle",
        "_uuid": "925567a0dfc291584bdb638aa10b6eb6acd4b309",
        "_cell_guid": "1c3e145c-40cf-4db9-a5ce-6f826aa174d0",
        "id": "X4KuPpYYEbyw",
        "colab_type": "code",
        "colab": {}
      },
      "cell_type": "code",
      "source": [
        "test_Survived_RFC = pd.Series(RFC_best.predict(test), name=\"RFC\")\n",
        "test_Survived_ExtC = pd.Series(ExtC_best.predict(test), name=\"ExtC\")\n",
        "test_Survived_SVMC = pd.Series(SVMC_best.predict(test), name=\"SVC\")\n",
        "test_Survived_AdaC = pd.Series(ada_best.predict(test), name=\"Ada\")\n",
        "test_Survived_GBC = pd.Series(GBC_best.predict(test), name=\"GBC\")\n",
        "\n",
        "\n",
        "# Concatenate all classifier results\n",
        "ensemble_results = pd.concat([test_Survived_RFC,test_Survived_ExtC,test_Survived_AdaC,test_Survived_GBC, test_Survived_SVMC],axis=1)\n",
        "\n",
        "\n",
        "g= sns.heatmap(ensemble_results.corr(),annot=True)"
      ],
      "execution_count": 0,
      "outputs": []
    },
    {
      "metadata": {
        "_uuid": "4d279b39ed2f3bc8763d84d5363b6ab9b1cd3a5c",
        "_cell_guid": "9cedca24-a17b-4721-9493-5c7f63dd3f3a",
        "id": "ASkPiJCWEbyy",
        "colab_type": "text"
      },
      "cell_type": "markdown",
      "source": [
        "The prediction seems to be quite similar for the 5 classifiers except when Adaboost is compared to the others classifiers.\n",
        "\n",
        "The 5 classifiers give more or less the same prediction but there is some differences. Theses differences between the 5 classifier predictions are sufficient to consider an ensembling vote. "
      ]
    },
    {
      "metadata": {
        "_uuid": "ad5a1f0cd14b8fffa751b0494407f854f62183ae",
        "_cell_guid": "ecb005b7-918a-4e4a-ac6d-5f26c27d46fc",
        "id": "_H2tPamnEbyz",
        "colab_type": "text"
      },
      "cell_type": "markdown",
      "source": [
        "### 6.2 Ensemble modeling\n",
        "#### 6.2.1 Combining models\n",
        "\n",
        "I choosed a voting classifier to combine the predictions coming from the 5 classifiers.\n",
        "\n",
        "I preferred to pass the argument \"soft\" to the voting parameter to take into account the probability of each vote."
      ]
    },
    {
      "metadata": {
        "trusted": false,
        "_execution_state": "idle",
        "_uuid": "0bce0c7d5bddcfa8b53a855576c1bc084adcfcd9",
        "_cell_guid": "9e042586-ecc1-4aa4-96d9-050ad029fcc2",
        "id": "m7m1bK2gEby2",
        "colab_type": "code",
        "colab": {}
      },
      "cell_type": "code",
      "source": [
        "votingC = VotingClassifier(estimators=[('rfc', RFC_best), ('extc', ExtC_best),\n",
        "('svc', SVMC_best), ('adac',ada_best),('gbc',GBC_best)], voting='soft', n_jobs=4)\n",
        "\n",
        "votingC = votingC.fit(X_train, Y_train)"
      ],
      "execution_count": 0,
      "outputs": []
    },
    {
      "metadata": {
        "_uuid": "5c54037462909e4de5a6e3d2bada10054e5b1989",
        "_cell_guid": "5a4df7a1-00b4-4613-95e7-a99e37169c4f",
        "id": "AtE8CAe-Eby-",
        "colab_type": "text"
      },
      "cell_type": "markdown",
      "source": [
        "### 6.3 Prediction\n",
        "#### 6.3.1 Predict and Submit results"
      ]
    },
    {
      "metadata": {
        "trusted": false,
        "_execution_state": "idle",
        "_uuid": "05a908322774e752b86a86275740044c45bd48b4",
        "_cell_guid": "32abc9b7-f58d-4aa2-b002-25a84138e01c",
        "collapsed": true,
        "id": "kZxHV5p_Eby_",
        "colab_type": "code",
        "colab": {}
      },
      "cell_type": "code",
      "source": [
        "test_Survived = pd.Series(votingC.predict(test), name=\"Survived\")\n",
        "\n",
        "results = pd.concat([IDtest,test_Survived],axis=1)\n",
        "\n",
        "results.to_csv(\"ensemble_python_voting.csv\",index=False)"
      ],
      "execution_count": 0,
      "outputs": []
    },
    {
      "metadata": {
        "_uuid": "d2702ee58d3bd110e462b1be557ac7087197df12",
        "_cell_guid": "7f4d4b84-1571-42b2-88d7-82df3c376fcf",
        "id": "sppTem1AEbzC",
        "colab_type": "text"
      },
      "cell_type": "markdown",
      "source": [
        "If you found this notebook helpful or you just liked it , some upvotes would be very much appreciated - That will keep me motivated :)"
      ]
    }
  ]
}