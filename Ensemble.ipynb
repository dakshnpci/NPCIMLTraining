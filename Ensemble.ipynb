{
  "nbformat": 4,
  "nbformat_minor": 0,
  "metadata": {
    "colab": {
      "name": "Ensemble.ipynb",
      "version": "0.3.2",
      "provenance": [],
      "include_colab_link": true
    },
    "kernelspec": {
      "name": "python3",
      "display_name": "Python 3"
    }
  },
  "cells": [
    {
      "cell_type": "markdown",
      "metadata": {
        "id": "view-in-github",
        "colab_type": "text"
      },
      "source": [
        "<a href=\"https://colab.research.google.com/github/dakshnpci/NPCIMLTraining/blob/master/Ensemble.ipynb\" target=\"_parent\"><img src=\"https://colab.research.google.com/assets/colab-badge.svg\" alt=\"Open In Colab\"/></a>"
      ]
    },
    {
      "metadata": {
        "id": "ZywSBw64GvXw",
        "colab_type": "code",
        "colab": {
          "base_uri": "https://localhost:8080/",
          "height": 173
        },
        "outputId": "1940a33a-c5df-440f-87c5-1fa5c15c5065"
      },
      "cell_type": "code",
      "source": [
        "# !pip install hyperopt\n",
        "# !pip install catboost\n",
        "!pip install lightgbm"
      ],
      "execution_count": 21,
      "outputs": [
        {
          "output_type": "stream",
          "text": [
            "Collecting lightgbm\n",
            "\u001b[?25l  Downloading https://files.pythonhosted.org/packages/4c/3b/4ae113193b4ee01387ed76d5eea32788aec0589df9ae7378a8b7443eaa8b/lightgbm-2.2.2-py2.py3-none-manylinux1_x86_64.whl (1.2MB)\n",
            "\r\u001b[K    0% |▎                               | 10kB 13.2MB/s eta 0:00:01\r\u001b[K    1% |▋                               | 20kB 1.6MB/s eta 0:00:01\r\u001b[K    2% |▉                               | 30kB 1.9MB/s eta 0:00:01\r\u001b[K    3% |█▏                              | 40kB 1.7MB/s eta 0:00:01\r\u001b[K    4% |█▍                              | 51kB 1.8MB/s eta 0:00:01\r\u001b[K    5% |█▊                              | 61kB 2.2MB/s eta 0:00:01\r\u001b[K    6% |██                              | 71kB 2.3MB/s eta 0:00:01\r\u001b[K    7% |██▎                             | 81kB 2.2MB/s eta 0:00:01\r\u001b[K    7% |██▌                             | 92kB 2.5MB/s eta 0:00:01\r\u001b[K    8% |██▉                             | 102kB 2.5MB/s eta 0:00:01\r\u001b[K    9% |███                             | 112kB 2.6MB/s eta 0:00:01\r\u001b[K    10% |███▍                            | 122kB 3.3MB/s eta 0:00:01\r\u001b[K    11% |███▋                            | 133kB 3.1MB/s eta 0:00:01\r\u001b[K    12% |████                            | 143kB 4.1MB/s eta 0:00:01\r\u001b[K    13% |████▏                           | 153kB 4.4MB/s eta 0:00:01\r\u001b[K    14% |████▌                           | 163kB 3.8MB/s eta 0:00:01\r\u001b[K    14% |████▊                           | 174kB 4.0MB/s eta 0:00:01\r\u001b[K    15% |█████                           | 184kB 4.7MB/s eta 0:00:01\r\u001b[K    16% |█████▎                          | 194kB 4.7MB/s eta 0:00:01\r\u001b[K    17% |█████▋                          | 204kB 4.4MB/s eta 0:00:01\r\u001b[K    18% |██████                          | 215kB 3.9MB/s eta 0:00:01\r\u001b[K    19% |██████▏                         | 225kB 4.5MB/s eta 0:00:01\r\u001b[K    20% |██████▌                         | 235kB 5.1MB/s eta 0:00:01\r\u001b[K    21% |██████▊                         | 245kB 4.2MB/s eta 0:00:01\r\u001b[K    21% |███████                         | 256kB 4.4MB/s eta 0:00:01\r\u001b[K    22% |███████▎                        | 266kB 4.7MB/s eta 0:00:01\r\u001b[K    23% |███████▋                        | 276kB 4.8MB/s eta 0:00:01\r\u001b[K    24% |███████▉                        | 286kB 4.7MB/s eta 0:00:01\r\u001b[K    25% |████████▏                       | 296kB 4.3MB/s eta 0:00:01\r\u001b[K    26% |████████▍                       | 307kB 5.2MB/s eta 0:00:01\r\u001b[K    27% |████████▊                       | 317kB 4.9MB/s eta 0:00:01\r\u001b[K    28% |█████████                       | 327kB 4.3MB/s eta 0:00:01\r\u001b[K    28% |█████████▎                      | 337kB 4.7MB/s eta 0:00:01\r\u001b[K    29% |█████████▌                      | 348kB 5.3MB/s eta 0:00:01\r\u001b[K    30% |█████████▉                      | 358kB 5.3MB/s eta 0:00:01\r\u001b[K    31% |██████████                      | 368kB 5.4MB/s eta 0:00:01\r\u001b[K    32% |██████████▍                     | 378kB 4.4MB/s eta 0:00:01\r\u001b[K    33% |██████████▋                     | 389kB 4.9MB/s eta 0:00:01\r\u001b[K    34% |███████████                     | 399kB 5.0MB/s eta 0:00:01\r\u001b[K    35% |███████████▎                    | 409kB 4.5MB/s eta 0:00:01\r\u001b[K    35% |███████████▌                    | 419kB 5.6MB/s eta 0:00:01\r\u001b[K    36% |███████████▉                    | 430kB 5.9MB/s eta 0:00:01\r\u001b[K    37% |████████████                    | 440kB 5.9MB/s eta 0:00:01\r\u001b[K    38% |████████████▍                   | 450kB 5.4MB/s eta 0:00:01\r\u001b[K    39% |████████████▋                   | 460kB 4.7MB/s eta 0:00:01\r\u001b[K    40% |█████████████                   | 471kB 5.2MB/s eta 0:00:01\r\u001b[K    41% |█████████████▏                  | 481kB 5.9MB/s eta 0:00:01\r\u001b[K    42% |█████████████▌                  | 491kB 5.3MB/s eta 0:00:01\r\u001b[K    42% |█████████████▊                  | 501kB 5.9MB/s eta 0:00:01\r\u001b[K    43% |██████████████                  | 512kB 5.3MB/s eta 0:00:01\r\u001b[K    44% |██████████████▎                 | 522kB 5.3MB/s eta 0:00:01\r\u001b[K    45% |██████████████▋                 | 532kB 5.4MB/s eta 0:00:01\r\u001b[K    46% |██████████████▉                 | 542kB 4.8MB/s eta 0:00:01\r\u001b[K    47% |███████████████▏                | 552kB 5.9MB/s eta 0:00:01\r\u001b[K    48% |███████████████▍                | 563kB 6.3MB/s eta 0:00:01\r\u001b[K    49% |███████████████▊                | 573kB 5.5MB/s eta 0:00:01\r\u001b[K    49% |████████████████                | 583kB 6.3MB/s eta 0:00:01\r\u001b[K    50% |████████████████▎               | 593kB 5.5MB/s eta 0:00:01\r\u001b[K    51% |████████████████▋               | 604kB 5.5MB/s eta 0:00:01\r\u001b[K    52% |████████████████▉               | 614kB 6.2MB/s eta 0:00:01\r\u001b[K    53% |█████████████████▏              | 624kB 5.6MB/s eta 0:00:01\r\u001b[K    54% |█████████████████▍              | 634kB 6.2MB/s eta 0:00:01\r\u001b[K    55% |█████████████████▊              | 645kB 6.5MB/s eta 0:00:01\r\u001b[K    56% |██████████████████              | 655kB 5.3MB/s eta 0:00:01\r\u001b[K    57% |██████████████████▎             | 665kB 5.4MB/s eta 0:00:01\r\u001b[K    57% |██████████████████▌             | 675kB 6.0MB/s eta 0:00:01\r\u001b[K    58% |██████████████████▉             | 686kB 6.0MB/s eta 0:00:01\r\u001b[K    59% |███████████████████             | 696kB 6.9MB/s eta 0:00:01\r\u001b[K    60% |███████████████████▍            | 706kB 5.9MB/s eta 0:00:01\r\u001b[K    61% |███████████████████▋            | 716kB 6.7MB/s eta 0:00:01\r\u001b[K    62% |████████████████████            | 727kB 6.8MB/s eta 0:00:01\r\u001b[K    63% |████████████████████▏           | 737kB 5.5MB/s eta 0:00:01\r\u001b[K    64% |████████████████████▌           | 747kB 6.1MB/s eta 0:00:01\r\u001b[K    64% |████████████████████▊           | 757kB 6.7MB/s eta 0:00:01\r\u001b[K    65% |█████████████████████           | 768kB 7.0MB/s eta 0:00:01\r\u001b[K    66% |█████████████████████▎          | 778kB 6.5MB/s eta 0:00:01\r\u001b[K    67% |█████████████████████▋          | 788kB 6.0MB/s eta 0:00:01\r\u001b[K    68% |██████████████████████          | 798kB 6.6MB/s eta 0:00:01\r\u001b[K    69% |██████████████████████▏         | 808kB 7.1MB/s eta 0:00:01\r\u001b[K    70% |██████████████████████▌         | 819kB 5.7MB/s eta 0:00:01\r\u001b[K    71% |██████████████████████▊         | 829kB 6.1MB/s eta 0:00:01\r\u001b[K    71% |███████████████████████         | 839kB 7.0MB/s eta 0:00:01\r\u001b[K    72% |███████████████████████▎        | 849kB 7.0MB/s eta 0:00:01\r\u001b[K    73% |███████████████████████▋        | 860kB 7.3MB/s eta 0:00:01\r\u001b[K    74% |███████████████████████▉        | 870kB 6.7MB/s eta 0:00:01\r\u001b[K    75% |████████████████████████▏       | 880kB 7.6MB/s eta 0:00:01\r\u001b[K    76% |████████████████████████▍       | 890kB 7.1MB/s eta 0:00:01\r\u001b[K    77% |████████████████████████▊       | 901kB 6.5MB/s eta 0:00:01\r\u001b[K    78% |█████████████████████████       | 911kB 7.1MB/s eta 0:00:01\r\u001b[K    78% |█████████████████████████▎      | 921kB 7.4MB/s eta 0:00:01\r\u001b[K    79% |█████████████████████████▌      | 931kB 7.4MB/s eta 0:00:01\r\u001b[K    80% |█████████████████████████▉      | 942kB 7.6MB/s eta 0:00:01\r\u001b[K    81% |██████████████████████████      | 952kB 6.4MB/s eta 0:00:01\r\u001b[K    82% |██████████████████████████▍     | 962kB 7.1MB/s eta 0:00:01\r\u001b[K    83% |██████████████████████████▋     | 972kB 7.7MB/s eta 0:00:01\r\u001b[K    84% |███████████████████████████     | 983kB 6.8MB/s eta 0:00:01\r\u001b[K    85% |███████████████████████████▎    | 993kB 8.1MB/s eta 0:00:01\r\u001b[K    85% |███████████████████████████▌    | 1.0MB 6.9MB/s eta 0:00:01\r\u001b[K    86% |███████████████████████████▉    | 1.0MB 6.9MB/s eta 0:00:01\r\u001b[K    87% |████████████████████████████    | 1.0MB 7.7MB/s eta 0:00:01\r\u001b[K    88% |████████████████████████████▍   | 1.0MB 6.9MB/s eta 0:00:01\r\u001b[K    89% |████████████████████████████▋   | 1.0MB 7.5MB/s eta 0:00:01\r\u001b[K    90% |█████████████████████████████   | 1.1MB 8.2MB/s eta 0:00:01\r\u001b[K    91% |█████████████████████████████▏  | 1.1MB 7.3MB/s eta 0:00:01\r\u001b[K    92% |█████████████████████████████▌  | 1.1MB 7.5MB/s eta 0:00:01\r\u001b[K    92% |█████████████████████████████▊  | 1.1MB 7.4MB/s eta 0:00:01\r\u001b[K    93% |██████████████████████████████  | 1.1MB 6.9MB/s eta 0:00:01\r\u001b[K    94% |██████████████████████████████▎ | 1.1MB 7.8MB/s eta 0:00:01\r\u001b[K    95% |██████████████████████████████▋ | 1.1MB 7.6MB/s eta 0:00:01\r\u001b[K    96% |██████████████████████████████▉ | 1.1MB 8.5MB/s eta 0:00:01\r\u001b[K    97% |███████████████████████████████▏| 1.1MB 8.2MB/s eta 0:00:01\r\u001b[K    98% |███████████████████████████████▍| 1.1MB 6.8MB/s eta 0:00:01\r\u001b[K    99% |███████████████████████████████▊| 1.2MB 7.5MB/s eta 0:00:01\r\u001b[K    99% |████████████████████████████████| 1.2MB 8.5MB/s eta 0:00:01\r\u001b[K    100% |████████████████████████████████| 1.2MB 5.9MB/s \n",
            "\u001b[?25hRequirement already satisfied: numpy in /usr/local/lib/python3.6/dist-packages (from lightgbm) (1.14.6)\n",
            "Requirement already satisfied: scikit-learn in /usr/local/lib/python3.6/dist-packages (from lightgbm) (0.19.2)\n",
            "Requirement already satisfied: scipy in /usr/local/lib/python3.6/dist-packages (from lightgbm) (1.1.0)\n",
            "Installing collected packages: lightgbm\n",
            "Successfully installed lightgbm-2.2.2\n"
          ],
          "name": "stdout"
        }
      ]
    },
    {
      "metadata": {
        "id": "RiWl1ShmJJmo",
        "colab_type": "code",
        "colab": {}
      },
      "cell_type": "code",
      "source": [
        ""
      ],
      "execution_count": 0,
      "outputs": []
    },
    {
      "metadata": {
        "id": "kIezFRcyJIbL",
        "colab_type": "code",
        "colab": {
          "base_uri": "https://localhost:8080/",
          "height": 105
        },
        "outputId": "beae682b-ca9e-4883-f438-39ba11ff6e2c"
      },
      "cell_type": "code",
      "source": [
        "#!/usr/bin/env python -W ignore::DeprecationWarning\n",
        " \n",
        "import numpy as np                                                 # Implemennts milti-dimensional array and matrices\n",
        "import pandas as pd                                                # For data manipulation and analysis\n",
        "import matplotlib.pyplot as plt                                    # Plotting library for Python programming language and it's numerical mathematics extension NumPy\n",
        "import seaborn as sns                                              # Provides a high level interface for drawing attractive and informative statistical graphics\n",
        "%matplotlib inline\n",
        "sns.set()\n",
        "from collections import Counter\n",
        "from subprocess import check_output\n",
        "titanic_data = pd.read_csv(\"https://raw.githubusercontent.com/insaid2018/Term-1/master/Data/Casestudy/titanic_train.csv\")     # Importing training dataset using pd.read_csv\n",
        "\n",
        "def detect_outliers(df,n,features):\n",
        "    \"\"\"\n",
        "    Takes a dataframe df of features and returns a list of the indices\n",
        "    corresponding to the observations containing more than n outliers according\n",
        "    to the Tukey method.\n",
        "    \"\"\"\n",
        "    outlier_indices = []\n",
        "    \n",
        "    # iterate over features(columns)\n",
        "    for col in features:\n",
        "        # 1st quartile (25%)\n",
        "        Q1 = np.percentile(df[col], 25)\n",
        "        # 3rd quartile (75%)\n",
        "        Q3 = np.percentile(df[col],75)\n",
        "        # Interquartile range (IQR)\n",
        "        IQR = Q3 - Q1\n",
        "        \n",
        "        # outlier step\n",
        "        outlier_step = 1.5 * IQR\n",
        "        \n",
        "        # Determine a list of indices of outliers for feature col\n",
        "        outlier_list_col = df[(df[col] < Q1 - outlier_step) | (df[col] > Q3 + outlier_step )].index\n",
        "        \n",
        "        # append the found outlier indices for col to the list of outlier indices \n",
        "        outlier_indices.extend(outlier_list_col)\n",
        "        \n",
        "    # select observations containing more than 2 outliers\n",
        "    outlier_indices = Counter(outlier_indices)        \n",
        "    multiple_outliers = list( k for k, v in outlier_indices.items() if v > n )\n",
        "    \n",
        "    return multiple_outliers   \n",
        "  \n",
        "# Get the outlier out (2 per column)\n",
        "Outliers_to_drop = detect_outliers(titanic_data,2,[\"Age\",\"SibSp\",\"Parch\",\"Fare\"])\n",
        "# print(titanic_data.loc[Outliers_to_drop]) # Show the outliers rows)\n",
        "titanic_data = titanic_data.drop(Outliers_to_drop, axis = 0).reset_index(drop=True)\n",
        "\n",
        "# Get the title from name\n",
        "# Get Title from Name\n",
        "titanic_data_title = [i.split(\",\")[1].split(\".\")[0].strip() for i in titanic_data[\"Name\"]]\n",
        "titanic_data[\"Title\"] = pd.Series(titanic_data_title)\n",
        "\n",
        "\n",
        "# Convert to categorical values Title \n",
        "titanic_data[\"Title\"] = titanic_data[\"Title\"].replace(['Lady', 'the Countess','Countess','Capt', 'Col','Don', 'Dr', 'Major', 'Rev', 'Sir', 'Jonkheer', 'Dona'], 'Rare')\n",
        "titanic_data[\"Title\"] = titanic_data[\"Title\"].map({\"Master\":0, \"Miss\":1, \"Ms\" : 1 , \"Mme\":1, \"Mlle\":1, \"Mrs\":1, \"Mr\":2, \"Rare\":3})\n",
        "titanic_data[\"Title\"] = titanic_data[\"Title\"].astype(int)\n",
        "\n",
        "# Add Cabin Details \n",
        "titanic_data[\"Cabin\"] = pd.Series([i[0] if not pd.isnull(i) else 'X' for i in titanic_data['Cabin'] ])\n",
        "titanic_data = pd.get_dummies(titanic_data, columns = [\"Cabin\"],prefix=\"Cabin\")\n",
        "\n",
        "titanic_data.Embarked = titanic_data.Embarked.fillna(titanic_data['Embarked'].mode()[0])\n",
        "median_age = titanic_data.Age.median()\n",
        "median_fare = titanic_data.Fare.median()\n",
        "titanic_data.Age.fillna(median_age, inplace = True)\n",
        "# titanic_data.drop('Cabin', axis = 1,inplace = True)\n",
        "titanic_data.Fare.fillna(median_fare, inplace = True)\n",
        "titanic_data['FamilySize'] = titanic_data['SibSp'] + titanic_data['Parch']+1\n",
        "titanic_data['GenderClass'] = titanic_data.apply(lambda x: 'child' if x['Age'] < 15 else x['Sex'],axis=1)\n",
        "titanic_data = pd.get_dummies(titanic_data, columns=['GenderClass','Embarked'], drop_first=True)\n",
        "titanic = titanic_data.drop(['Name','Ticket','Sex','SibSp','Parch'], axis = 1)\n",
        "titanic.head()\n",
        "X = titanic.loc[:,titanic.columns != 'Survived']\n",
        "y = titanic.Survived \n",
        "# X.head()\n",
        "\n",
        "from sklearn.cross_validation import train_test_split\n",
        "X_train, X_test, y_train, y_test = train_test_split(X, y, test_size=0.20, random_state=1)"
      ],
      "execution_count": 4,
      "outputs": [
        {
          "output_type": "stream",
          "text": [
            "/usr/local/lib/python3.6/dist-packages/numpy/lib/function_base.py:4291: RuntimeWarning: Invalid value encountered in percentile\n",
            "  interpolation=interpolation)\n",
            "/usr/local/lib/python3.6/dist-packages/sklearn/cross_validation.py:41: DeprecationWarning: This module was deprecated in version 0.18 in favor of the model_selection module into which all the refactored classes and functions are moved. Also note that the interface of the new CV iterators are different from that of this module. This module will be removed in 0.20.\n",
            "  \"This module will be removed in 0.20.\", DeprecationWarning)\n"
          ],
          "name": "stderr"
        }
      ]
    },
    {
      "metadata": {
        "id": "Bi-UeTkDLdup",
        "colab_type": "code",
        "colab": {
          "base_uri": "https://localhost:8080/",
          "height": 224
        },
        "outputId": "4c301886-ee48-4b20-d37f-bf19104efa19"
      },
      "cell_type": "code",
      "source": [
        "train_pool = Pool(X_train, y_train, cat_features=categorical_features_indices)"
      ],
      "execution_count": 6,
      "outputs": [
        {
          "output_type": "execute_result",
          "data": {
            "text/html": [
              "<div>\n",
              "<style scoped>\n",
              "    .dataframe tbody tr th:only-of-type {\n",
              "        vertical-align: middle;\n",
              "    }\n",
              "\n",
              "    .dataframe tbody tr th {\n",
              "        vertical-align: top;\n",
              "    }\n",
              "\n",
              "    .dataframe thead th {\n",
              "        text-align: right;\n",
              "    }\n",
              "</style>\n",
              "<table border=\"1\" class=\"dataframe\">\n",
              "  <thead>\n",
              "    <tr style=\"text-align: right;\">\n",
              "      <th></th>\n",
              "      <th>PassengerId</th>\n",
              "      <th>Pclass</th>\n",
              "      <th>Age</th>\n",
              "      <th>Fare</th>\n",
              "      <th>Title</th>\n",
              "      <th>Cabin_A</th>\n",
              "      <th>Cabin_B</th>\n",
              "      <th>Cabin_C</th>\n",
              "      <th>Cabin_D</th>\n",
              "      <th>Cabin_E</th>\n",
              "      <th>Cabin_F</th>\n",
              "      <th>Cabin_G</th>\n",
              "      <th>Cabin_T</th>\n",
              "      <th>Cabin_X</th>\n",
              "      <th>FamilySize</th>\n",
              "      <th>GenderClass_female</th>\n",
              "      <th>GenderClass_male</th>\n",
              "      <th>Embarked_Q</th>\n",
              "      <th>Embarked_S</th>\n",
              "    </tr>\n",
              "  </thead>\n",
              "  <tbody>\n",
              "    <tr>\n",
              "      <th>181</th>\n",
              "      <td>186</td>\n",
              "      <td>1</td>\n",
              "      <td>28.0</td>\n",
              "      <td>50.0000</td>\n",
              "      <td>2</td>\n",
              "      <td>1</td>\n",
              "      <td>0</td>\n",
              "      <td>0</td>\n",
              "      <td>0</td>\n",
              "      <td>0</td>\n",
              "      <td>0</td>\n",
              "      <td>0</td>\n",
              "      <td>0</td>\n",
              "      <td>0</td>\n",
              "      <td>1</td>\n",
              "      <td>0</td>\n",
              "      <td>1</td>\n",
              "      <td>0</td>\n",
              "      <td>1</td>\n",
              "    </tr>\n",
              "    <tr>\n",
              "      <th>329</th>\n",
              "      <td>336</td>\n",
              "      <td>3</td>\n",
              "      <td>28.0</td>\n",
              "      <td>7.8958</td>\n",
              "      <td>2</td>\n",
              "      <td>0</td>\n",
              "      <td>0</td>\n",
              "      <td>0</td>\n",
              "      <td>0</td>\n",
              "      <td>0</td>\n",
              "      <td>0</td>\n",
              "      <td>0</td>\n",
              "      <td>0</td>\n",
              "      <td>1</td>\n",
              "      <td>1</td>\n",
              "      <td>0</td>\n",
              "      <td>1</td>\n",
              "      <td>0</td>\n",
              "      <td>1</td>\n",
              "    </tr>\n",
              "    <tr>\n",
              "      <th>265</th>\n",
              "      <td>271</td>\n",
              "      <td>1</td>\n",
              "      <td>28.0</td>\n",
              "      <td>31.0000</td>\n",
              "      <td>2</td>\n",
              "      <td>0</td>\n",
              "      <td>0</td>\n",
              "      <td>0</td>\n",
              "      <td>0</td>\n",
              "      <td>0</td>\n",
              "      <td>0</td>\n",
              "      <td>0</td>\n",
              "      <td>0</td>\n",
              "      <td>1</td>\n",
              "      <td>1</td>\n",
              "      <td>0</td>\n",
              "      <td>1</td>\n",
              "      <td>0</td>\n",
              "      <td>1</td>\n",
              "    </tr>\n",
              "    <tr>\n",
              "      <th>501</th>\n",
              "      <td>509</td>\n",
              "      <td>3</td>\n",
              "      <td>28.0</td>\n",
              "      <td>22.5250</td>\n",
              "      <td>2</td>\n",
              "      <td>0</td>\n",
              "      <td>0</td>\n",
              "      <td>0</td>\n",
              "      <td>0</td>\n",
              "      <td>0</td>\n",
              "      <td>0</td>\n",
              "      <td>0</td>\n",
              "      <td>0</td>\n",
              "      <td>1</td>\n",
              "      <td>1</td>\n",
              "      <td>0</td>\n",
              "      <td>1</td>\n",
              "      <td>0</td>\n",
              "      <td>1</td>\n",
              "    </tr>\n",
              "    <tr>\n",
              "      <th>855</th>\n",
              "      <td>866</td>\n",
              "      <td>2</td>\n",
              "      <td>42.0</td>\n",
              "      <td>13.0000</td>\n",
              "      <td>1</td>\n",
              "      <td>0</td>\n",
              "      <td>0</td>\n",
              "      <td>0</td>\n",
              "      <td>0</td>\n",
              "      <td>0</td>\n",
              "      <td>0</td>\n",
              "      <td>0</td>\n",
              "      <td>0</td>\n",
              "      <td>1</td>\n",
              "      <td>1</td>\n",
              "      <td>1</td>\n",
              "      <td>0</td>\n",
              "      <td>0</td>\n",
              "      <td>1</td>\n",
              "    </tr>\n",
              "  </tbody>\n",
              "</table>\n",
              "</div>"
            ],
            "text/plain": [
              "     PassengerId  Pclass   Age     Fare  Title  Cabin_A  Cabin_B  Cabin_C  \\\n",
              "181          186       1  28.0  50.0000      2        1        0        0   \n",
              "329          336       3  28.0   7.8958      2        0        0        0   \n",
              "265          271       1  28.0  31.0000      2        0        0        0   \n",
              "501          509       3  28.0  22.5250      2        0        0        0   \n",
              "855          866       2  42.0  13.0000      1        0        0        0   \n",
              "\n",
              "     Cabin_D  Cabin_E  Cabin_F  Cabin_G  Cabin_T  Cabin_X  FamilySize  \\\n",
              "181        0        0        0        0        0        0           1   \n",
              "329        0        0        0        0        0        1           1   \n",
              "265        0        0        0        0        0        1           1   \n",
              "501        0        0        0        0        0        1           1   \n",
              "855        0        0        0        0        0        1           1   \n",
              "\n",
              "     GenderClass_female  GenderClass_male  Embarked_Q  Embarked_S  \n",
              "181                   0                 1           0           1  \n",
              "329                   0                 1           0           1  \n",
              "265                   0                 1           0           1  \n",
              "501                   0                 1           0           1  \n",
              "855                   1                 0           0           1  "
            ]
          },
          "metadata": {
            "tags": []
          },
          "execution_count": 6
        }
      ]
    },
    {
      "metadata": {
        "id": "5X9KWoBrL6XU",
        "colab_type": "code",
        "colab": {
          "base_uri": "https://localhost:8080/",
          "height": 884
        },
        "outputId": "74c263f3-1a3a-4f94-f3c5-4814a83d7aa9"
      },
      "cell_type": "code",
      "source": [
        "import hyperopt\n",
        "from catboost import CatBoostClassifier, Pool, cv\n",
        "\n",
        "train_pool = Pool(X_train, y_train)\n",
        "\n",
        "def hyperopt_objective(params):\n",
        "    model = CatBoostClassifier(\n",
        "        l2_leaf_reg=int(params['l2_leaf_reg']),\n",
        "        learning_rate=params['learning_rate'],\n",
        "        depth=params['depth'],\n",
        "        iterations=500,\n",
        "        eval_metric='Accuracy',\n",
        "        od_type='Iter',\n",
        "        od_wait=40,\n",
        "        random_seed=42,\n",
        "        logging_level='Silent',\n",
        "        allow_writing_files=False\n",
        "    )\n",
        "    \n",
        "    cv_data = cv(\n",
        "        train_pool,\n",
        "        model.get_params()\n",
        "    )\n",
        "    best_accuracy = np.max(cv_data['test-Accuracy-mean'])    \n",
        "    \n",
        "    print(params, best_accuracy)\n",
        "    return 1 - best_accuracy # as hyperopt minimises\n",
        "\n",
        "params_space = {\n",
        "    'l2_leaf_reg': hyperopt.hp.qloguniform('l2_leaf_reg', 0, 2, 1),\n",
        "    'learning_rate': hyperopt.hp.uniform('learning_rate', 1e-3, 5e-1),\n",
        "    'depth': hyperopt.hp.choice('depth', [3,4,5,6,8]),\n",
        "}\n",
        "\n",
        "trials = hyperopt.Trials()\n",
        "\n",
        "best = hyperopt.fmin(\n",
        "    hyperopt_objective,\n",
        "    space=params_space,\n",
        "    algo=hyperopt.tpe.suggest,\n",
        "    max_evals=50,\n",
        "    trials=trials\n",
        ")\n",
        "\n",
        "print(best)\n"
      ],
      "execution_count": 13,
      "outputs": [
        {
          "output_type": "stream",
          "text": [
            "{'depth': 4, 'l2_leaf_reg': 3.0, 'learning_rate': 0.017279920531578712} 0.8310056373886162\n",
            "{'depth': 6, 'l2_leaf_reg': 6.0, 'learning_rate': 0.13915388219123492} 0.825331878523368\n",
            "{'depth': 3, 'l2_leaf_reg': 1.0, 'learning_rate': 0.367214110933289} 0.8281808813723708\n",
            "{'depth': 8, 'l2_leaf_reg': 5.0, 'learning_rate': 0.198750797425803} 0.8338303934048615\n",
            "{'depth': 6, 'l2_leaf_reg': 2.0, 'learning_rate': 0.2394815099790567} 0.829587197672304\n",
            "{'depth': 6, 'l2_leaf_reg': 2.0, 'learning_rate': 0.19838899650724903} 0.8352609565375523\n",
            "{'depth': 8, 'l2_leaf_reg': 3.0, 'learning_rate': 0.2930073644111567} 0.8295811359641148\n",
            "{'depth': 4, 'l2_leaf_reg': 1.0, 'learning_rate': 0.404177967525514} 0.8295932593804934\n",
            "{'depth': 6, 'l2_leaf_reg': 1.0, 'learning_rate': 0.4021430579653087} 0.828168757955992\n",
            "{'depth': 4, 'l2_leaf_reg': 2.0, 'learning_rate': 0.274669353429696} 0.8267563799478693\n",
            "{'depth': 5, 'l2_leaf_reg': 2.0, 'learning_rate': 0.29025456018114537} 0.8366854579620537\n",
            "{'depth': 3, 'l2_leaf_reg': 3.0, 'learning_rate': 0.3804413126823337} 0.822464690549797\n",
            "{'depth': 8, 'l2_leaf_reg': 1.0, 'learning_rate': 0.12414382875394395} 0.8324301388131176\n",
            "{'depth': 5, 'l2_leaf_reg': 2.0, 'learning_rate': 0.12583431854607544} 0.8324240771049282\n",
            "{'depth': 3, 'l2_leaf_reg': 6.0, 'learning_rate': 0.4584638360147355} 0.832436200521307\n",
            "{'depth': 4, 'l2_leaf_reg': 2.0, 'learning_rate': 0.1898080722514024} 0.8281748196641813\n",
            "{'depth': 6, 'l2_leaf_reg': 2.0, 'learning_rate': 0.35407108897605705} 0.8338364551130509\n",
            "{'depth': 4, 'l2_leaf_reg': 3.0, 'learning_rate': 0.1791787552983316} 0.8338243316966721\n",
            "{'depth': 3, 'l2_leaf_reg': 3.0, 'learning_rate': 0.0455476533162637} 0.828168757955992\n",
            "{'depth': 8, 'l2_leaf_reg': 5.0, 'learning_rate': 0.05557523606667057} 0.8338425168212402\n",
            "{'depth': 5, 'l2_leaf_reg': 1.0, 'learning_rate': 0.321289920246921} 0.8310116990968055\n",
            "{'depth': 5, 'l2_leaf_reg': 4.0, 'learning_rate': 0.2400497954470805} 0.8310056373886162\n",
            "{'depth': 5, 'l2_leaf_reg': 2.0, 'learning_rate': 0.47213993280896754} 0.836691519670243\n",
            "{'depth': 5, 'l2_leaf_reg': 1.0, 'learning_rate': 0.4908718518886299} 0.8253379402315573\n",
            "{'depth': 5, 'l2_leaf_reg': 2.0, 'learning_rate': 0.45369565421919933} 0.8309995756804267\n",
            "{'depth': 5, 'l2_leaf_reg': 1.0, 'learning_rate': 0.4878271921415926} 0.8253379402315573\n",
            "{'depth': 5, 'l2_leaf_reg': 2.0, 'learning_rate': 0.44099160925547454} 0.8295629508395467\n",
            "{'depth': 5, 'l2_leaf_reg': 4.0, 'learning_rate': 0.3267846476594677} 0.825301569982421\n",
            "{'depth': 5, 'l2_leaf_reg': 1.0, 'learning_rate': 0.07922891215847763} 0.8366854579620537\n",
            "{'depth': 5, 'l2_leaf_reg': 1.0, 'learning_rate': 0.07251913704899676} 0.836691519670243\n",
            "{'depth': 5, 'l2_leaf_reg': 1.0, 'learning_rate': 0.03011778941394315} 0.8338425168212402\n",
            "{'depth': 5, 'l2_leaf_reg': 1.0, 'learning_rate': 0.08729008037422595} 0.8310116990968055\n",
            "{'depth': 5, 'l2_leaf_reg': 1.0, 'learning_rate': 0.15502747668764932} 0.8352427714129842\n",
            "{'depth': 3, 'l2_leaf_reg': 7.0, 'learning_rate': 0.016113523864563536} 0.829587197672304\n",
            "{'depth': 8, 'l2_leaf_reg': 4.0, 'learning_rate': 0.001744872835815675} 0.8310056373886162\n",
            "{'depth': 6, 'l2_leaf_reg': 1.0, 'learning_rate': 0.1008005155972819} 0.829587197672304\n",
            "{'depth': 5, 'l2_leaf_reg': 1.0, 'learning_rate': 0.23883622696503093} 0.8324301388131176\n",
            "{'depth': 4, 'l2_leaf_reg': 1.0, 'learning_rate': 0.15921002642330534} 0.8310056373886162\n",
            "{'depth': 6, 'l2_leaf_reg': 2.0, 'learning_rate': 0.21857644317032976} 0.8352609565375523\n",
            "{'depth': 8, 'l2_leaf_reg': 1.0, 'learning_rate': 0.2763199062366746} 0.8338607019458083\n",
            "{'depth': 5, 'l2_leaf_reg': 3.0, 'learning_rate': 0.4282663631905681} 0.8295750742559252\n",
            "{'depth': 3, 'l2_leaf_reg': 2.0, 'learning_rate': 0.34894305622099026} 0.8324240771049282\n",
            "{'depth': 4, 'l2_leaf_reg': 1.0, 'learning_rate': 0.21242890797408964} 0.8338425168212402\n",
            "{'depth': 5, 'l2_leaf_reg': 5.0, 'learning_rate': 0.41057858082696275} 0.8295447657149785\n",
            "{'depth': 6, 'l2_leaf_reg': 2.0, 'learning_rate': 0.31299616203000896} 0.8324240771049282\n",
            "{'depth': 8, 'l2_leaf_reg': 1.0, 'learning_rate': 0.2605474350716801} 0.8310238225131842\n",
            "{'depth': 5, 'l2_leaf_reg': 2.0, 'learning_rate': 0.3749860415759692} 0.8352609565375523\n",
            "{'depth': 3, 'l2_leaf_reg': 3.0, 'learning_rate': 0.11353027586092453} 0.8310056373886162\n",
            "{'depth': 4, 'l2_leaf_reg': 1.0, 'learning_rate': 0.4678290296236002} 0.8253258168151785\n",
            "{'depth': 5, 'l2_leaf_reg': 4.0, 'learning_rate': 0.06461693331650699} 0.8338485785294297\n",
            "{'depth': 2, 'l2_leaf_reg': 2.0, 'learning_rate': 0.47213993280896754}\n"
          ],
          "name": "stdout"
        }
      ]
    },
    {
      "metadata": {
        "id": "ETifzFQAOIw_",
        "colab_type": "code",
        "colab": {
          "base_uri": "https://localhost:8080/",
          "height": 68
        },
        "outputId": "40fe0468-319a-4c75-a996-f4071a0b83b7"
      },
      "cell_type": "code",
      "source": [
        "#best = {'depth': 6, 'l2_leaf_reg': 1.0, 'learning_rate': 0.07395682681736576} \n",
        "\n",
        "model = CatBoostClassifier(\n",
        "    #l2_leaf_reg=int(best['l2_leaf_reg']),\n",
        "    #learning_rate=best['learning_rate'],\n",
        "    #depth=best['depth'],\n",
        "    depth=3,\n",
        "    iterations=300,\n",
        "    eval_metric='Accuracy',\n",
        "    #od_type='Iter',\n",
        "    #od_wait=40,\n",
        "    random_seed=42,\n",
        "    logging_level='Silent',\n",
        "    allow_writing_files=False\n",
        ")\n",
        "\n",
        "cv_data = cv(\n",
        "    train_pool,\n",
        "    model.get_params(),\n",
        "    fold_count=5\n",
        ")\n",
        "\n",
        "print('Best validation accuracy score: {:.2f}±{:.2f} on step {}'.format(\n",
        "    np.max(cv_data['test-Accuracy-mean']), \n",
        "    cv_data['test-Accuracy-std'][cv_data['test-Accuracy-mean'].idxmax(axis=0)],\n",
        "    cv_data['test-Accuracy-mean'].idxmax(axis=0)\n",
        "))\n",
        "print('Precise validation accuracy score: {}'.format(np.max(cv_data['test-Accuracy-mean'])))\n",
        "\n",
        "model.fit(train_pool);\n",
        "model.score(X_test, y_test)"
      ],
      "execution_count": 17,
      "outputs": [
        {
          "output_type": "stream",
          "text": [
            "Best validation accuracy score: 0.83±0.04 on step 23\n",
            "Precise validation accuracy score: 0.8253191489361702\n"
          ],
          "name": "stdout"
        },
        {
          "output_type": "execute_result",
          "data": {
            "text/plain": [
              "0.8361581920903954"
            ]
          },
          "metadata": {
            "tags": []
          },
          "execution_count": 17
        }
      ]
    },
    {
      "metadata": {
        "id": "HsIOfAH0Ovbm",
        "colab_type": "code",
        "colab": {
          "base_uri": "https://localhost:8080/",
          "height": 68
        },
        "outputId": "32b91673-63fb-4e7a-f0b0-bffdcaf60e80"
      },
      "cell_type": "code",
      "source": [
        "from sklearn.metrics import confusion_matrix\n",
        "y_pred_test = model.predict(X_test)\n",
        "confusion_matrix = pd.DataFrame(confusion_matrix(y_test, y_pred_test))\n",
        "\n",
        "confusion_matrix.index = ['Actual Died','Actual Survived']\n",
        "confusion_matrix.columns = ['Predicted Died','Predicted Survived']\n",
        "print(confusion_matrix)\n"
      ],
      "execution_count": 18,
      "outputs": [
        {
          "output_type": "stream",
          "text": [
            "                 Predicted Died  Predicted Survived\n",
            "Actual Died                  93                  10\n",
            "Actual Survived              19                  55\n"
          ],
          "name": "stdout"
        }
      ]
    },
    {
      "metadata": {
        "id": "fjHjoGh0T5eH",
        "colab_type": "code",
        "colab": {
          "base_uri": "https://localhost:8080/",
          "height": 340
        },
        "outputId": "b2479ce2-eafa-4725-97a4-8f7dfb7df474"
      },
      "cell_type": "code",
      "source": [
        "feature_importances = model.get_feature_importance(train_pool)\n",
        "feature_names = X_train.columns\n",
        "for score, name in sorted(zip(feature_importances, feature_names), reverse=True):\n",
        "    print('{}: {}'.format(name, score))"
      ],
      "execution_count": 19,
      "outputs": [
        {
          "output_type": "stream",
          "text": [
            "GenderClass_male: 18.0641173351779\n",
            "Title: 15.69443104654351\n",
            "Pclass: 15.167144627201608\n",
            "Fare: 11.339696390407813\n",
            "GenderClass_female: 10.216527082969286\n",
            "FamilySize: 8.28553757227774\n",
            "Age: 7.398149190292198\n",
            "PassengerId: 4.489401110949659\n",
            "Cabin_X: 2.4642762644808296\n",
            "Cabin_B: 1.7656739718352978\n",
            "Cabin_E: 1.459095717243442\n",
            "Embarked_S: 1.3805378183212846\n",
            "Cabin_D: 0.8346020599186466\n",
            "Cabin_C: 0.4789053728801924\n",
            "Embarked_Q: 0.29745702593842205\n",
            "Cabin_A: 0.27729265493836236\n",
            "Cabin_F: 0.24885216813935832\n",
            "Cabin_G: 0.12301800558324077\n",
            "Cabin_T: 0.01528458490119605\n"
          ],
          "name": "stdout"
        }
      ]
    },
    {
      "metadata": {
        "id": "udJJ7KLBVbKl",
        "colab_type": "code",
        "colab": {
          "base_uri": "https://localhost:8080/",
          "height": 153
        },
        "outputId": "0c0fc575-0ba3-4450-86bd-0fe6a892365a"
      },
      "cell_type": "code",
      "source": [
        "from sklearn.model_selection import GridSearchCV\n",
        "from lightgbm import LGBMClassifier\n",
        "import lightgbm as lgbm\n",
        "\n",
        "\n",
        "# lgbm_params = {\n",
        "#     'boosting': 'dart',          # dart (drop out trees) often performs better\n",
        "#     'application': 'binary',     # Binary classification\n",
        "#     'learning_rate': 0.05,       # Learning rate, controls size of a gradient descent step\n",
        "#     'min_data_in_leaf': 20,      # Data set is quite small so reduce this a bit\n",
        "#     'feature_fraction': 0.7,     # Proportion of features in each boost, controls overfitting\n",
        "#     'num_leaves': 41,            # Controls size of tree since LGBM uses leaf wise splits\n",
        "#     'metric': 'binary_logloss',  # Area under ROC curve as the evaulation metric\n",
        "#     'drop_rate': 0.15\n",
        "#               }\n",
        "\n",
        "# modelLGBM = modelLGBM(train_set=train_data,\n",
        "#                  params=lgbm_params,\n",
        "#                  valid_sets=[train_data, test_data], \n",
        "#                  valid_names=['Train', 'Test'],\n",
        "#                  evals_result=evaluation_results,\n",
        "#                  num_boost_round=500,\n",
        "#                  early_stopping_rounds=100,\n",
        "#                  verbose_eval=20)\n",
        "\n",
        "modelLGBM = LGBMClassifier()\n",
        "param_grid = {'n_estimators':[20,30,50,100],'max_depth':[2,3,4,5,6], 'num_boost_round':[500,1000], 'early_stopping_rounds':[100,50,20]} \n",
        "grs = GridSearchCV(modelLGBM, param_grid=param_grid, cv = 10, n_jobs=-1, return_train_score = False)\n",
        "grs.fit(X_train, y_train)\n",
        "print(\"Best parameters \" + str(grs.best_params_))\n",
        "gpd = pd.DataFrame(grs.cv_results_)\n",
        "print(\"Estimated accuracy of this model for unseen data:{0:1.4f}\".format(gpd['mean_test_score'][grs.best_index_]))"
      ],
      "execution_count": 0,
      "outputs": [
        {
          "output_type": "stream",
          "text": [
            "/usr/local/lib/python3.6/dist-packages/lightgbm/engine.py:116: UserWarning: Found `num_boost_round` in params. Will use it instead of argument\n",
            "  warnings.warn(\"Found `{}` in params. Will use it instead of argument\".format(alias))\n",
            "/usr/local/lib/python3.6/dist-packages/lightgbm/engine.py:121: UserWarning: Found `early_stopping_rounds` in params. Will use it instead of argument\n",
            "  warnings.warn(\"Found `{}` in params. Will use it instead of argument\".format(alias))\n",
            "/usr/local/lib/python3.6/dist-packages/lightgbm/engine.py:116: UserWarning: Found `num_boost_round` in params. Will use it instead of argument\n",
            "  warnings.warn(\"Found `{}` in params. Will use it instead of argument\".format(alias))\n",
            "/usr/local/lib/python3.6/dist-packages/lightgbm/engine.py:121: UserWarning: Found `early_stopping_rounds` in params. Will use it instead of argument\n",
            "  warnings.warn(\"Found `{}` in params. Will use it instead of argument\".format(alias))\n"
          ],
          "name": "stderr"
        }
      ]
    }
  ]
}