{
  "nbformat": 4,
  "nbformat_minor": 0,
  "metadata": {
    "colab": {
      "name": "Ensemble.ipynb",
      "version": "0.3.2",
      "provenance": [],
      "include_colab_link": true
    },
    "kernelspec": {
      "name": "python3",
      "display_name": "Python 3"
    },
    "accelerator": "GPU"
  },
  "cells": [
    {
      "cell_type": "markdown",
      "metadata": {
        "id": "view-in-github",
        "colab_type": "text"
      },
      "source": [
        "<a href=\"https://colab.research.google.com/github/dakshnpci/NPCIMLTraining/blob/master/Ensemble.ipynb\" target=\"_parent\"><img src=\"https://colab.research.google.com/assets/colab-badge.svg\" alt=\"Open In Colab\"/></a>"
      ]
    },
    {
      "metadata": {
        "id": "ZywSBw64GvXw",
        "colab_type": "code",
        "outputId": "d930505b-e647-4448-9041-da270de00471",
        "colab": {
          "base_uri": "https://localhost:8080/",
          "height": 173
        }
      },
      "cell_type": "code",
      "source": [
        "# !pip install hyperopt\n",
        "# !pip install catboost\n",
        "!pip install lightgbm"
      ],
      "execution_count": 3,
      "outputs": [
        {
          "output_type": "stream",
          "text": [
            "Collecting lightgbm\n",
            "\u001b[?25l  Downloading https://files.pythonhosted.org/packages/4c/3b/4ae113193b4ee01387ed76d5eea32788aec0589df9ae7378a8b7443eaa8b/lightgbm-2.2.2-py2.py3-none-manylinux1_x86_64.whl (1.2MB)\n",
            "\r\u001b[K    0% |▎                               | 10kB 12.5MB/s eta 0:00:01\r\u001b[K    1% |▋                               | 20kB 2.0MB/s eta 0:00:01\r\u001b[K    2% |▉                               | 30kB 2.3MB/s eta 0:00:01\r\u001b[K    3% |█▏                              | 40kB 2.1MB/s eta 0:00:01\r\u001b[K    4% |█▍                              | 51kB 2.3MB/s eta 0:00:01\r\u001b[K    5% |█▊                              | 61kB 2.8MB/s eta 0:00:01\r\u001b[K    6% |██                              | 71kB 2.9MB/s eta 0:00:01\r\u001b[K    7% |██▎                             | 81kB 2.8MB/s eta 0:00:01\r\u001b[K    7% |██▌                             | 92kB 3.2MB/s eta 0:00:01\r\u001b[K    8% |██▉                             | 102kB 3.2MB/s eta 0:00:01\r\u001b[K    9% |███                             | 112kB 3.3MB/s eta 0:00:01\r\u001b[K    10% |███▍                            | 122kB 4.2MB/s eta 0:00:01\r\u001b[K    11% |███▋                            | 133kB 4.3MB/s eta 0:00:01\r\u001b[K    12% |████                            | 143kB 5.8MB/s eta 0:00:01\r\u001b[K    13% |████▏                           | 153kB 5.5MB/s eta 0:00:01\r\u001b[K    14% |████▌                           | 163kB 4.7MB/s eta 0:00:01\r\u001b[K    14% |████▊                           | 174kB 5.2MB/s eta 0:00:01\r\u001b[K    15% |█████                           | 184kB 5.9MB/s eta 0:00:01\r\u001b[K    16% |█████▎                          | 194kB 5.9MB/s eta 0:00:01\r\u001b[K    17% |█████▋                          | 204kB 5.6MB/s eta 0:00:01\r\u001b[K    18% |██████                          | 215kB 4.9MB/s eta 0:00:01\r\u001b[K    19% |██████▏                         | 225kB 5.7MB/s eta 0:00:01\r\u001b[K    20% |██████▌                         | 235kB 6.0MB/s eta 0:00:01\r\u001b[K    21% |██████▊                         | 245kB 5.2MB/s eta 0:00:01\r\u001b[K    21% |███████                         | 256kB 6.1MB/s eta 0:00:01\r\u001b[K    22% |███████▎                        | 266kB 6.1MB/s eta 0:00:01\r\u001b[K    23% |███████▋                        | 276kB 6.2MB/s eta 0:00:01\r\u001b[K    24% |███████▉                        | 286kB 6.3MB/s eta 0:00:01\r\u001b[K    25% |████████▏                       | 296kB 5.5MB/s eta 0:00:01\r\u001b[K    26% |████████▍                       | 307kB 6.6MB/s eta 0:00:01\r\u001b[K    27% |████████▊                       | 317kB 6.6MB/s eta 0:00:01\r\u001b[K    28% |█████████                       | 327kB 5.9MB/s eta 0:00:01\r\u001b[K    28% |█████████▎                      | 337kB 6.4MB/s eta 0:00:01\r\u001b[K    29% |█████████▌                      | 348kB 6.2MB/s eta 0:00:01\r\u001b[K    30% |█████████▉                      | 358kB 6.2MB/s eta 0:00:01\r\u001b[K    31% |██████████                      | 368kB 7.0MB/s eta 0:00:01\r\u001b[K    32% |██████████▍                     | 378kB 5.8MB/s eta 0:00:01\r\u001b[K    33% |██████████▋                     | 389kB 6.4MB/s eta 0:00:01\r\u001b[K    34% |███████████                     | 399kB 6.9MB/s eta 0:00:01\r\u001b[K    35% |███████████▎                    | 409kB 5.7MB/s eta 0:00:01\r\u001b[K    35% |███████████▌                    | 419kB 6.7MB/s eta 0:00:01\r\u001b[K    36% |███████████▉                    | 430kB 6.9MB/s eta 0:00:01\r\u001b[K    37% |████████████                    | 440kB 6.8MB/s eta 0:00:01\r\u001b[K    38% |████████████▍                   | 450kB 7.0MB/s eta 0:00:01\r\u001b[K    39% |████████████▋                   | 460kB 5.8MB/s eta 0:00:01\r\u001b[K    40% |█████████████                   | 471kB 6.2MB/s eta 0:00:01\r\u001b[K    41% |█████████████▏                  | 481kB 7.1MB/s eta 0:00:01\r\u001b[K    42% |█████████████▌                  | 491kB 6.5MB/s eta 0:00:01\r\u001b[K    42% |█████████████▊                  | 501kB 7.0MB/s eta 0:00:01\r\u001b[K    43% |██████████████                  | 512kB 6.9MB/s eta 0:00:01\r\u001b[K    44% |██████████████▎                 | 522kB 6.9MB/s eta 0:00:01\r\u001b[K    45% |██████████████▋                 | 532kB 7.4MB/s eta 0:00:01\r\u001b[K    46% |██████████████▉                 | 542kB 6.2MB/s eta 0:00:01\r\u001b[K    47% |███████████████▏                | 552kB 7.5MB/s eta 0:00:01\r\u001b[K    48% |███████████████▍                | 563kB 8.5MB/s eta 0:00:01\r\u001b[K    49% |███████████████▊                | 573kB 7.4MB/s eta 0:00:01\r\u001b[K    49% |████████████████                | 583kB 8.0MB/s eta 0:00:01\r\u001b[K    50% |████████████████▎               | 593kB 7.4MB/s eta 0:00:01\r\u001b[K    51% |████████████████▋               | 604kB 7.4MB/s eta 0:00:01\r\u001b[K    52% |████████████████▉               | 614kB 8.8MB/s eta 0:00:01\r\u001b[K    53% |█████████████████▏              | 624kB 7.2MB/s eta 0:00:01\r\u001b[K    54% |█████████████████▍              | 634kB 7.3MB/s eta 0:00:01\r\u001b[K    55% |█████████████████▊              | 645kB 8.2MB/s eta 0:00:01\r\u001b[K    56% |██████████████████              | 655kB 6.5MB/s eta 0:00:01\r\u001b[K    57% |██████████████████▎             | 665kB 6.8MB/s eta 0:00:01\r\u001b[K    57% |██████████████████▌             | 675kB 7.7MB/s eta 0:00:01\r\u001b[K    58% |██████████████████▉             | 686kB 7.7MB/s eta 0:00:01\r\u001b[K    59% |███████████████████             | 696kB 8.8MB/s eta 0:00:01\r\u001b[K    60% |███████████████████▍            | 706kB 7.0MB/s eta 0:00:01\r\u001b[K    61% |███████████████████▋            | 716kB 7.5MB/s eta 0:00:01\r\u001b[K    62% |████████████████████            | 727kB 8.1MB/s eta 0:00:01\r\u001b[K    63% |████████████████████▏           | 737kB 7.8MB/s eta 0:00:01\r\u001b[K    64% |████████████████████▌           | 747kB 8.8MB/s eta 0:00:01\r\u001b[K    64% |████████████████████▊           | 757kB 8.1MB/s eta 0:00:01\r\u001b[K    65% |█████████████████████           | 768kB 8.6MB/s eta 0:00:01\r\u001b[K    66% |█████████████████████▎          | 778kB 7.8MB/s eta 0:00:01\r\u001b[K    67% |█████████████████████▋          | 788kB 6.7MB/s eta 0:00:01\r\u001b[K    68% |██████████████████████          | 798kB 7.1MB/s eta 0:00:01\r\u001b[K    69% |██████████████████████▏         | 808kB 8.8MB/s eta 0:00:01\r\u001b[K    70% |██████████████████████▌         | 819kB 7.6MB/s eta 0:00:01\r\u001b[K    71% |██████████████████████▊         | 829kB 8.5MB/s eta 0:00:01\r\u001b[K    71% |███████████████████████         | 839kB 7.3MB/s eta 0:00:01\r\u001b[K    72% |███████████████████████▎        | 849kB 7.2MB/s eta 0:00:01\r\u001b[K    73% |███████████████████████▋        | 860kB 8.7MB/s eta 0:00:01\r\u001b[K    74% |███████████████████████▉        | 870kB 8.4MB/s eta 0:00:01\r\u001b[K    75% |████████████████████████▏       | 880kB 9.3MB/s eta 0:00:01\r\u001b[K    76% |████████████████████████▍       | 890kB 9.6MB/s eta 0:00:01\r\u001b[K    77% |████████████████████████▊       | 901kB 8.2MB/s eta 0:00:01\r\u001b[K    78% |█████████████████████████       | 911kB 8.4MB/s eta 0:00:01\r\u001b[K    78% |█████████████████████████▎      | 921kB 8.2MB/s eta 0:00:01\r\u001b[K    79% |█████████████████████████▌      | 931kB 8.2MB/s eta 0:00:01\r\u001b[K    80% |█████████████████████████▉      | 942kB 9.9MB/s eta 0:00:01\r\u001b[K    81% |██████████████████████████      | 952kB 8.6MB/s eta 0:00:01\r\u001b[K    82% |██████████████████████████▍     | 962kB 10.0MB/s eta 0:00:01\r\u001b[K    83% |██████████████████████████▋     | 972kB 8.9MB/s eta 0:00:01\r\u001b[K    84% |███████████████████████████     | 983kB 7.9MB/s eta 0:00:01\r\u001b[K    85% |███████████████████████████▎    | 993kB 9.3MB/s eta 0:00:01\r\u001b[K    85% |███████████████████████████▌    | 1.0MB 9.6MB/s eta 0:00:01\r\u001b[K    86% |███████████████████████████▉    | 1.0MB 9.6MB/s eta 0:00:01\r\u001b[K    87% |████████████████████████████    | 1.0MB 10.3MB/s eta 0:00:01\r\u001b[K    88% |████████████████████████████▍   | 1.0MB 8.7MB/s eta 0:00:01\r\u001b[K    89% |████████████████████████████▋   | 1.0MB 9.0MB/s eta 0:00:01\r\u001b[K    90% |█████████████████████████████   | 1.1MB 9.5MB/s eta 0:00:01\r\u001b[K    91% |█████████████████████████████▏  | 1.1MB 8.8MB/s eta 0:00:01\r\u001b[K    92% |█████████████████████████████▌  | 1.1MB 10.2MB/s eta 0:00:01\r\u001b[K    92% |█████████████████████████████▊  | 1.1MB 10.3MB/s eta 0:00:01\r\u001b[K    93% |██████████████████████████████  | 1.1MB 10.0MB/s eta 0:00:01\r\u001b[K    94% |██████████████████████████████▎ | 1.1MB 10.3MB/s eta 0:00:01\r\u001b[K    95% |██████████████████████████████▋ | 1.1MB 8.9MB/s eta 0:00:01\r\u001b[K    96% |██████████████████████████████▉ | 1.1MB 10.2MB/s eta 0:00:01\r\u001b[K    97% |███████████████████████████████▏| 1.1MB 10.3MB/s eta 0:00:01\r\u001b[K    98% |███████████████████████████████▍| 1.1MB 10.1MB/s eta 0:00:01\r\u001b[K    99% |███████████████████████████████▊| 1.2MB 11.3MB/s eta 0:00:01\r\u001b[K    99% |████████████████████████████████| 1.2MB 11.6MB/s eta 0:00:01\r\u001b[K    100% |████████████████████████████████| 1.2MB 7.9MB/s \n",
            "\u001b[?25hRequirement already satisfied: scipy in /usr/local/lib/python3.6/dist-packages (from lightgbm) (1.1.0)\n",
            "Requirement already satisfied: numpy in /usr/local/lib/python3.6/dist-packages (from lightgbm) (1.14.6)\n",
            "Requirement already satisfied: scikit-learn in /usr/local/lib/python3.6/dist-packages (from lightgbm) (0.19.2)\n",
            "Installing collected packages: lightgbm\n",
            "Successfully installed lightgbm-2.2.2\n"
          ],
          "name": "stdout"
        }
      ]
    },
    {
      "metadata": {
        "id": "RiWl1ShmJJmo",
        "colab_type": "code",
        "colab": {}
      },
      "cell_type": "code",
      "source": [
        ""
      ],
      "execution_count": 0,
      "outputs": []
    },
    {
      "metadata": {
        "id": "kIezFRcyJIbL",
        "colab_type": "code",
        "outputId": "d17ede8f-eb80-4b35-fc87-0e44e4a80a1f",
        "colab": {
          "base_uri": "https://localhost:8080/",
          "height": 105
        }
      },
      "cell_type": "code",
      "source": [
        "#!/usr/bin/env python -W ignore::DeprecationWarning\n",
        " \n",
        "import numpy as np                                                 # Implemennts milti-dimensional array and matrices\n",
        "import pandas as pd                                                # For data manipulation and analysis\n",
        "import matplotlib.pyplot as plt                                    # Plotting library for Python programming language and it's numerical mathematics extension NumPy\n",
        "import seaborn as sns                                              # Provides a high level interface for drawing attractive and informative statistical graphics\n",
        "%matplotlib inline\n",
        "sns.set()\n",
        "from collections import Counter\n",
        "from subprocess import check_output\n",
        "titanic_data = pd.read_csv(\"https://raw.githubusercontent.com/insaid2018/Term-1/master/Data/Casestudy/titanic_train.csv\")     # Importing training dataset using pd.read_csv\n",
        "\n",
        "def detect_outliers(df,n,features):\n",
        "    \"\"\"\n",
        "    Takes a dataframe df of features and returns a list of the indices\n",
        "    corresponding to the observations containing more than n outliers according\n",
        "    to the Tukey method.\n",
        "    \"\"\"\n",
        "    outlier_indices = []\n",
        "    \n",
        "    # iterate over features(columns)\n",
        "    for col in features:\n",
        "        # 1st quartile (25%)\n",
        "        Q1 = np.percentile(df[col], 25)\n",
        "        # 3rd quartile (75%)\n",
        "        Q3 = np.percentile(df[col],75)\n",
        "        # Interquartile range (IQR)\n",
        "        IQR = Q3 - Q1\n",
        "        \n",
        "        # outlier step\n",
        "        outlier_step = 1.5 * IQR\n",
        "        \n",
        "        # Determine a list of indices of outliers for feature col\n",
        "        outlier_list_col = df[(df[col] < Q1 - outlier_step) | (df[col] > Q3 + outlier_step )].index\n",
        "        \n",
        "        # append the found outlier indices for col to the list of outlier indices \n",
        "        outlier_indices.extend(outlier_list_col)\n",
        "        \n",
        "    # select observations containing more than 2 outliers\n",
        "    outlier_indices = Counter(outlier_indices)        \n",
        "    multiple_outliers = list( k for k, v in outlier_indices.items() if v > n )\n",
        "    \n",
        "    return multiple_outliers   \n",
        "  \n",
        "# Get the outlier out (2 per column)\n",
        "Outliers_to_drop = detect_outliers(titanic_data,2,[\"Age\",\"SibSp\",\"Parch\",\"Fare\"])\n",
        "# print(titanic_data.loc[Outliers_to_drop]) # Show the outliers rows)\n",
        "titanic_data = titanic_data.drop(Outliers_to_drop, axis = 0).reset_index(drop=True)\n",
        "\n",
        "# Get the title from name\n",
        "# Get Title from Name\n",
        "titanic_data_title = [i.split(\",\")[1].split(\".\")[0].strip() for i in titanic_data[\"Name\"]]\n",
        "titanic_data[\"Title\"] = pd.Series(titanic_data_title)\n",
        "\n",
        "\n",
        "# Convert to categorical values Title \n",
        "titanic_data[\"Title\"] = titanic_data[\"Title\"].replace(['Lady', 'the Countess','Countess','Capt', 'Col','Don', 'Dr', 'Major', 'Rev', 'Sir', 'Jonkheer', 'Dona'], 'Rare')\n",
        "titanic_data[\"Title\"] = titanic_data[\"Title\"].map({\"Master\":0, \"Miss\":1, \"Ms\" : 1 , \"Mme\":1, \"Mlle\":1, \"Mrs\":1, \"Mr\":2, \"Rare\":3})\n",
        "titanic_data[\"Title\"] = titanic_data[\"Title\"].astype(int)\n",
        "\n",
        "# Add Cabin Details \n",
        "titanic_data[\"Cabin\"] = pd.Series([i[0] if not pd.isnull(i) else 'X' for i in titanic_data['Cabin'] ])\n",
        "titanic_data = pd.get_dummies(titanic_data, columns = [\"Cabin\"],prefix=\"Cabin\")\n",
        "\n",
        "titanic_data.Embarked = titanic_data.Embarked.fillna(titanic_data['Embarked'].mode()[0])\n",
        "median_age = titanic_data.Age.median()\n",
        "median_fare = titanic_data.Fare.median()\n",
        "titanic_data.Age.fillna(median_age, inplace = True)\n",
        "# titanic_data.drop('Cabin', axis = 1,inplace = True)\n",
        "titanic_data.Fare.fillna(median_fare, inplace = True)\n",
        "titanic_data['FamilySize'] = titanic_data['SibSp'] + titanic_data['Parch']+1\n",
        "titanic_data['GenderClass'] = titanic_data.apply(lambda x: 'child' if x['Age'] < 15 else x['Sex'],axis=1)\n",
        "titanic_data = pd.get_dummies(titanic_data, columns=['GenderClass','Embarked'], drop_first=True)\n",
        "titanic = titanic_data.drop(['Name','Ticket','Sex','SibSp','Parch','PassengerId'], axis = 1)\n",
        "titanic.head()\n",
        "X = titanic.loc[:,titanic.columns != 'Survived']\n",
        "y = titanic.Survived \n",
        "# X.head()\n",
        "\n",
        "from sklearn.cross_validation import train_test_split\n",
        "X_train, X_test, y_train, y_test = train_test_split(X, y, test_size=0.20, random_state=1)"
      ],
      "execution_count": 1,
      "outputs": [
        {
          "output_type": "stream",
          "text": [
            "/usr/local/lib/python3.6/dist-packages/numpy/lib/function_base.py:4291: RuntimeWarning: Invalid value encountered in percentile\n",
            "  interpolation=interpolation)\n",
            "/usr/local/lib/python3.6/dist-packages/sklearn/cross_validation.py:41: DeprecationWarning: This module was deprecated in version 0.18 in favor of the model_selection module into which all the refactored classes and functions are moved. Also note that the interface of the new CV iterators are different from that of this module. This module will be removed in 0.20.\n",
            "  \"This module will be removed in 0.20.\", DeprecationWarning)\n"
          ],
          "name": "stderr"
        }
      ]
    },
    {
      "metadata": {
        "id": "l_BKDZaHDx-S",
        "colab_type": "code",
        "colab": {
          "base_uri": "https://localhost:8080/",
          "height": 224
        },
        "outputId": "fe85cd8b-ee2b-4ecc-f362-b60ac2cc561a"
      },
      "cell_type": "code",
      "source": [
        "X_train.head(5)"
      ],
      "execution_count": 2,
      "outputs": [
        {
          "output_type": "execute_result",
          "data": {
            "text/html": [
              "<div>\n",
              "<style scoped>\n",
              "    .dataframe tbody tr th:only-of-type {\n",
              "        vertical-align: middle;\n",
              "    }\n",
              "\n",
              "    .dataframe tbody tr th {\n",
              "        vertical-align: top;\n",
              "    }\n",
              "\n",
              "    .dataframe thead th {\n",
              "        text-align: right;\n",
              "    }\n",
              "</style>\n",
              "<table border=\"1\" class=\"dataframe\">\n",
              "  <thead>\n",
              "    <tr style=\"text-align: right;\">\n",
              "      <th></th>\n",
              "      <th>Pclass</th>\n",
              "      <th>Age</th>\n",
              "      <th>Fare</th>\n",
              "      <th>Title</th>\n",
              "      <th>Cabin_A</th>\n",
              "      <th>Cabin_B</th>\n",
              "      <th>Cabin_C</th>\n",
              "      <th>Cabin_D</th>\n",
              "      <th>Cabin_E</th>\n",
              "      <th>Cabin_F</th>\n",
              "      <th>Cabin_G</th>\n",
              "      <th>Cabin_T</th>\n",
              "      <th>Cabin_X</th>\n",
              "      <th>FamilySize</th>\n",
              "      <th>GenderClass_female</th>\n",
              "      <th>GenderClass_male</th>\n",
              "      <th>Embarked_Q</th>\n",
              "      <th>Embarked_S</th>\n",
              "    </tr>\n",
              "  </thead>\n",
              "  <tbody>\n",
              "    <tr>\n",
              "      <th>181</th>\n",
              "      <td>1</td>\n",
              "      <td>28.0</td>\n",
              "      <td>50.0000</td>\n",
              "      <td>2</td>\n",
              "      <td>1</td>\n",
              "      <td>0</td>\n",
              "      <td>0</td>\n",
              "      <td>0</td>\n",
              "      <td>0</td>\n",
              "      <td>0</td>\n",
              "      <td>0</td>\n",
              "      <td>0</td>\n",
              "      <td>0</td>\n",
              "      <td>1</td>\n",
              "      <td>0</td>\n",
              "      <td>1</td>\n",
              "      <td>0</td>\n",
              "      <td>1</td>\n",
              "    </tr>\n",
              "    <tr>\n",
              "      <th>329</th>\n",
              "      <td>3</td>\n",
              "      <td>28.0</td>\n",
              "      <td>7.8958</td>\n",
              "      <td>2</td>\n",
              "      <td>0</td>\n",
              "      <td>0</td>\n",
              "      <td>0</td>\n",
              "      <td>0</td>\n",
              "      <td>0</td>\n",
              "      <td>0</td>\n",
              "      <td>0</td>\n",
              "      <td>0</td>\n",
              "      <td>1</td>\n",
              "      <td>1</td>\n",
              "      <td>0</td>\n",
              "      <td>1</td>\n",
              "      <td>0</td>\n",
              "      <td>1</td>\n",
              "    </tr>\n",
              "    <tr>\n",
              "      <th>265</th>\n",
              "      <td>1</td>\n",
              "      <td>28.0</td>\n",
              "      <td>31.0000</td>\n",
              "      <td>2</td>\n",
              "      <td>0</td>\n",
              "      <td>0</td>\n",
              "      <td>0</td>\n",
              "      <td>0</td>\n",
              "      <td>0</td>\n",
              "      <td>0</td>\n",
              "      <td>0</td>\n",
              "      <td>0</td>\n",
              "      <td>1</td>\n",
              "      <td>1</td>\n",
              "      <td>0</td>\n",
              "      <td>1</td>\n",
              "      <td>0</td>\n",
              "      <td>1</td>\n",
              "    </tr>\n",
              "    <tr>\n",
              "      <th>501</th>\n",
              "      <td>3</td>\n",
              "      <td>28.0</td>\n",
              "      <td>22.5250</td>\n",
              "      <td>2</td>\n",
              "      <td>0</td>\n",
              "      <td>0</td>\n",
              "      <td>0</td>\n",
              "      <td>0</td>\n",
              "      <td>0</td>\n",
              "      <td>0</td>\n",
              "      <td>0</td>\n",
              "      <td>0</td>\n",
              "      <td>1</td>\n",
              "      <td>1</td>\n",
              "      <td>0</td>\n",
              "      <td>1</td>\n",
              "      <td>0</td>\n",
              "      <td>1</td>\n",
              "    </tr>\n",
              "    <tr>\n",
              "      <th>855</th>\n",
              "      <td>2</td>\n",
              "      <td>42.0</td>\n",
              "      <td>13.0000</td>\n",
              "      <td>1</td>\n",
              "      <td>0</td>\n",
              "      <td>0</td>\n",
              "      <td>0</td>\n",
              "      <td>0</td>\n",
              "      <td>0</td>\n",
              "      <td>0</td>\n",
              "      <td>0</td>\n",
              "      <td>0</td>\n",
              "      <td>1</td>\n",
              "      <td>1</td>\n",
              "      <td>1</td>\n",
              "      <td>0</td>\n",
              "      <td>0</td>\n",
              "      <td>1</td>\n",
              "    </tr>\n",
              "  </tbody>\n",
              "</table>\n",
              "</div>"
            ],
            "text/plain": [
              "     Pclass   Age     Fare  Title  Cabin_A  Cabin_B  Cabin_C  Cabin_D  \\\n",
              "181       1  28.0  50.0000      2        1        0        0        0   \n",
              "329       3  28.0   7.8958      2        0        0        0        0   \n",
              "265       1  28.0  31.0000      2        0        0        0        0   \n",
              "501       3  28.0  22.5250      2        0        0        0        0   \n",
              "855       2  42.0  13.0000      1        0        0        0        0   \n",
              "\n",
              "     Cabin_E  Cabin_F  Cabin_G  Cabin_T  Cabin_X  FamilySize  \\\n",
              "181        0        0        0        0        0           1   \n",
              "329        0        0        0        0        1           1   \n",
              "265        0        0        0        0        1           1   \n",
              "501        0        0        0        0        1           1   \n",
              "855        0        0        0        0        1           1   \n",
              "\n",
              "     GenderClass_female  GenderClass_male  Embarked_Q  Embarked_S  \n",
              "181                   0                 1           0           1  \n",
              "329                   0                 1           0           1  \n",
              "265                   0                 1           0           1  \n",
              "501                   0                 1           0           1  \n",
              "855                   1                 0           0           1  "
            ]
          },
          "metadata": {
            "tags": []
          },
          "execution_count": 2
        }
      ]
    },
    {
      "metadata": {
        "id": "Bi-UeTkDLdup",
        "colab_type": "code",
        "colab": {}
      },
      "cell_type": "code",
      "source": [
        ""
      ],
      "execution_count": 0,
      "outputs": []
    },
    {
      "metadata": {
        "id": "5X9KWoBrL6XU",
        "colab_type": "code",
        "outputId": "ad23920d-a015-40a9-e801-1af6ef346c83",
        "colab": {
          "base_uri": "https://localhost:8080/",
          "height": 2631
        }
      },
      "cell_type": "code",
      "source": [
        "import hyperopt\n",
        "from catboost import CatBoostClassifier, Pool, cv\n",
        "\n",
        "train_pool = Pool(X_train, y_train)\n",
        "\n",
        "def hyperopt_objective(params):\n",
        "    model = CatBoostClassifier(\n",
        "        l2_leaf_reg=int(params['l2_leaf_reg']),\n",
        "        learning_rate=params['learning_rate'],\n",
        "        depth=params['depth'],\n",
        "        iterations=1000,\n",
        "        eval_metric='Accuracy',\n",
        "        od_type='Iter',\n",
        "        od_wait=40,\n",
        "        random_seed=42,\n",
        "        logging_level='Silent',\n",
        "        allow_writing_files=False\n",
        "    )\n",
        "    \n",
        "    cv_data = cv(\n",
        "        train_pool,\n",
        "        model.get_params()\n",
        "    )\n",
        "    best_accuracy = np.max(cv_data['test-Accuracy-mean'])    \n",
        "    \n",
        "    print(params, best_accuracy)\n",
        "    return 1 - best_accuracy # as hyperopt minimises\n",
        "\n",
        "params_space = {\n",
        "    'l2_leaf_reg': hyperopt.hp.qloguniform('l2_leaf_reg', 0, 2, 1),\n",
        "    'learning_rate': hyperopt.hp.uniform('learning_rate', 1e-3, 5e-1),\n",
        "    'depth': hyperopt.hp.choice('depth', [3,4,5,6,8]),\n",
        "}\n",
        "\n",
        "trials = hyperopt.Trials()\n",
        "\n",
        "best = hyperopt.fmin(\n",
        "    hyperopt_objective,\n",
        "    space=params_space,\n",
        "    algo=hyperopt.tpe.suggest,\n",
        "    max_evals=100,\n",
        "    trials=trials\n",
        ")\n",
        "\n",
        "print(\"+++++++++++++++++++++++++++++++++++++++++++++++++++++\")\n",
        "print(best)\n"
      ],
      "execution_count": 5,
      "outputs": [
        {
          "output_type": "stream",
          "text": [
            "{'depth': 8, 'l2_leaf_reg': 7.0, 'learning_rate': 0.4784362672900233} 0.8310056373886162\n",
            "{'depth': 4, 'l2_leaf_reg': 1.0, 'learning_rate': 0.11331509293216656} 0.8352730799539311\n",
            "{'depth': 3, 'l2_leaf_reg': 2.0, 'learning_rate': 0.2700788249930544} 0.8324240771049282\n",
            "{'depth': 4, 'l2_leaf_reg': 7.0, 'learning_rate': 0.425445593868832} 0.8324240771049282\n",
            "{'depth': 4, 'l2_leaf_reg': 1.0, 'learning_rate': 0.015460514451838318} 0.8338425168212402\n",
            "{'depth': 6, 'l2_leaf_reg': 4.0, 'learning_rate': 0.02315768668580303} 0.8310056373886162\n",
            "{'depth': 3, 'l2_leaf_reg': 1.0, 'learning_rate': 0.005014341984825305} 0.81677880826817\n",
            "{'depth': 6, 'l2_leaf_reg': 2.0, 'learning_rate': 0.3049078736545175} 0.8310056373886162\n",
            "{'depth': 6, 'l2_leaf_reg': 2.0, 'learning_rate': 0.31200021061471783} 0.8310056373886162\n",
            "{'depth': 6, 'l2_leaf_reg': 7.0, 'learning_rate': 0.2502614502341035} 0.8423652785354913\n",
            "{'depth': 3, 'l2_leaf_reg': 7.0, 'learning_rate': 0.4771127636990911} 0.829587197672304\n",
            "{'depth': 8, 'l2_leaf_reg': 3.0, 'learning_rate': 0.4736663879908974} 0.8309813905558587\n",
            "{'depth': 3, 'l2_leaf_reg': 4.0, 'learning_rate': 0.2680681674506995} 0.8338607019458083\n",
            "{'depth': 5, 'l2_leaf_reg': 2.0, 'learning_rate': 0.4043188258563906} 0.8295932593804934\n",
            "{'depth': 4, 'l2_leaf_reg': 5.0, 'learning_rate': 0.425693309279751} 0.8310116990968055\n",
            "{'depth': 5, 'l2_leaf_reg': 1.0, 'learning_rate': 0.10592544153072034} 0.8324422622294962\n",
            "{'depth': 5, 'l2_leaf_reg': 2.0, 'learning_rate': 0.2300739423870213} 0.829587197672304\n",
            "{'depth': 3, 'l2_leaf_reg': 1.0, 'learning_rate': 0.341987104170491} 0.8338425168212402\n",
            "{'depth': 4, 'l2_leaf_reg': 1.0, 'learning_rate': 0.2586049364282016} 0.8338485785294297\n",
            "{'depth': 6, 'l2_leaf_reg': 5.0, 'learning_rate': 0.1443173614189489} 0.8352670182457417\n",
            "{'depth': 4, 'l2_leaf_reg': 3.0, 'learning_rate': 0.1828738609199355} 0.8352852033703098\n",
            "{'depth': 6, 'l2_leaf_reg': 3.0, 'learning_rate': 0.20139616828197138} 0.8295932593804934\n",
            "{'depth': 4, 'l2_leaf_reg': 5.0, 'learning_rate': 0.17917843931769167} 0.838122082802934\n",
            "{'depth': 6, 'l2_leaf_reg': 5.0, 'learning_rate': 0.06473698685807523} 0.8338425168212402\n",
            "{'depth': 8, 'l2_leaf_reg': 6.0, 'learning_rate': 0.1669763470477344} 0.8352670182457417\n",
            "{'depth': 6, 'l2_leaf_reg': 4.0, 'learning_rate': 0.35817232987931125} 0.8295932593804934\n",
            "{'depth': 4, 'l2_leaf_reg': 6.0, 'learning_rate': 0.2144803016191812} 0.832436200521307\n",
            "{'depth': 6, 'l2_leaf_reg': 6.0, 'learning_rate': 0.07225605133463231} 0.8338485785294297\n",
            "{'depth': 8, 'l2_leaf_reg': 7.0, 'learning_rate': 0.1477047303070503} 0.8352670182457417\n",
            "{'depth': 4, 'l2_leaf_reg': 5.0, 'learning_rate': 0.30121737093298884} 0.8366975813784325\n",
            "{'depth': 5, 'l2_leaf_reg': 4.0, 'learning_rate': 0.3688611275140771} 0.8295932593804934\n",
            "{'depth': 8, 'l2_leaf_reg': 6.0, 'learning_rate': 0.2341347623041888} 0.8324301388131176\n",
            "{'depth': 4, 'l2_leaf_reg': 3.0, 'learning_rate': 0.12966615365264503} 0.8324301388131176\n",
            "{'depth': 4, 'l2_leaf_reg': 7.0, 'learning_rate': 0.09085741538595193} 0.829587197672304\n",
            "{'depth': 6, 'l2_leaf_reg': 4.0, 'learning_rate': 0.1877433490548277} 0.8338364551130509\n",
            "{'depth': 4, 'l2_leaf_reg': 5.0, 'learning_rate': 0.2822834539997654} 0.8381099593865552\n",
            "{'depth': 6, 'l2_leaf_reg': 6.0, 'learning_rate': 0.04315896102357003} 0.8310056373886162\n",
            "{'depth': 3, 'l2_leaf_reg': 4.0, 'learning_rate': 0.33105794983942466} 0.8310238225131842\n",
            "{'depth': 4, 'l2_leaf_reg': 7.0, 'learning_rate': 0.2438782219326806} 0.8310116990968055\n",
            "{'depth': 6, 'l2_leaf_reg': 2.0, 'learning_rate': 0.384360551003927} 0.829587197672304\n",
            "{'depth': 8, 'l2_leaf_reg': 3.0, 'learning_rate': 0.1639964785765951} 0.8310116990968055\n",
            "{'depth': 5, 'l2_leaf_reg': 5.0, 'learning_rate': 0.2858799361961573} 0.8310056373886162\n",
            "{'depth': 3, 'l2_leaf_reg': 4.0, 'learning_rate': 0.21441070428085066} 0.8338425168212402\n",
            "{'depth': 6, 'l2_leaf_reg': 3.0, 'learning_rate': 0.11030509317885104} 0.829587197672304\n",
            "{'depth': 4, 'l2_leaf_reg': 2.0, 'learning_rate': 0.4308584125360453} 0.8366793962538644\n",
            "{'depth': 5, 'l2_leaf_reg': 7.0, 'learning_rate': 0.4585528470386079} 0.8324422622294962\n",
            "{'depth': 3, 'l2_leaf_reg': 6.0, 'learning_rate': 0.31817097553331514} 0.8338425168212402\n",
            "{'depth': 6, 'l2_leaf_reg': 2.0, 'learning_rate': 0.02988314181941648} 0.8338485785294297\n",
            "{'depth': 4, 'l2_leaf_reg': 5.0, 'learning_rate': 0.1326759949169184} 0.8338485785294297\n",
            "{'depth': 8, 'l2_leaf_reg': 4.0, 'learning_rate': 0.2842485422698839} 0.8310116990968055\n",
            "{'depth': 6, 'l2_leaf_reg': 3.0, 'learning_rate': 0.260445398239938} 0.8310056373886162\n",
            "{'depth': 4, 'l2_leaf_reg': 1.0, 'learning_rate': 0.002673647981036059} 0.8295750742559252\n",
            "{'depth': 5, 'l2_leaf_reg': 1.0, 'learning_rate': 0.091769333292582} 0.8338425168212402\n",
            "{'depth': 3, 'l2_leaf_reg': 4.0, 'learning_rate': 0.1718368025181483} 0.8338425168212402\n",
            "{'depth': 6, 'l2_leaf_reg': 5.0, 'learning_rate': 0.21336786442815867} 0.8281748196641813\n",
            "{'depth': 4, 'l2_leaf_reg': 6.0, 'learning_rate': 0.39237974797067554} 0.8324240771049282\n",
            "{'depth': 6, 'l2_leaf_reg': 2.0, 'learning_rate': 0.34341039751392555} 0.8310116990968055\n",
            "{'depth': 8, 'l2_leaf_reg': 7.0, 'learning_rate': 0.4963250553049449} 0.8380857125537977\n",
            "{'depth': 5, 'l2_leaf_reg': 3.0, 'learning_rate': 0.19068142700384527} 0.8281748196641813\n",
            "{'depth': 4, 'l2_leaf_reg': 6.0, 'learning_rate': 0.24051046504907608} 0.8338485785294297\n",
            "{'depth': 3, 'l2_leaf_reg': 5.0, 'learning_rate': 0.05373757829482523} 0.8324240771049282\n",
            "{'depth': 6, 'l2_leaf_reg': 1.0, 'learning_rate': 0.14958644722546632} 0.8310116990968055\n",
            "{'depth': 4, 'l2_leaf_reg': 4.0, 'learning_rate': 0.12436403987110689} 0.836691519670243\n",
            "{'depth': 8, 'l2_leaf_reg': 2.0, 'learning_rate': 0.08160469405295234} 0.8324301388131176\n",
            "{'depth': 6, 'l2_leaf_reg': 7.0, 'learning_rate': 0.19889577994181515} 0.8295993210886827\n",
            "{'depth': 4, 'l2_leaf_reg': 5.0, 'learning_rate': 0.27274397252377913} 0.8324301388131176\n",
            "{'depth': 4, 'l2_leaf_reg': 5.0, 'learning_rate': 0.30768860105816265} 0.8324240771049282\n",
            "{'depth': 4, 'l2_leaf_reg': 4.0, 'learning_rate': 0.220843222512426} 0.8395344608110565\n",
            "{'depth': 4, 'l2_leaf_reg': 4.0, 'learning_rate': 0.2302820869518534} 0.8338425168212402\n",
            "{'depth': 4, 'l2_leaf_reg': 3.0, 'learning_rate': 0.2203543683711426} 0.8310056373886162\n",
            "{'depth': 4, 'l2_leaf_reg': 4.0, 'learning_rate': 0.25051592404542683} 0.8381038976783658\n",
            "{'depth': 4, 'l2_leaf_reg': 6.0, 'learning_rate': 0.1737283777779387} 0.8366975813784325\n",
            "{'depth': 4, 'l2_leaf_reg': 3.0, 'learning_rate': 0.15560779077314296} 0.8352670182457417\n"
          ],
          "name": "stdout"
        },
        {
          "output_type": "error",
          "ename": "KeyboardInterrupt",
          "evalue": "ignored",
          "traceback": [
            "\u001b[0;31m---------------------------------------------------------------------------\u001b[0m",
            "\u001b[0;31mKeyboardInterrupt\u001b[0m                         Traceback (most recent call last)",
            "\u001b[0;32m<ipython-input-5-e1b2393df135>\u001b[0m in \u001b[0;36m<module>\u001b[0;34m()\u001b[0m\n\u001b[1;32m     40\u001b[0m     \u001b[0malgo\u001b[0m\u001b[0;34m=\u001b[0m\u001b[0mhyperopt\u001b[0m\u001b[0;34m.\u001b[0m\u001b[0mtpe\u001b[0m\u001b[0;34m.\u001b[0m\u001b[0msuggest\u001b[0m\u001b[0;34m,\u001b[0m\u001b[0;34m\u001b[0m\u001b[0;34m\u001b[0m\u001b[0m\n\u001b[1;32m     41\u001b[0m     \u001b[0mmax_evals\u001b[0m\u001b[0;34m=\u001b[0m\u001b[0;36m100\u001b[0m\u001b[0;34m,\u001b[0m\u001b[0;34m\u001b[0m\u001b[0;34m\u001b[0m\u001b[0m\n\u001b[0;32m---> 42\u001b[0;31m     \u001b[0mtrials\u001b[0m\u001b[0;34m=\u001b[0m\u001b[0mtrials\u001b[0m\u001b[0;34m\u001b[0m\u001b[0;34m\u001b[0m\u001b[0m\n\u001b[0m\u001b[1;32m     43\u001b[0m )\n\u001b[1;32m     44\u001b[0m \u001b[0;34m\u001b[0m\u001b[0m\n",
            "\u001b[0;32m/usr/local/lib/python3.6/dist-packages/hyperopt/fmin.py\u001b[0m in \u001b[0;36mfmin\u001b[0;34m(fn, space, algo, max_evals, trials, rstate, allow_trials_fmin, pass_expr_memo_ctrl, catch_eval_exceptions, verbose, return_argmin, points_to_evaluate, max_queue_len)\u001b[0m\n\u001b[1;32m    365\u001b[0m             \u001b[0mverbose\u001b[0m\u001b[0;34m=\u001b[0m\u001b[0mverbose\u001b[0m\u001b[0;34m,\u001b[0m\u001b[0;34m\u001b[0m\u001b[0;34m\u001b[0m\u001b[0m\n\u001b[1;32m    366\u001b[0m             \u001b[0mcatch_eval_exceptions\u001b[0m\u001b[0;34m=\u001b[0m\u001b[0mcatch_eval_exceptions\u001b[0m\u001b[0;34m,\u001b[0m\u001b[0;34m\u001b[0m\u001b[0;34m\u001b[0m\u001b[0m\n\u001b[0;32m--> 367\u001b[0;31m             \u001b[0mreturn_argmin\u001b[0m\u001b[0;34m=\u001b[0m\u001b[0mreturn_argmin\u001b[0m\u001b[0;34m,\u001b[0m\u001b[0;34m\u001b[0m\u001b[0;34m\u001b[0m\u001b[0m\n\u001b[0m\u001b[1;32m    368\u001b[0m         )\n\u001b[1;32m    369\u001b[0m \u001b[0;34m\u001b[0m\u001b[0m\n",
            "\u001b[0;32m/usr/local/lib/python3.6/dist-packages/hyperopt/base.py\u001b[0m in \u001b[0;36mfmin\u001b[0;34m(self, fn, space, algo, max_evals, rstate, verbose, pass_expr_memo_ctrl, catch_eval_exceptions, return_argmin)\u001b[0m\n\u001b[1;32m    633\u001b[0m             \u001b[0mpass_expr_memo_ctrl\u001b[0m\u001b[0;34m=\u001b[0m\u001b[0mpass_expr_memo_ctrl\u001b[0m\u001b[0;34m,\u001b[0m\u001b[0;34m\u001b[0m\u001b[0;34m\u001b[0m\u001b[0m\n\u001b[1;32m    634\u001b[0m             \u001b[0mcatch_eval_exceptions\u001b[0m\u001b[0;34m=\u001b[0m\u001b[0mcatch_eval_exceptions\u001b[0m\u001b[0;34m,\u001b[0m\u001b[0;34m\u001b[0m\u001b[0;34m\u001b[0m\u001b[0m\n\u001b[0;32m--> 635\u001b[0;31m             return_argmin=return_argmin)\n\u001b[0m\u001b[1;32m    636\u001b[0m \u001b[0;34m\u001b[0m\u001b[0m\n\u001b[1;32m    637\u001b[0m \u001b[0;34m\u001b[0m\u001b[0m\n",
            "\u001b[0;32m/usr/local/lib/python3.6/dist-packages/hyperopt/fmin.py\u001b[0m in \u001b[0;36mfmin\u001b[0;34m(fn, space, algo, max_evals, trials, rstate, allow_trials_fmin, pass_expr_memo_ctrl, catch_eval_exceptions, verbose, return_argmin, points_to_evaluate, max_queue_len)\u001b[0m\n\u001b[1;32m    383\u001b[0m                     max_queue_len=max_queue_len)\n\u001b[1;32m    384\u001b[0m     \u001b[0mrval\u001b[0m\u001b[0;34m.\u001b[0m\u001b[0mcatch_eval_exceptions\u001b[0m \u001b[0;34m=\u001b[0m \u001b[0mcatch_eval_exceptions\u001b[0m\u001b[0;34m\u001b[0m\u001b[0;34m\u001b[0m\u001b[0m\n\u001b[0;32m--> 385\u001b[0;31m     \u001b[0mrval\u001b[0m\u001b[0;34m.\u001b[0m\u001b[0mexhaust\u001b[0m\u001b[0;34m(\u001b[0m\u001b[0;34m)\u001b[0m\u001b[0;34m\u001b[0m\u001b[0;34m\u001b[0m\u001b[0m\n\u001b[0m\u001b[1;32m    386\u001b[0m     \u001b[0;32mif\u001b[0m \u001b[0mreturn_argmin\u001b[0m\u001b[0;34m:\u001b[0m\u001b[0;34m\u001b[0m\u001b[0;34m\u001b[0m\u001b[0m\n\u001b[1;32m    387\u001b[0m         \u001b[0;32mreturn\u001b[0m \u001b[0mtrials\u001b[0m\u001b[0;34m.\u001b[0m\u001b[0margmin\u001b[0m\u001b[0;34m\u001b[0m\u001b[0;34m\u001b[0m\u001b[0m\n",
            "\u001b[0;32m/usr/local/lib/python3.6/dist-packages/hyperopt/fmin.py\u001b[0m in \u001b[0;36mexhaust\u001b[0;34m(self)\u001b[0m\n\u001b[1;32m    242\u001b[0m     \u001b[0;32mdef\u001b[0m \u001b[0mexhaust\u001b[0m\u001b[0;34m(\u001b[0m\u001b[0mself\u001b[0m\u001b[0;34m)\u001b[0m\u001b[0;34m:\u001b[0m\u001b[0;34m\u001b[0m\u001b[0;34m\u001b[0m\u001b[0m\n\u001b[1;32m    243\u001b[0m         \u001b[0mn_done\u001b[0m \u001b[0;34m=\u001b[0m \u001b[0mlen\u001b[0m\u001b[0;34m(\u001b[0m\u001b[0mself\u001b[0m\u001b[0;34m.\u001b[0m\u001b[0mtrials\u001b[0m\u001b[0;34m)\u001b[0m\u001b[0;34m\u001b[0m\u001b[0;34m\u001b[0m\u001b[0m\n\u001b[0;32m--> 244\u001b[0;31m         \u001b[0mself\u001b[0m\u001b[0;34m.\u001b[0m\u001b[0mrun\u001b[0m\u001b[0;34m(\u001b[0m\u001b[0mself\u001b[0m\u001b[0;34m.\u001b[0m\u001b[0mmax_evals\u001b[0m \u001b[0;34m-\u001b[0m \u001b[0mn_done\u001b[0m\u001b[0;34m,\u001b[0m \u001b[0mblock_until_done\u001b[0m\u001b[0;34m=\u001b[0m\u001b[0mself\u001b[0m\u001b[0;34m.\u001b[0m\u001b[0masynchronous\u001b[0m\u001b[0;34m)\u001b[0m\u001b[0;34m\u001b[0m\u001b[0;34m\u001b[0m\u001b[0m\n\u001b[0m\u001b[1;32m    245\u001b[0m         \u001b[0mself\u001b[0m\u001b[0;34m.\u001b[0m\u001b[0mtrials\u001b[0m\u001b[0;34m.\u001b[0m\u001b[0mrefresh\u001b[0m\u001b[0;34m(\u001b[0m\u001b[0;34m)\u001b[0m\u001b[0;34m\u001b[0m\u001b[0;34m\u001b[0m\u001b[0m\n\u001b[1;32m    246\u001b[0m         \u001b[0;32mreturn\u001b[0m \u001b[0mself\u001b[0m\u001b[0;34m\u001b[0m\u001b[0;34m\u001b[0m\u001b[0m\n",
            "\u001b[0;32m/usr/local/lib/python3.6/dist-packages/hyperopt/fmin.py\u001b[0m in \u001b[0;36mrun\u001b[0;34m(self, N, block_until_done)\u001b[0m\n\u001b[1;32m    216\u001b[0m             \u001b[0;32melse\u001b[0m\u001b[0;34m:\u001b[0m\u001b[0;34m\u001b[0m\u001b[0;34m\u001b[0m\u001b[0m\n\u001b[1;32m    217\u001b[0m                 \u001b[0;31m# -- loop over trials and do the jobs directly\u001b[0m\u001b[0;34m\u001b[0m\u001b[0;34m\u001b[0m\u001b[0;34m\u001b[0m\u001b[0m\n\u001b[0;32m--> 218\u001b[0;31m                 \u001b[0mself\u001b[0m\u001b[0;34m.\u001b[0m\u001b[0mserial_evaluate\u001b[0m\u001b[0;34m(\u001b[0m\u001b[0;34m)\u001b[0m\u001b[0;34m\u001b[0m\u001b[0;34m\u001b[0m\u001b[0m\n\u001b[0m\u001b[1;32m    219\u001b[0m \u001b[0;34m\u001b[0m\u001b[0m\n\u001b[1;32m    220\u001b[0m             \u001b[0;32mif\u001b[0m \u001b[0mstopped\u001b[0m\u001b[0;34m:\u001b[0m\u001b[0;34m\u001b[0m\u001b[0;34m\u001b[0m\u001b[0m\n",
            "\u001b[0;32m/usr/local/lib/python3.6/dist-packages/hyperopt/fmin.py\u001b[0m in \u001b[0;36mserial_evaluate\u001b[0;34m(self, N)\u001b[0m\n\u001b[1;32m    135\u001b[0m                 \u001b[0mctrl\u001b[0m \u001b[0;34m=\u001b[0m \u001b[0mbase\u001b[0m\u001b[0;34m.\u001b[0m\u001b[0mCtrl\u001b[0m\u001b[0;34m(\u001b[0m\u001b[0mself\u001b[0m\u001b[0;34m.\u001b[0m\u001b[0mtrials\u001b[0m\u001b[0;34m,\u001b[0m \u001b[0mcurrent_trial\u001b[0m\u001b[0;34m=\u001b[0m\u001b[0mtrial\u001b[0m\u001b[0;34m)\u001b[0m\u001b[0;34m\u001b[0m\u001b[0;34m\u001b[0m\u001b[0m\n\u001b[1;32m    136\u001b[0m                 \u001b[0;32mtry\u001b[0m\u001b[0;34m:\u001b[0m\u001b[0;34m\u001b[0m\u001b[0;34m\u001b[0m\u001b[0m\n\u001b[0;32m--> 137\u001b[0;31m                     \u001b[0mresult\u001b[0m \u001b[0;34m=\u001b[0m \u001b[0mself\u001b[0m\u001b[0;34m.\u001b[0m\u001b[0mdomain\u001b[0m\u001b[0;34m.\u001b[0m\u001b[0mevaluate\u001b[0m\u001b[0;34m(\u001b[0m\u001b[0mspec\u001b[0m\u001b[0;34m,\u001b[0m \u001b[0mctrl\u001b[0m\u001b[0;34m)\u001b[0m\u001b[0;34m\u001b[0m\u001b[0;34m\u001b[0m\u001b[0m\n\u001b[0m\u001b[1;32m    138\u001b[0m                 \u001b[0;32mexcept\u001b[0m \u001b[0mException\u001b[0m \u001b[0;32mas\u001b[0m \u001b[0me\u001b[0m\u001b[0;34m:\u001b[0m\u001b[0;34m\u001b[0m\u001b[0;34m\u001b[0m\u001b[0m\n\u001b[1;32m    139\u001b[0m                     \u001b[0mlogger\u001b[0m\u001b[0;34m.\u001b[0m\u001b[0minfo\u001b[0m\u001b[0;34m(\u001b[0m\u001b[0;34m'job exception: %s'\u001b[0m \u001b[0;34m%\u001b[0m \u001b[0mstr\u001b[0m\u001b[0;34m(\u001b[0m\u001b[0me\u001b[0m\u001b[0;34m)\u001b[0m\u001b[0;34m)\u001b[0m\u001b[0;34m\u001b[0m\u001b[0;34m\u001b[0m\u001b[0m\n",
            "\u001b[0;32m/usr/local/lib/python3.6/dist-packages/hyperopt/base.py\u001b[0m in \u001b[0;36mevaluate\u001b[0;34m(self, config, ctrl, attach_attachments)\u001b[0m\n\u001b[1;32m    838\u001b[0m                 \u001b[0mmemo\u001b[0m\u001b[0;34m=\u001b[0m\u001b[0mmemo\u001b[0m\u001b[0;34m,\u001b[0m\u001b[0;34m\u001b[0m\u001b[0;34m\u001b[0m\u001b[0m\n\u001b[1;32m    839\u001b[0m                 print_node_on_error=self.rec_eval_print_node_on_error)\n\u001b[0;32m--> 840\u001b[0;31m             \u001b[0mrval\u001b[0m \u001b[0;34m=\u001b[0m \u001b[0mself\u001b[0m\u001b[0;34m.\u001b[0m\u001b[0mfn\u001b[0m\u001b[0;34m(\u001b[0m\u001b[0mpyll_rval\u001b[0m\u001b[0;34m)\u001b[0m\u001b[0;34m\u001b[0m\u001b[0;34m\u001b[0m\u001b[0m\n\u001b[0m\u001b[1;32m    841\u001b[0m \u001b[0;34m\u001b[0m\u001b[0m\n\u001b[1;32m    842\u001b[0m         \u001b[0;32mif\u001b[0m \u001b[0misinstance\u001b[0m\u001b[0;34m(\u001b[0m\u001b[0mrval\u001b[0m\u001b[0;34m,\u001b[0m \u001b[0;34m(\u001b[0m\u001b[0mfloat\u001b[0m\u001b[0;34m,\u001b[0m \u001b[0mint\u001b[0m\u001b[0;34m,\u001b[0m \u001b[0mnp\u001b[0m\u001b[0;34m.\u001b[0m\u001b[0mnumber\u001b[0m\u001b[0;34m)\u001b[0m\u001b[0;34m)\u001b[0m\u001b[0;34m:\u001b[0m\u001b[0;34m\u001b[0m\u001b[0;34m\u001b[0m\u001b[0m\n",
            "\u001b[0;32m<ipython-input-5-e1b2393df135>\u001b[0m in \u001b[0;36mhyperopt_objective\u001b[0;34m(params)\u001b[0m\n\u001b[1;32m     20\u001b[0m     cv_data = cv(\n\u001b[1;32m     21\u001b[0m         \u001b[0mtrain_pool\u001b[0m\u001b[0;34m,\u001b[0m\u001b[0;34m\u001b[0m\u001b[0;34m\u001b[0m\u001b[0m\n\u001b[0;32m---> 22\u001b[0;31m         \u001b[0mmodel\u001b[0m\u001b[0;34m.\u001b[0m\u001b[0mget_params\u001b[0m\u001b[0;34m(\u001b[0m\u001b[0;34m)\u001b[0m\u001b[0;34m\u001b[0m\u001b[0;34m\u001b[0m\u001b[0m\n\u001b[0m\u001b[1;32m     23\u001b[0m     )\n\u001b[1;32m     24\u001b[0m     \u001b[0mbest_accuracy\u001b[0m \u001b[0;34m=\u001b[0m \u001b[0mnp\u001b[0m\u001b[0;34m.\u001b[0m\u001b[0mmax\u001b[0m\u001b[0;34m(\u001b[0m\u001b[0mcv_data\u001b[0m\u001b[0;34m[\u001b[0m\u001b[0;34m'test-Accuracy-mean'\u001b[0m\u001b[0;34m]\u001b[0m\u001b[0;34m)\u001b[0m\u001b[0;34m\u001b[0m\u001b[0;34m\u001b[0m\u001b[0m\n",
            "\u001b[0;32m/usr/local/lib/python3.6/dist-packages/catboost/core.py\u001b[0m in \u001b[0;36mcv\u001b[0;34m(pool, params, dtrain, iterations, num_boost_round, fold_count, nfold, inverted, partition_random_seed, seed, shuffle, logging_level, stratified, as_pandas, metric_period, verbose, verbose_eval, plot, early_stopping_rounds, save_snapshot, snapshot_file, snapshot_interval)\u001b[0m\n\u001b[1;32m   2890\u001b[0m \u001b[0;34m\u001b[0m\u001b[0m\n\u001b[1;32m   2891\u001b[0m     \u001b[0;32mwith\u001b[0m \u001b[0mlog_fixup\u001b[0m\u001b[0;34m(\u001b[0m\u001b[0;34m)\u001b[0m\u001b[0;34m,\u001b[0m \u001b[0mplot_wrapper\u001b[0m\u001b[0;34m(\u001b[0m\u001b[0mplot\u001b[0m\u001b[0;34m,\u001b[0m \u001b[0mparams\u001b[0m\u001b[0;34m)\u001b[0m\u001b[0;34m:\u001b[0m\u001b[0;34m\u001b[0m\u001b[0;34m\u001b[0m\u001b[0m\n\u001b[0;32m-> 2892\u001b[0;31m         \u001b[0;32mreturn\u001b[0m \u001b[0m_cv\u001b[0m\u001b[0;34m(\u001b[0m\u001b[0mparams\u001b[0m\u001b[0;34m,\u001b[0m \u001b[0mpool\u001b[0m\u001b[0;34m,\u001b[0m \u001b[0mfold_count\u001b[0m\u001b[0;34m,\u001b[0m \u001b[0minverted\u001b[0m\u001b[0;34m,\u001b[0m \u001b[0mpartition_random_seed\u001b[0m\u001b[0;34m,\u001b[0m \u001b[0mshuffle\u001b[0m\u001b[0;34m,\u001b[0m \u001b[0mstratified\u001b[0m\u001b[0;34m,\u001b[0m \u001b[0mas_pandas\u001b[0m\u001b[0;34m)\u001b[0m\u001b[0;34m\u001b[0m\u001b[0;34m\u001b[0m\u001b[0m\n\u001b[0m\u001b[1;32m   2893\u001b[0m \u001b[0;34m\u001b[0m\u001b[0m\n\u001b[1;32m   2894\u001b[0m \u001b[0;34m\u001b[0m\u001b[0m\n",
            "\u001b[0;32m_catboost.pyx\u001b[0m in \u001b[0;36m_catboost._cv\u001b[0;34m()\u001b[0m\n",
            "\u001b[0;32m_catboost.pyx\u001b[0m in \u001b[0;36m_catboost._cv\u001b[0;34m()\u001b[0m\n",
            "\u001b[0;31mKeyboardInterrupt\u001b[0m: "
          ]
        }
      ]
    },
    {
      "metadata": {
        "id": "ETifzFQAOIw_",
        "colab_type": "code",
        "outputId": "e29295a3-baba-45a3-a64e-97c7bf399ac1",
        "colab": {
          "base_uri": "https://localhost:8080/",
          "height": 68
        }
      },
      "cell_type": "code",
      "source": [
        "#best = {'depth': 6, 'l2_leaf_reg': 1.0, 'learning_rate': 0.07395682681736576} \n",
        "\n",
        "model = CatBoostClassifier(\n",
        "    l2_leaf_reg=4,\n",
        "    learning_rate=0.22,\n",
        "    #depth=best['depth'],\n",
        "    depth=4,\n",
        "    iterations=1000,\n",
        "    eval_metric='Accuracy',\n",
        "    #od_type='Iter',\n",
        "    #od_wait=40,\n",
        "    random_seed=42,\n",
        "    logging_level='Silent',\n",
        "    allow_writing_files=False\n",
        ")\n",
        "\n",
        "cv_data = cv(\n",
        "    train_pool,\n",
        "    model.get_params(),\n",
        "    fold_count=5\n",
        ")\n",
        "\n",
        "print('Best validation accuracy score: {:.2f}±{:.2f} on step {}'.format(\n",
        "    np.max(cv_data['test-Accuracy-mean']), \n",
        "    cv_data['test-Accuracy-std'][cv_data['test-Accuracy-mean'].idxmax(axis=0)],\n",
        "    cv_data['test-Accuracy-mean'].idxmax(axis=0)\n",
        "))\n",
        "print('Precise validation accuracy score: {}'.format(np.max(cv_data['test-Accuracy-mean'])))\n",
        "\n",
        "model.fit(train_pool);\n",
        "model.score(X_test, y_test)"
      ],
      "execution_count": 6,
      "outputs": [
        {
          "output_type": "stream",
          "text": [
            "Best validation accuracy score: 0.83±0.04 on step 93\n",
            "Precise validation accuracy score: 0.8281560283687943\n"
          ],
          "name": "stdout"
        },
        {
          "output_type": "execute_result",
          "data": {
            "text/plain": [
              "0.8192090395480226"
            ]
          },
          "metadata": {
            "tags": []
          },
          "execution_count": 6
        }
      ]
    },
    {
      "metadata": {
        "id": "HsIOfAH0Ovbm",
        "colab_type": "code",
        "outputId": "da467db6-a3d8-41ed-b1db-e05f5e854b48",
        "colab": {
          "base_uri": "https://localhost:8080/",
          "height": 68
        }
      },
      "cell_type": "code",
      "source": [
        "from sklearn.metrics import confusion_matrix\n",
        "y_pred_test = model.predict(X_test)\n",
        "confusion_matrix = pd.DataFrame(confusion_matrix(y_test, y_pred_test))\n",
        "\n",
        "confusion_matrix.index = ['Actual Died','Actual Survived']\n",
        "confusion_matrix.columns = ['Predicted Died','Predicted Survived']\n",
        "print(confusion_matrix)\n"
      ],
      "execution_count": 7,
      "outputs": [
        {
          "output_type": "stream",
          "text": [
            "                 Predicted Died  Predicted Survived\n",
            "Actual Died                  89                  14\n",
            "Actual Survived              18                  56\n"
          ],
          "name": "stdout"
        }
      ]
    },
    {
      "metadata": {
        "id": "fjHjoGh0T5eH",
        "colab_type": "code",
        "outputId": "29fe7f49-4f04-437f-d11c-237274ee3b6c",
        "colab": {
          "base_uri": "https://localhost:8080/",
          "height": 323
        }
      },
      "cell_type": "code",
      "source": [
        "feature_importances = model.get_feature_importance(train_pool)\n",
        "feature_names = X_train.columns\n",
        "for score, name in sorted(zip(feature_importances, feature_names), reverse=True):\n",
        "    print('{}: {}'.format(name, score))"
      ],
      "execution_count": 8,
      "outputs": [
        {
          "output_type": "stream",
          "text": [
            "Fare: 30.35897771629609\n",
            "Age: 22.17479272549449\n",
            "GenderClass_male: 10.615354224738613\n",
            "Pclass: 8.759870743640256\n",
            "Title: 7.478242474207159\n",
            "GenderClass_female: 6.543476314505574\n",
            "FamilySize: 5.384969667615555\n",
            "Embarked_S: 2.390103608923247\n",
            "Cabin_B: 1.3932607058964905\n",
            "Cabin_E: 1.290700066968202\n",
            "Cabin_X: 0.9776377876917602\n",
            "Embarked_Q: 0.7642002712847398\n",
            "Cabin_C: 0.6303382487561273\n",
            "Cabin_D: 0.438633170583408\n",
            "Cabin_A: 0.42296892394854013\n",
            "Cabin_F: 0.17984879175458876\n",
            "Cabin_G: 0.1779792210284332\n",
            "Cabin_T: 0.018645336666731144\n"
          ],
          "name": "stdout"
        }
      ]
    },
    {
      "metadata": {
        "id": "udJJ7KLBVbKl",
        "colab_type": "code",
        "outputId": "4c3a3075-6cef-4ae0-fd19-f17a45dc8227",
        "colab": {
          "base_uri": "https://localhost:8080/",
          "height": 846
        }
      },
      "cell_type": "code",
      "source": [
        "from sklearn.model_selection import GridSearchCV\n",
        "from lightgbm import LGBMClassifier\n",
        "import lightgbm as lgbm\n",
        "\n",
        "# Take a hold out set randomly\n",
        "X_train, X_test, y_train, y_test = train_test_split(X, y, test_size=0.2, random_state=42)\n",
        "\n",
        "# Create an LGBM dataset for training\n",
        "categorical_features = ['Pclass']\n",
        "train_data = lgbm.Dataset(data=X_train, label=y_train, categorical_feature=categorical_features, free_raw_data=False)\n",
        "\n",
        "# Create an LGBM dataset from the test\n",
        "test_data = lgbm.Dataset(data=X_test, label=y_test, categorical_feature=categorical_features, free_raw_data=False)\n",
        "\n",
        "# Finally, create a dataset for the FULL training data to give us maximum amount of data to train on after \n",
        "# performance has been calibrate\n",
        "final_train_set = lgbm.Dataset(data=X, label=y, \n",
        "                               categorical_feature=categorical_features, free_raw_data=False)\n",
        "\n",
        "# lgbm_params = {\n",
        "#     'boosting': 'dart',          # dart (drop out trees) often performs better\n",
        "#     'application': 'binary',     # Binary classification\n",
        "#     'learning_rate': 0.05,       # Learning rate, controls size of a gradient descent step\n",
        "#     'min_data_in_leaf': 20,      # Data set is quite small so reduce this a bit\n",
        "#     'feature_fraction': 0.7,     # Proportion of features in each boost, controls overfitting\n",
        "#     'num_leaves': 41,            # Controls size of tree since LGBM uses leaf wise splits\n",
        "#     'metric': 'binary_logloss',  # Area under ROC curve as the evaulation metric\n",
        "#     'drop_rate': 0.15\n",
        "#               }\n",
        "\n",
        "# modelLGBM = modelLGBM(train_set=train_data,\n",
        "#                  params=lgbm_params,\n",
        "#                  valid_sets=[train_data, test_data], \n",
        "#                  valid_names=['Train', 'Test'],\n",
        "#                  evals_result=evaluation_results,\n",
        "#                  num_boost_round=500,\n",
        "#                  early_stopping_rounds=100,\n",
        "#                  verbose_eval=20)\n",
        "\n",
        "param_grid = {'n_estimators':[50],'max_depth':[4], 'num_boost_round':[500], 'boosting_type':['rf']} \n",
        "modelLGBM = LGBMClassifier(params=param_grid)\n",
        "# param_grid = {'n_estimators':[50],'max_depth':[4,], 'num_boost_round':[500], 'boosting_type':['rf']} \n",
        "# grs = GridSearchCV(modelLGBM, param_grid=param_grid, cv = 10, n_jobs=-1, return_train_score = False)\n",
        "# grs.fit(X_train, y_train)\n",
        "\n",
        "modelLGBM.fit(X_train, y_train)\n",
        "# print(\"Best parameters \" + str(grs.best_params_))\n",
        "# gpd = pd.DataFrame(grs.cv_results_)\n",
        "# print(\"Estimated accuracy of this model for unseen data:{0:1.4f}\".format(gpd['mean_test_score'][grs.best_index_]))"
      ],
      "execution_count": 11,
      "outputs": [
        {
          "output_type": "error",
          "ename": "TypeError",
          "evalue": "ignored",
          "traceback": [
            "\u001b[0;31m---------------------------------------------------------------------------\u001b[0m",
            "\u001b[0;31mTypeError\u001b[0m                                 Traceback (most recent call last)",
            "\u001b[0;32m<ipython-input-11-06a40bef6548>\u001b[0m in \u001b[0;36m<module>\u001b[0;34m()\u001b[0m\n\u001b[1;32m     44\u001b[0m \u001b[0;31m# grs.fit(X_train, y_train)\u001b[0m\u001b[0;34m\u001b[0m\u001b[0;34m\u001b[0m\u001b[0;34m\u001b[0m\u001b[0m\n\u001b[1;32m     45\u001b[0m \u001b[0;34m\u001b[0m\u001b[0m\n\u001b[0;32m---> 46\u001b[0;31m \u001b[0mmodelLGBM\u001b[0m\u001b[0;34m.\u001b[0m\u001b[0mfit\u001b[0m\u001b[0;34m(\u001b[0m\u001b[0mX_train\u001b[0m\u001b[0;34m,\u001b[0m \u001b[0my_train\u001b[0m\u001b[0;34m)\u001b[0m\u001b[0;34m\u001b[0m\u001b[0;34m\u001b[0m\u001b[0m\n\u001b[0m\u001b[1;32m     47\u001b[0m \u001b[0;31m# print(\"Best parameters \" + str(grs.best_params_))\u001b[0m\u001b[0;34m\u001b[0m\u001b[0;34m\u001b[0m\u001b[0;34m\u001b[0m\u001b[0m\n\u001b[1;32m     48\u001b[0m \u001b[0;31m# gpd = pd.DataFrame(grs.cv_results_)\u001b[0m\u001b[0;34m\u001b[0m\u001b[0;34m\u001b[0m\u001b[0;34m\u001b[0m\u001b[0m\n",
            "\u001b[0;32m/usr/local/lib/python3.6/dist-packages/lightgbm/sklearn.py\u001b[0m in \u001b[0;36mfit\u001b[0;34m(self, X, y, sample_weight, init_score, eval_set, eval_names, eval_sample_weight, eval_class_weight, eval_init_score, eval_metric, early_stopping_rounds, verbose, feature_name, categorical_feature, callbacks)\u001b[0m\n\u001b[1;32m    740\u001b[0m                                         \u001b[0mverbose\u001b[0m\u001b[0;34m=\u001b[0m\u001b[0mverbose\u001b[0m\u001b[0;34m,\u001b[0m \u001b[0mfeature_name\u001b[0m\u001b[0;34m=\u001b[0m\u001b[0mfeature_name\u001b[0m\u001b[0;34m,\u001b[0m\u001b[0;34m\u001b[0m\u001b[0;34m\u001b[0m\u001b[0m\n\u001b[1;32m    741\u001b[0m                                         \u001b[0mcategorical_feature\u001b[0m\u001b[0;34m=\u001b[0m\u001b[0mcategorical_feature\u001b[0m\u001b[0;34m,\u001b[0m\u001b[0;34m\u001b[0m\u001b[0;34m\u001b[0m\u001b[0m\n\u001b[0;32m--> 742\u001b[0;31m                                         callbacks=callbacks)\n\u001b[0m\u001b[1;32m    743\u001b[0m         \u001b[0;32mreturn\u001b[0m \u001b[0mself\u001b[0m\u001b[0;34m\u001b[0m\u001b[0;34m\u001b[0m\u001b[0m\n\u001b[1;32m    744\u001b[0m \u001b[0;34m\u001b[0m\u001b[0m\n",
            "\u001b[0;32m/usr/local/lib/python3.6/dist-packages/lightgbm/sklearn.py\u001b[0m in \u001b[0;36mfit\u001b[0;34m(self, X, y, sample_weight, init_score, group, eval_set, eval_names, eval_sample_weight, eval_class_weight, eval_init_score, eval_group, eval_metric, early_stopping_rounds, verbose, feature_name, categorical_feature, callbacks)\u001b[0m\n\u001b[1;32m    540\u001b[0m                               \u001b[0mverbose_eval\u001b[0m\u001b[0;34m=\u001b[0m\u001b[0mverbose\u001b[0m\u001b[0;34m,\u001b[0m \u001b[0mfeature_name\u001b[0m\u001b[0;34m=\u001b[0m\u001b[0mfeature_name\u001b[0m\u001b[0;34m,\u001b[0m\u001b[0;34m\u001b[0m\u001b[0;34m\u001b[0m\u001b[0m\n\u001b[1;32m    541\u001b[0m                               \u001b[0mcategorical_feature\u001b[0m\u001b[0;34m=\u001b[0m\u001b[0mcategorical_feature\u001b[0m\u001b[0;34m,\u001b[0m\u001b[0;34m\u001b[0m\u001b[0;34m\u001b[0m\u001b[0m\n\u001b[0;32m--> 542\u001b[0;31m                               callbacks=callbacks)\n\u001b[0m\u001b[1;32m    543\u001b[0m \u001b[0;34m\u001b[0m\u001b[0m\n\u001b[1;32m    544\u001b[0m         \u001b[0;32mif\u001b[0m \u001b[0mevals_result\u001b[0m\u001b[0;34m:\u001b[0m\u001b[0;34m\u001b[0m\u001b[0;34m\u001b[0m\u001b[0m\n",
            "\u001b[0;32m/usr/local/lib/python3.6/dist-packages/lightgbm/engine.py\u001b[0m in \u001b[0;36mtrain\u001b[0;34m(params, train_set, num_boost_round, valid_sets, valid_names, fobj, feval, init_model, feature_name, categorical_feature, early_stopping_rounds, evals_result, verbose_eval, learning_rates, keep_training_booster, callbacks)\u001b[0m\n\u001b[1;32m    193\u001b[0m     \u001b[0;31m# construct booster\u001b[0m\u001b[0;34m\u001b[0m\u001b[0;34m\u001b[0m\u001b[0;34m\u001b[0m\u001b[0m\n\u001b[1;32m    194\u001b[0m     \u001b[0;32mtry\u001b[0m\u001b[0;34m:\u001b[0m\u001b[0;34m\u001b[0m\u001b[0;34m\u001b[0m\u001b[0m\n\u001b[0;32m--> 195\u001b[0;31m         \u001b[0mbooster\u001b[0m \u001b[0;34m=\u001b[0m \u001b[0mBooster\u001b[0m\u001b[0;34m(\u001b[0m\u001b[0mparams\u001b[0m\u001b[0;34m=\u001b[0m\u001b[0mparams\u001b[0m\u001b[0;34m,\u001b[0m \u001b[0mtrain_set\u001b[0m\u001b[0;34m=\u001b[0m\u001b[0mtrain_set\u001b[0m\u001b[0;34m)\u001b[0m\u001b[0;34m\u001b[0m\u001b[0;34m\u001b[0m\u001b[0m\n\u001b[0m\u001b[1;32m    196\u001b[0m         \u001b[0;32mif\u001b[0m \u001b[0mis_valid_contain_train\u001b[0m\u001b[0;34m:\u001b[0m\u001b[0;34m\u001b[0m\u001b[0;34m\u001b[0m\u001b[0m\n\u001b[1;32m    197\u001b[0m             \u001b[0mbooster\u001b[0m\u001b[0;34m.\u001b[0m\u001b[0mset_train_data_name\u001b[0m\u001b[0;34m(\u001b[0m\u001b[0mtrain_data_name\u001b[0m\u001b[0;34m)\u001b[0m\u001b[0;34m\u001b[0m\u001b[0;34m\u001b[0m\u001b[0m\n",
            "\u001b[0;32m/usr/local/lib/python3.6/dist-packages/lightgbm/basic.py\u001b[0m in \u001b[0;36m__init__\u001b[0;34m(self, params, train_set, model_file, silent)\u001b[0m\n\u001b[1;32m   1488\u001b[0m                 raise TypeError('Training data should be Dataset instance, met {}'\n\u001b[1;32m   1489\u001b[0m                                 .format(type(train_set).__name__))\n\u001b[0;32m-> 1490\u001b[0;31m             \u001b[0mparams_str\u001b[0m \u001b[0;34m=\u001b[0m \u001b[0mparam_dict_to_str\u001b[0m\u001b[0;34m(\u001b[0m\u001b[0mparams\u001b[0m\u001b[0;34m)\u001b[0m\u001b[0;34m\u001b[0m\u001b[0;34m\u001b[0m\u001b[0m\n\u001b[0m\u001b[1;32m   1491\u001b[0m             \u001b[0;31m# set network if necessary\u001b[0m\u001b[0;34m\u001b[0m\u001b[0;34m\u001b[0m\u001b[0;34m\u001b[0m\u001b[0m\n\u001b[1;32m   1492\u001b[0m             \u001b[0;32mfor\u001b[0m \u001b[0malias\u001b[0m \u001b[0;32min\u001b[0m \u001b[0;34m[\u001b[0m\u001b[0;34m\"machines\"\u001b[0m\u001b[0;34m,\u001b[0m \u001b[0;34m\"workers\"\u001b[0m\u001b[0;34m,\u001b[0m \u001b[0;34m\"nodes\"\u001b[0m\u001b[0;34m]\u001b[0m\u001b[0;34m:\u001b[0m\u001b[0;34m\u001b[0m\u001b[0;34m\u001b[0m\u001b[0m\n",
            "\u001b[0;32m/usr/local/lib/python3.6/dist-packages/lightgbm/basic.py\u001b[0m in \u001b[0;36mparam_dict_to_str\u001b[0;34m(data)\u001b[0m\n\u001b[1;32m    130\u001b[0m         \u001b[0;32melif\u001b[0m \u001b[0mval\u001b[0m \u001b[0;32mis\u001b[0m \u001b[0;32mnot\u001b[0m \u001b[0;32mNone\u001b[0m\u001b[0;34m:\u001b[0m\u001b[0;34m\u001b[0m\u001b[0;34m\u001b[0m\u001b[0m\n\u001b[1;32m    131\u001b[0m             raise TypeError('Unknown type of parameter:%s, got:%s'\n\u001b[0;32m--> 132\u001b[0;31m                             % (key, type(val).__name__))\n\u001b[0m\u001b[1;32m    133\u001b[0m     \u001b[0;32mreturn\u001b[0m \u001b[0;34m' '\u001b[0m\u001b[0;34m.\u001b[0m\u001b[0mjoin\u001b[0m\u001b[0;34m(\u001b[0m\u001b[0mpairs\u001b[0m\u001b[0;34m)\u001b[0m\u001b[0;34m\u001b[0m\u001b[0;34m\u001b[0m\u001b[0m\n\u001b[1;32m    134\u001b[0m \u001b[0;34m\u001b[0m\u001b[0m\n",
            "\u001b[0;31mTypeError\u001b[0m: Unknown type of parameter:params, got:dict"
          ]
        }
      ]
    }
  ]
}